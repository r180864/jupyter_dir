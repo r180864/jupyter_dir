{
 "cells": [
  {
   "cell_type": "markdown",
   "metadata": {},
   "source": [
    "# Polymorphysm"
   ]
  },
  {
   "cell_type": "markdown",
   "metadata": {},
   "source": [
    "## Overloading"
   ]
  },
  {
   "cell_type": "markdown",
   "metadata": {},
   "source": [
    "### Operator Overloading"
   ]
  },
  {
   "cell_type": "code",
   "execution_count": 1,
   "metadata": {},
   "outputs": [
    {
     "data": {
      "text/plain": [
       "25"
      ]
     },
     "execution_count": 1,
     "metadata": {},
     "output_type": "execute_result"
    }
   ],
   "source": [
    "a=10\n",
    "b=15\n",
    "int.__add__(a,b)"
   ]
  },
  {
   "cell_type": "markdown",
   "metadata": {},
   "source": [
    "#### Example-1"
   ]
  },
  {
   "cell_type": "code",
   "execution_count": 2,
   "metadata": {},
   "outputs": [],
   "source": [
    "class Student:\n",
    "    def __init__(self, m1):\n",
    "        self.m1=m1\n",
    "        \n",
    "    def __add__(self, other):\n",
    "        s=self.m1+other.m1\n",
    "        return Student(s)"
   ]
  },
  {
   "cell_type": "code",
   "execution_count": 3,
   "metadata": {},
   "outputs": [],
   "source": [
    "s1=Student(25)\n",
    "s2=Student(68)"
   ]
  },
  {
   "cell_type": "code",
   "execution_count": 4,
   "metadata": {},
   "outputs": [
    {
     "data": {
      "text/plain": [
       "100"
      ]
     },
     "execution_count": 4,
     "metadata": {},
     "output_type": "execute_result"
    }
   ],
   "source": [
    "(s1+s1+s1+s1).m1"
   ]
  },
  {
   "cell_type": "markdown",
   "metadata": {},
   "source": [
    "### Method overloading"
   ]
  },
  {
   "cell_type": "markdown",
   "metadata": {},
   "source": [
    "In python we can a method in such a way that there are multiple ways to call it. Given a single method, we can specify the no.of parameters ourself"
   ]
  },
  {
   "cell_type": "markdown",
   "metadata": {},
   "source": [
    "#### Example-2"
   ]
  },
  {
   "cell_type": "code",
   "execution_count": 5,
   "metadata": {},
   "outputs": [],
   "source": [
    "class Calculate:\n",
    "    def add(self, a=None, b=None, c=None):\n",
    "        if(a!=None and b!=None and c!=None):\n",
    "            return a+b+c\n",
    "        if(a!=None and b!=None):\n",
    "            return a+b\n",
    "        if(a!=None):\n",
    "            return a\n",
    "        return \"No arguements are passes to add\""
   ]
  },
  {
   "cell_type": "code",
   "execution_count": 17,
   "metadata": {},
   "outputs": [
    {
     "name": "stdout",
     "output_type": "stream",
     "text": [
      "Sum of 1,2,3: 6\n",
      "Sum of 1,2: 5\n",
      "Sum of 1: 3\n",
      "Sum of Empty: No arguements are passes to add\n"
     ]
    }
   ],
   "source": [
    "x,y,z=1,2,3\n",
    "c1=Calculate()\n",
    "print(\"Sum of {},{},{}: {}\".format(x,y,z,c1.add(x, y, z)))\n",
    "print(\"Sum of {},{}: {}\".format(x,y,c1.add(y, z)))\n",
    "print(\"Sum of {}: {}\".format(x,c1.add(z)))\n",
    "print(\"Sum of Empty: {}\".format(c1.add()))"
   ]
  },
  {
   "cell_type": "markdown",
   "metadata": {},
   "source": [
    "#### Example-3"
   ]
  },
  {
   "cell_type": "code",
   "execution_count": 18,
   "metadata": {},
   "outputs": [],
   "source": [
    "class Devotee:\n",
    "    def love(self, a=None, b=None):\n",
    "        if(a!=None and b!=None):\n",
    "            print(\"{} Love {}\".format(a, b))\n",
    "        elif(a!=None):\n",
    "            print(\"{} Love his Lord\".format(a))\n",
    "        else:\n",
    "            print(\"No arguement is passed\")"
   ]
  },
  {
   "cell_type": "code",
   "execution_count": 19,
   "metadata": {},
   "outputs": [
    {
     "name": "stdout",
     "output_type": "stream",
     "text": [
      "Anil Love Krishna\n",
      "Anil Love My Lord\n",
      "No arguement is passed\n"
     ]
    }
   ],
   "source": [
    "d1=Devotee()\n",
    "d1.love(\"Anil\", \"Krishna\")\n",
    "d1.love(\"Anil\")\n",
    "d1.love()"
   ]
  },
  {
   "cell_type": "markdown",
   "metadata": {},
   "source": [
    "#### Example-4"
   ]
  },
  {
   "cell_type": "code",
   "execution_count": 25,
   "metadata": {},
   "outputs": [],
   "source": [
    "class God:\n",
    "    def namasthe(self, name=None):\n",
    "        if(name!=None):\n",
    "            print(\"{} may Bless you\".format(name))\n",
    "        else:\n",
    "            print(\"God will bless you, But I don't know which god!!\")"
   ]
  },
  {
   "cell_type": "code",
   "execution_count": 26,
   "metadata": {},
   "outputs": [
    {
     "name": "stdout",
     "output_type": "stream",
     "text": [
      "Krishna may Bless you\n",
      "Rama may Bless you\n",
      "God will bless you, But I don't know which god!!\n"
     ]
    }
   ],
   "source": [
    "g1=God()\n",
    "g1.namasthe(\"Krishna\")\n",
    "g1.namasthe(\"Rama\")\n",
    "g1.namasthe()"
   ]
  },
  {
   "cell_type": "markdown",
   "metadata": {},
   "source": [
    "## Overriding"
   ]
  },
  {
   "cell_type": "markdown",
   "metadata": {},
   "source": [
    "Override means having same methods/variables with same name but doing different tasks."
   ]
  },
  {
   "cell_type": "markdown",
   "metadata": {},
   "source": [
    "### Variable Overriding"
   ]
  },
  {
   "cell_type": "markdown",
   "metadata": {},
   "source": [
    "It means that of the variables over the others.\n",
    "If there any variable in super class and a variable with the same name in the subclass, then by accessing the variable, the variable of the corresponding class will be executed."
   ]
  },
  {
   "cell_type": "markdown",
   "metadata": {},
   "source": [
    "#### Example-5"
   ]
  },
  {
   "cell_type": "code",
   "execution_count": 15,
   "metadata": {},
   "outputs": [
    {
     "name": "stdout",
     "output_type": "stream",
     "text": [
      "Anil Krish\n"
     ]
    }
   ],
   "source": [
    "class Krishna:\n",
    "    name=\"Anil Kumar\"\n",
    "        \n",
    "class Devotee(Krishna):\n",
    "    name=\"Anil Krish\"\n",
    "    \n",
    "d1=Devotee()\n",
    "print(d1.name)"
   ]
  },
  {
   "cell_type": "markdown",
   "metadata": {},
   "source": [
    "### Method Overriding"
   ]
  },
  {
   "cell_type": "markdown",
   "metadata": {},
   "source": [
    "It means that of the methods override the others. \n",
    "If there any method in super class and a method with the same name in the subclass, then by executing the method, the method of the corresponding class will be executed."
   ]
  },
  {
   "cell_type": "markdown",
   "metadata": {},
   "source": [
    "#### Example-6"
   ]
  },
  {
   "cell_type": "code",
   "execution_count": 16,
   "metadata": {},
   "outputs": [
    {
     "name": "stdout",
     "output_type": "stream",
     "text": [
      "I will do 'Abhisekham' and 'Alankarana' as well\n"
     ]
    }
   ],
   "source": [
    "class Devotee:\n",
    "    def pooja(self):\n",
    "        print(\"I will do 'abhisekham'\")\n",
    "        \n",
    "class KrishnaDevotee(Devotee):\n",
    "    def pooja(self):\n",
    "       print(\"I will do 'Abhisekham' and 'Alankarana' as well\")\n",
    "    pass\n",
    "\n",
    "k1=KrishnaDevotee()\n",
    "k1.pooja()"
   ]
  },
  {
   "cell_type": "code",
   "execution_count": null,
   "metadata": {},
   "outputs": [],
   "source": []
  }
 ],
 "metadata": {
  "kernelspec": {
   "display_name": "Python 3",
   "language": "python",
   "name": "python3"
  },
  "language_info": {
   "codemirror_mode": {
    "name": "ipython",
    "version": 3
   },
   "file_extension": ".py",
   "mimetype": "text/x-python",
   "name": "python",
   "nbconvert_exporter": "python",
   "pygments_lexer": "ipython3",
   "version": "3.7.6"
  }
 },
 "nbformat": 4,
 "nbformat_minor": 4
}
