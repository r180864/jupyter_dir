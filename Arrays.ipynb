{
 "cells": [
  {
   "cell_type": "markdown",
   "metadata": {},
   "source": [
    "# Arrays"
   ]
  },
  {
   "cell_type": "code",
   "execution_count": 2,
   "metadata": {},
   "outputs": [],
   "source": [
    "from array import array\n",
    "array??"
   ]
  },
  {
   "cell_type": "markdown",
   "metadata": {},
   "source": [
    "## Initializing with various Tppecodes"
   ]
  },
  {
   "cell_type": "code",
   "execution_count": 131,
   "metadata": {},
   "outputs": [
    {
     "name": "stdout",
     "output_type": "stream",
     "text": [
      "array('b', [1, 3, -5, 7, 9])\n",
      "<class 'array.array'>\n",
      "Type: b\n",
      "Item Size: 1\n",
      "Array Size: 5\n"
     ]
    }
   ],
   "source": [
    "arr=array('b',[1,3,-5,7,9])\n",
    "print(arr)\n",
    "print(type(arr))\n",
    "print(\"Type:\", arr.typecode)\n",
    "print(\"Item Size:\", arr.itemsize)\n",
    "print(\"Array Size:\", len(arr))"
   ]
  },
  {
   "cell_type": "code",
   "execution_count": 109,
   "metadata": {},
   "outputs": [
    {
     "name": "stdout",
     "output_type": "stream",
     "text": [
      "array('B', [1, 9, 5, 7, 9])\n",
      "<class 'array.array'>\n",
      "Type: B\n",
      "Item Size: 1\n",
      "Array Size: 5\n"
     ]
    }
   ],
   "source": [
    "arr=array('B',[1,9,5,7,9])\n",
    "print(arr)\n",
    "print(type(arr))\n",
    "print(\"Type:\", arr.typecode)\n",
    "print(\"Item Size:\", arr.itemsize)\n",
    "print(\"Array Size:\", len(arr))"
   ]
  },
  {
   "cell_type": "code",
   "execution_count": 102,
   "metadata": {},
   "outputs": [
    {
     "name": "stdout",
     "output_type": "stream",
     "text": [
      "array('u', 'KRISH')\n",
      "<class 'array.array'>\n",
      "Type: u\n",
      "Item Size: 4\n",
      "Array Size: 5\n"
     ]
    }
   ],
   "source": [
    "arr=array('u',['K','R','I','S', 'H'])\n",
    "print(arr)\n",
    "print(type(arr))\n",
    "print(\"Type:\", arr.typecode)\n",
    "print(\"Item Size:\", arr.itemsize)\n",
    "print(\"Array Size:\", len(arr))"
   ]
  },
  {
   "cell_type": "code",
   "execution_count": 111,
   "metadata": {},
   "outputs": [
    {
     "name": "stdout",
     "output_type": "stream",
     "text": [
      "array('h', [1, 3, -566, 7, 9])\n",
      "<class 'array.array'>\n",
      "Type: h\n",
      "Item Size: 2\n",
      "Array Size: 5\n"
     ]
    }
   ],
   "source": [
    "arr=array('h',[1,3,-566,7,9])\n",
    "print(arr)\n",
    "print(type(arr))\n",
    "print(\"Type:\", arr.typecode)\n",
    "print(\"Item Size:\", arr.itemsize)\n",
    "print(\"Array Size:\", len(arr))"
   ]
  },
  {
   "cell_type": "code",
   "execution_count": 104,
   "metadata": {},
   "outputs": [
    {
     "name": "stdout",
     "output_type": "stream",
     "text": [
      "array('H', [1, 3, 5, 7, 9])\n",
      "<class 'array.array'>\n",
      "Type: H\n",
      "Item Size: 2\n",
      "Array Size: 5\n"
     ]
    }
   ],
   "source": [
    "arr=array('H',[1,3,5,7,9])\n",
    "print(arr)\n",
    "print(type(arr))\n",
    "print(\"Type:\", arr.typecode)\n",
    "print(\"Item Size:\", arr.itemsize)\n",
    "print(\"Array Size:\", len(arr))"
   ]
  },
  {
   "cell_type": "code",
   "execution_count": 113,
   "metadata": {},
   "outputs": [
    {
     "name": "stdout",
     "output_type": "stream",
     "text": [
      "array('i', [-71, 3, 5, -807, 9])\n",
      "<class 'array.array'>\n",
      "Type: i\n",
      "Item Size: 4\n",
      "Array Size: 5\n"
     ]
    }
   ],
   "source": [
    "arr=array('i',[-71,3,5,-807,9])\n",
    "print(arr)\n",
    "print(type(arr))\n",
    "print(\"Type:\", arr.typecode)\n",
    "print(\"Item Size:\", arr.itemsize)\n",
    "print(\"Array Size:\", len(arr))"
   ]
  },
  {
   "cell_type": "code",
   "execution_count": 114,
   "metadata": {},
   "outputs": [
    {
     "name": "stdout",
     "output_type": "stream",
     "text": [
      "array('I', [1, 3, 5, 7, 9])\n",
      "<class 'array.array'>\n",
      "Type: I\n",
      "Item Size: 4\n",
      "Array Size: 5\n"
     ]
    }
   ],
   "source": [
    "arr=array('I',[1,3,5,7,9])\n",
    "print(arr)\n",
    "print(type(arr))\n",
    "print(\"Type:\", arr.typecode)\n",
    "print(\"Item Size:\", arr.itemsize)\n",
    "print(\"Array Size:\", len(arr))"
   ]
  },
  {
   "cell_type": "code",
   "execution_count": 117,
   "metadata": {},
   "outputs": [
    {
     "name": "stdout",
     "output_type": "stream",
     "text": [
      "array('l', [1, -3, 587, -7492, 9])\n",
      "<class 'array.array'>\n",
      "Type: l\n",
      "Item Size: 8\n",
      "Array Size: 5\n"
     ]
    }
   ],
   "source": [
    "arr=array('l',[1,-3,587,-7492,9])\n",
    "print(arr)\n",
    "print(type(arr))\n",
    "print(\"Type:\", arr.typecode)\n",
    "print(\"Item Size:\", arr.itemsize)\n",
    "print(\"Array Size:\", len(arr))"
   ]
  },
  {
   "cell_type": "code",
   "execution_count": 120,
   "metadata": {},
   "outputs": [
    {
     "name": "stdout",
     "output_type": "stream",
     "text": [
      "array('L', [1, 3, 5, 7, 9])\n",
      "<class 'array.array'>\n",
      "Type: L\n",
      "Item Size: 8\n",
      "Array Size: 5\n"
     ]
    }
   ],
   "source": [
    "arr=array('L',[1,3,5,7,9])\n",
    "print(arr)\n",
    "print(type(arr))\n",
    "print(\"Type:\", arr.typecode)\n",
    "print(\"Item Size:\", arr.itemsize)\n",
    "print(\"Array Size:\", len(arr))"
   ]
  },
  {
   "cell_type": "code",
   "execution_count": 122,
   "metadata": {},
   "outputs": [
    {
     "name": "stdout",
     "output_type": "stream",
     "text": [
      "array('f', [1.0, 3.0, 5.0, -7.0, 9.0, 6.400000095367432])\n",
      "<class 'array.array'>\n",
      "Type: f\n",
      "Item Size: 4\n",
      "Array Size: 6\n"
     ]
    }
   ],
   "source": [
    "arr=array('f',[1,3,5,-7,9, 6.4])\n",
    "print(arr)\n",
    "print(type(arr))\n",
    "print(\"Type:\", arr.typecode)\n",
    "print(\"Item Size:\", arr.itemsize)\n",
    "print(\"Array Size:\", len(arr))"
   ]
  },
  {
   "cell_type": "code",
   "execution_count": 125,
   "metadata": {},
   "outputs": [
    {
     "name": "stdout",
     "output_type": "stream",
     "text": [
      "array('d', [1.0, 45.3, 5.0, 7.0, 9.0])\n",
      "<class 'array.array'>\n",
      "Type: d\n",
      "Item Size: 8\n",
      "Array Size: 5\n"
     ]
    }
   ],
   "source": [
    "arr=array('d',[1,45.3,5,7,9])\n",
    "print(arr)\n",
    "print(type(arr))\n",
    "print(\"Type:\", arr.typecode)\n",
    "print(\"Item Size:\", arr.itemsize)\n",
    "print(\"Array Size:\", len(arr))"
   ]
  },
  {
   "cell_type": "code",
   "execution_count": 127,
   "metadata": {},
   "outputs": [
    {
     "name": "stdout",
     "output_type": "stream",
     "text": [
      "array('q', [1, 45, 5, 7, 9])\n",
      "<class 'array.array'>\n",
      "Type: q\n",
      "Item Size: 8\n",
      "Array Size: 5\n"
     ]
    }
   ],
   "source": [
    "arr=array('q',[1,45,5,7,9])\n",
    "print(arr)\n",
    "print(type(arr))\n",
    "print(\"Type:\", arr.typecode)\n",
    "print(\"Item Size:\", arr.itemsize)\n",
    "print(\"Array Size:\", len(arr))"
   ]
  },
  {
   "cell_type": "code",
   "execution_count": 4,
   "metadata": {},
   "outputs": [
    {
     "name": "stdout",
     "output_type": "stream",
     "text": [
      "array('Q', [1, 453467, 5, 7, 9])\n",
      "<class 'array.array'>\n",
      "Type: Q\n",
      "Item Size: 8\n",
      "Array Size: 5\n"
     ]
    }
   ],
   "source": [
    "arr=array('Q',[1,453467,5,7,9])\n",
    "print(arr)\n",
    "print(type(arr))\n",
    "print(\"Type:\", arr.typecode)\n",
    "print(\"Item Size:\", arr.itemsize)\n",
    "print(\"Array Size:\", len(arr))"
   ]
  },
  {
   "cell_type": "markdown",
   "metadata": {},
   "source": [
    "## Array Methods"
   ]
  },
  {
   "cell_type": "markdown",
   "metadata": {},
   "source": [
    "### append()"
   ]
  },
  {
   "cell_type": "code",
   "execution_count": 182,
   "metadata": {},
   "outputs": [
    {
     "name": "stdout",
     "output_type": "stream",
     "text": [
      "array('Q', [1, 453467, 5, 7, 9, 7])\n"
     ]
    }
   ],
   "source": [
    "arr.append(7)\n",
    "print(arr)"
   ]
  },
  {
   "cell_type": "markdown",
   "metadata": {},
   "source": [
    "### buffer_info()"
   ]
  },
  {
   "cell_type": "code",
   "execution_count": 187,
   "metadata": {},
   "outputs": [
    {
     "name": "stdout",
     "output_type": "stream",
     "text": [
      "(140651526769760, 9)\n"
     ]
    }
   ],
   "source": [
    "print(arr.buffer_info())"
   ]
  },
  {
   "cell_type": "markdown",
   "metadata": {},
   "source": [
    "### byteswap()"
   ]
  },
  {
   "cell_type": "code",
   "execution_count": 176,
   "metadata": {},
   "outputs": [
    {
     "data": {
      "text/plain": [
       "array('Q', [72057594037927936, 6623394274048212992, 360287970189639680, 504403158265495552, 648518346341351424, 504403158265495552, 504403158265495552])"
      ]
     },
     "execution_count": 176,
     "metadata": {},
     "output_type": "execute_result"
    }
   ],
   "source": [
    "arr.byteswap()\n",
    "arr"
   ]
  },
  {
   "cell_type": "code",
   "execution_count": 177,
   "metadata": {},
   "outputs": [
    {
     "data": {
      "text/plain": [
       "array('Q', [1, 453467, 5, 7, 9, 7, 7])"
      ]
     },
     "execution_count": 177,
     "metadata": {},
     "output_type": "execute_result"
    }
   ],
   "source": [
    "arr.byteswap()\n",
    "arr"
   ]
  },
  {
   "cell_type": "markdown",
   "metadata": {},
   "source": [
    "### count()"
   ]
  },
  {
   "cell_type": "code",
   "execution_count": 183,
   "metadata": {},
   "outputs": [
    {
     "data": {
      "text/plain": [
       "2"
      ]
     },
     "execution_count": 183,
     "metadata": {},
     "output_type": "execute_result"
    }
   ],
   "source": [
    "arr.count(7)"
   ]
  },
  {
   "cell_type": "code",
   "execution_count": 5,
   "metadata": {},
   "outputs": [
    {
     "data": {
      "text/plain": [
       "array('Q', [1, 453467, 5, 7, 9, 13, 34, 56])"
      ]
     },
     "execution_count": 5,
     "metadata": {},
     "output_type": "execute_result"
    }
   ],
   "source": [
    "arr.extend([13,34,56])\n",
    "arr"
   ]
  },
  {
   "cell_type": "code",
   "execution_count": null,
   "metadata": {},
   "outputs": [],
   "source": []
  },
  {
   "cell_type": "code",
   "execution_count": 6,
   "metadata": {},
   "outputs": [],
   "source": [
    "arr2=arr"
   ]
  },
  {
   "cell_type": "code",
   "execution_count": 8,
   "metadata": {},
   "outputs": [
    {
     "ename": "AttributeError",
     "evalue": "type object 'array.array' has no attribute 'array'",
     "output_type": "error",
     "traceback": [
      "\u001b[0;31m---------------------------------------------------------------------------\u001b[0m",
      "\u001b[0;31mAttributeError\u001b[0m                            Traceback (most recent call last)",
      "\u001b[0;32m<ipython-input-8-41a0420e5363>\u001b[0m in \u001b[0;36m<module>\u001b[0;34m\u001b[0m\n\u001b[1;32m      1\u001b[0m \u001b[0mL\u001b[0m\u001b[0;34m=\u001b[0m\u001b[0;34m[\u001b[0m\u001b[0mi\u001b[0m \u001b[0;32mfor\u001b[0m \u001b[0mi\u001b[0m \u001b[0;32min\u001b[0m \u001b[0mrange\u001b[0m\u001b[0;34m(\u001b[0m\u001b[0;36m10\u001b[0m\u001b[0;34m)\u001b[0m\u001b[0;34m]\u001b[0m\u001b[0;34m\u001b[0m\u001b[0;34m\u001b[0m\u001b[0m\n\u001b[0;32m----> 2\u001b[0;31m \u001b[0mL\u001b[0m\u001b[0;34m=\u001b[0m\u001b[0marray\u001b[0m\u001b[0;34m.\u001b[0m\u001b[0marray\u001b[0m\u001b[0;34m(\u001b[0m\u001b[0;34m'i'\u001b[0m\u001b[0;34m,\u001b[0m \u001b[0marr\u001b[0m\u001b[0;34m)\u001b[0m\u001b[0;34m\u001b[0m\u001b[0;34m\u001b[0m\u001b[0m\n\u001b[0m\u001b[1;32m      3\u001b[0m \u001b[0mL\u001b[0m\u001b[0;34m\u001b[0m\u001b[0;34m\u001b[0m\u001b[0m\n",
      "\u001b[0;31mAttributeError\u001b[0m: type object 'array.array' has no attribute 'array'"
     ]
    }
   ],
   "source": [
    "L=[i for i in range(10)]\n",
    "L=array.array('i', arr)\n",
    "L"
   ]
  },
  {
   "cell_type": "code",
   "execution_count": null,
   "metadata": {},
   "outputs": [],
   "source": []
  },
  {
   "cell_type": "code",
   "execution_count": null,
   "metadata": {},
   "outputs": [],
   "source": []
  },
  {
   "cell_type": "code",
   "execution_count": null,
   "metadata": {},
   "outputs": [],
   "source": []
  }
 ],
 "metadata": {
  "kernelspec": {
   "display_name": "Python 3",
   "language": "python",
   "name": "python3"
  },
  "language_info": {
   "codemirror_mode": {
    "name": "ipython",
    "version": 3
   },
   "file_extension": ".py",
   "mimetype": "text/x-python",
   "name": "python",
   "nbconvert_exporter": "python",
   "pygments_lexer": "ipython3",
   "version": "3.7.6"
  }
 },
 "nbformat": 4,
 "nbformat_minor": 4
}
