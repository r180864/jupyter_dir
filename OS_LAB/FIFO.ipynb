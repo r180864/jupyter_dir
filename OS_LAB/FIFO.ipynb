{
 "cells": [
  {
   "cell_type": "markdown",
   "id": "0cfa15e7",
   "metadata": {},
   "source": [
    "# First In First Out(FIFO)"
   ]
  },
  {
   "cell_type": "markdown",
   "id": "e0c0eb6a",
   "metadata": {},
   "source": [
    "## Method - 1"
   ]
  },
  {
   "cell_type": "code",
   "execution_count": 91,
   "id": "8a906be9",
   "metadata": {},
   "outputs": [],
   "source": [
    "def page_faults(string, m, pages):\n",
    "    hit=miss=0\n",
    "    for data in string:\n",
    "        if(data in pages):\n",
    "            hit+=1\n",
    "            print(pages, end=' ')\n",
    "            print(\"Hit\")\n",
    "        else:\n",
    "            if(len(pages)==m):\n",
    "                print(\"{} is replaced with {}\".format(pages[0], data))\n",
    "                pages.remove(pages[0])\n",
    "                \n",
    "            pages.append(data)\n",
    "            miss+=1\n",
    "            print(pages, end=' ')\n",
    "            print(\"Miss\")\n",
    "            \n",
    "    print(\"\\nHit:\", hit)\n",
    "    print(\"Miss/Fault:\", miss)"
   ]
  },
  {
   "cell_type": "markdown",
   "id": "e2fe5471",
   "metadata": {},
   "source": [
    "### Example - 1"
   ]
  },
  {
   "cell_type": "code",
   "execution_count": 92,
   "id": "2026eec8",
   "metadata": {},
   "outputs": [
    {
     "name": "stdout",
     "output_type": "stream",
     "text": [
      "[1] Miss\n",
      "[1, 3] Miss\n",
      "[1, 3, 0] Miss\n",
      "[1, 3, 0] Hit\n",
      "1 is replaced with 5\n",
      "[3, 0, 5] Miss\n",
      "3 is replaced with 6\n",
      "[0, 5, 6] Miss\n",
      "0 is replaced with 3\n",
      "[5, 6, 3] Miss\n",
      "\n",
      "Hit: 1\n",
      "Miss/Fault: 6\n"
     ]
    }
   ],
   "source": [
    "string=[1,3,0,3,5,6,3]\n",
    "m=3\n",
    "pages=[]\n",
    "page_faults(string, m, pages)"
   ]
  },
  {
   "cell_type": "markdown",
   "id": "5cdd2bab",
   "metadata": {},
   "source": [
    "### Example - 2"
   ]
  },
  {
   "cell_type": "code",
   "execution_count": 84,
   "id": "0613d955",
   "metadata": {},
   "outputs": [
    {
     "name": "stdout",
     "output_type": "stream",
     "text": [
      "[4] Miss\n",
      "[4, 7] Miss\n",
      "[4, 7, 6] Miss\n",
      "4 is replaced with 1\n",
      "[7, 6, 1] Miss\n",
      "[7, 6, 1] Hit\n",
      "[7, 6, 1] Hit\n",
      "[7, 6, 1] Hit\n",
      "7 is replaced with 2\n",
      "[6, 1, 2] Miss\n",
      "6 is replaced with 7\n",
      "[1, 2, 7] Miss\n",
      "[1, 2, 7] Hit\n",
      "Hit: 4\n",
      "Miss/Fault: 6\n"
     ]
    }
   ],
   "source": [
    "string=[4,7,6,1,7,6,1,2,7,2]\n",
    "m=3\n",
    "pages=[]\n",
    "page_faults(string, m, pages)"
   ]
  },
  {
   "cell_type": "markdown",
   "id": "dddbc50e",
   "metadata": {},
   "source": [
    "### Example - 3"
   ]
  },
  {
   "cell_type": "code",
   "execution_count": 85,
   "id": "01bfa264",
   "metadata": {},
   "outputs": [
    {
     "name": "stdout",
     "output_type": "stream",
     "text": [
      "[4] Miss\n",
      "[4, 7] Miss\n",
      "[4, 7, 6] Miss\n",
      "4 is replaced with 1\n",
      "[7, 6, 1] Miss\n",
      "[7, 6, 1] Hit\n",
      "[7, 6, 1] Hit\n",
      "[7, 6, 1] Hit\n",
      "7 is replaced with 2\n",
      "[6, 1, 2] Miss\n",
      "6 is replaced with 7\n",
      "[1, 2, 7] Miss\n",
      "[1, 2, 7] Hit\n",
      "[1, 2, 7] Hit\n",
      "[1, 2, 7] Hit\n",
      "Hit: 6\n",
      "Miss/Fault: 6\n"
     ]
    }
   ],
   "source": [
    "string=[4,7,6,1,7,6,1,2,7,2, 7, 1]\n",
    "m=3\n",
    "pages=[]\n",
    "page_faults(string, m, pages)"
   ]
  },
  {
   "cell_type": "markdown",
   "id": "16a183ee",
   "metadata": {},
   "source": [
    "### Example - 4"
   ]
  },
  {
   "cell_type": "code",
   "execution_count": 86,
   "id": "d96424a0",
   "metadata": {},
   "outputs": [
    {
     "name": "stdout",
     "output_type": "stream",
     "text": [
      "[1] Miss\n",
      "[1, 3] Miss\n",
      "[1, 3, 0] Miss\n",
      "[1, 3, 0] Hit\n",
      "1 is replaced with 5\n",
      "[3, 0, 5] Miss\n",
      "3 is replaced with 6\n",
      "[0, 5, 6] Miss\n",
      "0 is replaced with 3\n",
      "[5, 6, 3] Miss\n",
      "Hit: 1\n",
      "Miss/Fault: 6\n"
     ]
    }
   ],
   "source": [
    "string=[1,3,0,3,5,6,3]\n",
    "m=3\n",
    "pages=[]\n",
    "page_faults(string, m, pages)"
   ]
  },
  {
   "cell_type": "markdown",
   "id": "bf5a083f",
   "metadata": {},
   "source": [
    "### Example - 5"
   ]
  },
  {
   "cell_type": "code",
   "execution_count": 87,
   "id": "6fdf3ae4",
   "metadata": {},
   "outputs": [
    {
     "name": "stdout",
     "output_type": "stream",
     "text": [
      "[6] Miss\n",
      "[6, 7] Miss\n",
      "[6, 7, 8] Miss\n",
      "6 is replaced with 9\n",
      "[7, 8, 9] Miss\n",
      "7 is replaced with 6\n",
      "[8, 9, 6] Miss\n",
      "8 is replaced with 7\n",
      "[9, 6, 7] Miss\n",
      "9 is replaced with 1\n",
      "[6, 7, 1] Miss\n",
      "[6, 7, 1] Hit\n",
      "[6, 7, 1] Hit\n",
      "6 is replaced with 8\n",
      "[7, 1, 8] Miss\n",
      "7 is replaced with 9\n",
      "[1, 8, 9] Miss\n",
      "[1, 8, 9] Hit\n",
      "Hit: 3\n",
      "Miss/Fault: 9\n"
     ]
    }
   ],
   "source": [
    "string=[6,7,8,9,6,7,1,6,7,8,9,1]\n",
    "m=3\n",
    "pages=[]\n",
    "page_faults(string, m, pages)"
   ]
  },
  {
   "cell_type": "markdown",
   "id": "f77f5349",
   "metadata": {},
   "source": [
    "### Example - 6"
   ]
  },
  {
   "cell_type": "code",
   "execution_count": 88,
   "id": "a2c804f7",
   "metadata": {},
   "outputs": [
    {
     "name": "stdout",
     "output_type": "stream",
     "text": [
      "[6] Miss\n",
      "[6, 7] Miss\n",
      "[6, 7, 8] Miss\n",
      "[6, 7, 8, 9] Miss\n",
      "[6, 7, 8, 9] Hit\n",
      "[6, 7, 8, 9] Hit\n",
      "6 is replaced with 1\n",
      "[7, 8, 9, 1] Miss\n",
      "7 is replaced with 6\n",
      "[8, 9, 1, 6] Miss\n",
      "8 is replaced with 7\n",
      "[9, 1, 6, 7] Miss\n",
      "9 is replaced with 8\n",
      "[1, 6, 7, 8] Miss\n",
      "1 is replaced with 9\n",
      "[6, 7, 8, 9] Miss\n",
      "6 is replaced with 1\n",
      "[7, 8, 9, 1] Miss\n",
      "Hit: 2\n",
      "Miss/Fault: 10\n"
     ]
    }
   ],
   "source": [
    "string=[6,7,8,9,6,7,1,6,7,8,9,1]\n",
    "m=4\n",
    "pages=[]\n",
    "page_faults(string, m, pages)"
   ]
  },
  {
   "cell_type": "markdown",
   "id": "63c78f80",
   "metadata": {},
   "source": [
    "### Example - 7"
   ]
  },
  {
   "cell_type": "code",
   "execution_count": 89,
   "id": "45e70a5b",
   "metadata": {},
   "outputs": [
    {
     "name": "stdout",
     "output_type": "stream",
     "text": [
      "[6] Miss\n",
      "[6, 7] Miss\n",
      "[6, 7, 8] Miss\n",
      "6 is replaced with 9\n",
      "[7, 8, 9] Miss\n",
      "7 is replaced with 6\n",
      "[8, 9, 6] Miss\n",
      "8 is replaced with 7\n",
      "[9, 6, 7] Miss\n",
      "9 is replaced with 1\n",
      "[6, 7, 1] Miss\n",
      "[6, 7, 1] Hit\n",
      "[6, 7, 1] Hit\n",
      "6 is replaced with 8\n",
      "[7, 1, 8] Miss\n",
      "7 is replaced with 9\n",
      "[1, 8, 9] Miss\n",
      "[1, 8, 9] Hit\n",
      "1 is replaced with 7\n",
      "[8, 9, 7] Miss\n",
      "[8, 9, 7] Hit\n",
      "8 is replaced with 6\n",
      "[9, 7, 6] Miss\n",
      "Hit: 4\n",
      "Miss/Fault: 11\n"
     ]
    }
   ],
   "source": [
    "string=[6,7,8,9,6,7,1,6,7,8,9,1,7,9,6]\n",
    "m=3\n",
    "pages=[]\n",
    "page_faults(string, m, pages)"
   ]
  },
  {
   "cell_type": "markdown",
   "id": "555e91d7",
   "metadata": {},
   "source": [
    "### Example - 8"
   ]
  },
  {
   "cell_type": "code",
   "execution_count": 90,
   "id": "6d9fb795",
   "metadata": {},
   "outputs": [
    {
     "name": "stdout",
     "output_type": "stream",
     "text": [
      "[5] Miss\n",
      "[5, 7] Miss\n",
      "[5, 7, 6] Miss\n",
      "5 is replaced with 0\n",
      "[7, 6, 0] Miss\n",
      "[7, 6, 0] Hit\n",
      "7 is replaced with 1\n",
      "[6, 0, 1] Miss\n",
      "6 is replaced with 7\n",
      "[0, 1, 7] Miss\n",
      "0 is replaced with 2\n",
      "[1, 7, 2] Miss\n",
      "1 is replaced with 0\n",
      "[7, 2, 0] Miss\n",
      "7 is replaced with 1\n",
      "[2, 0, 1] Miss\n",
      "2 is replaced with 7\n",
      "[0, 1, 7] Miss\n",
      "[0, 1, 7] Hit\n",
      "[0, 1, 7] Hit\n",
      "Hit: 3\n",
      "Miss/Fault: 10\n"
     ]
    }
   ],
   "source": [
    "string=[5,7,6,0,7,1,7,2,0,1,7,1,0]\n",
    "m=3\n",
    "pages=[]\n",
    "page_faults(string, m, pages)"
   ]
  },
  {
   "cell_type": "code",
   "execution_count": null,
   "id": "877d100c",
   "metadata": {},
   "outputs": [],
   "source": []
  },
  {
   "cell_type": "code",
   "execution_count": null,
   "id": "a68d789d",
   "metadata": {},
   "outputs": [],
   "source": []
  },
  {
   "cell_type": "code",
   "execution_count": null,
   "id": "cb090814",
   "metadata": {},
   "outputs": [],
   "source": []
  },
  {
   "cell_type": "markdown",
   "id": "206eb3a8",
   "metadata": {},
   "source": [
    "## Method - 2"
   ]
  },
  {
   "cell_type": "code",
   "execution_count": 17,
   "id": "d97ea9fc",
   "metadata": {},
   "outputs": [],
   "source": [
    "class Node:\n",
    "    def __init__(self, data):\n",
    "        self.data=data\n",
    "        self.next=None"
   ]
  },
  {
   "cell_type": "code",
   "execution_count": 26,
   "id": "794a5833",
   "metadata": {},
   "outputs": [],
   "source": [
    "class LinkedList:\n",
    "    def __init__(self):\n",
    "        self.head=None\n",
    "    def insert(self, data):\n",
    "        d=Node(data)\n",
    "        if(self.head==None):\n",
    "            self.head=d\n",
    "            return\n",
    "        ptr=self.head\n",
    "        while(ptr.next!=None):\n",
    "            ptr=ptr.next\n",
    "        ptr.next=d\n",
    "        \n",
    "    def delete_at_beginning(self):\n",
    "        if(self.head==None):\n",
    "            return\n",
    "        remove=self.head\n",
    "        self.head=self.head.next\n",
    "        \n",
    "        return remove.data\n",
    "    \n",
    "    def is_in(self, data):\n",
    "        ptr=self.head\n",
    "        while(ptr!=None):\n",
    "            if(ptr.data==data):\n",
    "                #print(data, \"-----------------FOUND\")\n",
    "                return True\n",
    "            ptr=ptr.next\n",
    "        #print(data, \"-----------------NOT FOUND\")\n",
    "        return False\n",
    "    \n",
    "    def display(self):\n",
    "        ptr=self.head\n",
    "        while(ptr!=None):\n",
    "            print(ptr.data, end=' ')\n",
    "            ptr=ptr.next\n",
    "        "
   ]
  },
  {
   "cell_type": "code",
   "execution_count": 41,
   "id": "e3731441",
   "metadata": {},
   "outputs": [],
   "source": [
    "class Queue:\n",
    "    def __init__(self, size):\n",
    "        self.list=LinkedList()\n",
    "        self.size=size\n",
    "        self.count=0\n",
    "    \n",
    "    def enqueue(self, data):\n",
    "        if(self.size==self.count):\n",
    "            item=self.dequeue()\n",
    "            #print(\"SIZE: {}\\tCOUNT: {}\".format(self.size, self.count))\n",
    "            print(\"\\n{} replaced with {}\".format(item, data))\n",
    "        self.list.insert(data)\n",
    "        #print(\"Inserted---------------------------------------------------\", data)\n",
    "        self.count+=1\n",
    "        \n",
    "    def dequeue(self):\n",
    "        data=self.list.delete_at_beginning()\n",
    "        self.count-=1\n",
    "        return data\n",
    "    \n",
    "    def is_in(self, data):\n",
    "        return self.list.is_in(data)\n",
    "        \n",
    "    def display(self):\n",
    "        self.list.display()\n",
    "        #print(self.size, self.count)"
   ]
  },
  {
   "cell_type": "code",
   "execution_count": 42,
   "id": "8db91208",
   "metadata": {},
   "outputs": [],
   "source": [
    "def page_replace_alg(pages, m, queue):\n",
    "    hit=0\n",
    "    miss=0\n",
    "    n=len(pages)\n",
    "    for i in range(n):\n",
    "        if(queue.is_in(pages[i])):\n",
    "            hit+=1\n",
    "            queue.display()\n",
    "            print(\"--->HIT\")\n",
    "        else:\n",
    "            queue.enqueue(pages[i])\n",
    "            miss+=1\n",
    "            queue.display()\n",
    "            print(\"--->MISS\")\n",
    "    print(\"Hit:\", hit)\n",
    "    print(\"Miss/Fault:\", miss)"
   ]
  },
  {
   "cell_type": "markdown",
   "id": "89cb3b88",
   "metadata": {},
   "source": [
    "### Example - 1"
   ]
  },
  {
   "cell_type": "code",
   "execution_count": 67,
   "id": "ef3558f8",
   "metadata": {},
   "outputs": [
    {
     "name": "stdout",
     "output_type": "stream",
     "text": [
      "1 --->MISS\n",
      "1 3 --->MISS\n",
      "1 3 0 --->MISS\n",
      "1 3 0 --->HIT\n",
      "\n",
      "1 replaced with 5\n",
      "3 0 5 --->MISS\n",
      "\n",
      "3 replaced with 6\n",
      "0 5 6 --->MISS\n",
      "\n",
      "0 replaced with 3\n",
      "5 6 3 --->MISS\n",
      "Hit: 1\n",
      "Miss/Fault: 6\n"
     ]
    }
   ],
   "source": [
    "string=[1,3,0,3,5,6,3]\n",
    "m=3\n",
    "pages=[]\n",
    "queue=Queue(m)\n",
    "page_replace_alg(string, m, queue)"
   ]
  },
  {
   "cell_type": "markdown",
   "id": "51f2e7f1",
   "metadata": {},
   "source": [
    "### Example - 2"
   ]
  },
  {
   "cell_type": "code",
   "execution_count": 69,
   "id": "6c962d32",
   "metadata": {},
   "outputs": [
    {
     "name": "stdout",
     "output_type": "stream",
     "text": [
      "4 --->MISS\n",
      "4 7 --->MISS\n",
      "4 7 6 --->MISS\n",
      "\n",
      "4 replaced with 1\n",
      "7 6 1 --->MISS\n",
      "7 6 1 --->HIT\n",
      "7 6 1 --->HIT\n",
      "7 6 1 --->HIT\n",
      "\n",
      "7 replaced with 2\n",
      "6 1 2 --->MISS\n",
      "\n",
      "6 replaced with 7\n",
      "1 2 7 --->MISS\n",
      "1 2 7 --->HIT\n",
      "Hit: 4\n",
      "Miss/Fault: 6\n"
     ]
    }
   ],
   "source": [
    "pages=[4,7,6,1,7,6,1,2,7,2]\n",
    "m=3\n",
    "queue=Queue(m)\n",
    "page_replace_alg(pages, m, queue)"
   ]
  },
  {
   "cell_type": "markdown",
   "id": "f8ba5f3e",
   "metadata": {},
   "source": [
    "### Example - 3"
   ]
  },
  {
   "cell_type": "code",
   "execution_count": 70,
   "id": "8dd79442",
   "metadata": {},
   "outputs": [
    {
     "name": "stdout",
     "output_type": "stream",
     "text": [
      "4 --->MISS\n",
      "4 7 --->MISS\n",
      "4 7 6 --->MISS\n",
      "\n",
      "4 replaced with 1\n",
      "7 6 1 --->MISS\n",
      "7 6 1 --->HIT\n",
      "7 6 1 --->HIT\n",
      "7 6 1 --->HIT\n",
      "\n",
      "7 replaced with 2\n",
      "6 1 2 --->MISS\n",
      "\n",
      "6 replaced with 7\n",
      "1 2 7 --->MISS\n",
      "1 2 7 --->HIT\n",
      "1 2 7 --->HIT\n",
      "1 2 7 --->HIT\n",
      "Hit: 6\n",
      "Miss/Fault: 6\n"
     ]
    }
   ],
   "source": [
    "pages=[4,7,6,1,7,6,1,2,7,2, 7, 1]\n",
    "m=3\n",
    "queue=Queue(m)\n",
    "page_replace_alg(pages, m, queue)"
   ]
  },
  {
   "cell_type": "markdown",
   "id": "1ec8e9e3",
   "metadata": {},
   "source": [
    "### Example - 4"
   ]
  },
  {
   "cell_type": "code",
   "execution_count": 71,
   "id": "fd86f508",
   "metadata": {},
   "outputs": [
    {
     "name": "stdout",
     "output_type": "stream",
     "text": [
      "1 --->MISS\n",
      "1 3 --->MISS\n",
      "1 3 0 --->MISS\n",
      "1 3 0 --->HIT\n",
      "\n",
      "1 replaced with 5\n",
      "3 0 5 --->MISS\n",
      "\n",
      "3 replaced with 6\n",
      "0 5 6 --->MISS\n",
      "\n",
      "0 replaced with 3\n",
      "5 6 3 --->MISS\n",
      "Hit: 1\n",
      "Miss/Fault: 6\n"
     ]
    }
   ],
   "source": [
    "pages=[1,3,0,3,5,6,3]\n",
    "m=3\n",
    "queue=Queue(m)\n",
    "page_replace_alg(pages, m, queue)"
   ]
  },
  {
   "cell_type": "markdown",
   "id": "db80d25e",
   "metadata": {},
   "source": [
    "### Example - 5"
   ]
  },
  {
   "cell_type": "code",
   "execution_count": 73,
   "id": "90e0eadf",
   "metadata": {},
   "outputs": [
    {
     "name": "stdout",
     "output_type": "stream",
     "text": [
      "6 --->MISS\n",
      "6 7 --->MISS\n",
      "6 7 8 --->MISS\n",
      "\n",
      "6 replaced with 9\n",
      "7 8 9 --->MISS\n",
      "\n",
      "7 replaced with 6\n",
      "8 9 6 --->MISS\n",
      "\n",
      "8 replaced with 7\n",
      "9 6 7 --->MISS\n",
      "\n",
      "9 replaced with 1\n",
      "6 7 1 --->MISS\n",
      "6 7 1 --->HIT\n",
      "6 7 1 --->HIT\n",
      "\n",
      "6 replaced with 8\n",
      "7 1 8 --->MISS\n",
      "\n",
      "7 replaced with 9\n",
      "1 8 9 --->MISS\n",
      "1 8 9 --->HIT\n",
      "Hit: 3\n",
      "Miss/Fault: 9\n"
     ]
    }
   ],
   "source": [
    "pages=[6,7,8,9,6,7,1,6,7,8,9,1]\n",
    "m=3\n",
    "queue=Queue(m)\n",
    "page_replace_alg(pages, m, queue)"
   ]
  },
  {
   "cell_type": "markdown",
   "id": "1b2154e4",
   "metadata": {},
   "source": [
    "### Example - 6"
   ]
  },
  {
   "cell_type": "code",
   "execution_count": 74,
   "id": "1dba410f",
   "metadata": {},
   "outputs": [
    {
     "name": "stdout",
     "output_type": "stream",
     "text": [
      "6 --->MISS\n",
      "6 7 --->MISS\n",
      "6 7 8 --->MISS\n",
      "6 7 8 9 --->MISS\n",
      "6 7 8 9 --->HIT\n",
      "6 7 8 9 --->HIT\n",
      "\n",
      "6 replaced with 1\n",
      "7 8 9 1 --->MISS\n",
      "\n",
      "7 replaced with 6\n",
      "8 9 1 6 --->MISS\n",
      "\n",
      "8 replaced with 7\n",
      "9 1 6 7 --->MISS\n",
      "\n",
      "9 replaced with 8\n",
      "1 6 7 8 --->MISS\n",
      "\n",
      "1 replaced with 9\n",
      "6 7 8 9 --->MISS\n",
      "\n",
      "6 replaced with 1\n",
      "7 8 9 1 --->MISS\n",
      "Hit: 2\n",
      "Miss/Fault: 10\n"
     ]
    }
   ],
   "source": [
    "pages=[6,7,8,9,6,7,1,6,7,8,9,1]\n",
    "m=4\n",
    "queue=Queue(m)\n",
    "page_replace_alg(pages, m, queue)"
   ]
  },
  {
   "cell_type": "markdown",
   "id": "a95ea926",
   "metadata": {},
   "source": [
    "### Example - 7"
   ]
  },
  {
   "cell_type": "code",
   "execution_count": 75,
   "id": "78bb360e",
   "metadata": {},
   "outputs": [
    {
     "name": "stdout",
     "output_type": "stream",
     "text": [
      "6 --->MISS\n",
      "6 7 --->MISS\n",
      "6 7 8 --->MISS\n",
      "\n",
      "6 replaced with 9\n",
      "7 8 9 --->MISS\n",
      "\n",
      "7 replaced with 6\n",
      "8 9 6 --->MISS\n",
      "\n",
      "8 replaced with 7\n",
      "9 6 7 --->MISS\n",
      "\n",
      "9 replaced with 1\n",
      "6 7 1 --->MISS\n",
      "6 7 1 --->HIT\n",
      "6 7 1 --->HIT\n",
      "\n",
      "6 replaced with 8\n",
      "7 1 8 --->MISS\n",
      "\n",
      "7 replaced with 9\n",
      "1 8 9 --->MISS\n",
      "1 8 9 --->HIT\n",
      "\n",
      "1 replaced with 7\n",
      "8 9 7 --->MISS\n",
      "8 9 7 --->HIT\n",
      "\n",
      "8 replaced with 6\n",
      "9 7 6 --->MISS\n",
      "Hit: 4\n",
      "Miss/Fault: 11\n"
     ]
    }
   ],
   "source": [
    "pages=[6,7,8,9,6,7,1,6,7,8,9,1,7,9,6]\n",
    "m=3\n",
    "queue=Queue(m)\n",
    "page_replace_alg(pages, m, queue)"
   ]
  },
  {
   "cell_type": "markdown",
   "id": "b4ef3416",
   "metadata": {},
   "source": [
    "### Example - 8"
   ]
  },
  {
   "cell_type": "code",
   "execution_count": 76,
   "id": "f36f68ed",
   "metadata": {},
   "outputs": [
    {
     "name": "stdout",
     "output_type": "stream",
     "text": [
      "5 --->MISS\n",
      "5 7 --->MISS\n",
      "5 7 6 --->MISS\n",
      "\n",
      "5 replaced with 0\n",
      "7 6 0 --->MISS\n",
      "7 6 0 --->HIT\n",
      "\n",
      "7 replaced with 1\n",
      "6 0 1 --->MISS\n",
      "\n",
      "6 replaced with 7\n",
      "0 1 7 --->MISS\n",
      "\n",
      "0 replaced with 2\n",
      "1 7 2 --->MISS\n",
      "\n",
      "1 replaced with 0\n",
      "7 2 0 --->MISS\n",
      "\n",
      "7 replaced with 1\n",
      "2 0 1 --->MISS\n",
      "\n",
      "2 replaced with 7\n",
      "0 1 7 --->MISS\n",
      "0 1 7 --->HIT\n",
      "0 1 7 --->HIT\n",
      "Hit: 3\n",
      "Miss/Fault: 10\n"
     ]
    }
   ],
   "source": [
    "pages=[5,7,6,0,7,1,7,2,0,1,7,1,0]\n",
    "m=3\n",
    "queue=Queue(m)\n",
    "page_replace_alg(pages, m, queue)"
   ]
  },
  {
   "cell_type": "code",
   "execution_count": null,
   "id": "ead31a8c",
   "metadata": {},
   "outputs": [],
   "source": []
  }
 ],
 "metadata": {
  "kernelspec": {
   "display_name": "Python 3 (ipykernel)",
   "language": "python",
   "name": "python3"
  },
  "language_info": {
   "codemirror_mode": {
    "name": "ipython",
    "version": 3
   },
   "file_extension": ".py",
   "mimetype": "text/x-python",
   "name": "python",
   "nbconvert_exporter": "python",
   "pygments_lexer": "ipython3",
   "version": "3.9.13"
  }
 },
 "nbformat": 4,
 "nbformat_minor": 5
}
