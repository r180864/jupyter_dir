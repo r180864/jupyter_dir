{
 "cells": [
  {
   "cell_type": "markdown",
   "id": "b783defd",
   "metadata": {},
   "source": [
    "# A)First Come First Serve(FCFS) - File 2"
   ]
  },
  {
   "cell_type": "markdown",
   "id": "797cdc0c",
   "metadata": {},
   "source": [
    "## .............................................. Hare Krishna Hare Krishna .............................................................. ...............................................Krishna Krishna Hare Hare ........................................................."
   ]
  },
  {
   "cell_type": "code",
   "execution_count": 1,
   "id": "9662878b",
   "metadata": {},
   "outputs": [],
   "source": [
    "class Process:\n",
    "    def __init__(self, arrival_time, burst_time, process_count):\n",
    "        self.arrival_time=arrival_time\n",
    "        self.burst_time=burst_time\n",
    "        self.process_count=process_count\n",
    "        \n",
    "    def display(self):\n",
    "        print('P{}'.format(self.process_count), end=':  ')\n",
    "        print(self.arrival_time, end='   ')\n",
    "        print(self.burst_time, end='   ')\n",
    "        print(self.completion_time, end='   ')\n",
    "        print(self.turn_around_time, end='   ')\n",
    "        print(self.waiting_time)\n",
    "        "
   ]
  },
  {
   "cell_type": "code",
   "execution_count": 2,
   "id": "81800bbd",
   "metadata": {},
   "outputs": [],
   "source": [
    "class Node:\n",
    "    def __init__(self, process):\n",
    "        self.process=process\n",
    "        self.next=None"
   ]
  },
  {
   "cell_type": "code",
   "execution_count": 3,
   "id": "30cbc128",
   "metadata": {},
   "outputs": [],
   "source": [
    "class LinkedList:\n",
    "    def __init__(self):\n",
    "        self.head=self.tail=None\n",
    "        \n",
    "    def add(self, node):\n",
    "        if(self.head==None):\n",
    "            self.head=self.tail=node\n",
    "            return\n",
    "        self.tail.next=node\n",
    "        self.tail=node\n",
    "    \n",
    "    def isempty(self):\n",
    "        if(self.head==None):\n",
    "            return True\n",
    "        return False"
   ]
  },
  {
   "cell_type": "code",
   "execution_count": 4,
   "id": "31287723",
   "metadata": {},
   "outputs": [],
   "source": [
    "class CPU:\n",
    "    def __init__(self):\n",
    "        self.time=0\n",
    "        self.idle=0\n",
    "        \n",
    "        self.completion_time = self.turn_around_time = self.waiting_time = self.process_count = 0\n",
    "    \n",
    "    def run(self, process):\n",
    "        self.process_count+=1\n",
    "        if(self.time<process.arrival_time):\n",
    "            self.idle+=process.arrival_time-self.time\n",
    "            self.time=process.arrival_time\n",
    "            \n",
    "        self.time+=process.burst_time\n",
    "        \n",
    "        process.completion_time=self.time\n",
    "        process.turn_around_time=process.completion_time-process.arrival_time\n",
    "        process.waiting_time=process.turn_around_time-process.burst_time\n",
    "        \n",
    "        self.completion_time += process.completion_time\n",
    "        self.turn_around_time += process.turn_around_time\n",
    "        self.waiting_time += process.waiting_time\n",
    "        \n",
    "        process.display()\n",
    "        \n",
    "    def time_display(self):\n",
    "        print(\"Average Completion Time:\", self.completion_time/self.process_count)\n",
    "        print(\"Average Turn Around Time:\", self.turn_around_time/self.process_count)\n",
    "        print(\"Average Waiting Time:\", self.waiting_time/self.process_count)\n",
    "            \n",
    "                "
   ]
  },
  {
   "cell_type": "code",
   "execution_count": 5,
   "id": "4951b2ec",
   "metadata": {},
   "outputs": [],
   "source": [
    "class Queue:\n",
    "    def __init__(self):\n",
    "        self.list=LinkedList()\n",
    "    \n",
    "    def enqueue(self, process):\n",
    "        self.list.add(process)\n",
    "    \n",
    "    def dequeue(self):\n",
    "        return self.list.delete()\n",
    "    \n",
    "    def STS(self):\n",
    "        if(self.list.head.next==None):\n",
    "            remove=self.list.head\n",
    "            self.list.head=None\n",
    "            return remove.process\n",
    "        \n",
    "        remove=Node(None)\n",
    "        remove.next=self.list.head\n",
    "        ptr=remove\n",
    "        mini=999\n",
    "        \n",
    "        while(ptr.next!=None): \n",
    "            if(ptr.next.process.arrival_time<mini):\n",
    "                mini=ptr.next.process.arrival_time\n",
    "                remove=ptr\n",
    "            ptr=ptr.next\n",
    "        if(remove.next==self.list.head):\n",
    "            self.list.head=self.list.head.next\n",
    "            \n",
    "        process=remove.next.process\n",
    "        remove.next=remove.next.next\n",
    "        \n",
    "        return process\n",
    "    \n",
    "    def isempty(self):\n",
    "        return self.list.isempty()\n",
    "    \n",
    "    def dispatch(self, cpu):\n",
    "        while(not(self.isempty())):\n",
    "            process=self.STS()\n",
    "            cpu.run(process)"
   ]
  },
  {
   "cell_type": "code",
   "execution_count": null,
   "id": "167decfc",
   "metadata": {},
   "outputs": [],
   "source": []
  },
  {
   "cell_type": "markdown",
   "id": "3c04d5a4",
   "metadata": {},
   "source": [
    "### Example - 1"
   ]
  },
  {
   "cell_type": "code",
   "execution_count": 6,
   "id": "75b6a714",
   "metadata": {},
   "outputs": [],
   "source": [
    "atime=[3,5,0,5,4]\n",
    "btime=[4,3,2,1,3]\n",
    "n=5\n",
    "c=CPU()\n",
    "ready=Queue()\n",
    "for i in range(n):\n",
    "    p=Process(atime[i], btime[i], i+1)\n",
    "    ready.enqueue(Node(p))"
   ]
  },
  {
   "cell_type": "code",
   "execution_count": 7,
   "id": "3f4c33d4",
   "metadata": {},
   "outputs": [
    {
     "name": "stdout",
     "output_type": "stream",
     "text": [
      "P3:  0   2   2   2   0\n",
      "P1:  3   4   7   4   0\n",
      "P5:  4   3   10   6   3\n",
      "P2:  5   3   13   8   5\n",
      "P4:  5   1   14   9   8\n"
     ]
    }
   ],
   "source": [
    "ready.dispatch(c)"
   ]
  },
  {
   "cell_type": "code",
   "execution_count": 8,
   "id": "43b003e2",
   "metadata": {},
   "outputs": [
    {
     "name": "stdout",
     "output_type": "stream",
     "text": [
      "\n",
      "Cpu Completion Time : 14\n"
     ]
    }
   ],
   "source": [
    "print(\"\\nCpu Completion Time : {}\".format(c.time))"
   ]
  },
  {
   "cell_type": "code",
   "execution_count": 9,
   "id": "4ea6533a",
   "metadata": {},
   "outputs": [
    {
     "name": "stdout",
     "output_type": "stream",
     "text": [
      "CPU Idle Time : 1\n"
     ]
    }
   ],
   "source": [
    "print(\"CPU Idle Time : {}\".format(c.idle))"
   ]
  },
  {
   "cell_type": "code",
   "execution_count": 10,
   "id": "dab51f11",
   "metadata": {},
   "outputs": [
    {
     "name": "stdout",
     "output_type": "stream",
     "text": [
      "Average Completion Time: 9.2\n",
      "Average Turn Around Time: 5.8\n",
      "Average Waiting Time: 3.2\n"
     ]
    }
   ],
   "source": [
    "c.time_display()"
   ]
  },
  {
   "cell_type": "markdown",
   "id": "52d666f8",
   "metadata": {},
   "source": [
    "#### "
   ]
  },
  {
   "cell_type": "markdown",
   "id": "7ca7bfb9",
   "metadata": {},
   "source": [
    "### Example - 2"
   ]
  },
  {
   "cell_type": "code",
   "execution_count": 11,
   "id": "a55395b1",
   "metadata": {},
   "outputs": [],
   "source": [
    "atime=[0,1,2,3,6]\n",
    "btime=[2,6,4,9,12]\n",
    "n=5\n",
    "c=CPU()\n",
    "ready=Queue()\n",
    "for i in range(n):\n",
    "    p=Process(atime[i], btime[i], i+1)\n",
    "    ready.enqueue(Node(p))"
   ]
  },
  {
   "cell_type": "code",
   "execution_count": 12,
   "id": "93745095",
   "metadata": {},
   "outputs": [
    {
     "name": "stdout",
     "output_type": "stream",
     "text": [
      "P1:  0   2   2   2   0\n",
      "P2:  1   6   8   7   1\n",
      "P3:  2   4   12   10   6\n",
      "P4:  3   9   21   18   9\n",
      "P5:  6   12   33   27   15\n"
     ]
    }
   ],
   "source": [
    "ready.dispatch(c)"
   ]
  },
  {
   "cell_type": "code",
   "execution_count": 13,
   "id": "d9e8708b",
   "metadata": {},
   "outputs": [
    {
     "name": "stdout",
     "output_type": "stream",
     "text": [
      "\n",
      "Cpu Completion Time : 33\n"
     ]
    }
   ],
   "source": [
    "print(\"\\nCpu Completion Time : {}\".format(c.time))"
   ]
  },
  {
   "cell_type": "code",
   "execution_count": 14,
   "id": "0ff06967",
   "metadata": {},
   "outputs": [
    {
     "name": "stdout",
     "output_type": "stream",
     "text": [
      "CPU Idle Time : 0\n"
     ]
    }
   ],
   "source": [
    "print(\"CPU Idle Time : {}\".format(c.idle))"
   ]
  },
  {
   "cell_type": "code",
   "execution_count": 15,
   "id": "4f06e716",
   "metadata": {},
   "outputs": [
    {
     "name": "stdout",
     "output_type": "stream",
     "text": [
      "Average Completion Time: 15.2\n",
      "Average Turn Around Time: 12.8\n",
      "Average Waiting Time: 6.2\n"
     ]
    }
   ],
   "source": [
    "c.time_display()"
   ]
  },
  {
   "cell_type": "code",
   "execution_count": null,
   "id": "7b9ec54b",
   "metadata": {},
   "outputs": [],
   "source": []
  },
  {
   "cell_type": "markdown",
   "id": "653ec71c",
   "metadata": {},
   "source": [
    "### Example - 3"
   ]
  },
  {
   "cell_type": "code",
   "execution_count": 16,
   "id": "12025660",
   "metadata": {},
   "outputs": [],
   "source": [
    "atime=[0,1,5,6]\n",
    "btime=[2,2,3,4]\n",
    "n=4\n",
    "c=CPU()\n",
    "ready=Queue()\n",
    "for i in range(n):\n",
    "    p=Process(atime[i], btime[i], i+1)\n",
    "    ready.enqueue(Node(p))"
   ]
  },
  {
   "cell_type": "code",
   "execution_count": 17,
   "id": "8a80e56d",
   "metadata": {},
   "outputs": [
    {
     "name": "stdout",
     "output_type": "stream",
     "text": [
      "P1:  0   2   2   2   0\n",
      "P2:  1   2   4   3   1\n",
      "P3:  5   3   8   3   0\n",
      "P4:  6   4   12   6   2\n"
     ]
    }
   ],
   "source": [
    "ready.dispatch(c)"
   ]
  },
  {
   "cell_type": "code",
   "execution_count": 18,
   "id": "d0c1e906",
   "metadata": {},
   "outputs": [
    {
     "name": "stdout",
     "output_type": "stream",
     "text": [
      "\n",
      "Cpu Completion Time : 12\n"
     ]
    }
   ],
   "source": [
    "print(\"\\nCpu Completion Time : {}\".format(c.time))"
   ]
  },
  {
   "cell_type": "code",
   "execution_count": 19,
   "id": "8ed3e0b0",
   "metadata": {},
   "outputs": [
    {
     "name": "stdout",
     "output_type": "stream",
     "text": [
      "CPU Idle Time : 1\n"
     ]
    }
   ],
   "source": [
    "print(\"CPU Idle Time : {}\".format(c.idle))"
   ]
  },
  {
   "cell_type": "code",
   "execution_count": 20,
   "id": "97276451",
   "metadata": {},
   "outputs": [
    {
     "name": "stdout",
     "output_type": "stream",
     "text": [
      "Average Completion Time: 6.5\n",
      "Average Turn Around Time: 3.5\n",
      "Average Waiting Time: 0.75\n"
     ]
    }
   ],
   "source": [
    "c.time_display()"
   ]
  },
  {
   "cell_type": "markdown",
   "id": "eb3c9ffb",
   "metadata": {},
   "source": [
    "### Example - 4"
   ]
  },
  {
   "cell_type": "code",
   "execution_count": null,
   "id": "8211002a",
   "metadata": {},
   "outputs": [],
   "source": []
  },
  {
   "cell_type": "code",
   "execution_count": 21,
   "id": "6ea115bb",
   "metadata": {},
   "outputs": [],
   "source": [
    "ready.dispatch(c)"
   ]
  },
  {
   "cell_type": "code",
   "execution_count": null,
   "id": "ce0aac34",
   "metadata": {},
   "outputs": [],
   "source": []
  },
  {
   "cell_type": "code",
   "execution_count": null,
   "id": "337930f8",
   "metadata": {},
   "outputs": [],
   "source": []
  },
  {
   "cell_type": "markdown",
   "id": "19a7193e",
   "metadata": {},
   "source": [
    "## .............................................. Hare Rama Hare Rama .............................................................. ...............................................Rama Rama Hare Hare ........................................................."
   ]
  },
  {
   "cell_type": "code",
   "execution_count": null,
   "id": "258274d1",
   "metadata": {},
   "outputs": [],
   "source": []
  },
  {
   "cell_type": "markdown",
   "id": "1d58b598",
   "metadata": {},
   "source": [
    "# B) Shortest Job First"
   ]
  },
  {
   "cell_type": "code",
   "execution_count": 22,
   "id": "10d8c33d",
   "metadata": {},
   "outputs": [],
   "source": [
    "class Process:\n",
    "    def __init__(self, arrival_time, burst_time, process_count):\n",
    "        self.arrival_time=arrival_time\n",
    "        self.burst_time=burst_time\n",
    "        self.process_count=process_count\n",
    "        \n",
    "    def display(self):\n",
    "        print('P{}'.format(self.process_count), end=':  ')\n",
    "        print(self.arrival_time, end='   ')\n",
    "        print(self.burst_time, end='   ')\n",
    "        print(self.completion_time, end='   ')\n",
    "        print(self.turn_around_time, end='   ')\n",
    "        print(self.waiting_time)\n",
    "        "
   ]
  },
  {
   "cell_type": "code",
   "execution_count": 23,
   "id": "386f62cd",
   "metadata": {},
   "outputs": [],
   "source": [
    "class Node:\n",
    "    def __init__(self, process):\n",
    "        self.process=process\n",
    "        self.next=None"
   ]
  },
  {
   "cell_type": "code",
   "execution_count": 24,
   "id": "4a76cb80",
   "metadata": {},
   "outputs": [],
   "source": [
    "class LinkedList:\n",
    "    def __init__(self):\n",
    "        self.head=self.tail=None\n",
    "        \n",
    "    def add(self, node):\n",
    "        #print(node)\n",
    "        if(self.head==None):\n",
    "            self.head=self.tail=node\n",
    "            return\n",
    "        self.tail.next=node\n",
    "        self.tail=self.tail.next\n",
    "        \n",
    "    def delete(self):\n",
    "        delete=self.head\n",
    "        self.head=self.head.next\n",
    "        return delete.process\n",
    "    \n",
    "    def isempty(self):\n",
    "        if(self.head==None):\n",
    "            return True\n",
    "        return False\n",
    "    \n",
    "    def display(self):\n",
    "        ptr=self.head\n",
    "        while(ptr!=None):\n",
    "            print(ptr.process.arrival_time, ptr.process.burst_time)\n",
    "            ptr=ptr.next"
   ]
  },
  {
   "cell_type": "code",
   "execution_count": 25,
   "id": "e926a5c4",
   "metadata": {},
   "outputs": [],
   "source": [
    "class CPU:\n",
    "    def __init__(self):\n",
    "        self.time=0\n",
    "        self.idle=0\n",
    "        \n",
    "        self.completion_time = self.turn_around_time = self.waiting_time = self.process_count = 0\n",
    "    \n",
    "    def run(self, process):\n",
    "        self.process_count+=1\n",
    "        if(self.time<process.arrival_time):\n",
    "            self.idle+=process.arrival_time-self.time\n",
    "            self.time=process.arrival_time\n",
    "            \n",
    "        self.time+=process.burst_time\n",
    "        \n",
    "        process.completion_time=self.time\n",
    "        process.turn_around_time=process.completion_time-process.arrival_time\n",
    "        process.waiting_time=process.turn_around_time-process.burst_time\n",
    "        \n",
    "        self.completion_time += process.completion_time\n",
    "        self.turn_around_time += process.turn_around_time\n",
    "        self.waiting_time += process.waiting_time\n",
    "\n",
    "        process.display()\n",
    "        \n",
    "    def time_display(self):\n",
    "        print(\"Average Completion Time:\", self.completion_time/self.process_count)\n",
    "        print(\"Average Turn Around Time:\", self.turn_around_time/self.process_count)\n",
    "        print(\"Average Waiting Time:\", self.waiting_time/self.process_count)\n",
    "            \n",
    "                "
   ]
  },
  {
   "cell_type": "code",
   "execution_count": 26,
   "id": "8109af47",
   "metadata": {},
   "outputs": [],
   "source": [
    "class Queue:\n",
    "    def __init__(self):\n",
    "        self.list=LinkedList()\n",
    "    \n",
    "    def enqueue(self, process):\n",
    "        self.list.add(process)\n",
    "    \n",
    "    def dequeue(self):\n",
    "        return self.list.delete()\n",
    "    \n",
    "    def STS(self, cpu):\n",
    "        if(self.list.head.next==None):\n",
    "            remove=self.list.head\n",
    "            self.list.head=None\n",
    "            return remove.process\n",
    "        remove=Node(None)\n",
    "        remove.next=self.list.head\n",
    "        ptr=remove\n",
    "        mini=999\n",
    "        while(ptr.next!=None):\n",
    "            if(ptr.next.process.arrival_time<=cpu.time):\n",
    "                if(ptr.next.process.burst_time<mini):\n",
    "                    remove=ptr\n",
    "                    mini=ptr.next.process.burst_time\n",
    "                if(ptr.next.process.burst_time==mini):\n",
    "                    if(ptr.next.process.arrival_time<remove.next.process.arrival_time):\n",
    "                        remove=ptr\n",
    "            ptr=ptr.next\n",
    "            \n",
    "        if(remove.next==self.list.head):\n",
    "            self.list.head=self.list.head.next\n",
    "        \n",
    "        process=remove.next.process\n",
    "        remove.next=remove.next.next\n",
    "            \n",
    "        return process\n",
    "    \n",
    "    def isempty(self):\n",
    "        return self.list.isempty()\n",
    "    \n",
    "    def dispatch(self, cpu):\n",
    "        print('Prs AT  BT  CT  TAT  WT RT')\n",
    "        while(not(self.isempty())):\n",
    "            process=self.STS(cpu)\n",
    "            cpu.run(process)"
   ]
  },
  {
   "cell_type": "code",
   "execution_count": 27,
   "id": "98aca6a5",
   "metadata": {},
   "outputs": [
    {
     "name": "stdout",
     "output_type": "stream",
     "text": [
      "Prs AT  BT  CT  TAT  WT RT\n",
      "P4:  0   6   6   6   0\n",
      "P1:  3   1   7   4   3\n",
      "P3:  4   2   9   5   3\n",
      "P5:  2   3   12   10   7\n",
      "P2:  1   4   16   15   11\n",
      "\n",
      "Cpu Completion Time : 16\n",
      "CPU Idle Time : 0\n",
      "Average Completion Time: 10.0\n",
      "Average Turn Around Time: 8.0\n",
      "Average Waiting Time: 4.8\n"
     ]
    }
   ],
   "source": [
    "atime=[3,1,4,0,2]\n",
    "btime=[1,4,2,6,3]\n",
    "n=5\n",
    "c=CPU()\n",
    "ready=Queue()\n",
    "for i in range(n):\n",
    "    p=Process(atime[i], btime[i], i+1)\n",
    "    ready.enqueue(Node(p))\n",
    "    \n",
    "ready.dispatch(c)\n",
    "print(\"\\nCpu Completion Time : {}\".format(c.time))\n",
    "print(\"CPU Idle Time : {}\".format(c.idle))\n",
    "c.time_display()"
   ]
  },
  {
   "cell_type": "code",
   "execution_count": null,
   "id": "76215c3c",
   "metadata": {},
   "outputs": [],
   "source": []
  },
  {
   "cell_type": "code",
   "execution_count": 28,
   "id": "94c7c335",
   "metadata": {},
   "outputs": [
    {
     "name": "stdout",
     "output_type": "stream",
     "text": [
      "Prs AT  BT  CT  TAT  WT RT\n",
      "P4:  0   3   3   3   0\n",
      "P1:  2   6   9   7   1\n",
      "P2:  5   2   11   6   4\n",
      "P5:  4   4   15   11   7\n",
      "P3:  1   8   23   22   14\n",
      "\n",
      "Cpu Completion Time : 23\n",
      "CPU Idle Time : 0\n",
      "Average Completion Time: 12.2\n",
      "Average Turn Around Time: 9.8\n",
      "Average Waiting Time: 5.2\n"
     ]
    }
   ],
   "source": [
    "atime=[2,5,1,0,4]\n",
    "btime=[6,2,8,3,4]\n",
    "n=5\n",
    "c=CPU()\n",
    "ready=Queue()\n",
    "for i in range(n):\n",
    "    p=Process(atime[i], btime[i], i+1)\n",
    "    ready.enqueue(Node(p))\n",
    "    \n",
    "ready.dispatch(c)\n",
    "print(\"\\nCpu Completion Time : {}\".format(c.time))\n",
    "print(\"CPU Idle Time : {}\".format(c.idle))\n",
    "c.time_display()"
   ]
  },
  {
   "cell_type": "code",
   "execution_count": null,
   "id": "9ea90e3f",
   "metadata": {},
   "outputs": [],
   "source": []
  },
  {
   "cell_type": "code",
   "execution_count": 31,
   "id": "7687a0c8",
   "metadata": {},
   "outputs": [
    {
     "name": "stdout",
     "output_type": "stream",
     "text": [
      "Prs AT  BT  CT  TAT  WT RT\n",
      "P1:  1   7   8   7   0\n",
      "P3:  6   2   10   4   2\n",
      "P2:  3   3   13   10   7\n",
      "P5:  9   8   21   12   4\n",
      "P4:  7   10   31   24   14\n",
      "\n",
      "Cpu Completion Time : 31\n",
      "CPU Idle Time : 1\n",
      "Average Completion Time: 16.6\n",
      "Average Turn Around Time: 11.4\n",
      "Average Waiting Time: 5.4\n"
     ]
    }
   ],
   "source": [
    "atime=[1,3,6,7,9]\n",
    "btime=[7,3,2,10,8]\n",
    "n=5\n",
    "c=CPU()\n",
    "ready=Queue()\n",
    "for i in range(n):\n",
    "    p=Process(atime[i], btime[i], i+1)\n",
    "    ready.enqueue(Node(p))\n",
    "\n",
    "ready.dispatch(c)\n",
    "print(\"\\nCpu Completion Time : {}\".format(c.time))\n",
    "print(\"CPU Idle Time : {}\".format(c.idle))\n",
    "c.time_display()"
   ]
  },
  {
   "cell_type": "code",
   "execution_count": null,
   "id": "7052eb3c",
   "metadata": {},
   "outputs": [],
   "source": []
  },
  {
   "cell_type": "code",
   "execution_count": null,
   "id": "222d8484",
   "metadata": {},
   "outputs": [],
   "source": [
    "n=int(input(\"Enter no of processes:\"))\n",
    "print(\"\\nEnter:\")\n",
    "c=CPU()\n",
    "ready=Queue()\n",
    "for i in range(1, n+1):\n",
    "    atime=int(input(\"P{} Arrival Time:\".format(i)))\n",
    "    btime=int(input(\"P{} Burst Time:\".format(i)))\n",
    "    p=Process(atime, btime, i)\n",
    "    ready.enqueue(Node(p))\n",
    "    \n",
    "atime=[1,3,6,7,9]\n",
    "btime=[7,3,2,10,8]\n",
    "n=5\n",
    "c=CPU()\n",
    "ready=Queue()\n",
    "for i in range(n):\n",
    "    p=Process(atime[i], btime[i], i+1)\n",
    "    ready.enqueue(Node(p))"
   ]
  },
  {
   "cell_type": "code",
   "execution_count": 32,
   "id": "8bf52693",
   "metadata": {},
   "outputs": [
    {
     "name": "stdout",
     "output_type": "stream",
     "text": [
      "Prs AT  BT  CT  TAT  WT RT\n",
      "P1:  1   7   8   7   0\n",
      "P3:  6   2   10   4   2\n",
      "P2:  3   3   13   10   7\n",
      "P5:  9   8   21   12   4\n",
      "P4:  7   10   31   24   14\n",
      "\n",
      "Cpu Completion Time : 31\n",
      "CPU Idle Time : 1\n",
      "Average Completion Time: 16.6\n",
      "Average Turn Around Time: 11.4\n",
      "Average Waiting Time: 5.4\n"
     ]
    }
   ],
   "source": [
    "atime=[1,3,6,7,9]\n",
    "btime=[7,3,2,10,8]\n",
    "n=5\n",
    "c=CPU()\n",
    "ready=Queue()\n",
    "for i in range(n):\n",
    "    p=Process(atime[i], btime[i], i+1)\n",
    "    ready.enqueue(Node(p))\n",
    "    \n",
    "ready.dispatch(c)\n",
    "print(\"\\nCpu Completion Time : {}\".format(c.time))\n",
    "print(\"CPU Idle Time : {}\".format(c.idle))\n",
    "c.time_display()"
   ]
  },
  {
   "cell_type": "markdown",
   "id": "b879bc2b",
   "metadata": {},
   "source": [
    "## .............................................. Hare Krishna Hare Krishna .............................................................. ...............................................Krishna Krishna Hare Hare ........................................................."
   ]
  },
  {
   "cell_type": "code",
   "execution_count": null,
   "id": "5e7fb377",
   "metadata": {},
   "outputs": [],
   "source": []
  }
 ],
 "metadata": {
  "kernelspec": {
   "display_name": "Python 3 (ipykernel)",
   "language": "python",
   "name": "python3"
  },
  "language_info": {
   "codemirror_mode": {
    "name": "ipython",
    "version": 3
   },
   "file_extension": ".py",
   "mimetype": "text/x-python",
   "name": "python",
   "nbconvert_exporter": "python",
   "pygments_lexer": "ipython3",
   "version": "3.9.13"
  }
 },
 "nbformat": 4,
 "nbformat_minor": 5
}
