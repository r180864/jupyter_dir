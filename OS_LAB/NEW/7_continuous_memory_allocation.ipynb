{
 "cells": [
  {
   "cell_type": "markdown",
   "id": "bffb1d40",
   "metadata": {},
   "source": [
    "## .............................................. Hare Krishna Hare Krishna .............................................................. ...............................................Krishna Krishna Hare Hare ........................................................."
   ]
  },
  {
   "cell_type": "markdown",
   "id": "67b7c9c1",
   "metadata": {},
   "source": [
    "# 1. Worst Fit"
   ]
  },
  {
   "cell_type": "code",
   "execution_count": 21,
   "id": "778c709c",
   "metadata": {},
   "outputs": [],
   "source": [
    "def worst_fit(block, processes):\n",
    "    allotted=[-1 for i in range(len(processes))]\n",
    "    old_block=block.copy()\n",
    "    print(\"P.No\\tProcess\\tBlock.No Block_Size Fragment\")\n",
    "    occupied=[False for i in range(len(block))]\n",
    "    for i in range(len(processes)):\n",
    "        ind=-1\n",
    "        for j in range(len(block)):\n",
    "            #print()\n",
    "            if(block[j]>=processes[i] and not occupied[j]):\n",
    "                if(ind==-1):\n",
    "                    ind=j\n",
    "                elif(block[j]>block[ind]):\n",
    "                    ind=j\n",
    "        if(ind!=-1):\n",
    "            allotted[i]=ind\n",
    "            occupied[ind]=True\n",
    "        #print(block)\n",
    "    for i in range(len(processes)):\n",
    "        print(i+1, end='\\t')\n",
    "        print(processes[i], end='\\t')\n",
    "        if(allotted[i]==-1):\n",
    "            print(\"-------Not Allotted-------\", end=' \\n')\n",
    "        else:\n",
    "            print(allotted[i]+1, end='\\t  ')\n",
    "            print(old_block[allotted[i]], end=' \\t\\t')\n",
    "            print(old_block[allotted[i]]-processes[i])\n",
    "        "
   ]
  },
  {
   "cell_type": "markdown",
   "id": "0e7cc328",
   "metadata": {},
   "source": [
    "### Example - 1"
   ]
  },
  {
   "cell_type": "code",
   "execution_count": 11,
   "id": "7fd80317",
   "metadata": {},
   "outputs": [
    {
     "ename": "KeyboardInterrupt",
     "evalue": "Interrupted by user",
     "output_type": "error",
     "traceback": [
      "\u001b[1;31m---------------------------------------------------------------------------\u001b[0m",
      "\u001b[1;31mKeyboardInterrupt\u001b[0m                         Traceback (most recent call last)",
      "\u001b[1;32m~\\AppData\\Local\\Temp\\ipykernel_1904\\1759587002.py\u001b[0m in \u001b[0;36m<module>\u001b[1;34m\u001b[0m\n\u001b[1;32m----> 1\u001b[1;33m \u001b[0mblock\u001b[0m\u001b[1;33m=\u001b[0m\u001b[0minput\u001b[0m\u001b[1;33m(\u001b[0m\u001b[1;34m'Enter the Block sizes:'\u001b[0m\u001b[1;33m)\u001b[0m\u001b[1;33m\u001b[0m\u001b[1;33m\u001b[0m\u001b[0m\n\u001b[0m\u001b[0;32m      2\u001b[0m \u001b[0mprocesses\u001b[0m\u001b[1;33m=\u001b[0m\u001b[0minput\u001b[0m\u001b[1;33m(\u001b[0m\u001b[1;34m'Enter the Process sizes:'\u001b[0m\u001b[1;33m)\u001b[0m\u001b[1;33m\u001b[0m\u001b[1;33m\u001b[0m\u001b[0m\n\u001b[0;32m      3\u001b[0m \u001b[0mblock\u001b[0m\u001b[1;33m=\u001b[0m\u001b[0mblock\u001b[0m\u001b[1;33m.\u001b[0m\u001b[0msplit\u001b[0m\u001b[1;33m(\u001b[0m\u001b[1;33m)\u001b[0m\u001b[1;33m\u001b[0m\u001b[1;33m\u001b[0m\u001b[0m\n\u001b[0;32m      4\u001b[0m \u001b[0mprocesses\u001b[0m\u001b[1;33m=\u001b[0m\u001b[0mprocesses\u001b[0m\u001b[1;33m.\u001b[0m\u001b[0msplit\u001b[0m\u001b[1;33m(\u001b[0m\u001b[1;33m)\u001b[0m\u001b[1;33m\u001b[0m\u001b[1;33m\u001b[0m\u001b[0m\n\u001b[0;32m      5\u001b[0m \u001b[1;32mfor\u001b[0m \u001b[0mi\u001b[0m \u001b[1;32min\u001b[0m \u001b[0mrange\u001b[0m\u001b[1;33m(\u001b[0m\u001b[0mlen\u001b[0m\u001b[1;33m(\u001b[0m\u001b[0mblock\u001b[0m\u001b[1;33m)\u001b[0m\u001b[1;33m)\u001b[0m\u001b[1;33m:\u001b[0m\u001b[1;33m\u001b[0m\u001b[1;33m\u001b[0m\u001b[0m\n",
      "\u001b[1;32m~\\anaconda3\\lib\\site-packages\\ipykernel\\kernelbase.py\u001b[0m in \u001b[0;36mraw_input\u001b[1;34m(self, prompt)\u001b[0m\n\u001b[0;32m   1175\u001b[0m                 \u001b[1;34m\"raw_input was called, but this frontend does not support input requests.\"\u001b[0m\u001b[1;33m\u001b[0m\u001b[1;33m\u001b[0m\u001b[0m\n\u001b[0;32m   1176\u001b[0m             )\n\u001b[1;32m-> 1177\u001b[1;33m         return self._input_request(\n\u001b[0m\u001b[0;32m   1178\u001b[0m             \u001b[0mstr\u001b[0m\u001b[1;33m(\u001b[0m\u001b[0mprompt\u001b[0m\u001b[1;33m)\u001b[0m\u001b[1;33m,\u001b[0m\u001b[1;33m\u001b[0m\u001b[1;33m\u001b[0m\u001b[0m\n\u001b[0;32m   1179\u001b[0m             \u001b[0mself\u001b[0m\u001b[1;33m.\u001b[0m\u001b[0m_parent_ident\u001b[0m\u001b[1;33m[\u001b[0m\u001b[1;34m\"shell\"\u001b[0m\u001b[1;33m]\u001b[0m\u001b[1;33m,\u001b[0m\u001b[1;33m\u001b[0m\u001b[1;33m\u001b[0m\u001b[0m\n",
      "\u001b[1;32m~\\anaconda3\\lib\\site-packages\\ipykernel\\kernelbase.py\u001b[0m in \u001b[0;36m_input_request\u001b[1;34m(self, prompt, ident, parent, password)\u001b[0m\n\u001b[0;32m   1217\u001b[0m             \u001b[1;32mexcept\u001b[0m \u001b[0mKeyboardInterrupt\u001b[0m\u001b[1;33m:\u001b[0m\u001b[1;33m\u001b[0m\u001b[1;33m\u001b[0m\u001b[0m\n\u001b[0;32m   1218\u001b[0m                 \u001b[1;31m# re-raise KeyboardInterrupt, to truncate traceback\u001b[0m\u001b[1;33m\u001b[0m\u001b[1;33m\u001b[0m\u001b[0m\n\u001b[1;32m-> 1219\u001b[1;33m                 \u001b[1;32mraise\u001b[0m \u001b[0mKeyboardInterrupt\u001b[0m\u001b[1;33m(\u001b[0m\u001b[1;34m\"Interrupted by user\"\u001b[0m\u001b[1;33m)\u001b[0m \u001b[1;32mfrom\u001b[0m \u001b[1;32mNone\u001b[0m\u001b[1;33m\u001b[0m\u001b[1;33m\u001b[0m\u001b[0m\n\u001b[0m\u001b[0;32m   1220\u001b[0m             \u001b[1;32mexcept\u001b[0m \u001b[0mException\u001b[0m\u001b[1;33m:\u001b[0m\u001b[1;33m\u001b[0m\u001b[1;33m\u001b[0m\u001b[0m\n\u001b[0;32m   1221\u001b[0m                 \u001b[0mself\u001b[0m\u001b[1;33m.\u001b[0m\u001b[0mlog\u001b[0m\u001b[1;33m.\u001b[0m\u001b[0mwarning\u001b[0m\u001b[1;33m(\u001b[0m\u001b[1;34m\"Invalid Message:\"\u001b[0m\u001b[1;33m,\u001b[0m \u001b[0mexc_info\u001b[0m\u001b[1;33m=\u001b[0m\u001b[1;32mTrue\u001b[0m\u001b[1;33m)\u001b[0m\u001b[1;33m\u001b[0m\u001b[1;33m\u001b[0m\u001b[0m\n",
      "\u001b[1;31mKeyboardInterrupt\u001b[0m: Interrupted by user"
     ]
    }
   ],
   "source": [
    "block=input('Enter the Block sizes:')\n",
    "processes=input('Enter the Process sizes:')\n",
    "block=block.split()\n",
    "processes=processes.split()\n",
    "for i in range(len(block)):\n",
    "    block[i]=int(block[i])\n",
    "for i in range(len(processes)):\n",
    "    processes[i]=int(processes[i])\n",
    "    \n",
    "worst_fit(block, processes)"
   ]
  },
  {
   "cell_type": "markdown",
   "id": "2159bfd7",
   "metadata": {},
   "source": [
    "### Example - 2"
   ]
  },
  {
   "cell_type": "code",
   "execution_count": 22,
   "id": "a92c392a",
   "metadata": {},
   "outputs": [
    {
     "name": "stdout",
     "output_type": "stream",
     "text": [
      "P.No\tProcess\tBlock.No Block_Size Fragment\n",
      "1\t212\t5\t  600 \t\t388\n",
      "2\t417\t2\t  500 \t\t83\n",
      "3\t112\t4\t  300 \t\t188\n",
      "4\t426\t-------Not Allotted------- \n"
     ]
    }
   ],
   "source": [
    "block=[100,500,200,300,600]\n",
    "processes=[212,417,112,426] \n",
    "worst_fit(block, processes)"
   ]
  },
  {
   "cell_type": "markdown",
   "id": "f4777826",
   "metadata": {},
   "source": [
    "### Example - 3"
   ]
  },
  {
   "cell_type": "code",
   "execution_count": 23,
   "id": "b0dd4af2",
   "metadata": {},
   "outputs": [
    {
     "name": "stdout",
     "output_type": "stream",
     "text": [
      "P.No\tProcess\tBlock.No Block_Size Fragment\n",
      "1\t1\t5\t  7 \t\t6\n",
      "2\t3\t4\t  6 \t\t3\n",
      "3\t5\t1\t  5 \t\t0\n",
      "4\t3\t2\t  4 \t\t1\n"
     ]
    }
   ],
   "source": [
    "block=[5,4,3,6,7]\n",
    "processes=[1,3,5,3] \n",
    "worst_fit(block, processes)"
   ]
  },
  {
   "cell_type": "code",
   "execution_count": null,
   "id": "9d94cfb8",
   "metadata": {},
   "outputs": [],
   "source": []
  },
  {
   "cell_type": "markdown",
   "id": "87db7820",
   "metadata": {},
   "source": [
    "# 2. Best Fit"
   ]
  },
  {
   "cell_type": "code",
   "execution_count": 24,
   "id": "e70f611d",
   "metadata": {},
   "outputs": [],
   "source": [
    "def best_fit(block, processes):\n",
    "    allotted=[-1 for i in range(len(processes))]\n",
    "    old_block=block.copy()\n",
    "    print(\"P.No\\tProcess\\tBlock.No Block_Size Fragment\")\n",
    "    occupied=[False for i in range(len(block))]\n",
    "    for i in range(len(processes)):\n",
    "        ind=-1\n",
    "        for j in range(len(block)):\n",
    "            #print()\n",
    "            if(block[j]>=processes[i] and not occupied[j]):\n",
    "                if(ind==-1):\n",
    "                    ind=j\n",
    "                elif(block[j]<block[ind]):\n",
    "                    ind=j\n",
    "        if(ind!=-1):\n",
    "            allotted[i]=ind\n",
    "            occupied[ind]=True\n",
    "        #print(block)\n",
    "    for i in range(len(processes)):\n",
    "        print(i+1, end='\\t')\n",
    "        print(processes[i], end='\\t')\n",
    "        if(allotted[i]==-1):\n",
    "            print(\"-------Not Allotted-------\", end='  ')\n",
    "        else:\n",
    "            print(allotted[i]+1, end='\\t  ')\n",
    "            print(old_block[allotted[i]], end=' \\t\\t')\n",
    "            print(old_block[allotted[i]]-processes[i])\n",
    "        "
   ]
  },
  {
   "cell_type": "markdown",
   "id": "d88a0efe",
   "metadata": {},
   "source": [
    "### Example - 1"
   ]
  },
  {
   "cell_type": "code",
   "execution_count": 25,
   "id": "fd23856a",
   "metadata": {},
   "outputs": [
    {
     "name": "stdout",
     "output_type": "stream",
     "text": [
      "P.No\tProcess\tBlock.No Block_Size Fragment\n",
      "1\t1\t5\t  3 \t\t2\n",
      "2\t4\t3\t  5 \t\t1\n",
      "3\t7\t4\t  9 \t\t2\n",
      "4\t12\t2\t  15 \t\t3\n"
     ]
    }
   ],
   "source": [
    "block=[10, 15, 5, 9, 3]\n",
    "processes=[1,4,7,12] \n",
    "best_fit(block, processes)"
   ]
  },
  {
   "cell_type": "code",
   "execution_count": null,
   "id": "8c3842b2",
   "metadata": {},
   "outputs": [],
   "source": []
  },
  {
   "cell_type": "markdown",
   "id": "caaf1053",
   "metadata": {},
   "source": [
    "# 3. First Fit"
   ]
  },
  {
   "cell_type": "code",
   "execution_count": 28,
   "id": "3d988550",
   "metadata": {},
   "outputs": [],
   "source": [
    "def first_fit(block, processes):\n",
    "    allotted=[-1 for i in range(len(processes))]\n",
    "    print(\"P.No\\tProcess\\tBlock.No Block_Size Fragment\")\n",
    "    old_block=block.copy()\n",
    "    occupied=[False for i in range(len(block))]\n",
    "    for i in range(len(processes)):\n",
    "        ind=-1\n",
    "        #print(processes[i])\n",
    "        for j in range(len(block)):\n",
    "            #print()\n",
    "            if(block[j]>=processes[i] and not occupied[j]):\n",
    "                allotted[i]=j\n",
    "                occupied[j]=True\n",
    "                break\n",
    "        #print(block)\n",
    "    for i in range(len(processes)):\n",
    "        print(i+1, end='\\t')\n",
    "        print(processes[i], end='\\t')\n",
    "        if(allotted[i]==-1):\n",
    "            print(\"-------Not Allotted-------\", end=' \\n')\n",
    "        else:\n",
    "            print(allotted[i]+1, end='\\t  ')\n",
    "            print(old_block[allotted[i]], end=' \\t\\t')\n",
    "            print(old_block[allotted[i]]-processes[i])\n",
    "        "
   ]
  },
  {
   "cell_type": "markdown",
   "id": "a8c2126a",
   "metadata": {},
   "source": [
    "### Example - 1"
   ]
  },
  {
   "cell_type": "code",
   "execution_count": 29,
   "id": "0e47731c",
   "metadata": {},
   "outputs": [
    {
     "name": "stdout",
     "output_type": "stream",
     "text": [
      "P.No\tProcess\tBlock.No Block_Size Fragment\n",
      "1\t20\t1\t  100 \t\t80\n",
      "2\t60\t4\t  120 \t\t60\n",
      "3\t70\t-------Not Allotted------- \n",
      "4\t40\t2\t  50 \t\t10\n"
     ]
    }
   ],
   "source": [
    "block=[100, 50, 30, 120, 35]\n",
    "processes=[20, 60, 70, 40] \n",
    "first_fit(block, processes)"
   ]
  },
  {
   "cell_type": "code",
   "execution_count": null,
   "id": "94725b84",
   "metadata": {},
   "outputs": [],
   "source": []
  },
  {
   "cell_type": "markdown",
   "id": "4d4b4c2b",
   "metadata": {},
   "source": [
    "## .............................................. Hare Krishna Hare Krishna .............................................................. ...............................................Krishna Krishna Hare Hare ........................................................."
   ]
  },
  {
   "cell_type": "code",
   "execution_count": null,
   "id": "33539bc6",
   "metadata": {},
   "outputs": [],
   "source": []
  }
 ],
 "metadata": {
  "kernelspec": {
   "display_name": "Python 3 (ipykernel)",
   "language": "python",
   "name": "python3"
  },
  "language_info": {
   "codemirror_mode": {
    "name": "ipython",
    "version": 3
   },
   "file_extension": ".py",
   "mimetype": "text/x-python",
   "name": "python",
   "nbconvert_exporter": "python",
   "pygments_lexer": "ipython3",
   "version": "3.9.13"
  }
 },
 "nbformat": 4,
 "nbformat_minor": 5
}
