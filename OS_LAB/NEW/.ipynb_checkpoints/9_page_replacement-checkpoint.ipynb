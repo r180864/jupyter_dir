{
 "cells": [
  {
   "cell_type": "markdown",
   "id": "0cfa15e7",
   "metadata": {},
   "source": [
    "# First In First Out(FIFO)"
   ]
  },
  {
   "cell_type": "markdown",
   "id": "4cc99768",
   "metadata": {},
   "source": [
    "## .............................................. Hare Krishna Hare Krishna .............................................................. ...............................................Krishna Krishna Hare Hare ........................................................."
   ]
  },
  {
   "cell_type": "markdown",
   "id": "e0c0eb6a",
   "metadata": {},
   "source": [
    "## Method - 1"
   ]
  },
  {
   "cell_type": "code",
   "execution_count": 1,
   "id": "8a906be9",
   "metadata": {},
   "outputs": [],
   "source": [
    "def page_faults(string, m, pages):\n",
    "    hit=miss=0\n",
    "    for data in string:\n",
    "        if(data in pages):\n",
    "            hit+=1\n",
    "            print(pages, end=' ')\n",
    "            print(\"Hit\")\n",
    "        else:\n",
    "            if(len(pages)==m):\n",
    "                print(\"{} is replaced with {}\".format(pages[0], data))\n",
    "                pages.remove(pages[0])\n",
    "                \n",
    "            pages.append(data)\n",
    "            miss+=1\n",
    "            print(pages, end=' ')\n",
    "            print(\"Miss\")\n",
    "            \n",
    "    print(\"\\nHit:\", hit)\n",
    "    print(\"Miss/Fault:\", miss)"
   ]
  },
  {
   "cell_type": "markdown",
   "id": "e2fe5471",
   "metadata": {},
   "source": [
    "### Example - 1"
   ]
  },
  {
   "cell_type": "code",
   "execution_count": 2,
   "id": "2026eec8",
   "metadata": {},
   "outputs": [
    {
     "name": "stdout",
     "output_type": "stream",
     "text": [
      "[1] Miss\n",
      "[1, 3] Miss\n",
      "[1, 3, 0] Miss\n",
      "[1, 3, 0] Hit\n",
      "1 is replaced with 5\n",
      "[3, 0, 5] Miss\n",
      "3 is replaced with 6\n",
      "[0, 5, 6] Miss\n",
      "0 is replaced with 3\n",
      "[5, 6, 3] Miss\n",
      "\n",
      "Hit: 1\n",
      "Miss/Fault: 6\n"
     ]
    }
   ],
   "source": [
    "string=[1,3,0,3,5,6,3]\n",
    "m=3\n",
    "pages=[]\n",
    "page_faults(string, m, pages)"
   ]
  },
  {
   "cell_type": "markdown",
   "id": "5cdd2bab",
   "metadata": {},
   "source": [
    "### Example - 2"
   ]
  },
  {
   "cell_type": "code",
   "execution_count": 3,
   "id": "0613d955",
   "metadata": {},
   "outputs": [
    {
     "name": "stdout",
     "output_type": "stream",
     "text": [
      "[4] Miss\n",
      "[4, 7] Miss\n",
      "[4, 7, 6] Miss\n",
      "4 is replaced with 1\n",
      "[7, 6, 1] Miss\n",
      "[7, 6, 1] Hit\n",
      "[7, 6, 1] Hit\n",
      "[7, 6, 1] Hit\n",
      "7 is replaced with 2\n",
      "[6, 1, 2] Miss\n",
      "6 is replaced with 7\n",
      "[1, 2, 7] Miss\n",
      "[1, 2, 7] Hit\n",
      "\n",
      "Hit: 4\n",
      "Miss/Fault: 6\n"
     ]
    }
   ],
   "source": [
    "string=[4,7,6,1,7,6,1,2,7,2]\n",
    "m=3\n",
    "pages=[]\n",
    "page_faults(string, m, pages)"
   ]
  },
  {
   "cell_type": "markdown",
   "id": "dddbc50e",
   "metadata": {},
   "source": [
    "### Example - 3"
   ]
  },
  {
   "cell_type": "code",
   "execution_count": 4,
   "id": "01bfa264",
   "metadata": {},
   "outputs": [
    {
     "name": "stdout",
     "output_type": "stream",
     "text": [
      "[4] Miss\n",
      "[4, 7] Miss\n",
      "[4, 7, 6] Miss\n",
      "4 is replaced with 1\n",
      "[7, 6, 1] Miss\n",
      "[7, 6, 1] Hit\n",
      "[7, 6, 1] Hit\n",
      "[7, 6, 1] Hit\n",
      "7 is replaced with 2\n",
      "[6, 1, 2] Miss\n",
      "6 is replaced with 7\n",
      "[1, 2, 7] Miss\n",
      "[1, 2, 7] Hit\n",
      "[1, 2, 7] Hit\n",
      "[1, 2, 7] Hit\n",
      "\n",
      "Hit: 6\n",
      "Miss/Fault: 6\n"
     ]
    }
   ],
   "source": [
    "string=[4,7,6,1,7,6,1,2,7,2, 7, 1]\n",
    "m=3\n",
    "pages=[]\n",
    "page_faults(string, m, pages)"
   ]
  },
  {
   "cell_type": "markdown",
   "id": "16a183ee",
   "metadata": {},
   "source": [
    "### Example - 4"
   ]
  },
  {
   "cell_type": "code",
   "execution_count": 5,
   "id": "d96424a0",
   "metadata": {},
   "outputs": [
    {
     "name": "stdout",
     "output_type": "stream",
     "text": [
      "[1] Miss\n",
      "[1, 3] Miss\n",
      "[1, 3, 0] Miss\n",
      "[1, 3, 0] Hit\n",
      "1 is replaced with 5\n",
      "[3, 0, 5] Miss\n",
      "3 is replaced with 6\n",
      "[0, 5, 6] Miss\n",
      "0 is replaced with 3\n",
      "[5, 6, 3] Miss\n",
      "\n",
      "Hit: 1\n",
      "Miss/Fault: 6\n"
     ]
    }
   ],
   "source": [
    "string=[1,3,0,3,5,6,3]\n",
    "m=3\n",
    "pages=[]\n",
    "page_faults(string, m, pages)"
   ]
  },
  {
   "cell_type": "markdown",
   "id": "bf5a083f",
   "metadata": {},
   "source": [
    "### Example - 5"
   ]
  },
  {
   "cell_type": "code",
   "execution_count": 6,
   "id": "6fdf3ae4",
   "metadata": {},
   "outputs": [
    {
     "name": "stdout",
     "output_type": "stream",
     "text": [
      "[6] Miss\n",
      "[6, 7] Miss\n",
      "[6, 7, 8] Miss\n",
      "6 is replaced with 9\n",
      "[7, 8, 9] Miss\n",
      "7 is replaced with 6\n",
      "[8, 9, 6] Miss\n",
      "8 is replaced with 7\n",
      "[9, 6, 7] Miss\n",
      "9 is replaced with 1\n",
      "[6, 7, 1] Miss\n",
      "[6, 7, 1] Hit\n",
      "[6, 7, 1] Hit\n",
      "6 is replaced with 8\n",
      "[7, 1, 8] Miss\n",
      "7 is replaced with 9\n",
      "[1, 8, 9] Miss\n",
      "[1, 8, 9] Hit\n",
      "\n",
      "Hit: 3\n",
      "Miss/Fault: 9\n"
     ]
    }
   ],
   "source": [
    "string=[6,7,8,9,6,7,1,6,7,8,9,1]\n",
    "m=3\n",
    "pages=[]\n",
    "page_faults(string, m, pages)"
   ]
  },
  {
   "cell_type": "markdown",
   "id": "f77f5349",
   "metadata": {},
   "source": [
    "### Example - 6"
   ]
  },
  {
   "cell_type": "code",
   "execution_count": 7,
   "id": "a2c804f7",
   "metadata": {},
   "outputs": [
    {
     "name": "stdout",
     "output_type": "stream",
     "text": [
      "[6] Miss\n",
      "[6, 7] Miss\n",
      "[6, 7, 8] Miss\n",
      "[6, 7, 8, 9] Miss\n",
      "[6, 7, 8, 9] Hit\n",
      "[6, 7, 8, 9] Hit\n",
      "6 is replaced with 1\n",
      "[7, 8, 9, 1] Miss\n",
      "7 is replaced with 6\n",
      "[8, 9, 1, 6] Miss\n",
      "8 is replaced with 7\n",
      "[9, 1, 6, 7] Miss\n",
      "9 is replaced with 8\n",
      "[1, 6, 7, 8] Miss\n",
      "1 is replaced with 9\n",
      "[6, 7, 8, 9] Miss\n",
      "6 is replaced with 1\n",
      "[7, 8, 9, 1] Miss\n",
      "\n",
      "Hit: 2\n",
      "Miss/Fault: 10\n"
     ]
    }
   ],
   "source": [
    "string=[6,7,8,9,6,7,1,6,7,8,9,1]\n",
    "m=4\n",
    "pages=[]\n",
    "page_faults(string, m, pages)"
   ]
  },
  {
   "cell_type": "markdown",
   "id": "63c78f80",
   "metadata": {},
   "source": [
    "### Example - 7"
   ]
  },
  {
   "cell_type": "code",
   "execution_count": 8,
   "id": "45e70a5b",
   "metadata": {},
   "outputs": [
    {
     "name": "stdout",
     "output_type": "stream",
     "text": [
      "[6] Miss\n",
      "[6, 7] Miss\n",
      "[6, 7, 8] Miss\n",
      "6 is replaced with 9\n",
      "[7, 8, 9] Miss\n",
      "7 is replaced with 6\n",
      "[8, 9, 6] Miss\n",
      "8 is replaced with 7\n",
      "[9, 6, 7] Miss\n",
      "9 is replaced with 1\n",
      "[6, 7, 1] Miss\n",
      "[6, 7, 1] Hit\n",
      "[6, 7, 1] Hit\n",
      "6 is replaced with 8\n",
      "[7, 1, 8] Miss\n",
      "7 is replaced with 9\n",
      "[1, 8, 9] Miss\n",
      "[1, 8, 9] Hit\n",
      "1 is replaced with 7\n",
      "[8, 9, 7] Miss\n",
      "[8, 9, 7] Hit\n",
      "8 is replaced with 6\n",
      "[9, 7, 6] Miss\n",
      "\n",
      "Hit: 4\n",
      "Miss/Fault: 11\n"
     ]
    }
   ],
   "source": [
    "string=[6,7,8,9,6,7,1,6,7,8,9,1,7,9,6]\n",
    "m=3\n",
    "pages=[]\n",
    "page_faults(string, m, pages)"
   ]
  },
  {
   "cell_type": "markdown",
   "id": "555e91d7",
   "metadata": {},
   "source": [
    "### Example - 8"
   ]
  },
  {
   "cell_type": "code",
   "execution_count": 9,
   "id": "6d9fb795",
   "metadata": {},
   "outputs": [
    {
     "name": "stdout",
     "output_type": "stream",
     "text": [
      "[5] Miss\n",
      "[5, 7] Miss\n",
      "[5, 7, 6] Miss\n",
      "5 is replaced with 0\n",
      "[7, 6, 0] Miss\n",
      "[7, 6, 0] Hit\n",
      "7 is replaced with 1\n",
      "[6, 0, 1] Miss\n",
      "6 is replaced with 7\n",
      "[0, 1, 7] Miss\n",
      "0 is replaced with 2\n",
      "[1, 7, 2] Miss\n",
      "1 is replaced with 0\n",
      "[7, 2, 0] Miss\n",
      "7 is replaced with 1\n",
      "[2, 0, 1] Miss\n",
      "2 is replaced with 7\n",
      "[0, 1, 7] Miss\n",
      "[0, 1, 7] Hit\n",
      "[0, 1, 7] Hit\n",
      "\n",
      "Hit: 3\n",
      "Miss/Fault: 10\n"
     ]
    }
   ],
   "source": [
    "string=[5,7,6,0,7,1,7,2,0,1,7,1,0]\n",
    "m=3\n",
    "pages=[]\n",
    "page_faults(string, m, pages)"
   ]
  },
  {
   "cell_type": "markdown",
   "id": "7aeae9e1",
   "metadata": {},
   "source": [
    "## .............................................. Hare Krishna Hare Krishna .............................................................. ...............................................Krishna Krishna Hare Hare ........................................................."
   ]
  },
  {
   "cell_type": "markdown",
   "id": "b3f93da9",
   "metadata": {},
   "source": [
    "# B) Least Rescently Used(LRU)"
   ]
  },
  {
   "cell_type": "code",
   "execution_count": 10,
   "id": "3961ff69",
   "metadata": {},
   "outputs": [],
   "source": [
    "def page_faults(string, m):\n",
    "    pages=[]\n",
    "    miss=hit=0\n",
    "    for data in string:\n",
    "        if(data in pages):\n",
    "            pages.remove(data)\n",
    "            pages.append(data)\n",
    "            hit+=1\n",
    "            print(pages, end=' ')\n",
    "            print(\"Hit\")\n",
    "        else:\n",
    "            if(len(pages)==m):\n",
    "                print(\"{} is replaced with {}\".format(pages[0], data))\n",
    "                pages.remove(pages[0])\n",
    "                \n",
    "            pages.append(data)\n",
    "            miss+=1\n",
    "            print(pages, end=' ')\n",
    "            print(\"Miss\")\n",
    "            \n",
    "    print(\"\\nHits: \", hit)\n",
    "    print(\"Miss: \", miss)"
   ]
  },
  {
   "cell_type": "code",
   "execution_count": null,
   "id": "41643152",
   "metadata": {},
   "outputs": [],
   "source": []
  },
  {
   "cell_type": "code",
   "execution_count": 11,
   "id": "c3f95faa",
   "metadata": {},
   "outputs": [
    {
     "name": "stdout",
     "output_type": "stream",
     "text": [
      "[5] Miss\n",
      "[5, 7] Miss\n",
      "[5, 7, 6] Miss\n",
      "5 is replaced with 0\n",
      "[7, 6, 0] Miss\n",
      "[6, 0, 7] Hit\n",
      "6 is replaced with 1\n",
      "[0, 7, 1] Miss\n",
      "[0, 1, 7] Hit\n",
      "0 is replaced with 2\n",
      "[1, 7, 2] Miss\n",
      "1 is replaced with 0\n",
      "[7, 2, 0] Miss\n",
      "7 is replaced with 1\n",
      "[2, 0, 1] Miss\n",
      "2 is replaced with 7\n",
      "[0, 1, 7] Miss\n",
      "[0, 7, 1] Hit\n",
      "[7, 1, 0] Hit\n",
      "\n",
      "Hits:  4\n",
      "Miss:  9\n"
     ]
    }
   ],
   "source": [
    "string=[5,7,6,0,7,1,7,2,0,1,7,1,0]\n",
    "m=3\n",
    "page_faults(string, m)"
   ]
  },
  {
   "cell_type": "markdown",
   "id": "e6d70f17",
   "metadata": {},
   "source": [
    "### Example - 1"
   ]
  },
  {
   "cell_type": "code",
   "execution_count": 12,
   "id": "42f8bee5",
   "metadata": {},
   "outputs": [
    {
     "name": "stdout",
     "output_type": "stream",
     "text": [
      "[0] Miss\n",
      "[0, 1] Miss\n",
      "[0, 1, 2] Miss\n",
      "0 is replaced with 3\n",
      "[1, 2, 3] Miss\n",
      "1 is replaced with 0\n",
      "[2, 3, 0] Miss\n",
      "2 is replaced with 1\n",
      "[3, 0, 1] Miss\n",
      "3 is replaced with 4\n",
      "[0, 1, 4] Miss\n",
      "[1, 4, 0] Hit\n",
      "[4, 0, 1] Hit\n",
      "4 is replaced with 2\n",
      "[0, 1, 2] Miss\n",
      "0 is replaced with 3\n",
      "[1, 2, 3] Miss\n",
      "1 is replaced with 4\n",
      "[2, 3, 4] Miss\n",
      "\n",
      "Hits:  2\n",
      "Miss:  10\n"
     ]
    }
   ],
   "source": [
    "string=[0,1,2,3,0,1,4,0,1,2,3,4]\n",
    "m=3\n",
    "page_faults(string, m)"
   ]
  },
  {
   "cell_type": "markdown",
   "id": "e9aac13a",
   "metadata": {},
   "source": [
    "### Example - 2"
   ]
  },
  {
   "cell_type": "code",
   "execution_count": 13,
   "id": "dd5ab58a",
   "metadata": {},
   "outputs": [
    {
     "name": "stdout",
     "output_type": "stream",
     "text": [
      "[3] Miss\n",
      "[3, 8] Miss\n",
      "[3, 8, 2] Miss\n",
      "[8, 2, 3] Hit\n",
      "[8, 2, 3, 9] Miss\n",
      "[8, 2, 3, 9, 1] Miss\n",
      "8 is replaced with 6\n",
      "[2, 3, 9, 1, 6] Miss\n",
      "[2, 9, 1, 6, 3] Hit\n",
      "2 is replaced with 8\n",
      "[9, 1, 6, 3, 8] Miss\n",
      "[1, 6, 3, 8, 9] Hit\n",
      "[1, 6, 8, 9, 3] Hit\n",
      "[1, 8, 9, 3, 6] Hit\n",
      "1 is replaced with 2\n",
      "[8, 9, 3, 6, 2] Miss\n",
      "8 is replaced with 1\n",
      "[9, 3, 6, 2, 1] Miss\n",
      "[9, 6, 2, 1, 3] Hit\n",
      "\n",
      "Hits:  6\n",
      "Miss:  9\n"
     ]
    }
   ],
   "source": [
    "string=[3,8,2,3,9,1,6,3,8,9,3,6,2,1,3]\n",
    "m=5\n",
    "page_faults(string, m)"
   ]
  },
  {
   "cell_type": "markdown",
   "id": "1064fdbb",
   "metadata": {},
   "source": [
    "### Example - 3"
   ]
  },
  {
   "cell_type": "code",
   "execution_count": 5,
   "id": "fa54a791",
   "metadata": {},
   "outputs": [
    {
     "name": "stdout",
     "output_type": "stream",
     "text": [
      "[3] Miss\n",
      "[3, 1] Miss\n",
      "[3, 1, 2] Miss\n",
      "[3, 2, 1] Hit\n",
      "3 is replaced with 6\n",
      "[2, 1, 6] Miss\n",
      "2 is replaced with 5\n",
      "[1, 6, 5] Miss\n",
      "[6, 5, 1] Hit\n",
      "6 is replaced with 3\n",
      "[5, 1, 3] Miss\n",
      "\n",
      "Hits:  2\n",
      "Miss:  6\n"
     ]
    }
   ],
   "source": [
    "string=[3,1,2,1,6,5,1,3]\n",
    "m=3\n",
    "pages=[]\n",
    "page_faults(string, m)"
   ]
  },
  {
   "cell_type": "code",
   "execution_count": null,
   "id": "f182941d",
   "metadata": {},
   "outputs": [],
   "source": []
  },
  {
   "cell_type": "code",
   "execution_count": null,
   "id": "bbffb324",
   "metadata": {},
   "outputs": [],
   "source": []
  }
 ],
 "metadata": {
  "kernelspec": {
   "display_name": "Python 3 (ipykernel)",
   "language": "python",
   "name": "python3"
  },
  "language_info": {
   "codemirror_mode": {
    "name": "ipython",
    "version": 3
   },
   "file_extension": ".py",
   "mimetype": "text/x-python",
   "name": "python",
   "nbconvert_exporter": "python",
   "pygments_lexer": "ipython3",
   "version": "3.9.13"
  }
 },
 "nbformat": 4,
 "nbformat_minor": 5
}
