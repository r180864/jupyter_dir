{
 "cells": [
  {
   "cell_type": "markdown",
   "id": "bffb1d40",
   "metadata": {},
   "source": [
    "## .............................................. Hare Krishna Hare Krishna .............................................................. ...............................................Krishna Krishna Hare Hare ........................................................."
   ]
  },
  {
   "cell_type": "markdown",
   "id": "67b7c9c1",
   "metadata": {},
   "source": [
    "# 1. Worst Fit"
   ]
  },
  {
   "cell_type": "code",
   "execution_count": 1,
   "id": "778c709c",
   "metadata": {},
   "outputs": [],
   "source": [
    "def worst_fit(block, processes):\n",
    "    allotted=[-1 for i in range(len(processes))]\n",
    "    old_block=block.copy()\n",
    "    print(\"P.No\\tProcess\\tBlock.No Block_Size Fragment\")\n",
    "    occupied=[False for i in range(len(block))]\n",
    "    for i in range(len(processes)):\n",
    "        ind=-1\n",
    "        for j in range(len(block)):\n",
    "            #print()\n",
    "            if(block[j]>=processes[i] and not occupied[j]):\n",
    "                if(ind==-1):\n",
    "                    ind=j\n",
    "                elif(block[j]>block[ind]):\n",
    "                    ind=j\n",
    "        if(ind!=-1):\n",
    "            allotted[i]=ind\n",
    "            block[ind]-=processes[i]\n",
    "        #print(block)\n",
    "    for i in range(len(processes)):\n",
    "        print(i+1, end='\\t')\n",
    "        print(processes[i], end='\\t')\n",
    "        if(allotted[i]==-1):\n",
    "            print(\"-------Not Allotted-------\", end='  ')\n",
    "        else:\n",
    "            print(allotted[i]+1, end='\\t  ')\n",
    "            print(old_block[allotted[i]], end=' \\t\\t')\n",
    "            print(old_block[allotted[i]]-processes[i])\n",
    "        "
   ]
  },
  {
   "cell_type": "markdown",
   "id": "0e7cc328",
   "metadata": {},
   "source": [
    "### Example - 1"
   ]
  },
  {
   "cell_type": "code",
   "execution_count": 2,
   "id": "7fd80317",
   "metadata": {},
   "outputs": [
    {
     "name": "stdout",
     "output_type": "stream",
     "text": [
      "Enter the Block sizes:100 500 200 300 600\n",
      "Enter the Process sizes:212 417 112 426\n",
      "P.No\tProcess\tBlock.No Block_Size Fragment\n",
      "1\t212\t5\t  600 \t\t388\n",
      "2\t417\t2\t  500 \t\t83\n",
      "3\t112\t5\t  600 \t\t488\n",
      "4\t426\t-------Not Allotted-------  "
     ]
    }
   ],
   "source": [
    "block=input('Enter the Block sizes:')\n",
    "processes=input('Enter the Process sizes:')\n",
    "block=block.split()\n",
    "processes=processes.split()\n",
    "for i in range(len(block)):\n",
    "    block[i]=int(block[i])\n",
    "for i in range(len(processes)):\n",
    "    processes[i]=int(processes[i])\n",
    "    \n",
    "worst_fit(block, processes)"
   ]
  },
  {
   "cell_type": "markdown",
   "id": "2159bfd7",
   "metadata": {},
   "source": [
    "### Example - 2"
   ]
  },
  {
   "cell_type": "code",
   "execution_count": 7,
   "id": "a92c392a",
   "metadata": {},
   "outputs": [
    {
     "name": "stdout",
     "output_type": "stream",
     "text": [
      "P.No\tProcess\tBlock.No Block_Size Fragment\n",
      "1\t212\t5\t  600 \t\t388\n",
      "2\t417\t2\t  500 \t\t83\n",
      "3\t112\t5\t  600 \t\t488\n",
      "4\t426\t-------Not Allotted-------  "
     ]
    }
   ],
   "source": [
    "block=[100,500,200,300,600]\n",
    "processes=[212,417,112,426] \n",
    "worst_fit(block, processes)"
   ]
  },
  {
   "cell_type": "markdown",
   "id": "f4777826",
   "metadata": {},
   "source": [
    "### Example - 3"
   ]
  },
  {
   "cell_type": "code",
   "execution_count": 8,
   "id": "b0dd4af2",
   "metadata": {},
   "outputs": [
    {
     "name": "stdout",
     "output_type": "stream",
     "text": [
      "P.No\tProcess\tBlock.No Block_Size Fragment\n",
      "1\t1\t5\t  7 \t\t6\n",
      "2\t3\t4\t  6 \t\t3\n",
      "3\t5\t5\t  7 \t\t2\n",
      "4\t3\t1\t  5 \t\t2\n"
     ]
    }
   ],
   "source": [
    "block=[5,4,3,6,7]\n",
    "processes=[1,3,5,3] \n",
    "worst_fit(block, processes)"
   ]
  },
  {
   "cell_type": "code",
   "execution_count": null,
   "id": "9d94cfb8",
   "metadata": {},
   "outputs": [],
   "source": []
  },
  {
   "cell_type": "markdown",
   "id": "87db7820",
   "metadata": {},
   "source": [
    "# 2. Best Fit"
   ]
  },
  {
   "cell_type": "code",
   "execution_count": 9,
   "id": "e70f611d",
   "metadata": {},
   "outputs": [],
   "source": [
    "def best_fit(block, processes):\n",
    "    allotted=[-1 for i in range(len(processes))]\n",
    "    old_block=block.copy()\n",
    "    print(\"P.No\\tProcess\\tBlock.No Block_Size Fragment\")\n",
    "    occupied=[False for i in range(len(block))]\n",
    "    for i in range(len(processes)):\n",
    "        ind=-1\n",
    "        for j in range(len(block)):\n",
    "            #print()\n",
    "            if(block[j]>=processes[i] and not occupied[j]):\n",
    "                if(ind==-1):\n",
    "                    ind=j\n",
    "                elif(block[j]<block[ind]):\n",
    "                    ind=j\n",
    "        if(ind!=-1):\n",
    "            allotted[i]=ind\n",
    "            block[ind]-=processes[i]\n",
    "        #print(block)\n",
    "    for i in range(len(processes)):\n",
    "        print(i+1, end='\\t')\n",
    "        print(processes[i], end='\\t')\n",
    "        if(allotted[i]==-1):\n",
    "            print(\"-------Not Allotted-------\", end='  ')\n",
    "        else:\n",
    "            print(allotted[i]+1, end='\\t  ')\n",
    "            print(old_block[allotted[i]], end=' \\t\\t')\n",
    "            print(old_block[allotted[i]]-processes[i])\n",
    "        "
   ]
  },
  {
   "cell_type": "markdown",
   "id": "d88a0efe",
   "metadata": {},
   "source": [
    "### Example - 1"
   ]
  },
  {
   "cell_type": "code",
   "execution_count": 10,
   "id": "fd23856a",
   "metadata": {},
   "outputs": [
    {
     "name": "stdout",
     "output_type": "stream",
     "text": [
      "P.No\tProcess\tBlock.No Block_Size Fragment\n",
      "1\t1\t5\t  3 \t\t2\n",
      "2\t4\t3\t  5 \t\t1\n",
      "3\t7\t4\t  9 \t\t2\n",
      "4\t12\t2\t  15 \t\t3\n"
     ]
    }
   ],
   "source": [
    "block=[10, 15, 5, 9, 3]\n",
    "processes=[1,4,7,12] \n",
    "best_fit(block, processes)"
   ]
  },
  {
   "cell_type": "code",
   "execution_count": null,
   "id": "8c3842b2",
   "metadata": {},
   "outputs": [],
   "source": []
  },
  {
   "cell_type": "markdown",
   "id": "caaf1053",
   "metadata": {},
   "source": [
    "# 3. First Fit"
   ]
  },
  {
   "cell_type": "code",
   "execution_count": 11,
   "id": "3d988550",
   "metadata": {},
   "outputs": [],
   "source": [
    "def first_fit(block, processes):\n",
    "    allotted=[-1 for i in range(len(processes))]\n",
    "    print(\"P.No\\tProcess\\tBlock.No Block_Size Fragment\")\n",
    "    old_block=block.copy()\n",
    "    occupied=[False for i in range(len(block))]\n",
    "    for i in range(len(processes)):\n",
    "        ind=-1\n",
    "        #print(processes[i])\n",
    "        for j in range(len(block)):\n",
    "            #print()\n",
    "            if(block[j]>=processes[i] and not occupied[j]):\n",
    "                allotted[i]=j\n",
    "                occupied[j]=True\n",
    "                break\n",
    "        #print(block)\n",
    "    for i in range(len(processes)):\n",
    "        print(i+1, end='\\t')\n",
    "        print(processes[i], end='\\t')\n",
    "        if(allotted[i]==-1):\n",
    "            print(\"-------Not Allotted-------\", end=' \\n')\n",
    "        else:\n",
    "            print(allotted[i]+1, end='\\t  ')\n",
    "            print(old_block[allotted[i]], end=' \\t\\t')\n",
    "            print(old_block[allotted[i]]-processes[i])\n",
    "        "
   ]
  },
  {
   "cell_type": "markdown",
   "id": "a8c2126a",
   "metadata": {},
   "source": [
    "### Example - 1"
   ]
  },
  {
   "cell_type": "code",
   "execution_count": 12,
   "id": "0e47731c",
   "metadata": {},
   "outputs": [
    {
     "name": "stdout",
     "output_type": "stream",
     "text": [
      "P.No\tProcess\tBlock.No Block_Size Fragment\n",
      "1\t20\t1\t  100 \t\t80\n",
      "2\t60\t4\t  120 \t\t60\n",
      "3\t70\t-------Not Allotted------- \n",
      "4\t40\t2\t  50 \t\t10\n"
     ]
    }
   ],
   "source": [
    "block=[100, 50, 30, 120, 35]\n",
    "processes=[20, 60, 70, 40] \n",
    "first_fit(block, processes)"
   ]
  },
  {
   "cell_type": "code",
   "execution_count": null,
   "id": "94725b84",
   "metadata": {},
   "outputs": [],
   "source": []
  },
  {
   "cell_type": "markdown",
   "id": "4d4b4c2b",
   "metadata": {},
   "source": [
    "## .............................................. Hare Krishna Hare Krishna .............................................................. ...............................................Krishna Krishna Hare Hare ........................................................."
   ]
  },
  {
   "cell_type": "code",
   "execution_count": null,
   "id": "33539bc6",
   "metadata": {},
   "outputs": [],
   "source": []
  }
 ],
 "metadata": {
  "kernelspec": {
   "display_name": "Python 3 (ipykernel)",
   "language": "python",
   "name": "python3"
  },
  "language_info": {
   "codemirror_mode": {
    "name": "ipython",
    "version": 3
   },
   "file_extension": ".py",
   "mimetype": "text/x-python",
   "name": "python",
   "nbconvert_exporter": "python",
   "pygments_lexer": "ipython3",
   "version": "3.9.13"
  }
 },
 "nbformat": 4,
 "nbformat_minor": 5
}
