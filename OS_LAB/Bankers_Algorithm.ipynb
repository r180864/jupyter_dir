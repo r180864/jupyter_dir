{
 "cells": [
  {
   "cell_type": "code",
   "execution_count": 2,
   "id": "d4dfaffb",
   "metadata": {},
   "outputs": [
    {
     "name": "stdout",
     "output_type": "stream",
     "text": [
      "[2, 1, 0]\n",
      "Safe\n",
      "[False, False, False]\n"
     ]
    }
   ],
   "source": [
    "n=3\n",
    "m=3\n",
    "alloc=[[1,1,2], [0,3,1], [1,0,2]]\n",
    "maxi=[[4,1,2], [1,5,1], [1,2,3]]\n",
    "avail=[4,5,5]\n",
    "\n",
    "need=[[0 for i in range(m)] for j in range(n)]\n",
    "for i in range(n):\n",
    "    for j in range(m):\n",
    "        avail[j]-=alloc[i][j]\n",
    "        need[i][j] = maxi[i][j] - alloc[i][j]\n",
    "        \n",
    "print(avail)\n",
    "ans=[-1]*n\n",
    "completed=[False for i in range(n)]\n",
    "for k in range(n):\n",
    "    for i in range(n):\n",
    "        flag=0\n",
    "        if(completed[i]==True):\n",
    "            break\n",
    "        for j in range(m):\n",
    "            if(need[i][j] > avail[j]):\n",
    "                flag=1\n",
    "                break\n",
    "        if(flag==0):\n",
    "            for j in range(m):\n",
    "                avail[j]+=alloc[i][j]\n",
    "            ans[k]=i\n",
    "            completed[i]=True\n",
    "            print(avail)\n",
    "if(completed[i]==True for i in range(n)):\n",
    "    print(\"Safe\")\n",
    "else:\n",
    "    print(\"Not Safe\")\n",
    "print(completed)"
   ]
  },
  {
   "cell_type": "code",
   "execution_count": 3,
   "id": "b5e4759d",
   "metadata": {},
   "outputs": [
    {
     "name": "stdout",
     "output_type": "stream",
     "text": [
      "[[1, 1, 2], [0, 3, 1], [1, 0, 2]]\n"
     ]
    }
   ],
   "source": [
    "print(alloc)"
   ]
  },
  {
   "cell_type": "code",
   "execution_count": 4,
   "id": "81adadd6",
   "metadata": {},
   "outputs": [
    {
     "name": "stdout",
     "output_type": "stream",
     "text": [
      "[2, 1, 0]\n"
     ]
    }
   ],
   "source": [
    "print(avail)"
   ]
  },
  {
   "cell_type": "code",
   "execution_count": 42,
   "id": "f9230423",
   "metadata": {},
   "outputs": [
    {
     "name": "stdout",
     "output_type": "stream",
     "text": [
      "[2, 0, -1]\n"
     ]
    }
   ],
   "source": [
    "print(ans)"
   ]
  },
  {
   "cell_type": "code",
   "execution_count": 44,
   "id": "54d424b3",
   "metadata": {},
   "outputs": [
    {
     "name": "stdout",
     "output_type": "stream",
     "text": [
      "[[3, 1, 0], [1, 2, 0], [0, 2, 1]]\n"
     ]
    }
   ],
   "source": [
    "print(need)"
   ]
  },
  {
   "cell_type": "code",
   "execution_count": null,
   "id": "441ebea7",
   "metadata": {},
   "outputs": [],
   "source": []
  }
 ],
 "metadata": {
  "kernelspec": {
   "display_name": "Python 3 (ipykernel)",
   "language": "python",
   "name": "python3"
  },
  "language_info": {
   "codemirror_mode": {
    "name": "ipython",
    "version": 3
   },
   "file_extension": ".py",
   "mimetype": "text/x-python",
   "name": "python",
   "nbconvert_exporter": "python",
   "pygments_lexer": "ipython3",
   "version": "3.9.13"
  }
 },
 "nbformat": 4,
 "nbformat_minor": 5
}
