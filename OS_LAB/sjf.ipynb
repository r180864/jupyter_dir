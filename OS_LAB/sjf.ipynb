{
 "cells": [
  {
   "cell_type": "markdown",
   "id": "b783defd",
   "metadata": {},
   "source": [
    "# Shortest Job First(SJF)"
   ]
  },
  {
   "cell_type": "code",
   "execution_count": 1,
   "id": "e171e325",
   "metadata": {},
   "outputs": [],
   "source": [
    "class Process:\n",
    "    def __init__(self, arrival_time, burst_time, process_count):\n",
    "        self.arrival_time=arrival_time\n",
    "        self.burst_time=burst_time\n",
    "        self.process_count=process_count\n",
    "        \n",
    "    def display(self):\n",
    "        print('P{}'.format(self.process_count), end=':  ')\n",
    "        print(self.arrival_time, end='   ')\n",
    "        print(self.burst_time, end='   ')\n",
    "        print(self.completion_time, end='   ')\n",
    "        print(self.turn_around_time, end='   ')\n",
    "        print(self.waiting_time)\n",
    "        "
   ]
  },
  {
   "cell_type": "code",
   "execution_count": 2,
   "id": "81800bbd",
   "metadata": {},
   "outputs": [],
   "source": [
    "class Node:\n",
    "    def __init__(self, process):\n",
    "        self.process=process\n",
    "        self.next=None"
   ]
  },
  {
   "cell_type": "code",
   "execution_count": 3,
   "id": "30cbc128",
   "metadata": {},
   "outputs": [],
   "source": [
    "class LinkedList:\n",
    "    def __init__(self):\n",
    "        self.head=None\n",
    "        \n",
    "    def add(self, node):\n",
    "        #print(node)\n",
    "        if(self.head==None):\n",
    "            self.head=node\n",
    "            return\n",
    "        ptr=self.head\n",
    "        while(ptr.next!=None):\n",
    "            ptr=ptr.next\n",
    "        ptr.next=node\n",
    "        \n",
    "    def delete(self):\n",
    "        delete=self.head\n",
    "        self.head=self.head.next\n",
    "        return delete.process\n",
    "    \n",
    "    def isempty(self):\n",
    "        if(self.head==None):\n",
    "            return True\n",
    "        return False\n",
    "    \n",
    "    def merge_sort(self, head):\n",
    "        if(head==None or head.next==None):\n",
    "            return head\n",
    "        \n",
    "        middle=self.get_middle(head)\n",
    "        next_to_middle=middle.next\n",
    "        \n",
    "        middle.next=None\n",
    "        \n",
    "        left=self.merge_sort(head)\n",
    "        right=self.merge_sort(next_to_middle)\n",
    "        \n",
    "        sorted_list=self.sorted_merge(left, right)\n",
    "        return sorted_list\n",
    "    \n",
    "    def get_middle(self, head):\n",
    "        if(head==None):\n",
    "            return head\n",
    "        \n",
    "        slow=head\n",
    "        fast=head.next\n",
    "        \n",
    "        while(fast!=None and fast.next!=None):\n",
    "            slow=slow.next\n",
    "            fast=fast.next.next\n",
    "            \n",
    "        return slow\n",
    "    \n",
    "    def sorted_merge(self, a, b):\n",
    "        tail=dummy=Node(None)\n",
    "        \n",
    "        while(a!=None and b!=None):\n",
    "            if(a.process.arrival_time<b.process.arrival_time):\n",
    "                tail.next=a\n",
    "                a=a.next\n",
    "            else:\n",
    "                tail.next=b\n",
    "                b=b.next\n",
    "            tail=tail.next\n",
    "        if(a!=None):\n",
    "            tail.next=a\n",
    "        if(b!=None):\n",
    "            tail.next=b\n",
    "            \n",
    "        return dummy.next"
   ]
  },
  {
   "cell_type": "code",
   "execution_count": 4,
   "id": "0e5d6491",
   "metadata": {},
   "outputs": [],
   "source": [
    "class CPU:\n",
    "    def __init__(self):\n",
    "        self.time=0\n",
    "        self.idle=0\n",
    "        \n",
    "        self.completion_time = self.turn_around_time = self.waiting_time = self.process_count = 0\n",
    "    \n",
    "    def run(self, process):\n",
    "        self.process_count+=1\n",
    "        if(self.time<process.arrival_time):\n",
    "            self.idle+=process.arrival_time-self.time\n",
    "            self.time=process.arrival_time\n",
    "            \n",
    "        self.time+=process.burst_time\n",
    "        #print(\"{} to {}\".format(self.time, process.burst_time))\n",
    "        \n",
    "        process.completion_time=self.time\n",
    "        process.turn_around_time=process.completion_time-process.arrival_time\n",
    "        process.waiting_time=process.turn_around_time-process.burst_time\n",
    "        \n",
    "        self.completion_time += process.completion_time\n",
    "        self.turn_around_time += process.turn_around_time\n",
    "        self.waiting_time += process.waiting_time\n",
    "        \n",
    "        #print(self.process_count)\n",
    "        process.display()\n",
    "        \n",
    "    def time_display(self):\n",
    "        print(\"Average Completion Time:\", self.completion_time/self.process_count)\n",
    "        print(\"Average Turn Around Time:\", self.turn_around_time/self.process_count)\n",
    "        print(\"Average Waiting Time:\", self.waiting_time/self.process_count)\n",
    "            \n",
    "                "
   ]
  },
  {
   "cell_type": "code",
   "execution_count": 12,
   "id": "4951b2ec",
   "metadata": {},
   "outputs": [],
   "source": [
    "class Queue:\n",
    "    def __init__(self):\n",
    "        self.list=LinkedList()\n",
    "    \n",
    "    def enqueue(self, process):\n",
    "        self.list.add(process)\n",
    "    \n",
    "    def dequeue(self):\n",
    "        return self.list.delete()\n",
    "    \n",
    "    def STS(self):\n",
    "        flag=0\n",
    "        if(self.list.head.next==None):\n",
    "            ptr=self.list.head\n",
    "            self.list.head=None\n",
    "            return ptr.process\n",
    "\n",
    "        remove=ptr=self.list.head\n",
    "        mini=ptr.process.burst_time\n",
    "        \n",
    "        while(ptr.next!=None):\n",
    "            if(ptr.next.process.burst_time==mini):\n",
    "                if(ptr.next.process.arrival_time<remove.process.arrival_time):\n",
    "                    remove=ptr\n",
    "                    flag=1\n",
    "                \n",
    "            if(ptr.next.process.burst_time<mini):\n",
    "                mini=ptr.next.process.burst_time\n",
    "                remove=ptr\n",
    "                flag=1\n",
    "            ptr=ptr.next\n",
    "        if(flag==0):\n",
    "            give=self.list.head\n",
    "            self.list.head=give.next\n",
    "        else:\n",
    "            give=remove.next\n",
    "            remove.next=remove.next.next\n",
    "        \n",
    "        return give.process\n",
    "    \n",
    "    def isempty(self):\n",
    "        return self.list.isempty()\n",
    "    \n",
    "    def dispatch(self, cpu):\n",
    "        print('Prs AT  BT  CT  TAT  WT RT')\n",
    "        while(not(self.isempty())):\n",
    "            process=self.STS()\n",
    "            cpu.run(process)"
   ]
  },
  {
   "cell_type": "code",
   "execution_count": 13,
   "id": "75b6a714",
   "metadata": {},
   "outputs": [
    {
     "name": "stdout",
     "output_type": "stream",
     "text": [
      "Enter no of processes:5\n",
      "\n",
      "Enter:\n",
      "P1 Arrival Time:3\n",
      "P1 Burst Time:4\n",
      "P2 Arrival Time:5\n",
      "P2 Burst Time:3\n",
      "P3 Arrival Time:0\n",
      "P3 Burst Time:2\n",
      "P4 Arrival Time:5\n",
      "P4 Burst Time:1\n",
      "P5 Arrival Time:4\n",
      "P5 Burst Time:3\n"
     ]
    }
   ],
   "source": [
    "n=int(input(\"Enter no of processes:\"))\n",
    "print(\"\\nEnter:\")\n",
    "c=CPU()\n",
    "ready=Queue()\n",
    "for i in range(1, n+1):\n",
    "    atime=int(input(\"P{} Arrival Time:\".format(i)))\n",
    "    btime=int(input(\"P{} Burst Time:\".format(i)))\n",
    "    p=Process(atime, btime, i)\n",
    "    ready.enqueue(Node(p))\n",
    "\n",
    "#ready.list.merge_sort(ready.list.head)\n",
    "#ready.list.display()\n",
    "#ready.dispatch(c)\n",
    "#print(\"\\nCpu Completion Time : {}\".format(c.time))\n",
    "#print(\"CPU Idle Time : {}\".format(c.idle))\n",
    "#c.time_display()"
   ]
  },
  {
   "cell_type": "code",
   "execution_count": 14,
   "id": "1593073b",
   "metadata": {},
   "outputs": [
    {
     "name": "stdout",
     "output_type": "stream",
     "text": [
      "Prs AT  BT  CT  TAT  WT RT\n",
      "P4:  5   1   6   1   0\n",
      "P3:  0   2   8   8   6\n",
      "P2:  5   3   11   6   3\n",
      "P5:  4   3   14   10   7\n",
      "P1:  3   4   18   15   11\n"
     ]
    }
   ],
   "source": [
    "ready.dispatch(c)"
   ]
  },
  {
   "cell_type": "code",
   "execution_count": 15,
   "id": "bf0d8730",
   "metadata": {},
   "outputs": [
    {
     "name": "stdout",
     "output_type": "stream",
     "text": [
      "\n",
      "Cpu Completion Time : 18\n"
     ]
    }
   ],
   "source": [
    "print(\"\\nCpu Completion Time : {}\".format(c.time))"
   ]
  },
  {
   "cell_type": "code",
   "execution_count": 16,
   "id": "d8c3bc03",
   "metadata": {},
   "outputs": [
    {
     "name": "stdout",
     "output_type": "stream",
     "text": [
      "CPU Idle Time : 5\n"
     ]
    }
   ],
   "source": [
    "print(\"CPU Idle Time : {}\".format(c.idle))"
   ]
  },
  {
   "cell_type": "code",
   "execution_count": 17,
   "id": "875f101e",
   "metadata": {},
   "outputs": [
    {
     "name": "stdout",
     "output_type": "stream",
     "text": [
      "Average Completion Time: 11.4\n",
      "Average Turn Around Time: 8.0\n",
      "Average Waiting Time: 5.4\n"
     ]
    }
   ],
   "source": [
    "c.time_display()"
   ]
  },
  {
   "cell_type": "markdown",
   "id": "52d666f8",
   "metadata": {},
   "source": [
    "#### "
   ]
  },
  {
   "cell_type": "code",
   "execution_count": null,
   "id": "2821e5c5",
   "metadata": {},
   "outputs": [],
   "source": []
  }
 ],
 "metadata": {
  "kernelspec": {
   "display_name": "Python 3 (ipykernel)",
   "language": "python",
   "name": "python3"
  },
  "language_info": {
   "codemirror_mode": {
    "name": "ipython",
    "version": 3
   },
   "file_extension": ".py",
   "mimetype": "text/x-python",
   "name": "python",
   "nbconvert_exporter": "python",
   "pygments_lexer": "ipython3",
   "version": "3.9.7"
  }
 },
 "nbformat": 4,
 "nbformat_minor": 5
}
