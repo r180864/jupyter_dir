{
 "cells": [
  {
   "cell_type": "markdown",
   "id": "70396194",
   "metadata": {},
   "source": [
    "# First Come First Serve(FCFS)"
   ]
  },
  {
   "cell_type": "code",
   "execution_count": 1,
   "id": "e171e325",
   "metadata": {},
   "outputs": [],
   "source": [
    "class Process:\n",
    "    def __init__(self, arrival_time, burst_time):\n",
    "        self.arrival_time=arrival_time\n",
    "        self.burst_time=burst_time\n",
    "        \n",
    "    def display(self, process_count):\n",
    "        print('P{}'.format(process_count), end=':  ')\n",
    "        print(self.arrival_time, end='   ')\n",
    "        print(self.burst_time, end='   ')\n",
    "        print(self.completion_time, end='   ')\n",
    "        print(self.turn_around_time, end='   ')\n",
    "        print(self.waiting_time)\n",
    "        "
   ]
  },
  {
   "cell_type": "code",
   "execution_count": 2,
   "id": "81800bbd",
   "metadata": {},
   "outputs": [],
   "source": [
    "class Node:\n",
    "    def __init__(self, process):\n",
    "        self.process=process\n",
    "        self.next=None"
   ]
  },
  {
   "cell_type": "code",
   "execution_count": 3,
   "id": "30cbc128",
   "metadata": {},
   "outputs": [],
   "source": [
    "class LinkedList:\n",
    "    def __init__(self):\n",
    "        self.head=None\n",
    "        \n",
    "    def add(self, node):\n",
    "        #print(node)\n",
    "        if(self.head==None):\n",
    "            self.head=node\n",
    "            return\n",
    "        ptr=self.head\n",
    "        while(ptr.next!=None):\n",
    "            ptr=ptr.next\n",
    "        ptr.next=node\n",
    "        \n",
    "    def delete(self):\n",
    "        delete=self.head\n",
    "        self.head=self.head.next\n",
    "        return delete.process\n",
    "    \n",
    "    def isempty(self):\n",
    "        if(self.head==None):\n",
    "            return True\n",
    "        return False"
   ]
  },
  {
   "cell_type": "code",
   "execution_count": 4,
   "id": "a8f3b90e",
   "metadata": {},
   "outputs": [],
   "source": [
    "class CPU:\n",
    "    def __init__(self):\n",
    "        self.time=0\n",
    "        self.idle=0\n",
    "        \n",
    "        self.completion_time = self.turn_around_time = self.waiting_time = self.process_count = 0\n",
    "    \n",
    "    def run(self, process):\n",
    "        self.process_count+=1\n",
    "        if(self.time<process.arrival_time):\n",
    "            self.idle+=process.arrival_time-self.time\n",
    "            self.time=process.arrival_time\n",
    "            \n",
    "        self.time+=process.burst_time\n",
    "        #print(\"{} to {}\".format(self.time, process.burst_time))\n",
    "        \n",
    "        process.completion_time=self.time\n",
    "        process.turn_around_time=process.completion_time-process.arrival_time\n",
    "        process.waiting_time=process.turn_around_time-process.burst_time\n",
    "        \n",
    "        self.completion_time += process.completion_time\n",
    "        self.turn_around_time += process.turn_around_time\n",
    "        self.waiting_time += process.waiting_time\n",
    "        \n",
    "        \n",
    "        process.display(self.process_count)\n",
    "        \n",
    "    def time_display(self):\n",
    "        print(\"Average Completion Time:\", self.completion_time/self.process_count)\n",
    "        print(\"Average Turn Around Time:\", self.turn_around_time/self.process_count)\n",
    "        print(\"Average Waiting Time:\", self.waiting_time/self.process_count)\n",
    "            \n",
    "                "
   ]
  },
  {
   "cell_type": "code",
   "execution_count": 5,
   "id": "4951b2ec",
   "metadata": {},
   "outputs": [],
   "source": [
    "class Queue:\n",
    "    def __init__(self):\n",
    "        self.list=LinkedList()\n",
    "    \n",
    "    def enqueue(self, process):\n",
    "        self.list.add(process)\n",
    "    \n",
    "    def dequeue(self):\n",
    "        return self.list.delete()\n",
    "    \n",
    "    def STS(self):\n",
    "        return self.dequeue()\n",
    "    \n",
    "    def isempty(self):\n",
    "        return self.list.isempty()\n",
    "    \n",
    "    def dispatch(self, cpu):\n",
    "        \n",
    "        while(not(self.isempty())):\n",
    "            process=self.STS()\n",
    "            cpu.run(process)\n",
    "        \n",
    "        "
   ]
  },
  {
   "cell_type": "code",
   "execution_count": 6,
   "id": "75b6a714",
   "metadata": {},
   "outputs": [
    {
     "name": "stdout",
     "output_type": "stream",
     "text": [
      "Enter no of processes:4\n",
      "\n",
      "Enter:\n",
      "P1 Arrival Time:5\n",
      "P1 Burst Time:3\n",
      "P2 Arrival Time:6\n",
      "P2 Burst Time:4\n",
      "P3 Arrival Time:0\n",
      "P3 Burst Time:2\n",
      "P4 Arrival Time:1\n",
      "P4 Burst Time:2\n",
      "P1:  5   3   8   3   0\n",
      "P2:  6   4   12   6   2\n",
      "P3:  0   2   14   14   12\n",
      "P4:  1   2   16   15   13\n",
      "\n",
      "Cpu Completion Time : 16\n",
      "CPU Idle Time : 5\n",
      "Average Completion Time: 12.5\n",
      "Average Turn Around Time: 9.5\n",
      "Average Waiting Time: 6.75\n"
     ]
    }
   ],
   "source": [
    "n=int(input(\"Enter no of processes:\"))\n",
    "print(\"\\nEnter:\")\n",
    "c=CPU()\n",
    "ready=Queue()\n",
    "for i in range(1, n+1):\n",
    "    atime=int(input(\"P{} Arrival Time:\".format(i)))\n",
    "    btime=int(input(\"P{} Burst Time:\".format(i)))\n",
    "    p=Process(atime, btime)\n",
    "    ready.enqueue(Node(p))\n",
    "\n",
    "ready.dispatch(c)\n",
    "print(\"\\nCpu Completion Time : {}\".format(c.time))\n",
    "print(\"CPU Idle Time : {}\".format(c.idle))\n",
    "c.time_display()"
   ]
  },
  {
   "cell_type": "markdown",
   "id": "52d666f8",
   "metadata": {},
   "source": [
    "##### "
   ]
  },
  {
   "cell_type": "code",
   "execution_count": 73,
   "id": "90c36c4b",
   "metadata": {},
   "outputs": [],
   "source": []
  },
  {
   "cell_type": "code",
   "execution_count": 74,
   "id": "127d720d",
   "metadata": {},
   "outputs": [],
   "source": []
  },
  {
   "cell_type": "code",
   "execution_count": null,
   "id": "1ac095f8",
   "metadata": {},
   "outputs": [],
   "source": []
  },
  {
   "cell_type": "code",
   "execution_count": null,
   "id": "e1020434",
   "metadata": {},
   "outputs": [],
   "source": []
  }
 ],
 "metadata": {
  "kernelspec": {
   "display_name": "Python 3 (ipykernel)",
   "language": "python",
   "name": "python3"
  },
  "language_info": {
   "codemirror_mode": {
    "name": "ipython",
    "version": 3
   },
   "file_extension": ".py",
   "mimetype": "text/x-python",
   "name": "python",
   "nbconvert_exporter": "python",
   "pygments_lexer": "ipython3",
   "version": "3.9.13"
  }
 },
 "nbformat": 4,
 "nbformat_minor": 5
}
