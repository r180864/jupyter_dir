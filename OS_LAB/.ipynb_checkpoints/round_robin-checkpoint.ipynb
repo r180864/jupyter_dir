{
 "cells": [
  {
   "cell_type": "markdown",
   "id": "b783defd",
   "metadata": {},
   "source": [
    "# Round Robin (RR) - File 1"
   ]
  },
  {
   "cell_type": "markdown",
   "id": "e5093422",
   "metadata": {},
   "source": [
    "## .............................................. Hare Krishna Hare Krishna .............................................................. ...............................................Krishna Krishna Hare Hare ........................................................."
   ]
  },
  {
   "cell_type": "code",
   "execution_count": 1,
   "id": "e171e325",
   "metadata": {},
   "outputs": [],
   "source": [
    "class Process:\n",
    "    def __init__(self, arrival_time, burst_time, process_count):\n",
    "        self.a_time=self.arrival_time=arrival_time\n",
    "        self.b_time=self.burst_time=burst_time\n",
    "        self.responce_time=-1\n",
    "        self.process_count=process_count\n",
    "        \n",
    "    def display(self):\n",
    "        print('P{}'.format(self.process_count), end=':  ')\n",
    "        print(self.a_time, end='   ')\n",
    "        print(self.b_time, end='   ')\n",
    "        print(self.completion_time, end='   ')\n",
    "        print(self.turn_around_time, end='   ')\n",
    "        print(self.waiting_time, end='   ')\n",
    "        print(self.responce_time)\n",
    "        "
   ]
  },
  {
   "cell_type": "code",
   "execution_count": 2,
   "id": "81800bbd",
   "metadata": {},
   "outputs": [],
   "source": [
    "class Node:\n",
    "    def __init__(self, process):\n",
    "        self.process=process\n",
    "        self.next=None"
   ]
  },
  {
   "cell_type": "code",
   "execution_count": 3,
   "id": "30cbc128",
   "metadata": {},
   "outputs": [],
   "source": [
    "class LinkedList:\n",
    "    def __init__(self):\n",
    "        self.head=self.tail=None\n",
    "        \n",
    "    def add(self, node):\n",
    "        if(self.head==None):\n",
    "            self.head=self.tail=node\n",
    "            return\n",
    "        self.tail.next=node\n",
    "        self.tail=self.tail.next\n",
    "    \n",
    "    def isempty(self):\n",
    "        if(self.head==None):\n",
    "            return True\n",
    "        return False\n",
    "    \n",
    "    def display(self):\n",
    "        ptr=self.head\n",
    "        while(ptr!=None):\n",
    "            print(ptr.process.arrival_time, ptr.process.burst_time)\n",
    "            ptr=ptr.next"
   ]
  },
  {
   "cell_type": "code",
   "execution_count": 4,
   "id": "0e5d6491",
   "metadata": {},
   "outputs": [],
   "source": [
    "class CPU:\n",
    "    def __init__(self):\n",
    "        self.time=0\n",
    "        self.idle=0\n",
    "        \n",
    "        self.completion_time = self.turn_around_time = self.waiting_time = self.process_count = self.responce_time = 0\n",
    "    \n",
    "    def run(self, process, time_quantum):\n",
    "        if(self.time<process.arrival_time):\n",
    "            self.idle+=process.arrival_time-self.time\n",
    "            self.time=process.arrival_time\n",
    "            \n",
    "        if(process.responce_time==-1):\n",
    "            self.process_count+=1\n",
    "            process.responce_time=self.time\n",
    "            \n",
    "        if(process.burst_time>=time_quantum):\n",
    "            self.time+=time_quantum\n",
    "            process.burst_time-=time_quantum\n",
    "        else:\n",
    "            self.time+=process.burst_time\n",
    "            process.burst_time=0\n",
    "           \n",
    "        process.arrival_time=self.time\n",
    "    \n",
    "        if(process.burst_time!=0):\n",
    "            return process\n",
    "        \n",
    "        process.completion_time=self.time\n",
    "        process.turn_around_time=process.completion_time-process.a_time\n",
    "        process.waiting_time=process.turn_around_time-process.b_time\n",
    "        \n",
    "        self.completion_time += process.completion_time\n",
    "        self.turn_around_time += process.turn_around_time\n",
    "        self.waiting_time += process.waiting_time\n",
    "        self.responce_time += process.responce_time\n",
    "        \n",
    "        process.display()\n",
    "        return None\n",
    "        \n",
    "    def time_display(self):\n",
    "        print(\"Average Completion Time:\", round(self.completion_time/self.process_count, 2))\n",
    "        print(\"Average Turn Around Time:\", round(self.turn_around_time/self.process_count, 2))\n",
    "        print(\"Average Waiting Time:\", round(self.waiting_time/self.process_count, 2))\n",
    "        print(\"Average Responce Time:\",round(self.responce_time/self.process_count, 2))\n",
    "                "
   ]
  },
  {
   "cell_type": "code",
   "execution_count": 5,
   "id": "4951b2ec",
   "metadata": {},
   "outputs": [],
   "source": [
    "class Queue:\n",
    "    def __init__(self):\n",
    "        self.list=LinkedList()\n",
    "    \n",
    "    def enqueue(self, process):\n",
    "        self.list.add(process)\n",
    "    \n",
    "    def dequeue(self):\n",
    "        return self.list.delete()\n",
    "    \n",
    "    def STS(self):\n",
    "        if(self.list.head.next==None):\n",
    "            remove=self.list.head\n",
    "            self.list.head=None\n",
    "            return remove.process\n",
    "        \n",
    "        remove=Node(None)\n",
    "        remove.next=self.list.head\n",
    "        ptr=remove\n",
    "        mini=999\n",
    "        \n",
    "        while(ptr.next!=None):\n",
    "            if(ptr.next.process.arrival_time<mini):\n",
    "                mini=ptr.next.process.arrival_time\n",
    "                remove=ptr\n",
    "            ptr=ptr.next\n",
    "        if(remove.next==self.list.head):\n",
    "            self.list.head=self.list.head.next\n",
    "            \n",
    "        process=remove.next.process\n",
    "        remove.next=remove.next.next\n",
    "        \n",
    "        return process\n",
    "    \n",
    "    def isempty(self):\n",
    "        return self.list.isempty()\n",
    "    \n",
    "    def dispatch(self, cpu, time_quantum):\n",
    "        print('Prs AT  BT  CT  TAT  WT  RT')\n",
    "        while(not(self.isempty())):\n",
    "            process=self.STS()\n",
    "            process=cpu.run(process, time_quantum)\n",
    "            if(process!=None):\n",
    "                self.enqueue(Node(process))\n",
    "            "
   ]
  },
  {
   "cell_type": "code",
   "execution_count": null,
   "id": "b259b5fe",
   "metadata": {},
   "outputs": [],
   "source": []
  },
  {
   "cell_type": "markdown",
   "id": "3aaac534",
   "metadata": {},
   "source": [
    "### Example - 1"
   ]
  },
  {
   "cell_type": "code",
   "execution_count": 6,
   "id": "2a8fc7c0",
   "metadata": {},
   "outputs": [
    {
     "name": "stdout",
     "output_type": "stream",
     "text": [
      "Enter no of processes:4\n",
      "\n",
      "Enter:\n",
      "P1 Arrival Time:0\n",
      "P1 Burst Time:5\n",
      "P2 Arrival Time:1\n",
      "P2 Burst Time:4\n",
      "P3 Arrival Time:2\n",
      "P3 Burst Time:2\n",
      "P4 Arrival Time:4\n",
      "P4 Burst Time:1\n",
      "\n",
      "Enter Time Quantum: 2\n"
     ]
    }
   ],
   "source": [
    "n=int(input(\"Enter no of processes:\"))\n",
    "print(\"\\nEnter:\")\n",
    "c=CPU()\n",
    "ready=Queue()\n",
    "for i in range(1, n+1):\n",
    "    atime=int(input(\"P{} Arrival Time:\".format(i)))\n",
    "    btime=int(input(\"P{} Burst Time:\".format(i)))\n",
    "    p=Process(atime, btime, i)\n",
    "    ready.enqueue(Node(p))\n",
    "time_quantum=int(input(\"\\nEnter Time Quantum: \"))"
   ]
  },
  {
   "cell_type": "code",
   "execution_count": 7,
   "id": "aeff6c49",
   "metadata": {},
   "outputs": [
    {
     "name": "stdout",
     "output_type": "stream",
     "text": [
      "Prs AT  BT  CT  TAT  WT  RT\n",
      "P3:  2   2   6   4   2   4\n",
      "P4:  4   1   9   5   4   8\n",
      "P2:  1   4   11   10   6   2\n",
      "P1:  0   5   12   12   7   0\n"
     ]
    }
   ],
   "source": [
    "ready.dispatch(c, time_quantum)"
   ]
  },
  {
   "cell_type": "code",
   "execution_count": 8,
   "id": "53210ed6",
   "metadata": {},
   "outputs": [
    {
     "name": "stdout",
     "output_type": "stream",
     "text": [
      "\n",
      "Cpu Completion Time : 12\n"
     ]
    }
   ],
   "source": [
    "print(\"\\nCpu Completion Time : {}\".format(c.time))"
   ]
  },
  {
   "cell_type": "code",
   "execution_count": 9,
   "id": "3f48f984",
   "metadata": {},
   "outputs": [
    {
     "name": "stdout",
     "output_type": "stream",
     "text": [
      "CPU Idle Time : 0\n"
     ]
    }
   ],
   "source": [
    "print(\"CPU Idle Time : {}\".format(c.idle))"
   ]
  },
  {
   "cell_type": "code",
   "execution_count": 10,
   "id": "43eceefe",
   "metadata": {},
   "outputs": [
    {
     "name": "stdout",
     "output_type": "stream",
     "text": [
      "Average Completion Time: 9.5\n",
      "Average Turn Around Time: 7.75\n",
      "Average Waiting Time: 4.75\n",
      "Average Responce Time: 3.5\n"
     ]
    }
   ],
   "source": [
    "c.time_display()"
   ]
  },
  {
   "cell_type": "code",
   "execution_count": null,
   "id": "dd68968d",
   "metadata": {},
   "outputs": [],
   "source": []
  },
  {
   "cell_type": "markdown",
   "id": "03755983",
   "metadata": {},
   "source": [
    "### Example - 2"
   ]
  },
  {
   "cell_type": "code",
   "execution_count": 11,
   "id": "ca06ee12",
   "metadata": {},
   "outputs": [],
   "source": [
    "atime=[0,1,2,4]\n",
    "btime=[5,4,2,1]\n",
    "n=4\n",
    "c=CPU()\n",
    "ready=Queue()\n",
    "for i in range(n):\n",
    "    p=Process(atime[i], btime[i], i+1)\n",
    "    ready.enqueue(Node(p))\n",
    "time_quantum=2"
   ]
  },
  {
   "cell_type": "code",
   "execution_count": 12,
   "id": "71b52eb9",
   "metadata": {},
   "outputs": [
    {
     "name": "stdout",
     "output_type": "stream",
     "text": [
      "Prs AT  BT  CT  TAT  WT  RT\n",
      "P3:  2   2   6   4   2   4\n",
      "P4:  4   1   9   5   4   8\n",
      "P2:  1   4   11   10   6   2\n",
      "P1:  0   5   12   12   7   0\n"
     ]
    }
   ],
   "source": [
    "ready.dispatch(c, time_quantum)"
   ]
  },
  {
   "cell_type": "code",
   "execution_count": 13,
   "id": "1c128e0d",
   "metadata": {},
   "outputs": [
    {
     "name": "stdout",
     "output_type": "stream",
     "text": [
      "\n",
      "Cpu Completion Time : 12\n"
     ]
    }
   ],
   "source": [
    "print(\"\\nCpu Completion Time : {}\".format(c.time))"
   ]
  },
  {
   "cell_type": "code",
   "execution_count": 14,
   "id": "388d830d",
   "metadata": {},
   "outputs": [
    {
     "name": "stdout",
     "output_type": "stream",
     "text": [
      "CPU Idle Time : 0\n"
     ]
    }
   ],
   "source": [
    "print(\"CPU Idle Time : {}\".format(c.idle))"
   ]
  },
  {
   "cell_type": "code",
   "execution_count": 15,
   "id": "b1173f41",
   "metadata": {},
   "outputs": [
    {
     "name": "stdout",
     "output_type": "stream",
     "text": [
      "Average Completion Time: 9.5\n",
      "Average Turn Around Time: 7.75\n",
      "Average Waiting Time: 4.75\n",
      "Average Responce Time: 3.5\n"
     ]
    }
   ],
   "source": [
    "c.time_display()"
   ]
  },
  {
   "cell_type": "code",
   "execution_count": null,
   "id": "afa1b364",
   "metadata": {},
   "outputs": [],
   "source": []
  },
  {
   "cell_type": "markdown",
   "id": "004d3432",
   "metadata": {},
   "source": [
    "### Example - 3"
   ]
  },
  {
   "cell_type": "code",
   "execution_count": 16,
   "id": "316c3310",
   "metadata": {},
   "outputs": [],
   "source": [
    "atime=[0,1,2,3,4]\n",
    "btime=[5,3,1,2,3]\n",
    "n=5\n",
    "c=CPU()\n",
    "ready=Queue()\n",
    "for i in range(n):\n",
    "    p=Process(atime[i], btime[i], i+1)\n",
    "    ready.enqueue(Node(p))\n",
    "time_quantum=2"
   ]
  },
  {
   "cell_type": "code",
   "execution_count": 17,
   "id": "4dd1b970",
   "metadata": {},
   "outputs": [
    {
     "name": "stdout",
     "output_type": "stream",
     "text": [
      "Prs AT  BT  CT  TAT  WT  RT\n",
      "P3:  2   1   5   3   2   4\n",
      "P4:  3   2   9   6   4   7\n",
      "P2:  1   3   12   11   8   2\n",
      "P1:  0   5   13   13   8   0\n",
      "P5:  4   3   14   10   7   9\n"
     ]
    }
   ],
   "source": [
    "ready.dispatch(c, time_quantum)"
   ]
  },
  {
   "cell_type": "code",
   "execution_count": 18,
   "id": "6fd5c6e2",
   "metadata": {},
   "outputs": [
    {
     "name": "stdout",
     "output_type": "stream",
     "text": [
      "\n",
      "Cpu Completion Time : 14\n"
     ]
    }
   ],
   "source": [
    "print(\"\\nCpu Completion Time : {}\".format(c.time))"
   ]
  },
  {
   "cell_type": "code",
   "execution_count": 19,
   "id": "e3a9db78",
   "metadata": {},
   "outputs": [
    {
     "name": "stdout",
     "output_type": "stream",
     "text": [
      "CPU Idle Time : 0\n"
     ]
    }
   ],
   "source": [
    "print(\"CPU Idle Time : {}\".format(c.idle))"
   ]
  },
  {
   "cell_type": "code",
   "execution_count": 20,
   "id": "c9b831c8",
   "metadata": {},
   "outputs": [
    {
     "name": "stdout",
     "output_type": "stream",
     "text": [
      "Average Completion Time: 10.6\n",
      "Average Turn Around Time: 8.6\n",
      "Average Waiting Time: 5.8\n",
      "Average Responce Time: 4.4\n"
     ]
    }
   ],
   "source": [
    "c.time_display()"
   ]
  },
  {
   "cell_type": "code",
   "execution_count": null,
   "id": "dae06317",
   "metadata": {},
   "outputs": [],
   "source": []
  },
  {
   "cell_type": "markdown",
   "id": "27baeb55",
   "metadata": {},
   "source": [
    "### Example - 4"
   ]
  },
  {
   "cell_type": "code",
   "execution_count": 21,
   "id": "3d6229d8",
   "metadata": {},
   "outputs": [],
   "source": [
    "atime=[0,1,2,3,4,6]\n",
    "btime=[4,5,2,1,6,3]\n",
    "n=6\n",
    "c=CPU()\n",
    "ready=Queue()\n",
    "for i in range(n):\n",
    "    p=Process(atime[i], btime[i], i+1)\n",
    "    ready.enqueue(Node(p))\n",
    "time_quantum=2"
   ]
  },
  {
   "cell_type": "code",
   "execution_count": 22,
   "id": "ddb2ee81",
   "metadata": {},
   "outputs": [
    {
     "name": "stdout",
     "output_type": "stream",
     "text": [
      "Prs AT  BT  CT  TAT  WT  RT\n",
      "P3:  2   2   6   4   2   4\n",
      "P1:  0   4   8   8   4   0\n",
      "P4:  3   1   9   6   5   8\n",
      "P2:  1   5   18   17   12   2\n",
      "P6:  6   3   19   13   10   13\n",
      "P5:  4   6   21   17   11   9\n"
     ]
    }
   ],
   "source": [
    "ready.dispatch(c, time_quantum)"
   ]
  },
  {
   "cell_type": "code",
   "execution_count": 23,
   "id": "43145378",
   "metadata": {},
   "outputs": [
    {
     "name": "stdout",
     "output_type": "stream",
     "text": [
      "\n",
      "Cpu Completion Time : 21\n"
     ]
    }
   ],
   "source": [
    "print(\"\\nCpu Completion Time : {}\".format(c.time))"
   ]
  },
  {
   "cell_type": "code",
   "execution_count": 24,
   "id": "1388d589",
   "metadata": {},
   "outputs": [
    {
     "name": "stdout",
     "output_type": "stream",
     "text": [
      "CPU Idle Time : 0\n"
     ]
    }
   ],
   "source": [
    "print(\"CPU Idle Time : {}\".format(c.idle))"
   ]
  },
  {
   "cell_type": "code",
   "execution_count": 25,
   "id": "fec9be66",
   "metadata": {},
   "outputs": [
    {
     "name": "stdout",
     "output_type": "stream",
     "text": [
      "Average Completion Time: 13.5\n",
      "Average Turn Around Time: 10.83\n",
      "Average Waiting Time: 7.33\n",
      "Average Responce Time: 6.0\n"
     ]
    }
   ],
   "source": [
    "c.time_display()"
   ]
  },
  {
   "cell_type": "code",
   "execution_count": null,
   "id": "e4b813c7",
   "metadata": {},
   "outputs": [],
   "source": []
  },
  {
   "cell_type": "markdown",
   "id": "a11ad131",
   "metadata": {},
   "source": [
    "### Example - 5"
   ]
  },
  {
   "cell_type": "code",
   "execution_count": 26,
   "id": "53546319",
   "metadata": {},
   "outputs": [],
   "source": [
    "atime=[5,4,3,1,2,6]\n",
    "btime=[5,6,7,9,2,3]\n",
    "n=6\n",
    "c=CPU()\n",
    "ready=Queue()\n",
    "for i in range(n):\n",
    "    p=Process(atime[i], btime[i], i+1)\n",
    "    ready.enqueue(Node(p))\n",
    "time_quantum=3"
   ]
  },
  {
   "cell_type": "code",
   "execution_count": 27,
   "id": "b7011087",
   "metadata": {},
   "outputs": [
    {
     "name": "stdout",
     "output_type": "stream",
     "text": [
      "Prs AT  BT  CT  TAT  WT  RT\n",
      "P5:  2   2   6   4   2   4\n",
      "P6:  6   3   21   15   12   18\n",
      "P2:  4   6   27   23   17   9\n",
      "P4:  1   9   30   29   20   1\n",
      "P1:  5   5   32   27   22   15\n",
      "P3:  3   7   33   30   23   6\n"
     ]
    }
   ],
   "source": [
    "ready.dispatch(c, time_quantum)"
   ]
  },
  {
   "cell_type": "code",
   "execution_count": 28,
   "id": "90ef9771",
   "metadata": {},
   "outputs": [
    {
     "name": "stdout",
     "output_type": "stream",
     "text": [
      "\n",
      "Cpu Completion Time : 33\n"
     ]
    }
   ],
   "source": [
    "print(\"\\nCpu Completion Time : {}\".format(c.time))"
   ]
  },
  {
   "cell_type": "code",
   "execution_count": 29,
   "id": "e631c08a",
   "metadata": {},
   "outputs": [
    {
     "name": "stdout",
     "output_type": "stream",
     "text": [
      "CPU Idle Time : 1\n"
     ]
    }
   ],
   "source": [
    "print(\"CPU Idle Time : {}\".format(c.idle))"
   ]
  },
  {
   "cell_type": "code",
   "execution_count": 30,
   "id": "1e9e4e43",
   "metadata": {},
   "outputs": [
    {
     "name": "stdout",
     "output_type": "stream",
     "text": [
      "Average Completion Time: 24.83\n",
      "Average Turn Around Time: 21.33\n",
      "Average Waiting Time: 16.0\n",
      "Average Responce Time: 8.83\n"
     ]
    }
   ],
   "source": [
    "c.time_display()"
   ]
  },
  {
   "cell_type": "code",
   "execution_count": null,
   "id": "64d3d180",
   "metadata": {},
   "outputs": [],
   "source": []
  },
  {
   "cell_type": "markdown",
   "id": "d9fa2d18",
   "metadata": {},
   "source": [
    "### Example - 6"
   ]
  },
  {
   "cell_type": "code",
   "execution_count": 31,
   "id": "5079b304",
   "metadata": {},
   "outputs": [],
   "source": [
    "atime=[0,0,0,0]\n",
    "btime=[4,1,8,1]\n",
    "n=4\n",
    "c=CPU()\n",
    "ready=Queue()\n",
    "for i in range(n):\n",
    "    p=Process(atime[i], btime[i], i+1)\n",
    "    ready.enqueue(Node(p))\n",
    "time_quantum=1"
   ]
  },
  {
   "cell_type": "code",
   "execution_count": 32,
   "id": "878c993d",
   "metadata": {},
   "outputs": [
    {
     "name": "stdout",
     "output_type": "stream",
     "text": [
      "Prs AT  BT  CT  TAT  WT  RT\n",
      "P2:  0   1   2   2   1   1\n",
      "P4:  0   1   4   4   3   3\n",
      "P1:  0   4   9   9   5   0\n",
      "P3:  0   8   14   14   6   2\n"
     ]
    }
   ],
   "source": [
    "ready.dispatch(c, time_quantum)"
   ]
  },
  {
   "cell_type": "code",
   "execution_count": 33,
   "id": "0b456e66",
   "metadata": {},
   "outputs": [
    {
     "name": "stdout",
     "output_type": "stream",
     "text": [
      "\n",
      "Cpu Completion Time : 14\n"
     ]
    }
   ],
   "source": [
    "print(\"\\nCpu Completion Time : {}\".format(c.time))"
   ]
  },
  {
   "cell_type": "code",
   "execution_count": 34,
   "id": "3a485283",
   "metadata": {},
   "outputs": [
    {
     "name": "stdout",
     "output_type": "stream",
     "text": [
      "CPU Idle Time : 0\n"
     ]
    }
   ],
   "source": [
    "print(\"CPU Idle Time : {}\".format(c.idle))"
   ]
  },
  {
   "cell_type": "code",
   "execution_count": 35,
   "id": "4d9e13c1",
   "metadata": {},
   "outputs": [
    {
     "name": "stdout",
     "output_type": "stream",
     "text": [
      "Average Completion Time: 7.25\n",
      "Average Turn Around Time: 7.25\n",
      "Average Waiting Time: 3.75\n",
      "Average Responce Time: 1.5\n"
     ]
    }
   ],
   "source": [
    "c.time_display()"
   ]
  },
  {
   "cell_type": "code",
   "execution_count": null,
   "id": "baf6409b",
   "metadata": {},
   "outputs": [],
   "source": []
  },
  {
   "cell_type": "markdown",
   "id": "8fd8d088",
   "metadata": {},
   "source": [
    "## .............................................. Hare Rama Hare Rama .............................................................. ...............................................Rama Rama Hare Hare ........................................................."
   ]
  }
 ],
 "metadata": {
  "kernelspec": {
   "display_name": "Python 3 (ipykernel)",
   "language": "python",
   "name": "python3"
  },
  "language_info": {
   "codemirror_mode": {
    "name": "ipython",
    "version": 3
   },
   "file_extension": ".py",
   "mimetype": "text/x-python",
   "name": "python",
   "nbconvert_exporter": "python",
   "pygments_lexer": "ipython3",
   "version": "3.9.13"
  }
 },
 "nbformat": 4,
 "nbformat_minor": 5
}
