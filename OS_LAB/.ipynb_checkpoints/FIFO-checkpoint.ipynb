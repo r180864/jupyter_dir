{
 "cells": [
  {
   "cell_type": "code",
   "execution_count": 206,
   "id": "5bc1bc80",
   "metadata": {},
   "outputs": [],
   "source": [
    "class Queue:\n",
    "    def __init__(self, size):\n",
    "        self.front=self.rear=0\n",
    "        self.queue=[None for i in range(m)]\n",
    "        self.size=m\n",
    "        self.count=0\n",
    "    \n",
    "    def enqueue(self, data):\n",
    "        if(self.size==self.count):\n",
    "            print(\"Count{}\\tSize{}\".format(self.count, self.count))\n",
    "            data=self.dequeue()\n",
    "            print(self.front)\n",
    "            self.display()\n",
    "            print('------------------>', data)\n",
    "        self.queue[self.rear]=data\n",
    "        self.rear=(self.rear+1)%self.size\n",
    "        self.count+=1\n",
    "        \n",
    "    def dequeue(self):\n",
    "        data=self.queue[self.front]\n",
    "        self.front=(self.front+1)%self.size\n",
    "        #self.hit+=1\n",
    "        self.count-=1\n",
    "        return data\n",
    "    \n",
    "    def is_in(self, data):\n",
    "        if(data in self.queue):\n",
    "            return True\n",
    "        return False\n",
    "    \n",
    "    def display(self):\n",
    "        print(self.queue)"
   ]
  },
  {
   "cell_type": "code",
   "execution_count": 1,
   "id": "7e0b79e4",
   "metadata": {},
   "outputs": [],
   "source": []
  },
  {
   "cell_type": "code",
   "execution_count": 34,
   "id": "d97ea9fc",
   "metadata": {},
   "outputs": [],
   "source": [
    "class Node:\n",
    "    def __init__(self, data):\n",
    "        self.data=data\n",
    "        self.next=None"
   ]
  },
  {
   "cell_type": "code",
   "execution_count": 35,
   "id": "794a5833",
   "metadata": {},
   "outputs": [],
   "source": [
    "class LinkedList:\n",
    "    def __init__(self):\n",
    "        self.head=None\n",
    "    def insert(self, data):\n",
    "        d=Node(data)\n",
    "        if(self.head==None):\n",
    "            self.head=d\n",
    "            return\n",
    "        ptr=self.head\n",
    "        while(ptr.next!=None):\n",
    "            ptr=ptr.next\n",
    "        ptr.next=d\n",
    "        \n",
    "    def delete_at_beginning(self):\n",
    "        if(self.head==None):\n",
    "            return\n",
    "        remove=self.head\n",
    "        self.head=self.head.next\n",
    "        \n",
    "        return remove.data\n",
    "    \n",
    "    def is_in(self, data):\n",
    "        ptr=self.head\n",
    "        while(ptr!=None):\n",
    "            if(ptr.data==data):\n",
    "                #print(data, \"-----------------FOUND\")\n",
    "                return True\n",
    "            ptr=ptr.next\n",
    "        #print(data, \"-----------------NOT FOUND\")\n",
    "        return False\n",
    "    \n",
    "    def display(self):\n",
    "        ptr=self.head\n",
    "        while(ptr!=None):\n",
    "            print(ptr.data, end=' ')\n",
    "            ptr=ptr.next\n",
    "        print('\\n')"
   ]
  },
  {
   "cell_type": "code",
   "execution_count": 36,
   "id": "e3731441",
   "metadata": {},
   "outputs": [],
   "source": [
    "class Queue:\n",
    "    def __init__(self, size):\n",
    "        self.list=LinkedList()\n",
    "        self.size=size\n",
    "        self.count=0\n",
    "    \n",
    "    def enqueue(self, data):\n",
    "        if(self.size==self.count):\n",
    "            item=self.dequeue()\n",
    "            #print(\"SIZE: {}\\tCOUNT: {}\".format(self.size, self.count))\n",
    "            print(\"{} replaced with {}\".format(item, data))\n",
    "        self.list.insert(data)\n",
    "        #print(\"Inserted---------------------------------------------------\", data)\n",
    "        self.count+=1\n",
    "        \n",
    "    def dequeue(self):\n",
    "        data=self.list.delete_at_beginning()\n",
    "        self.count-=1\n",
    "        return data\n",
    "    \n",
    "    def is_in(self, data):\n",
    "        return self.list.is_in(data)\n",
    "        \n",
    "    def display(self):\n",
    "        self.list.display()\n",
    "        #print(self.size, self.count)"
   ]
  },
  {
   "cell_type": "code",
   "execution_count": 39,
   "id": "8db91208",
   "metadata": {},
   "outputs": [],
   "source": [
    "def page_replace_alg(pages, m):\n",
    "    hit=0\n",
    "    miss=0\n",
    "    n=len(pages)\n",
    "    for i in range(n):\n",
    "        if(queue.is_in(pages[i])):\n",
    "            hit+=1\n",
    "            print(\"HIT\")\n",
    "            queue.display()\n",
    "        else:\n",
    "            queue.enqueue(pages[i])\n",
    "            miss+=1\n",
    "            print(\"MISS\")\n",
    "            queue.display()\n",
    "    print(\"Hit:\", hit)\n",
    "    print(\"Miss/Fault:\", miss)"
   ]
  },
  {
   "cell_type": "code",
   "execution_count": 40,
   "id": "ef3558f8",
   "metadata": {},
   "outputs": [
    {
     "name": "stdout",
     "output_type": "stream",
     "text": [
      "1 -----------------NOT FOUND\n",
      "SIZE: 3\tCOUNT: 2\n",
      "DELETED>>>>>>> 5\n",
      "Inserted--------------------------------------------------- 1\n",
      "MISS\n",
      "6 3 1 \n",
      "\n",
      "3 -----------------FOUND\n",
      "HIT\n",
      "6 3 1 \n",
      "\n",
      "0 -----------------NOT FOUND\n",
      "SIZE: 3\tCOUNT: 2\n",
      "DELETED>>>>>>> 6\n",
      "Inserted--------------------------------------------------- 0\n",
      "MISS\n",
      "3 1 0 \n",
      "\n",
      "3 -----------------FOUND\n",
      "HIT\n",
      "3 1 0 \n",
      "\n",
      "5 -----------------NOT FOUND\n",
      "SIZE: 3\tCOUNT: 2\n",
      "DELETED>>>>>>> 3\n",
      "Inserted--------------------------------------------------- 5\n",
      "MISS\n",
      "1 0 5 \n",
      "\n",
      "6 -----------------NOT FOUND\n",
      "SIZE: 3\tCOUNT: 2\n",
      "DELETED>>>>>>> 1\n",
      "Inserted--------------------------------------------------- 6\n",
      "MISS\n",
      "0 5 6 \n",
      "\n",
      "3 -----------------NOT FOUND\n",
      "SIZE: 3\tCOUNT: 2\n",
      "DELETED>>>>>>> 0\n",
      "Inserted--------------------------------------------------- 3\n",
      "MISS\n",
      "5 6 3 \n",
      "\n",
      "Hit: 2\n",
      "Miss/Fault: 5\n"
     ]
    }
   ],
   "source": [
    "pages=[1,3,0,3,5,6,3]\n",
    "m=3\n",
    "page_replace_alg(pages, m)"
   ]
  },
  {
   "cell_type": "code",
   "execution_count": 9,
   "id": "6c962d32",
   "metadata": {},
   "outputs": [],
   "source": [
    "pages=[4,7,6,1,7,6,1,2,7,2]\n",
    "m=3"
   ]
  },
  {
   "cell_type": "code",
   "execution_count": 363,
   "id": "8dd79442",
   "metadata": {},
   "outputs": [],
   "source": [
    "pages=[4,7,6,1,7,6,1,2,7,2, 7, 1]\n",
    "m=3"
   ]
  },
  {
   "cell_type": "code",
   "execution_count": 14,
   "id": "fd86f508",
   "metadata": {},
   "outputs": [],
   "source": [
    "pages=[1,3,0,3,5,6,3]\n",
    "m=3"
   ]
  },
  {
   "cell_type": "code",
   "execution_count": 15,
   "id": "90e0eadf",
   "metadata": {},
   "outputs": [],
   "source": [
    "queue=Queue(m)"
   ]
  },
  {
   "cell_type": "code",
   "execution_count": 21,
   "id": "1dba410f",
   "metadata": {},
   "outputs": [
    {
     "name": "stdout",
     "output_type": "stream",
     "text": [
      "Hit: 1\n"
     ]
    }
   ],
   "source": []
  },
  {
   "cell_type": "code",
   "execution_count": 22,
   "id": "78bb360e",
   "metadata": {},
   "outputs": [
    {
     "name": "stdout",
     "output_type": "stream",
     "text": [
      "Miss/Fault: 6\n"
     ]
    }
   ],
   "source": []
  },
  {
   "cell_type": "code",
   "execution_count": null,
   "id": "f36f68ed",
   "metadata": {},
   "outputs": [],
   "source": []
  }
 ],
 "metadata": {
  "kernelspec": {
   "display_name": "Python 3 (ipykernel)",
   "language": "python",
   "name": "python3"
  },
  "language_info": {
   "codemirror_mode": {
    "name": "ipython",
    "version": 3
   },
   "file_extension": ".py",
   "mimetype": "text/x-python",
   "name": "python",
   "nbconvert_exporter": "python",
   "pygments_lexer": "ipython3",
   "version": "3.9.13"
  }
 },
 "nbformat": 4,
 "nbformat_minor": 5
}
