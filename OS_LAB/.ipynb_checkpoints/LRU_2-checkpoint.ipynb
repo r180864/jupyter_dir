{
 "cells": [
  {
   "cell_type": "markdown",
   "id": "096246bc",
   "metadata": {},
   "source": [
    "# Least Rescently Used(LRU)"
   ]
  },
  {
   "cell_type": "markdown",
   "id": "79f4f40f",
   "metadata": {},
   "source": [
    "## Method - 1"
   ]
  },
  {
   "cell_type": "code",
   "execution_count": 2,
   "id": "b38a07d9",
   "metadata": {},
   "outputs": [],
   "source": [
    "def page_faults(string, m):\n",
    "    pages=[]\n",
    "    miss=hit=0\n",
    "    for data in string:\n",
    "        if(data in pages):\n",
    "            pages.remove(data)\n",
    "            pages.append(data)\n",
    "            hit+=1\n",
    "            print(pages, end=' ')\n",
    "            print(\"Hit\")\n",
    "        else:\n",
    "            if(len(pages)==m):\n",
    "                print(\"{} is replaced with {}\".format(pages[0], data))\n",
    "                pages.remove(pages[0])\n",
    "                \n",
    "            pages.append(data)\n",
    "            miss+=1\n",
    "            print(pages, end=' ')\n",
    "            print(\"Miss\")\n",
    "            \n",
    "    print(\"\\nHits: \", hit)\n",
    "    print(\"Miss: \", miss)"
   ]
  },
  {
   "cell_type": "markdown",
   "id": "91961ca6",
   "metadata": {},
   "source": [
    "### Example - 1"
   ]
  },
  {
   "cell_type": "code",
   "execution_count": 3,
   "id": "a95beec4",
   "metadata": {},
   "outputs": [
    {
     "name": "stdout",
     "output_type": "stream",
     "text": [
      "[5] Miss\n",
      "[5, 7] Miss\n",
      "[5, 7, 6] Miss\n",
      "5 is replaced with 0\n",
      "[7, 6, 0] Miss\n",
      "[6, 0, 7] Hit\n",
      "6 is replaced with 1\n",
      "[0, 7, 1] Miss\n",
      "[0, 1, 7] Hit\n",
      "0 is replaced with 2\n",
      "[1, 7, 2] Miss\n",
      "1 is replaced with 0\n",
      "[7, 2, 0] Miss\n",
      "7 is replaced with 1\n",
      "[2, 0, 1] Miss\n",
      "2 is replaced with 7\n",
      "[0, 1, 7] Miss\n",
      "[0, 7, 1] Hit\n",
      "[7, 1, 0] Hit\n",
      "\n",
      "Hits:  4\n",
      "Miss:  9\n"
     ]
    }
   ],
   "source": [
    "string=[5,7,6,0,7,1,7,2,0,1,7,1,0]\n",
    "m=3\n",
    "page_faults(string, m)"
   ]
  },
  {
   "cell_type": "markdown",
   "id": "08b66193",
   "metadata": {},
   "source": [
    "### Example - 2"
   ]
  },
  {
   "cell_type": "code",
   "execution_count": 4,
   "id": "7d031d36",
   "metadata": {},
   "outputs": [
    {
     "name": "stdout",
     "output_type": "stream",
     "text": [
      "[0] Miss\n",
      "[0, 1] Miss\n",
      "[0, 1, 2] Miss\n",
      "0 is replaced with 3\n",
      "[1, 2, 3] Miss\n",
      "1 is replaced with 0\n",
      "[2, 3, 0] Miss\n",
      "2 is replaced with 1\n",
      "[3, 0, 1] Miss\n",
      "3 is replaced with 4\n",
      "[0, 1, 4] Miss\n",
      "[1, 4, 0] Hit\n",
      "[4, 0, 1] Hit\n",
      "4 is replaced with 2\n",
      "[0, 1, 2] Miss\n",
      "0 is replaced with 3\n",
      "[1, 2, 3] Miss\n",
      "1 is replaced with 4\n",
      "[2, 3, 4] Miss\n",
      "\n",
      "Hits:  2\n",
      "Miss:  10\n"
     ]
    }
   ],
   "source": [
    "string=[0,1,2,3,0,1,4,0,1,2,3,4]\n",
    "m=3\n",
    "page_faults(string, m)"
   ]
  },
  {
   "cell_type": "markdown",
   "id": "9e6b0746",
   "metadata": {},
   "source": [
    "### Example - 3"
   ]
  },
  {
   "cell_type": "code",
   "execution_count": 6,
   "id": "af0706c2",
   "metadata": {},
   "outputs": [
    {
     "name": "stdout",
     "output_type": "stream",
     "text": [
      "[3] Miss\n",
      "[3, 8] Miss\n",
      "[3, 8, 2] Miss\n",
      "[8, 2, 3] Hit\n",
      "[8, 2, 3, 9] Miss\n",
      "[8, 2, 3, 9, 1] Miss\n",
      "8 is replaced with 6\n",
      "[2, 3, 9, 1, 6] Miss\n",
      "[2, 9, 1, 6, 3] Hit\n",
      "2 is replaced with 8\n",
      "[9, 1, 6, 3, 8] Miss\n",
      "[1, 6, 3, 8, 9] Hit\n",
      "[1, 6, 8, 9, 3] Hit\n",
      "[1, 8, 9, 3, 6] Hit\n",
      "1 is replaced with 2\n",
      "[8, 9, 3, 6, 2] Miss\n",
      "8 is replaced with 1\n",
      "[9, 3, 6, 2, 1] Miss\n",
      "[9, 6, 2, 1, 3] Hit\n",
      "\n",
      "Hits:  6\n",
      "Miss:  9\n"
     ]
    }
   ],
   "source": [
    "string=[3,8,2,3,9,1,6,3,8,9,3,6,2,1,3]\n",
    "m=5\n",
    "page_faults(string, m)"
   ]
  },
  {
   "cell_type": "markdown",
   "id": "7cc614cd",
   "metadata": {},
   "source": [
    "### Example - 3"
   ]
  },
  {
   "cell_type": "code",
   "execution_count": 12,
   "id": "a71feaf6",
   "metadata": {},
   "outputs": [
    {
     "name": "stdout",
     "output_type": "stream",
     "text": [
      "[3] Miss\n",
      "[3, 1] Miss\n",
      "[3, 1, 2] Miss\n",
      "[3, 2, 1] Hit\n",
      "3 is replaced with 6\n",
      "[2, 1, 6] Miss\n",
      "2 is replaced with 5\n",
      "[1, 6, 5] Miss\n",
      "[6, 5, 1] Hit\n",
      "6 is replaced with 3\n",
      "[5, 1, 3] Miss\n",
      "\n",
      "Hits:  2\n",
      "Miss:  6\n"
     ]
    }
   ],
   "source": [
    "string=[3,1,2,1,6,5,1,3]\n",
    "m=3\n",
    "pages=[]\n",
    "page_faults(string, m)"
   ]
  },
  {
   "cell_type": "code",
   "execution_count": null,
   "id": "6f815ac8",
   "metadata": {},
   "outputs": [],
   "source": []
  },
  {
   "cell_type": "code",
   "execution_count": null,
   "id": "51c43d37",
   "metadata": {},
   "outputs": [],
   "source": []
  },
  {
   "cell_type": "code",
   "execution_count": null,
   "id": "cab7b64f",
   "metadata": {},
   "outputs": [],
   "source": []
  },
  {
   "cell_type": "code",
   "execution_count": null,
   "id": "82580c79",
   "metadata": {},
   "outputs": [],
   "source": []
  },
  {
   "cell_type": "code",
   "execution_count": null,
   "id": "13b96c5e",
   "metadata": {},
   "outputs": [],
   "source": []
  },
  {
   "cell_type": "code",
   "execution_count": null,
   "id": "e363bb78",
   "metadata": {},
   "outputs": [],
   "source": []
  },
  {
   "cell_type": "code",
   "execution_count": null,
   "id": "766c8a71",
   "metadata": {},
   "outputs": [],
   "source": []
  },
  {
   "cell_type": "code",
   "execution_count": null,
   "id": "d679b256",
   "metadata": {},
   "outputs": [],
   "source": []
  },
  {
   "cell_type": "code",
   "execution_count": null,
   "id": "b646daec",
   "metadata": {},
   "outputs": [],
   "source": []
  },
  {
   "cell_type": "code",
   "execution_count": null,
   "id": "7c2d98b9",
   "metadata": {},
   "outputs": [],
   "source": []
  },
  {
   "cell_type": "code",
   "execution_count": null,
   "id": "f0594c64",
   "metadata": {},
   "outputs": [],
   "source": []
  },
  {
   "cell_type": "markdown",
   "id": "6cf4dab6",
   "metadata": {},
   "source": [
    "## Method - 2"
   ]
  },
  {
   "cell_type": "code",
   "execution_count": 13,
   "id": "214db27b",
   "metadata": {},
   "outputs": [],
   "source": [
    "class Node:\n",
    "    def __init__(self, data):\n",
    "        self.data=data\n",
    "        self.next=None"
   ]
  },
  {
   "cell_type": "code",
   "execution_count": 14,
   "id": "742ba483",
   "metadata": {},
   "outputs": [],
   "source": [
    "class LinkedList:\n",
    "    def __init__(self):\n",
    "        self.head=None\n",
    "    def insert(self, data):\n",
    "        d=Node(data)\n",
    "        if(self.head==None):\n",
    "            self.head=d\n",
    "            return\n",
    "        ptr=self.head\n",
    "        while(ptr.next!=None):\n",
    "            ptr=ptr.next\n",
    "        ptr.next=d\n",
    "        \n",
    "    def delete_at_beginning(self):\n",
    "        if(self.head==None):\n",
    "            return\n",
    "        remove=self.head\n",
    "        self.head=self.head.next\n",
    "        \n",
    "        return remove.data\n",
    "    \n",
    "    def is_in(self, data):\n",
    "        ptr=self.head\n",
    "        while(ptr!=None):\n",
    "            if(ptr.data==data):\n",
    "                #print(data, \"-----------------FOUND\")\n",
    "                return True\n",
    "            ptr=ptr.next\n",
    "        #print(data, \"-----------------NOT FOUND\")\n",
    "        return False\n",
    "    \n",
    "    def remove(self, data):\n",
    "        \n",
    "        ptr=Node(None)\n",
    "        ptr.next=self.head\n",
    "        \n",
    "        while(ptr.next!=None):\n",
    "            if(ptr.next.data==data):\n",
    "                remove=ptr.next\n",
    "                break\n",
    "            ptr=ptr.next\n",
    "            \n",
    "        ptr.next=ptr.next.next\n",
    "        return remove.data\n",
    "    \n",
    "    def display(self):\n",
    "        if(self.head==None):\n",
    "            return\n",
    "        ptr=self.head\n",
    "        while(ptr!=None):\n",
    "            print(ptr.data, end=' ')\n",
    "            ptr=ptr.next"
   ]
  },
  {
   "cell_type": "code",
   "execution_count": 15,
   "id": "949cbfeb",
   "metadata": {},
   "outputs": [],
   "source": [
    "class Queue:\n",
    "    def __init__(self, size):\n",
    "        self.list=LinkedList()\n",
    "        self.size=size\n",
    "        self.count=0\n",
    "    \n",
    "    def enqueue(self, data):\n",
    "        if(self.size==self.count):\n",
    "            item=self.dequeue()\n",
    "            #print(\"SIZE: {}\\tCOUNT: {}\".format(self.size, self.count))\n",
    "            print(\"\\n{} replaced with {}\".format(item, data))\n",
    "        self.list.insert(data)\n",
    "        #print(\"Inserted---------------------------------------------------\", data)\n",
    "        self.count+=1\n",
    "        \n",
    "    def dequeue(self):\n",
    "        data=self.list.delete_at_beginning()\n",
    "        self.count-=1\n",
    "        return data\n",
    "    \n",
    "    def is_in(self, data):\n",
    "        return self.list.is_in(data)\n",
    "        \n",
    "    def display(self):\n",
    "        self.list.display()\n",
    "        #print(self.size, self.count)"
   ]
  },
  {
   "cell_type": "code",
   "execution_count": 16,
   "id": "c2b85e09",
   "metadata": {},
   "outputs": [],
   "source": [
    "def page_replace_alg(pages, m, queue):\n",
    "    hit=0\n",
    "    miss=0\n",
    "    n=len(pages)\n",
    "    for i in range(n):\n",
    "        data=pages[i]\n",
    "        queue.display()\n",
    "        if(queue.is_in(pages[i])):\n",
    "            hit+=1\n",
    "            print(\"--->HIT\")\n",
    "            queue.list.remove(data)\n",
    "            queue.list.insert(data)\n",
    "        else:\n",
    "            miss+=1\n",
    "            print(\"--->MISS\")\n",
    "            queue.enqueue(pages[i])\n",
    "            #queue.display()\n",
    "            \n",
    "    print(\"Hit:\", hit)\n",
    "    print(\"Miss/Fault:\", miss)"
   ]
  },
  {
   "cell_type": "code",
   "execution_count": 23,
   "id": "53b386dd",
   "metadata": {},
   "outputs": [
    {
     "name": "stdout",
     "output_type": "stream",
     "text": [
      "[5] Miss\n",
      "[5, 7] Miss\n",
      "[5, 7, 6] Miss\n",
      "5 is replaced with 0\n",
      "[7, 6, 0] Miss\n",
      "[6, 0, 7] Hit\n",
      "6 is replaced with 1\n",
      "[0, 7, 1] Miss\n",
      "[0, 1, 7] Hit\n",
      "0 is replaced with 2\n",
      "[1, 7, 2] Miss\n",
      "1 is replaced with 0\n",
      "[7, 2, 0] Miss\n",
      "7 is replaced with 1\n",
      "[2, 0, 1] Miss\n",
      "2 is replaced with 7\n",
      "[0, 1, 7] Miss\n",
      "[0, 7, 1] Hit\n",
      "[7, 1, 0] Hit\n",
      "\n",
      "Hits:  4\n",
      "Miss:  9\n"
     ]
    }
   ],
   "source": [
    "string=[5,7,6,0,7,1,7,2,0,1,7,1,0]\n",
    "m=3\n",
    "page_faults(string, m)"
   ]
  },
  {
   "cell_type": "code",
   "execution_count": 17,
   "id": "52193c21",
   "metadata": {},
   "outputs": [
    {
     "name": "stdout",
     "output_type": "stream",
     "text": [
      "--->MISS\n",
      "3 --->MISS\n",
      "3 8 --->MISS\n",
      "3 8 2 --->HIT\n",
      "3 8 2 3 --->MISS\n",
      "3 8 2 3 9 --->MISS\n",
      "3 8 2 3 9 1 --->MISS\n",
      "\n",
      "3 replaced with 6\n",
      "8 2 3 9 1 6 --->HIT\n",
      "8 2 9 1 6 3 --->HIT\n",
      "8 2 9 1 6 3 8 --->HIT\n",
      "8 2 1 6 3 8 9 --->HIT\n",
      "8 2 1 6 8 9 3 --->HIT\n",
      "8 2 1 8 9 3 6 --->HIT\n",
      "8 1 8 9 3 6 2 --->HIT\n",
      "8 8 9 3 6 2 1 --->HIT\n",
      "Hit: 9\n",
      "Miss/Fault: 6\n",
      "[3] Miss\n",
      "[3, 8] Miss\n",
      "[3, 8, 2] Miss\n",
      "[8, 2, 3] Hit\n",
      "[8, 2, 3, 9] Miss\n",
      "[8, 2, 3, 9, 1] Miss\n",
      "8 is replaced with 6\n",
      "[2, 3, 9, 1, 6] Miss\n",
      "[2, 9, 1, 6, 3] Hit\n",
      "2 is replaced with 8\n",
      "[9, 1, 6, 3, 8] Miss\n",
      "[1, 6, 3, 8, 9] Hit\n",
      "[1, 6, 8, 9, 3] Hit\n",
      "[1, 8, 9, 3, 6] Hit\n",
      "1 is replaced with 2\n",
      "[8, 9, 3, 6, 2] Miss\n",
      "8 is replaced with 1\n",
      "[9, 3, 6, 2, 1] Miss\n",
      "[9, 6, 2, 1, 3] Hit\n",
      "\n",
      "Hits:  6\n",
      "Miss:  9\n"
     ]
    }
   ],
   "source": [
    "string=[3,8,2,3,9,1,6,3,8,9,3,6,2,1,3]\n",
    "m=5\n",
    "pages=[]\n",
    "queue=Queue(m)\n",
    "page_replace_alg(string, m, queue)\n",
    "page_faults(string, m)"
   ]
  },
  {
   "cell_type": "code",
   "execution_count": 29,
   "id": "cfec27f5",
   "metadata": {},
   "outputs": [
    {
     "name": "stdout",
     "output_type": "stream",
     "text": [
      "--->MISS\n",
      "5 --->MISS\n",
      "5 7 --->MISS\n",
      "5 7 6 --->MISS\n",
      "\n",
      "5 replaced with 0\n",
      "7 6 0 --->HIT\n",
      "7 6 0 7 --->MISS\n",
      "\n",
      "7 replaced with 1\n",
      "6 0 7 1 --->HIT\n",
      "6 0 1 7 --->MISS\n",
      "\n",
      "6 replaced with 2\n",
      "0 1 7 2 --->HIT\n",
      "0 1 7 2 0 --->HIT\n",
      "0 7 2 0 1 --->HIT\n",
      "0 2 0 1 7 --->HIT\n",
      "0 2 0 7 1 --->HIT\n",
      "Hit: 7\n",
      "Miss/Fault: 6\n",
      "[5] Miss\n",
      "[5, 7] Miss\n",
      "[5, 7, 6] Miss\n",
      "5 is replaced with 0\n",
      "[7, 6, 0] Miss\n",
      "[6, 0, 7] Hit\n",
      "6 is replaced with 1\n",
      "[0, 7, 1] Miss\n",
      "[0, 1, 7] Hit\n",
      "0 is replaced with 2\n",
      "[1, 7, 2] Miss\n",
      "1 is replaced with 0\n",
      "[7, 2, 0] Miss\n",
      "7 is replaced with 1\n",
      "[2, 0, 1] Miss\n",
      "2 is replaced with 7\n",
      "[0, 1, 7] Miss\n",
      "[0, 7, 1] Hit\n",
      "[7, 1, 0] Hit\n",
      "\n",
      "Hits:  4\n",
      "Miss:  9\n"
     ]
    }
   ],
   "source": [
    "string=[5,7,6,0,7,1,7,2,0,1,7,1,0]\n",
    "m=3\n",
    "pages=[]\n",
    "queue=Queue(m)\n",
    "page_replace_alg(string, m, queue)\n",
    "page_faults(string, m)"
   ]
  },
  {
   "cell_type": "code",
   "execution_count": 122,
   "id": "56026180",
   "metadata": {},
   "outputs": [
    {
     "name": "stdout",
     "output_type": "stream",
     "text": [
      "--->MISS\n",
      "5 --->MISS\n",
      "5 7 --->MISS\n",
      "5 7 6 --->MISS\n",
      "\n",
      "5 replaced with 0\n",
      "7 6 0 --->HIT\n",
      "7 6 0 7 7 --->MISS\n",
      "\n",
      "7 replaced with 1\n",
      "6 0 7 7 1 --->HIT\n",
      "6 0 1 7 7 --->MISS\n",
      "\n",
      "6 replaced with 2\n",
      "0 1 7 7 2 --->HIT\n",
      "0 1 7 7 2 0 0 --->HIT\n",
      "0 7 7 2 0 0 1 --->HIT\n",
      "0 2 0 0 1 7 7 --->HIT\n",
      "0 2 0 0 7 7 1 --->HIT\n",
      "Hit: 7\n",
      "Miss/Fault: 6\n"
     ]
    }
   ],
   "source": [
    "string=[5,7,6,0,7,1,7,2,0,1,7,1,0]\n",
    "m=3\n",
    "pages=[]\n",
    "queue=Queue(m)\n",
    "page_replace_alg(string, m, queue)\n",
    "#page_faults(string, m, pages)"
   ]
  },
  {
   "cell_type": "code",
   "execution_count": 66,
   "id": "bf70f8d9",
   "metadata": {},
   "outputs": [
    {
     "name": "stdout",
     "output_type": "stream",
     "text": [
      "--->MISS\n",
      "7 --->MISS\n",
      "7 0 --->MISS\n",
      "7 0 1 --->MISS\n",
      "7 0 1 2 --->HIT\n",
      "7 1 2 0 --->MISS\n",
      "\n",
      "7 replaced with 3\n",
      "1 2 0 3 --->HIT\n",
      "1 2 3 0 --->MISS\n",
      "\n",
      "1 replaced with 4\n",
      "2 3 0 4 --->HIT\n",
      "2 3 0 4 2 --->HIT\n",
      "2 0 4 2 3 --->HIT\n",
      "2 4 2 3 0 --->HIT\n",
      "2 4 2 0 3 --->HIT\n",
      "2 4 2 0 3 2 --->HIT\n",
      "Hit: 8\n",
      "Miss/Fault: 6\n"
     ]
    }
   ],
   "source": [
    "pages=[7,0,1,2,0,3,0,4,2,3,0,3,2,3]\n",
    "m=4\n",
    "queue=Queue(m)\n",
    "page_replace_alg(pages, m, queue)"
   ]
  },
  {
   "cell_type": "code",
   "execution_count": null,
   "id": "28f9cbcd",
   "metadata": {},
   "outputs": [],
   "source": []
  },
  {
   "cell_type": "code",
   "execution_count": null,
   "id": "5faa4cfc",
   "metadata": {},
   "outputs": [],
   "source": []
  }
 ],
 "metadata": {
  "kernelspec": {
   "display_name": "Python 3 (ipykernel)",
   "language": "python",
   "name": "python3"
  },
  "language_info": {
   "codemirror_mode": {
    "name": "ipython",
    "version": 3
   },
   "file_extension": ".py",
   "mimetype": "text/x-python",
   "name": "python",
   "nbconvert_exporter": "python",
   "pygments_lexer": "ipython3",
   "version": "3.9.13"
  }
 },
 "nbformat": 4,
 "nbformat_minor": 5
}
