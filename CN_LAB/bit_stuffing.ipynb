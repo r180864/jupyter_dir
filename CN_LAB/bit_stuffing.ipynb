{
 "cells": [
  {
   "cell_type": "code",
   "execution_count": 1,
   "id": "bd93f759",
   "metadata": {},
   "outputs": [],
   "source": [
    "class Sender:\n",
    "    def __init__(self, msg):\n",
    "        self.msg=list(msg)\n",
    "        \n",
    "    def stuff(self):\n",
    "        count=0\n",
    "        result=''\n",
    "        n=len(self.msg)\n",
    "        for i in range(n):\n",
    "            if(count==5):\n",
    "                self.msg.insert(i, '0')\n",
    "                count=0\n",
    "            bit=self.msg[i]\n",
    "\n",
    "            if(bit=='1'):\n",
    "                count+=1\n",
    "            else:\n",
    "                count=0\n",
    "            \n",
    "        return result.join(self.msg)"
   ]
  },
  {
   "cell_type": "code",
   "execution_count": 2,
   "id": "e52728c7",
   "metadata": {},
   "outputs": [],
   "source": [
    "class Receiver:\n",
    "    def __init__(self, msg):\n",
    "        self.msg=list(msg)\n",
    "        self.flag='01111110'\n",
    "        \n",
    "    def destuff(self):\n",
    "        count=i=0\n",
    "        while(i<len(self.msg)):\n",
    "            bit=self.msg[i]\n",
    "            if(count==5):\n",
    "                count=0\n",
    "                self.msg.pop(i)\n",
    "                continue\n",
    "            if(bit=='1'):\n",
    "                count+=1\n",
    "            else:\n",
    "                count=0\n",
    "            i+=1\n",
    "\n",
    "        return ''.join(self.msg)"
   ]
  },
  {
   "cell_type": "code",
   "execution_count": 15,
   "id": "7f02de89",
   "metadata": {},
   "outputs": [
    {
     "name": "stdout",
     "output_type": "stream",
     "text": [
      "Enetr your Message:01101111110\n",
      "Stuffed Messaeg: 0111111001101111101001111110\n",
      "Destuffed Messaeg: 01101111110\n",
      "Received Correct Message\n"
     ]
    }
   ],
   "source": [
    "msg=input(\"Enetr your Message:\")\n",
    "S=Sender(msg)\n",
    "stuffed_msg=S.stuff()\n",
    "print(\"Stuffed Messaeg: 01111110{}01111110\".format(stuffed_msg))\n",
    "R=Receiver(stuffed_msg)\n",
    "destuffed_msg=R.destuff()\n",
    "print(\"Destuffed Messaeg: {}\".format(destuffed_msg))\n",
    "if(msg == destuffed_msg):\n",
    "    print(\"Received Correct Message\")\n",
    "else:\n",
    "    print(\"Received Incorrect Message\")"
   ]
  },
  {
   "cell_type": "code",
   "execution_count": null,
   "id": "54163987",
   "metadata": {},
   "outputs": [],
   "source": []
  }
 ],
 "metadata": {
  "kernelspec": {
   "display_name": "Python 3 (ipykernel)",
   "language": "python",
   "name": "python3"
  },
  "language_info": {
   "codemirror_mode": {
    "name": "ipython",
    "version": 3
   },
   "file_extension": ".py",
   "mimetype": "text/x-python",
   "name": "python",
   "nbconvert_exporter": "python",
   "pygments_lexer": "ipython3",
   "version": "3.9.13"
  }
 },
 "nbformat": 4,
 "nbformat_minor": 5
}
