{
 "cells": [
  {
   "cell_type": "code",
   "execution_count": 5,
   "id": "d3938d44",
   "metadata": {},
   "outputs": [],
   "source": [
    "class Sender:\n",
    "    def __init__(self, data):\n",
    "        self.data = data\n",
    "        self.flag = 'flag'\n",
    "        self.escape = 'esc'\n",
    "        self.stuffed_data = ''\n",
    "\n",
    "    def stuff(self):\n",
    "        for i in self.data:\n",
    "            if i == self.flag or i == self.escape:\n",
    "                self.stuffed_data += self.escape + i\n",
    "            else:\n",
    "                self.stuffed_data += i\n",
    "        self.stuffed_data = self.flag + self.stuffed_data + self.flag\n",
    "        return self.stuffed_data\n",
    "\n",
    "class Receiver:\n",
    "    def __init__(self, data):\n",
    "        self.data = data\n",
    "        self.flag = 'flag'\n",
    "        self.escape = 'esc'\n",
    "        self.destuffed_data = ''\n",
    "\n",
    "    def destuff(self):\n",
    "        start = self.data.find(self.flag)\n",
    "        end = self.data.rfind(self.flag)\n",
    "        self.data = self.data[start+len(self.flag):end]\n",
    "        i = 0\n",
    "        while i < len(self.data):\n",
    "            if self.data[i] == self.escape:\n",
    "                i += 1\n",
    "                self.destuffed_data += self.data[i]\n",
    "            else:\n",
    "                self.destuffed_data += self.data[i]\n",
    "            i += 1\n",
    "        return self.destuffed_data\n"
   ]
  },
  {
   "cell_type": "code",
   "execution_count": 9,
   "id": "909f5002",
   "metadata": {},
   "outputs": [
    {
     "name": "stdout",
     "output_type": "stream",
     "text": [
      "Enter Your Message: krishnaflagkrishnaflag\n",
      "Input Data:  krishnaflagkrishnaflag\n",
      "After Byte Stuffing:  flagkrishnaflagkrishnaflagflag\n",
      "After Byte Destuffing:  krishnaflagkrishnaflag\n"
     ]
    }
   ],
   "source": [
    "data =input(\"Enter Your Message: \")\n",
    "S = Sender(data)\n",
    "print(\"Input Data: \", data)\n",
    "stuffed_data = S.stuff()\n",
    "print(\"After Byte Stuffing: \", stuffed_data)\n",
    "R = Receiver(stuffed_data)\n",
    "destuffed_data = R.destuff()\n",
    "print(\"After Byte Destuffing: \", destuffed_data)"
   ]
  },
  {
   "cell_type": "code",
   "execution_count": null,
   "id": "3a47b683",
   "metadata": {},
   "outputs": [],
   "source": []
  },
  {
   "cell_type": "code",
   "execution_count": null,
   "id": "9eceb133",
   "metadata": {},
   "outputs": [],
   "source": []
  }
 ],
 "metadata": {
  "kernelspec": {
   "display_name": "Python 3 (ipykernel)",
   "language": "python",
   "name": "python3"
  },
  "language_info": {
   "codemirror_mode": {
    "name": "ipython",
    "version": 3
   },
   "file_extension": ".py",
   "mimetype": "text/x-python",
   "name": "python",
   "nbconvert_exporter": "python",
   "pygments_lexer": "ipython3",
   "version": "3.9.13"
  }
 },
 "nbformat": 4,
 "nbformat_minor": 5
}
