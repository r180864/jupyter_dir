{
 "cells": [
  {
   "cell_type": "code",
   "execution_count": 6,
   "id": "1b8c0c6d",
   "metadata": {},
   "outputs": [],
   "source": [
    "import pandas as pd"
   ]
  },
  {
   "cell_type": "code",
   "execution_count": 29,
   "id": "0bcb7495",
   "metadata": {},
   "outputs": [],
   "source": [
    "df=pd.read_excel('R18_CSE.xlsx', sheet_name='Sec-B')"
   ]
  },
  {
   "cell_type": "code",
   "execution_count": 30,
   "id": "c3add7b3",
   "metadata": {},
   "outputs": [
    {
     "data": {
      "text/html": [
       "<div>\n",
       "<style scoped>\n",
       "    .dataframe tbody tr th:only-of-type {\n",
       "        vertical-align: middle;\n",
       "    }\n",
       "\n",
       "    .dataframe tbody tr th {\n",
       "        vertical-align: top;\n",
       "    }\n",
       "\n",
       "    .dataframe thead th {\n",
       "        text-align: right;\n",
       "    }\n",
       "</style>\n",
       "<table border=\"1\" class=\"dataframe\">\n",
       "  <thead>\n",
       "    <tr style=\"text-align: right;\">\n",
       "      <th></th>\n",
       "      <th>S_No</th>\n",
       "      <th>ID</th>\n",
       "      <th>Mail</th>\n",
       "      <th>Name</th>\n",
       "      <th>Gender</th>\n",
       "      <th>Branch</th>\n",
       "    </tr>\n",
       "  </thead>\n",
       "  <tbody>\n",
       "    <tr>\n",
       "      <th>0</th>\n",
       "      <td>1</td>\n",
       "      <td>R180765</td>\n",
       "      <td>R180765@rguktrkv.ac.in</td>\n",
       "      <td>ARURU DEEPTHI</td>\n",
       "      <td>F</td>\n",
       "      <td>CSE</td>\n",
       "    </tr>\n",
       "    <tr>\n",
       "      <th>1</th>\n",
       "      <td>2</td>\n",
       "      <td>R180645</td>\n",
       "      <td>R180645@rguktrkv.ac.in</td>\n",
       "      <td>ATTAR MUSFIRAKOUSAR</td>\n",
       "      <td>F</td>\n",
       "      <td>CSE</td>\n",
       "    </tr>\n",
       "    <tr>\n",
       "      <th>2</th>\n",
       "      <td>3</td>\n",
       "      <td>R180562</td>\n",
       "      <td>R180562@rguktrkv.ac.in</td>\n",
       "      <td>AVULASETTY DEVIKA</td>\n",
       "      <td>F</td>\n",
       "      <td>CSE</td>\n",
       "    </tr>\n",
       "    <tr>\n",
       "      <th>3</th>\n",
       "      <td>4</td>\n",
       "      <td>R180168</td>\n",
       "      <td>R180168@rguktrkv.ac.in</td>\n",
       "      <td>B IKRIYA</td>\n",
       "      <td>F</td>\n",
       "      <td>CSE</td>\n",
       "    </tr>\n",
       "    <tr>\n",
       "      <th>4</th>\n",
       "      <td>5</td>\n",
       "      <td>R180470</td>\n",
       "      <td>R180470@rguktrkv.ac.in</td>\n",
       "      <td>BADDELA NANDINI</td>\n",
       "      <td>F</td>\n",
       "      <td>CSE</td>\n",
       "    </tr>\n",
       "  </tbody>\n",
       "</table>\n",
       "</div>"
      ],
      "text/plain": [
       "   S_No       ID                    Mail                 Name Gender Branch\n",
       "0     1  R180765  R180765@rguktrkv.ac.in        ARURU DEEPTHI      F    CSE\n",
       "1     2  R180645  R180645@rguktrkv.ac.in  ATTAR MUSFIRAKOUSAR      F    CSE\n",
       "2     3  R180562  R180562@rguktrkv.ac.in    AVULASETTY DEVIKA      F    CSE\n",
       "3     4  R180168  R180168@rguktrkv.ac.in             B IKRIYA      F    CSE\n",
       "4     5  R180470  R180470@rguktrkv.ac.in      BADDELA NANDINI      F    CSE"
      ]
     },
     "execution_count": 30,
     "metadata": {},
     "output_type": "execute_result"
    }
   ],
   "source": [
    "df.head()"
   ]
  },
  {
   "cell_type": "code",
   "execution_count": 9,
   "id": "86e3de2b",
   "metadata": {},
   "outputs": [
    {
     "data": {
      "text/plain": [
       "(93, 6)"
      ]
     },
     "execution_count": 9,
     "metadata": {},
     "output_type": "execute_result"
    }
   ],
   "source": [
    "df.shape"
   ]
  },
  {
   "cell_type": "code",
   "execution_count": 21,
   "id": "b152db5c",
   "metadata": {
    "scrolled": true
   },
   "outputs": [
    {
     "data": {
      "text/html": [
       "<div>\n",
       "<style scoped>\n",
       "    .dataframe tbody tr th:only-of-type {\n",
       "        vertical-align: middle;\n",
       "    }\n",
       "\n",
       "    .dataframe tbody tr th {\n",
       "        vertical-align: top;\n",
       "    }\n",
       "\n",
       "    .dataframe thead th {\n",
       "        text-align: right;\n",
       "    }\n",
       "</style>\n",
       "<table border=\"1\" class=\"dataframe\">\n",
       "  <thead>\n",
       "    <tr style=\"text-align: right;\">\n",
       "      <th></th>\n",
       "      <th>S_No</th>\n",
       "      <th>ID</th>\n",
       "      <th>Mail</th>\n",
       "      <th>Name</th>\n",
       "      <th>Gender</th>\n",
       "      <th>Branch</th>\n",
       "    </tr>\n",
       "  </thead>\n",
       "  <tbody>\n",
       "    <tr>\n",
       "      <th>88</th>\n",
       "      <td>89</td>\n",
       "      <td>R180625</td>\n",
       "      <td>R180625@rguktrkv.ac.in</td>\n",
       "      <td>KUMMARA RAGHAVA</td>\n",
       "      <td>MALE</td>\n",
       "      <td>CSE</td>\n",
       "    </tr>\n",
       "    <tr>\n",
       "      <th>89</th>\n",
       "      <td>90</td>\n",
       "      <td>R181011</td>\n",
       "      <td>R181011@rguktrkv.ac.in</td>\n",
       "      <td>VENDOTI VENKATA SAI KUMAR</td>\n",
       "      <td>MALE</td>\n",
       "      <td>CSE</td>\n",
       "    </tr>\n",
       "    <tr>\n",
       "      <th>90</th>\n",
       "      <td>91</td>\n",
       "      <td>R180861</td>\n",
       "      <td>R180861@rguktrkv.ac.in</td>\n",
       "      <td>SAKE SAI KUMAR</td>\n",
       "      <td>MALE</td>\n",
       "      <td>CSE</td>\n",
       "    </tr>\n",
       "    <tr>\n",
       "      <th>91</th>\n",
       "      <td>92</td>\n",
       "      <td>R181022</td>\n",
       "      <td>R181022@rguktrkv.ac.in</td>\n",
       "      <td>GUNDLURU NIKHIL</td>\n",
       "      <td>MALE</td>\n",
       "      <td>CSE</td>\n",
       "    </tr>\n",
       "    <tr>\n",
       "      <th>92</th>\n",
       "      <td>93</td>\n",
       "      <td>R180493</td>\n",
       "      <td>R180493@rguktrkv.ac.in</td>\n",
       "      <td>SEELA MANOJ KUMAR</td>\n",
       "      <td>MALE</td>\n",
       "      <td>CSE</td>\n",
       "    </tr>\n",
       "  </tbody>\n",
       "</table>\n",
       "</div>"
      ],
      "text/plain": [
       "    S_No       ID                    Mail                       Name Gender  \\\n",
       "88    89  R180625  R180625@rguktrkv.ac.in            KUMMARA RAGHAVA   MALE   \n",
       "89    90  R181011  R181011@rguktrkv.ac.in  VENDOTI VENKATA SAI KUMAR   MALE   \n",
       "90    91  R180861  R180861@rguktrkv.ac.in             SAKE SAI KUMAR   MALE   \n",
       "91    92  R181022  R181022@rguktrkv.ac.in            GUNDLURU NIKHIL   MALE   \n",
       "92    93  R180493  R180493@rguktrkv.ac.in          SEELA MANOJ KUMAR   MALE   \n",
       "\n",
       "   Branch  \n",
       "88    CSE  \n",
       "89    CSE  \n",
       "90    CSE  \n",
       "91    CSE  \n",
       "92    CSE  "
      ]
     },
     "execution_count": 21,
     "metadata": {},
     "output_type": "execute_result"
    }
   ],
   "source": [
    "df.tail()"
   ]
  },
  {
   "cell_type": "code",
   "execution_count": 2,
   "id": "66e64b31",
   "metadata": {},
   "outputs": [
    {
     "name": "stdout",
     "output_type": "stream",
     "text": [
      "Collecting pymysql\n",
      "  Downloading PyMySQL-1.0.2-py3-none-any.whl (43 kB)\n",
      "     ---------------------------------------- 43.8/43.8 kB 1.0 MB/s eta 0:00:00\n",
      "Installing collected packages: pymysql\n",
      "Successfully installed pymysql-1.0.2\n",
      "Note: you may need to restart the kernel to use updated packages.\n"
     ]
    }
   ],
   "source": [
    "pip install pymysql"
   ]
  },
  {
   "cell_type": "code",
   "execution_count": 3,
   "id": "af00331d",
   "metadata": {},
   "outputs": [],
   "source": [
    "import pymysql"
   ]
  },
  {
   "cell_type": "code",
   "execution_count": 4,
   "id": "64023b10",
   "metadata": {},
   "outputs": [],
   "source": [
    "server=pymysql.connect(host='localhost', user='root', passwd='', db='ATTENDANCE')\n",
    "server.autocommit(True)"
   ]
  },
  {
   "cell_type": "code",
   "execution_count": 5,
   "id": "0e5ae51f",
   "metadata": {},
   "outputs": [],
   "source": [
    "cursor=server.cursor()"
   ]
  },
  {
   "cell_type": "code",
   "execution_count": 35,
   "id": "1ced876f",
   "metadata": {},
   "outputs": [],
   "source": [
    "for i in range(0, 93):\n",
    "    sql='INSERT INTO SEC_B VALUES({}, \"{}\", \"{}\", \"{}\", \"{}\");'.format(df['S_No'][i], df['ID'][i], df['Name'][i], df['Gender'][i], 'SEC-B')\n",
    "    cursor.execute(sql)"
   ]
  },
  {
   "cell_type": "code",
   "execution_count": 20,
   "id": "80eb8f27",
   "metadata": {},
   "outputs": [
    {
     "data": {
      "text/plain": [
       "S_No                           2\n",
       "ID                       R180645\n",
       "Mail      R180645@rguktrkv.ac.in\n",
       "Name         ATTAR MUSFIRAKOUSAR\n",
       "Gender                    FEMALE\n",
       "Branch                       CSE\n",
       "Name: 1, dtype: object"
      ]
     },
     "execution_count": 20,
     "metadata": {},
     "output_type": "execute_result"
    }
   ],
   "source": [
    "df.iloc[1, :]"
   ]
  },
  {
   "cell_type": "code",
   "execution_count": 32,
   "id": "335db5c3",
   "metadata": {},
   "outputs": [],
   "source": [
    "sql='INSERT INTO ATTENDANCE VALUES({}, \"{}\", \"{}\", \"{}\", \"{}\");'.format(df['S_No'][i], df['ID'][i], df['Name'][i], df['Gender'][i], 'SEC-B')"
   ]
  },
  {
   "cell_type": "code",
   "execution_count": 33,
   "id": "90bd97e7",
   "metadata": {},
   "outputs": [
    {
     "data": {
      "text/plain": [
       "'INSERT INTO ATTENDANCE VALUES(1, \"R180765\", \"ARURU DEEPTHI\", \"F\", \"SEC-B\");'"
      ]
     },
     "execution_count": 33,
     "metadata": {},
     "output_type": "execute_result"
    }
   ],
   "source": [
    "sql"
   ]
  },
  {
   "cell_type": "code",
   "execution_count": null,
   "id": "486c7a08",
   "metadata": {},
   "outputs": [],
   "source": []
  }
 ],
 "metadata": {
  "kernelspec": {
   "display_name": "Python 3 (ipykernel)",
   "language": "python",
   "name": "python3"
  },
  "language_info": {
   "codemirror_mode": {
    "name": "ipython",
    "version": 3
   },
   "file_extension": ".py",
   "mimetype": "text/x-python",
   "name": "python",
   "nbconvert_exporter": "python",
   "pygments_lexer": "ipython3",
   "version": "3.9.13"
  }
 },
 "nbformat": 4,
 "nbformat_minor": 5
}
