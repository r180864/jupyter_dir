{
 "cells": [
  {
   "cell_type": "code",
   "execution_count": 2,
   "id": "2d11fe52",
   "metadata": {},
   "outputs": [],
   "source": [
    "import pandas as pd\n",
    "import numpy as np\n",
    "from sklearn.model_selection import train_test_split\n",
    "from sklearn.tree import DecisionTreeClassifier "
   ]
  },
  {
   "cell_type": "code",
   "execution_count": 4,
   "id": "8cb54457",
   "metadata": {},
   "outputs": [],
   "source": [
    "marks=pd.read_excel('CGPA and Average Grade Point details for Branch Allocation AY2020-21.xlsx')"
   ]
  },
  {
   "cell_type": "code",
   "execution_count": 5,
   "id": "49e57d97",
   "metadata": {},
   "outputs": [
    {
     "data": {
      "text/html": [
       "<div>\n",
       "<style scoped>\n",
       "    .dataframe tbody tr th:only-of-type {\n",
       "        vertical-align: middle;\n",
       "    }\n",
       "\n",
       "    .dataframe tbody tr th {\n",
       "        vertical-align: top;\n",
       "    }\n",
       "\n",
       "    .dataframe thead th {\n",
       "        text-align: right;\n",
       "    }\n",
       "</style>\n",
       "<table border=\"1\" class=\"dataframe\">\n",
       "  <thead>\n",
       "    <tr style=\"text-align: right;\">\n",
       "      <th></th>\n",
       "      <th>S.No</th>\n",
       "      <th>Roll Number</th>\n",
       "      <th>Number of remedials</th>\n",
       "      <th>CGPA (upto P2S2)</th>\n",
       "      <th>Average GP of Maths in PUC</th>\n",
       "      <th>Average GP of Physics in PUC</th>\n",
       "      <th>Average GP of Chemistry in PUC</th>\n",
       "      <th>Remarks</th>\n",
       "      <th>Eligible for Branch allocation ?</th>\n",
       "    </tr>\n",
       "  </thead>\n",
       "  <tbody>\n",
       "    <tr>\n",
       "      <th>0</th>\n",
       "      <td>1</td>\n",
       "      <td>N170822</td>\n",
       "      <td>0</td>\n",
       "      <td>7.66</td>\n",
       "      <td>7.25</td>\n",
       "      <td>7.25</td>\n",
       "      <td>7.25</td>\n",
       "      <td>--</td>\n",
       "      <td>YES</td>\n",
       "    </tr>\n",
       "    <tr>\n",
       "      <th>1</th>\n",
       "      <td>2</td>\n",
       "      <td>N180059</td>\n",
       "      <td>0</td>\n",
       "      <td>6.55</td>\n",
       "      <td>6.25</td>\n",
       "      <td>6.00</td>\n",
       "      <td>6.00</td>\n",
       "      <td>--</td>\n",
       "      <td>YES</td>\n",
       "    </tr>\n",
       "    <tr>\n",
       "      <th>2</th>\n",
       "      <td>3</td>\n",
       "      <td>N180154</td>\n",
       "      <td>0</td>\n",
       "      <td>8.35</td>\n",
       "      <td>8.25</td>\n",
       "      <td>8.00</td>\n",
       "      <td>7.75</td>\n",
       "      <td>--</td>\n",
       "      <td>YES</td>\n",
       "    </tr>\n",
       "    <tr>\n",
       "      <th>3</th>\n",
       "      <td>4</td>\n",
       "      <td>N180156</td>\n",
       "      <td>0</td>\n",
       "      <td>8.59</td>\n",
       "      <td>8.50</td>\n",
       "      <td>8.25</td>\n",
       "      <td>8.00</td>\n",
       "      <td>--</td>\n",
       "      <td>YES</td>\n",
       "    </tr>\n",
       "    <tr>\n",
       "      <th>4</th>\n",
       "      <td>5</td>\n",
       "      <td>N180300</td>\n",
       "      <td>0</td>\n",
       "      <td>7.95</td>\n",
       "      <td>8.00</td>\n",
       "      <td>7.50</td>\n",
       "      <td>7.75</td>\n",
       "      <td>--</td>\n",
       "      <td>YES</td>\n",
       "    </tr>\n",
       "  </tbody>\n",
       "</table>\n",
       "</div>"
      ],
      "text/plain": [
       "   S.No Roll Number  Number of remedials  CGPA (upto P2S2)  \\\n",
       "0     1     N170822                    0              7.66   \n",
       "1     2     N180059                    0              6.55   \n",
       "2     3     N180154                    0              8.35   \n",
       "3     4     N180156                    0              8.59   \n",
       "4     5     N180300                    0              7.95   \n",
       "\n",
       "   Average GP of Maths in PUC  Average GP of Physics in PUC  \\\n",
       "0                        7.25                          7.25   \n",
       "1                        6.25                          6.00   \n",
       "2                        8.25                          8.00   \n",
       "3                        8.50                          8.25   \n",
       "4                        8.00                          7.50   \n",
       "\n",
       "   Average GP of Chemistry in PUC Remarks Eligible for Branch allocation ?  \n",
       "0                            7.25      --                              YES  \n",
       "1                            6.00      --                              YES  \n",
       "2                            7.75      --                              YES  \n",
       "3                            8.00      --                              YES  \n",
       "4                            7.75      --                              YES  "
      ]
     },
     "execution_count": 5,
     "metadata": {},
     "output_type": "execute_result"
    }
   ],
   "source": [
    "marks.head()"
   ]
  },
  {
   "cell_type": "code",
   "execution_count": 34,
   "id": "60513693",
   "metadata": {},
   "outputs": [],
   "source": [
    "y=marks['Eligible for Branch allocation ?']\n",
    "x=marks[['CGPA (upto P2S2)', 'Average GP of Maths in PUC', 'Average GP of Physics in PUC', 'Average GP of Chemistry in PUC']]"
   ]
  },
  {
   "cell_type": "code",
   "execution_count": 35,
   "id": "d8a55af9",
   "metadata": {},
   "outputs": [
    {
     "data": {
      "text/html": [
       "<div>\n",
       "<style scoped>\n",
       "    .dataframe tbody tr th:only-of-type {\n",
       "        vertical-align: middle;\n",
       "    }\n",
       "\n",
       "    .dataframe tbody tr th {\n",
       "        vertical-align: top;\n",
       "    }\n",
       "\n",
       "    .dataframe thead th {\n",
       "        text-align: right;\n",
       "    }\n",
       "</style>\n",
       "<table border=\"1\" class=\"dataframe\">\n",
       "  <thead>\n",
       "    <tr style=\"text-align: right;\">\n",
       "      <th></th>\n",
       "      <th>CGPA (upto P2S2)</th>\n",
       "      <th>Average GP of Maths in PUC</th>\n",
       "      <th>Average GP of Physics in PUC</th>\n",
       "      <th>Average GP of Chemistry in PUC</th>\n",
       "    </tr>\n",
       "  </thead>\n",
       "  <tbody>\n",
       "    <tr>\n",
       "      <th>0</th>\n",
       "      <td>7.66</td>\n",
       "      <td>7.25</td>\n",
       "      <td>7.25</td>\n",
       "      <td>7.25</td>\n",
       "    </tr>\n",
       "    <tr>\n",
       "      <th>1</th>\n",
       "      <td>6.55</td>\n",
       "      <td>6.25</td>\n",
       "      <td>6.00</td>\n",
       "      <td>6.00</td>\n",
       "    </tr>\n",
       "    <tr>\n",
       "      <th>2</th>\n",
       "      <td>8.35</td>\n",
       "      <td>8.25</td>\n",
       "      <td>8.00</td>\n",
       "      <td>7.75</td>\n",
       "    </tr>\n",
       "    <tr>\n",
       "      <th>3</th>\n",
       "      <td>8.59</td>\n",
       "      <td>8.50</td>\n",
       "      <td>8.25</td>\n",
       "      <td>8.00</td>\n",
       "    </tr>\n",
       "    <tr>\n",
       "      <th>4</th>\n",
       "      <td>7.95</td>\n",
       "      <td>8.00</td>\n",
       "      <td>7.50</td>\n",
       "      <td>7.75</td>\n",
       "    </tr>\n",
       "    <tr>\n",
       "      <th>...</th>\n",
       "      <td>...</td>\n",
       "      <td>...</td>\n",
       "      <td>...</td>\n",
       "      <td>...</td>\n",
       "    </tr>\n",
       "    <tr>\n",
       "      <th>1272</th>\n",
       "      <td>7.50</td>\n",
       "      <td>8.25</td>\n",
       "      <td>7.00</td>\n",
       "      <td>6.75</td>\n",
       "    </tr>\n",
       "    <tr>\n",
       "      <th>1273</th>\n",
       "      <td>6.66</td>\n",
       "      <td>7.00</td>\n",
       "      <td>6.50</td>\n",
       "      <td>6.50</td>\n",
       "    </tr>\n",
       "    <tr>\n",
       "      <th>1274</th>\n",
       "      <td>7.97</td>\n",
       "      <td>8.00</td>\n",
       "      <td>8.00</td>\n",
       "      <td>7.50</td>\n",
       "    </tr>\n",
       "    <tr>\n",
       "      <th>1275</th>\n",
       "      <td>6.68</td>\n",
       "      <td>6.75</td>\n",
       "      <td>6.50</td>\n",
       "      <td>6.75</td>\n",
       "    </tr>\n",
       "    <tr>\n",
       "      <th>1276</th>\n",
       "      <td>6.65</td>\n",
       "      <td>6.25</td>\n",
       "      <td>6.25</td>\n",
       "      <td>6.75</td>\n",
       "    </tr>\n",
       "  </tbody>\n",
       "</table>\n",
       "<p>1277 rows × 4 columns</p>\n",
       "</div>"
      ],
      "text/plain": [
       "      CGPA (upto P2S2)  Average GP of Maths in PUC  \\\n",
       "0                 7.66                        7.25   \n",
       "1                 6.55                        6.25   \n",
       "2                 8.35                        8.25   \n",
       "3                 8.59                        8.50   \n",
       "4                 7.95                        8.00   \n",
       "...                ...                         ...   \n",
       "1272              7.50                        8.25   \n",
       "1273              6.66                        7.00   \n",
       "1274              7.97                        8.00   \n",
       "1275              6.68                        6.75   \n",
       "1276              6.65                        6.25   \n",
       "\n",
       "      Average GP of Physics in PUC  Average GP of Chemistry in PUC  \n",
       "0                             7.25                            7.25  \n",
       "1                             6.00                            6.00  \n",
       "2                             8.00                            7.75  \n",
       "3                             8.25                            8.00  \n",
       "4                             7.50                            7.75  \n",
       "...                            ...                             ...  \n",
       "1272                          7.00                            6.75  \n",
       "1273                          6.50                            6.50  \n",
       "1274                          8.00                            7.50  \n",
       "1275                          6.50                            6.75  \n",
       "1276                          6.25                            6.75  \n",
       "\n",
       "[1277 rows x 4 columns]"
      ]
     },
     "execution_count": 35,
     "metadata": {},
     "output_type": "execute_result"
    }
   ],
   "source": [
    "x"
   ]
  },
  {
   "cell_type": "code",
   "execution_count": 36,
   "id": "a11d6d3d",
   "metadata": {},
   "outputs": [
    {
     "data": {
      "text/plain": [
       "0       YES\n",
       "1       YES\n",
       "2       YES\n",
       "3       YES\n",
       "4       YES\n",
       "       ... \n",
       "1272    YES\n",
       "1273    YES\n",
       "1274    YES\n",
       "1275    YES\n",
       "1276    YES\n",
       "Name: Eligible for Branch allocation ?, Length: 1277, dtype: object"
      ]
     },
     "execution_count": 36,
     "metadata": {},
     "output_type": "execute_result"
    }
   ],
   "source": [
    "y"
   ]
  },
  {
   "cell_type": "code",
   "execution_count": 37,
   "id": "1365fdff",
   "metadata": {},
   "outputs": [],
   "source": [
    "x_train, x_test, y_train, y_test=train_test_split(x,y, test_size=0.3, random_state=0)"
   ]
  },
  {
   "cell_type": "code",
   "execution_count": 38,
   "id": "a1193532",
   "metadata": {},
   "outputs": [],
   "source": [
    "dct=DecisionTreeClassifier()"
   ]
  },
  {
   "cell_type": "code",
   "execution_count": 39,
   "id": "fc559885",
   "metadata": {},
   "outputs": [
    {
     "data": {
      "text/plain": [
       "DecisionTreeClassifier()"
      ]
     },
     "execution_count": 39,
     "metadata": {},
     "output_type": "execute_result"
    }
   ],
   "source": [
    "dct.fit(x_train, y_train)"
   ]
  },
  {
   "cell_type": "code",
   "execution_count": 40,
   "id": "685573da",
   "metadata": {},
   "outputs": [],
   "source": [
    "y_pred=dct.predict(x_test)"
   ]
  },
  {
   "cell_type": "code",
   "execution_count": 41,
   "id": "1defc741",
   "metadata": {},
   "outputs": [
    {
     "data": {
      "text/plain": [
       "(1271     NO\n",
       " 877     YES\n",
       " 1130     NO\n",
       " 1252    YES\n",
       " 247     YES\n",
       " Name: Eligible for Branch allocation ?, dtype: object,\n",
       " array(['NO', 'YES', 'NO', 'YES', 'YES'], dtype=object))"
      ]
     },
     "execution_count": 41,
     "metadata": {},
     "output_type": "execute_result"
    }
   ],
   "source": [
    "y_test.head(), y_pred[:5]"
   ]
  },
  {
   "cell_type": "code",
   "execution_count": null,
   "id": "d29b0be4",
   "metadata": {},
   "outputs": [],
   "source": [
    "from sklearn"
   ]
  }
 ],
 "metadata": {
  "kernelspec": {
   "display_name": "Python 3 (ipykernel)",
   "language": "python",
   "name": "python3"
  },
  "language_info": {
   "codemirror_mode": {
    "name": "ipython",
    "version": 3
   },
   "file_extension": ".py",
   "mimetype": "text/x-python",
   "name": "python",
   "nbconvert_exporter": "python",
   "pygments_lexer": "ipython3",
   "version": "3.9.7"
  }
 },
 "nbformat": 4,
 "nbformat_minor": 5
}
