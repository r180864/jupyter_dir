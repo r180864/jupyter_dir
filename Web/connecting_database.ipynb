{
 "cells": [
  {
   "cell_type": "code",
   "execution_count": 1,
   "id": "f1597925",
   "metadata": {},
   "outputs": [
    {
     "name": "stdout",
     "output_type": "stream",
     "text": [
      "Requirement already satisfied: pymysql in c:\\users\\dell\\anaconda3\\lib\\site-packages (1.0.2)\n",
      "Note: you may need to restart the kernel to use updated packages.\n"
     ]
    }
   ],
   "source": [
    "pip install pymysql"
   ]
  },
  {
   "cell_type": "code",
   "execution_count": 2,
   "id": "7a3aabf3",
   "metadata": {},
   "outputs": [],
   "source": [
    "import pymysql"
   ]
  },
  {
   "cell_type": "code",
   "execution_count": 3,
   "id": "177f79cf",
   "metadata": {},
   "outputs": [],
   "source": [
    "class Html:\n",
    "    def __init__(self, page_title):\n",
    "        self.page_title=page_title\n",
    "        file=open(self.page_title+'.html', 'w')\n",
    "        file.close()\n",
    "    \n",
    "    def create(self, html):\n",
    "        file=open(self.page_title+'.html', 'w')\n",
    "        file.write(html)\n",
    "        file.close()\n",
    "        return True\n",
    "    \n",
    "    def show(self):\n",
    "        import webbrowser as wb\n",
    "        wb.open(self.page_title+'.html')\n",
    "        "
   ]
  },
  {
   "cell_type": "code",
   "execution_count": 8,
   "id": "61dcbaf9",
   "metadata": {},
   "outputs": [],
   "source": [
    "class DataBase:\n",
    "    def __init__(self):\n",
    "        server=pymysql.connect(host='localhost', user='root', passwd='Getin@2001', db='Results')\n",
    "        cursor=server.cursor()\n",
    "        self.cursor=cursor\n",
    "    \n",
    "    def show(self, table_name, *columns):\n",
    "        if(len(columns)==0):\n",
    "            return \"Please Select Columns\"\n",
    "        \n",
    "        print('Columns: ', columns)\n",
    "        sql=\"SELECT {}\".format(columns[0])\n",
    "        if(columns[0]!='*'):\n",
    "            for i in range(1, len(columns)):\n",
    "                col=columns[i]\n",
    "                sql+=\", {}\".format(columns[i])\n",
    "        sql+=\" FROM {}\".format(table_name)\n",
    "        print(sql)\n",
    "        self.cursor.execute(sql)\n",
    "        return self.cursor.fetchall()\n",
    "    \n",
    "    def display_html(self, table_name, *columns):\n",
    "        self.table_name=table_name\n",
    "        self.columns=columns\n",
    "        \n",
    "        if(len(columns)==0):\n",
    "            return \"Please Select Columns\"\n",
    "        \n",
    "        print('Columns: ', columns)\n",
    "        sql=\"SELECT {}\".format(columns[0])\n",
    "        if(columns[0]!='*'):\n",
    "            for i in range(1, len(columns)):\n",
    "                col=columns[i]\n",
    "                sql+=\", {}\".format(columns[i])\n",
    "        sql+=\" FROM {} ORDER BY id\".format(table_name)\n",
    "        print(sql)\n",
    "        self.cursor.execute(sql)\n",
    "        table=self.cursor.fetchall()\n",
    "        \n",
    "        html=''\n",
    "        \n",
    "       \n",
    "       # table=self.show(self.table_name, self.columns)\n",
    "        \n",
    "        print('Tuple: ', columns)\n",
    "        html+=\"<table border='1'>\"\n",
    "        \n",
    "        \n",
    "        for row in table:\n",
    "            html+=\"\\t<tr>\\n\"\n",
    "            for value in row:\n",
    "                html+=\"\\t\\t<td>{}</td>\\n\".format(value)\n",
    "            html+=\"\\t</tr>\\n\"\n",
    "        html+=\"</table>\"\n",
    "        \n",
    "        \n",
    "        return html\n",
    "\n",
    "    def describe(self, table_name):\n",
    "        sql=\"DESC {}\".format(table_name)\n",
    "        self.cursor.execute(sql)\n",
    "        return self.cursor.fetchall()\n",
    "        "
   ]
  },
  {
   "cell_type": "code",
   "execution_count": 9,
   "id": "67020cb7",
   "metadata": {},
   "outputs": [],
   "source": [
    "page=Html('Python Web')\n",
    "section=DataBase()"
   ]
  },
  {
   "cell_type": "code",
   "execution_count": 10,
   "id": "ae98bc28",
   "metadata": {},
   "outputs": [],
   "source": [
    "#section.show('SEC_B', '*')"
   ]
  },
  {
   "cell_type": "code",
   "execution_count": 11,
   "id": "92e5fba2",
   "metadata": {},
   "outputs": [
    {
     "name": "stdout",
     "output_type": "stream",
     "text": [
      "Columns:  ('*',)\n",
      "SELECT * FROM marks ORDER BY id\n",
      "Tuple:  ('*',)\n"
     ]
    },
    {
     "data": {
      "text/plain": [
       "True"
      ]
     },
     "execution_count": 11,
     "metadata": {},
     "output_type": "execute_result"
    }
   ],
   "source": [
    "page.create(section.display_html('marks', '*'))"
   ]
  },
  {
   "cell_type": "code",
   "execution_count": 13,
   "id": "a735e9f4",
   "metadata": {},
   "outputs": [],
   "source": [
    "page.show()"
   ]
  },
  {
   "cell_type": "code",
   "execution_count": 14,
   "id": "77ef8098",
   "metadata": {},
   "outputs": [
    {
     "ename": "NameError",
     "evalue": "name 'cursor' is not defined",
     "output_type": "error",
     "traceback": [
      "\u001b[1;31m---------------------------------------------------------------------------\u001b[0m",
      "\u001b[1;31mNameError\u001b[0m                                 Traceback (most recent call last)",
      "\u001b[1;32m~\\AppData\\Local\\Temp\\ipykernel_5528\\1673893121.py\u001b[0m in \u001b[0;36m<module>\u001b[1;34m\u001b[0m\n\u001b[0;32m      1\u001b[0m \u001b[0msql\u001b[0m\u001b[1;33m=\u001b[0m\u001b[1;34m'ALTER marks add column gp'\u001b[0m\u001b[1;33m\u001b[0m\u001b[1;33m\u001b[0m\u001b[0m\n\u001b[1;32m----> 2\u001b[1;33m \u001b[0mcursor\u001b[0m\u001b[1;33m.\u001b[0m\u001b[0mexecute\u001b[0m\u001b[1;33m(\u001b[0m\u001b[0msql\u001b[0m\u001b[1;33m)\u001b[0m\u001b[1;33m\u001b[0m\u001b[1;33m\u001b[0m\u001b[0m\n\u001b[0m",
      "\u001b[1;31mNameError\u001b[0m: name 'cursor' is not defined"
     ]
    }
   ],
   "source": [
    "sql='ALTER marks add column gp'\n",
    "cursor.execute(sql)"
   ]
  },
  {
   "cell_type": "code",
   "execution_count": null,
   "id": "56e44e02",
   "metadata": {},
   "outputs": [],
   "source": []
  },
  {
   "cell_type": "code",
   "execution_count": null,
   "id": "4fc9b3a4",
   "metadata": {},
   "outputs": [],
   "source": [
    "if(grade=='Ex'):\n",
    "    points=10\n",
    "if(grade=='A'):\n",
    "    points=9\n",
    "if(grade=='B'):\n",
    "    points=8\n",
    "if(grade=='C'):\n",
    "    points=7\n",
    "if(grade=='D'):\n",
    "    points=6\n",
    "if(grade=='E'):\n",
    "    points=5\n",
    "if(grade=='R'):\n",
    "    points=0\n",
    "if(grade=='AB'):\n",
    "    points=0\n",
    "if(grade=='MP'):\n",
    "    points=0"
   ]
  },
  {
   "cell_type": "code",
   "execution_count": null,
   "id": "b41ba608",
   "metadata": {},
   "outputs": [],
   "source": []
  },
  {
   "cell_type": "code",
   "execution_count": null,
   "id": "16398e25",
   "metadata": {},
   "outputs": [],
   "source": []
  },
  {
   "cell_type": "code",
   "execution_count": 178,
   "id": "16c53d2b",
   "metadata": {},
   "outputs": [],
   "source": [
    "#Jyothi Code\n",
    "def fizzBuzz(n):\n",
    "    for i in range(1,n+1):\n",
    "        if(i%3==0 and i%5==0):\n",
    "            print(\"FizzBuzz\")\n",
    "        if(i%3==0 and i%5!=0):\n",
    "            print(\"Fizz\")\n",
    "        if(i%3!=0 and i%5==0):\n",
    "            print(\"Buzz\")\n",
    "        if(i%3!=0 and i%5!=0):\n",
    "            print(i)"
   ]
  },
  {
   "cell_type": "code",
   "execution_count": null,
   "id": "730b4f28",
   "metadata": {},
   "outputs": [],
   "source": []
  },
  {
   "cell_type": "code",
   "execution_count": null,
   "id": "5f8418b8",
   "metadata": {},
   "outputs": [],
   "source": []
  },
  {
   "cell_type": "code",
   "execution_count": 19,
   "id": "93b00a29",
   "metadata": {},
   "outputs": [],
   "source": [
    "import numpy as np"
   ]
  },
  {
   "cell_type": "code",
   "execution_count": null,
   "id": "7b5068b4",
   "metadata": {},
   "outputs": [],
   "source": [
    "while(True):\n",
    "    sno=np.random.randint(1, 94)\n",
    "    done=input()\n",
    "    if(sno not in completed):\n",
    "        print()\n",
    "    if(done=='y' || done==\"Y\"):\n",
    "        completed.append(sno)"
   ]
  }
 ],
 "metadata": {
  "kernelspec": {
   "display_name": "Python 3 (ipykernel)",
   "language": "python",
   "name": "python3"
  },
  "language_info": {
   "codemirror_mode": {
    "name": "ipython",
    "version": 3
   },
   "file_extension": ".py",
   "mimetype": "text/x-python",
   "name": "python",
   "nbconvert_exporter": "python",
   "pygments_lexer": "ipython3",
   "version": "3.9.13"
  }
 },
 "nbformat": 4,
 "nbformat_minor": 5
}
