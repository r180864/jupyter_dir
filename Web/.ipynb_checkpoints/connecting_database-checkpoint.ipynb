{
 "cells": [
  {
   "cell_type": "code",
   "execution_count": 54,
   "id": "7a3aabf3",
   "metadata": {},
   "outputs": [],
   "source": [
    "import pymysql"
   ]
  },
  {
   "cell_type": "code",
   "execution_count": 157,
   "id": "177f79cf",
   "metadata": {},
   "outputs": [],
   "source": [
    "class Html:\n",
    "    def __init__(self, page_title):\n",
    "        self.page_title=page_title\n",
    "        file=open(self.page_title+'.html', 'w')\n",
    "        file.close()\n",
    "    \n",
    "    def create(self, html):\n",
    "        file=open(self.page_title+'.html', 'w')\n",
    "        file.write(html)\n",
    "        file.close()\n",
    "        return True\n",
    "    \n",
    "    def show(self):\n",
    "        import webbrowser as wb\n",
    "        wb.open(self.page_title+'.html')\n",
    "        "
   ]
  },
  {
   "cell_type": "code",
   "execution_count": 170,
   "id": "61dcbaf9",
   "metadata": {},
   "outputs": [],
   "source": [
    "class DataBase:\n",
    "    def __init__(self):\n",
    "        server=pymysql.connect(host='localhost', user='root', passwd='Getin@2001', db='Attendance')\n",
    "        cursor=server.cursor()\n",
    "        self.cursor=cursor\n",
    "    \n",
    "    def show(self, table_name, *columns):\n",
    "        if(len(columns)==0):\n",
    "            return \"Please Select Columns\"\n",
    "        \n",
    "        print('Columns: ', columns)\n",
    "        sql=\"SELECT {}\".format(columns[0])\n",
    "        if(columns[0]!='*'):\n",
    "            for i in range(1, len(columns)):\n",
    "                col=columns[i]\n",
    "                sql+=\", {}\".format(columns[i])\n",
    "        sql+=\" FROM {}\".format(table_name)\n",
    "        print(sql)\n",
    "        self.cursor.execute(sql)\n",
    "        return self.cursor.fetchall()\n",
    "    \n",
    "    def display_html(self, table_name, *columns):\n",
    "        self.table_name=table_name\n",
    "        self.columns=columns\n",
    "        \n",
    "        if(len(columns)==0):\n",
    "            return \"Please Select Columns\"\n",
    "        \n",
    "        print('Columns: ', columns)\n",
    "        sql=\"SELECT {}\".format(columns[0])\n",
    "        if(columns[0]!='*'):\n",
    "            for i in range(1, len(columns)):\n",
    "                col=columns[i]\n",
    "                sql+=\", {}\".format(columns[i])\n",
    "        sql+=\" FROM {} ORDER BY s_no\".format(table_name)\n",
    "        print(sql)\n",
    "        self.cursor.execute(sql)\n",
    "        table=self.cursor.fetchall()\n",
    "        \n",
    "        html=''\n",
    "        \n",
    "       \n",
    "       # table=self.show(self.table_name, self.columns)\n",
    "        \n",
    "        print('Tuple: ', columns)\n",
    "        html+=\"<table border='1'>\"\n",
    "        \n",
    "        \n",
    "        for row in table:\n",
    "            html+=\"\\t<tr>\\n\"\n",
    "            for value in row:\n",
    "                html+=\"\\t\\t<td>{}</td>\\n\".format(value)\n",
    "            html+=\"\\t</tr>\\n\"\n",
    "        html+=\"</table>\"\n",
    "        \n",
    "        \n",
    "        return html\n",
    "\n",
    "    def describe(self, table_name):\n",
    "        sql=\"DESC {}\".format(table_name)\n",
    "        self.cursor.execute(sql)\n",
    "        return self.cursor.fetchall()\n",
    "        "
   ]
  },
  {
   "cell_type": "code",
   "execution_count": 171,
   "id": "67020cb7",
   "metadata": {},
   "outputs": [],
   "source": [
    "page=Html('Python Web')\n",
    "section=DataBase()"
   ]
  },
  {
   "cell_type": "code",
   "execution_count": 172,
   "id": "ae98bc28",
   "metadata": {},
   "outputs": [
    {
     "name": "stdout",
     "output_type": "stream",
     "text": [
      "Columns:  ('*',)\n",
      "SELECT * FROM SEC_B\n"
     ]
    },
    {
     "data": {
      "text/plain": [
       "((72, 'O180543', 'VASANTHAM VISWANATHA', 'M', 'CSE', 'Sec-B'),\n",
       " (44, 'O180897', 'SYED HABEEBA SULTHANA', 'F', 'CSE', 'Sec-B'),\n",
       " (50, 'R170908', 'KATRAM HEMA LATHA', 'F', 'CSE', 'Sec-B'),\n",
       " (33, 'R171061', 'MANALA ANUSHA', 'F', 'CSE', 'Sec-B'),\n",
       " (42, 'R180002', 'NARISETTY SUNANDHA', 'F', 'CSE', 'Sec-B'),\n",
       " (23, 'R180004', 'GOVINDU REDDY LATHA', 'F', 'CSE', 'Sec-B'),\n",
       " (32, 'R180009', 'MALLELA CHANDINI', 'F', 'CSE', 'Sec-B'),\n",
       " (75, 'R180016', 'ANNAM TARUN KUMAR', 'M', 'CSE', 'Sec-B'),\n",
       " (65, 'R180039', 'NIDIGINTI GUNA SAI VAMSIDHAR', 'M', 'CSE', 'Sec-B'),\n",
       " (52, 'R180050', 'KOTHINTI SHAIK SHAMA ANJUM', 'F', 'CSE', 'Sec-B'),\n",
       " (43, 'R180059', 'SHAIK SHABREEN', 'F', 'CSE', 'Sec-B'),\n",
       " (49, 'R180073', 'KAMASANI MADHAVI', 'F', 'CSE', 'Sec-B'),\n",
       " (76, 'R180082', 'KAVALAKUNTLA MANIKUMAR', 'M', 'CSE', 'Sec-B'),\n",
       " (86, 'R180086', 'ISLAVATH SATHISH NAIK', 'M', 'CSE', 'Sec-B'),\n",
       " (31, 'R180114', 'MALA SINDHU', 'F', 'CSE', 'Sec-B'),\n",
       " (36, 'R180115', 'MANGALI LALITHA', 'F', 'CSE', 'Sec-B'),\n",
       " (78, 'R180119', 'PALLA DINESH', 'M', 'CSE', 'Sec-B'),\n",
       " (7, 'R180133', 'BANDLA SNEHA', 'F', 'CSE', 'Sec-B'),\n",
       " (22, 'R180154', 'GORRELA RAMADEVI', 'F', 'CSE', 'Sec-B'),\n",
       " (20, 'R180155', 'GODUGUCHINTHA PREETHI', 'F', 'CSE', 'Sec-B'),\n",
       " (16, 'R180161', 'GABU SOUJANYA', 'F', 'CSE', 'Sec-B'),\n",
       " (25, 'R180163', 'KANCHI VAISHNAVI', 'F', 'CSE', 'Sec-B'),\n",
       " (4, 'R180168', 'B IKRIYA', 'F', 'CSE', 'Sec-B'),\n",
       " (35, 'R180237', 'MANGALAPURI DHARANI', 'F', 'CSE', 'Sec-B'),\n",
       " (84, 'R180244', 'CHILLA JOY JOSHUA PAUL', 'M', 'CSE', 'Sec-B'),\n",
       " (27, 'R180253', 'KANIPAKAM PAVANI TEJA', 'F', 'CSE', 'Sec-B'),\n",
       " (40, 'R180259', 'NALLAKUKKALA SILPA', 'F', 'CSE', 'Sec-B'),\n",
       " (55, 'R180271', 'MADIGA INDU', 'F', 'CSE', 'Sec-B'),\n",
       " (82, 'R180295', 'KONDRAKUNTA LAVAKUMAR', 'M', 'CSE', 'Sec-B'),\n",
       " (13, 'R180320', 'C YUVARANI', 'F', 'CSE', 'Sec-B'),\n",
       " (77, 'R180354', 'NEELAGIRI DEEPAK', 'M', 'CSE', 'Sec-B'),\n",
       " (14, 'R180357', 'CHEDIPOTHULA MADHAVI', 'F', 'CSE', 'Sec-B'),\n",
       " (34, 'R180364', 'MANANDIGARI PREMA PAVANI', 'F', 'CSE', 'Sec-B'),\n",
       " (9, 'R180373', 'BOYA NAGAMANI', 'F', 'CSE', 'Sec-B'),\n",
       " (6, 'R180381', 'BANDI LAVANYA', 'F', 'CSE', 'Sec-B'),\n",
       " (70, 'R180389', 'N UDAY KIRAN', 'M', 'CSE', 'Sec-B'),\n",
       " (62, 'R180399', 'JAMALLA KRISHNA CHARAN', 'M', 'CSE', 'Sec-B'),\n",
       " (21, 'R180432', 'GOLLAPUDI PRAJWALA', 'F', 'CSE', 'Sec-B'),\n",
       " (46, 'R180435', 'GUDISI CHANDANA', 'F', 'CSE', 'Sec-B'),\n",
       " (17, 'R180436', 'GAGGUTURI AYESHA', 'F', 'CSE', 'Sec-B'),\n",
       " (47, 'R180457', 'KALAMANDALA MOUNIKA', 'F', 'CSE', 'Sec-B'),\n",
       " (68, 'R180467', 'CHAKKA VISHNU VARDHAN', 'M', 'CSE', 'Sec-B'),\n",
       " (5, 'R180470', 'BADDELA NANDINI', 'F', 'CSE', 'Sec-B'),\n",
       " (69, 'R180475', 'ASADI SASIKIRAN YADAV', 'M', 'CSE', 'Sec-B'),\n",
       " (93, 'R180493', 'SEELA MANOJ KUMAR', 'M', 'CSE', 'Sec-B'),\n",
       " (10, 'R180505', 'BOYA RUPADEVI', 'F', 'CSE', 'Sec-B'),\n",
       " (60, 'R180538', 'HULEBEEDU VINOD KUMAR', 'M', 'CSE', 'Sec-B'),\n",
       " (85, 'R180559', 'NEELURI GUNASEKHAR', 'M', 'CSE', 'Sec-B'),\n",
       " (3, 'R180562', 'AVULASETTY DEVIKA', 'F', 'CSE', 'Sec-B'),\n",
       " (37, 'R180568', 'MANJUNATH REDDY ARCHANA', 'F', 'CSE', 'Sec-B'),\n",
       " (29, 'R180583', 'KARRE DIVYA', 'F', 'CSE', 'Sec-B'),\n",
       " (59, 'R180610', 'BOYA SRINIVASULU', 'M', 'CSE', 'Sec-B'),\n",
       " (12, 'R180613', 'C PRIYANKA', 'F', 'CSE', 'Sec-B'),\n",
       " (56, 'R180615', 'MALLAKUNTA MANOJ KUMAR', 'M', 'CSE', 'Sec-B'),\n",
       " (89, 'R180625', 'KUMMARA RAGHAVA', 'M', 'CSE', 'Sec-B'),\n",
       " (66, 'R180634', 'JARIPITI CHANDU', 'M', 'CSE', 'Sec-B'),\n",
       " (30, 'R180639', 'KATIKA AFIFA AMRIN', 'F', 'CSE', 'Sec-B'),\n",
       " (2, 'R180645', 'ATTAR MUSFIRAKOUSAR', 'F', 'CSE', 'Sec-B'),\n",
       " (11, 'R180673', 'BRAHMANAPALLI MANASA', 'F', 'CSE', 'Sec-B'),\n",
       " (83, 'R180683', 'AVULA DINESH', 'M', 'CSE', 'Sec-B'),\n",
       " (57, 'R180697', 'KOLLAPALLI LOKESH', 'M', 'CSE', 'Sec-B'),\n",
       " (41, 'R180707', 'NARAYANA KALYANI', 'F', 'CSE', 'Sec-B'),\n",
       " (19, 'R180721', 'GANTEELA TULASI', 'F', 'CSE', 'Sec-B'),\n",
       " (87, 'R180736', 'MEENUGA SUMAN SEKHAR', 'M', 'CSE', 'Sec-B'),\n",
       " (61, 'R180738', 'KOLEGUNDLA VENKATA KALYAN', 'M', 'CSE', 'Sec-B'),\n",
       " (1, 'R180765', 'ARURU DEEPTHI', 'F', 'CSE', 'Sec-B'),\n",
       " (45, 'R180773', 'GOWRAVA GAYATHRI', 'F', 'CSE', 'Sec-B'),\n",
       " (51, 'R180784', 'KOTHAPU NAGA PREETHI', 'F', 'CSE', 'Sec-B'),\n",
       " (53, 'R180787', 'KUKATLAPALLI SUDHA RANI', 'F', 'CSE', 'Sec-B'),\n",
       " (15, 'R180789', 'G DIVYA', 'F', 'CSE', 'Sec-B'),\n",
       " (54, 'R180809', 'KULLAMPALLI HEMA MADHURI', 'F', 'CSE', 'Sec-B'),\n",
       " (81, 'R180814', 'P SAI SANDEEP', 'M', 'CSE', 'Sec-B'),\n",
       " (80, 'R180821', 'JAGU RAJA VINAY', 'M', 'CSE', 'Sec-B'),\n",
       " (88, 'R180836', 'MALLAPPA HAREESH', 'M', 'CSE', 'Sec-B'),\n",
       " (91, 'R180861', 'SAKE SAI KUMAR', 'M', 'CSE', 'Sec-B'),\n",
       " (64, 'R180864', 'MADDINENI ANIL KUMAR', 'M', 'CSE', 'Sec-B'),\n",
       " (18, 'R180870', 'GAJJA KAVITHA', 'F', 'CSE', 'Sec-B'),\n",
       " (24, 'R180875', 'KAMBALA DIVYA SREE', 'F', 'CSE', 'Sec-B'),\n",
       " (48, 'R180885', 'KAMASANI JAYASREE', 'F', 'CSE', 'Sec-B'),\n",
       " (79, 'R180886', 'BUKKE ABHILASH NAIK', 'M', 'CSE', 'Sec-B'),\n",
       " (71, 'R180898', 'SANGA ZAREESH SAI VIGNESH', 'M', 'CSE', 'Sec-B'),\n",
       " (28, 'R180901', 'KARIYAR MADHAVI', 'F', 'CSE', 'Sec-B'),\n",
       " (38, 'R180931', 'MULLA SHAMSHADBEGUM', 'F', 'CSE', 'Sec-B'),\n",
       " (58, 'R180965', 'POTLI MURALI MOHAN', 'M', 'CSE', 'Sec-B'),\n",
       " (67, 'R180973', 'UPPALA SANDEEP', 'M', 'CSE', 'Sec-B'),\n",
       " (8, 'R180984', 'BOYA MOUNIKA', 'F', 'CSE', 'Sec-B'),\n",
       " (73, 'R180993', 'SABBARAPU HARSHA VARDHAN', 'M', 'CSE', 'Sec-B'),\n",
       " (90, 'R181011', 'VENDOTI VENKATA SAI KUMAR', 'M', 'CSE', 'Sec-B'),\n",
       " (63, 'R181015', 'TALARI LOKESH', 'M', 'CSE', 'Sec-B'),\n",
       " (92, 'R181022', 'GUNDLURU NIKHIL', 'M', 'CSE', 'Sec-B'),\n",
       " (74, 'R181030', 'MALINENI LAKSHMI NARAYANA', 'M', 'CSE', 'Sec-B'),\n",
       " (26, 'R181053', 'KANDIPATI LAKSHMI SOWJANYA', 'F', 'CSE', 'Sec-B'),\n",
       " (39, 'S180901', 'NAKKALADINNE MAMATHA', 'F', 'CSE', 'Sec-B'))"
      ]
     },
     "execution_count": 172,
     "metadata": {},
     "output_type": "execute_result"
    }
   ],
   "source": [
    "section.show('SEC_B', '*')"
   ]
  },
  {
   "cell_type": "code",
   "execution_count": 176,
   "id": "92e5fba2",
   "metadata": {},
   "outputs": [
    {
     "name": "stdout",
     "output_type": "stream",
     "text": [
      "Columns:  ('*',)\n",
      "SELECT * FROM SEC_B ORDER BY s_no\n",
      "Tuple:  ('*',)\n"
     ]
    },
    {
     "data": {
      "text/plain": [
       "True"
      ]
     },
     "execution_count": 176,
     "metadata": {},
     "output_type": "execute_result"
    }
   ],
   "source": [
    "page.create(section.display_html('SEC_B', '*'))"
   ]
  },
  {
   "cell_type": "code",
   "execution_count": 177,
   "id": "a735e9f4",
   "metadata": {},
   "outputs": [],
   "source": [
    "page.show()"
   ]
  },
  {
   "cell_type": "code",
   "execution_count": null,
   "id": "4fc9b3a4",
   "metadata": {},
   "outputs": [],
   "source": []
  },
  {
   "cell_type": "code",
   "execution_count": null,
   "id": "b41ba608",
   "metadata": {},
   "outputs": [],
   "source": []
  },
  {
   "cell_type": "code",
   "execution_count": null,
   "id": "16398e25",
   "metadata": {},
   "outputs": [],
   "source": []
  },
  {
   "cell_type": "code",
   "execution_count": 178,
   "id": "16c53d2b",
   "metadata": {},
   "outputs": [],
   "source": [
    "#Jyothi Code\n",
    "def fizzBuzz(n):\n",
    "    for i in range(1,n+1):\n",
    "        if(i%3==0 and i%5==0):\n",
    "            print(\"FizzBuzz\")\n",
    "        if(i%3==0 and i%5!=0):\n",
    "            print(\"Fizz\")\n",
    "        if(i%3!=0 and i%5==0):\n",
    "            print(\"Buzz\")\n",
    "        if(i%3!=0 and i%5!=0):\n",
    "            print(i)"
   ]
  },
  {
   "cell_type": "code",
   "execution_count": null,
   "id": "730b4f28",
   "metadata": {},
   "outputs": [],
   "source": []
  }
 ],
 "metadata": {
  "kernelspec": {
   "display_name": "Python 3 (ipykernel)",
   "language": "python",
   "name": "python3"
  },
  "language_info": {
   "codemirror_mode": {
    "name": "ipython",
    "version": 3
   },
   "file_extension": ".py",
   "mimetype": "text/x-python",
   "name": "python",
   "nbconvert_exporter": "python",
   "pygments_lexer": "ipython3",
   "version": "3.9.7"
  }
 },
 "nbformat": 4,
 "nbformat_minor": 5
}
