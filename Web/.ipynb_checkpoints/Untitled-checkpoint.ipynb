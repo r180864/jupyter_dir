{
 "cells": [
  {
   "cell_type": "code",
   "execution_count": 13,
   "id": "e53ec76f",
   "metadata": {},
   "outputs": [
    {
     "name": "stdout",
     "output_type": "stream",
     "text": [
      "Requirement already satisfied: selenium in c:\\users\\dell\\anaconda3\\lib\\site-packages (4.7.2)\n",
      "Requirement already satisfied: trio~=0.17 in c:\\users\\dell\\anaconda3\\lib\\site-packages (from selenium) (0.22.0)\n",
      "Requirement already satisfied: certifi>=2021.10.8 in c:\\users\\dell\\anaconda3\\lib\\site-packages (from selenium) (2022.9.14)\n",
      "Requirement already satisfied: urllib3[socks]~=1.26 in c:\\users\\dell\\anaconda3\\lib\\site-packages (from selenium) (1.26.11)\n",
      "Requirement already satisfied: trio-websocket~=0.9 in c:\\users\\dell\\anaconda3\\lib\\site-packages (from selenium) (0.9.2)\n",
      "Requirement already satisfied: attrs>=19.2.0 in c:\\users\\dell\\anaconda3\\lib\\site-packages (from trio~=0.17->selenium) (21.4.0)\n",
      "Requirement already satisfied: cffi>=1.14 in c:\\users\\dell\\anaconda3\\lib\\site-packages (from trio~=0.17->selenium) (1.15.1)\n",
      "Requirement already satisfied: exceptiongroup>=1.0.0rc9 in c:\\users\\dell\\anaconda3\\lib\\site-packages (from trio~=0.17->selenium) (1.1.0)\n",
      "Requirement already satisfied: outcome in c:\\users\\dell\\anaconda3\\lib\\site-packages (from trio~=0.17->selenium) (1.2.0)\n",
      "Requirement already satisfied: idna in c:\\users\\dell\\anaconda3\\lib\\site-packages (from trio~=0.17->selenium) (3.3)\n",
      "Requirement already satisfied: sortedcontainers in c:\\users\\dell\\anaconda3\\lib\\site-packages (from trio~=0.17->selenium) (2.4.0)\n",
      "Requirement already satisfied: async-generator>=1.9 in c:\\users\\dell\\anaconda3\\lib\\site-packages (from trio~=0.17->selenium) (1.10)\n",
      "Requirement already satisfied: sniffio in c:\\users\\dell\\anaconda3\\lib\\site-packages (from trio~=0.17->selenium) (1.2.0)\n",
      "Requirement already satisfied: wsproto>=0.14 in c:\\users\\dell\\anaconda3\\lib\\site-packages (from trio-websocket~=0.9->selenium) (1.2.0)\n",
      "Requirement already satisfied: PySocks!=1.5.7,<2.0,>=1.5.6 in c:\\users\\dell\\anaconda3\\lib\\site-packages (from urllib3[socks]~=1.26->selenium) (1.7.1)\n",
      "Requirement already satisfied: pycparser in c:\\users\\dell\\anaconda3\\lib\\site-packages (from cffi>=1.14->trio~=0.17->selenium) (2.21)\n",
      "Requirement already satisfied: h11<1,>=0.9.0 in c:\\users\\dell\\anaconda3\\lib\\site-packages (from wsproto>=0.14->trio-websocket~=0.9->selenium) (0.14.0)\n",
      "Note: you may need to restart the kernel to use updated packages.\n"
     ]
    }
   ],
   "source": [
    "pip install selenium"
   ]
  },
  {
   "cell_type": "code",
   "execution_count": null,
   "id": "c335e5bd",
   "metadata": {},
   "outputs": [],
   "source": []
  },
  {
   "cell_type": "code",
   "execution_count": 4,
   "id": "e596bd0a",
   "metadata": {},
   "outputs": [],
   "source": [
    "from selenium import webdriver"
   ]
  },
  {
   "cell_type": "code",
   "execution_count": 5,
   "id": "590aadda",
   "metadata": {},
   "outputs": [],
   "source": [
    "import os"
   ]
  },
  {
   "cell_type": "code",
   "execution_count": 6,
   "id": "e3e07e0c",
   "metadata": {},
   "outputs": [],
   "source": [
    "path=\"C:\\\\Users\\\\Dell\\\\Downloads\\\\chromedriver\""
   ]
  },
  {
   "cell_type": "code",
   "execution_count": 7,
   "id": "2b5b83e5",
   "metadata": {},
   "outputs": [
    {
     "name": "stderr",
     "output_type": "stream",
     "text": [
      "C:\\Users\\Dell\\AppData\\Local\\Temp\\ipykernel_1308\\2107036205.py:1: DeprecationWarning: executable_path has been deprecated, please pass in a Service object\n",
      "  driver = webdriver.Chrome(path)\n"
     ]
    }
   ],
   "source": [
    "driver = webdriver.Chrome(path)"
   ]
  },
  {
   "cell_type": "code",
   "execution_count": 12,
   "id": "0704a090",
   "metadata": {},
   "outputs": [],
   "source": [
    "def login(url, username, password):\n",
    "    path='C:\\\\Users\\\\Dell\\\\Downloads\\\\chromedriver'\n",
    "    driver = webdriver.Chrome(path)\n",
    "    \n",
    "    driver.get(url)\n",
    "    driver.find_element('name', \"id\").send_keys(username)\n",
    "    driver.find_element('name', \"pwd\").send_keys(password)\n",
    "    driver.find_element('name', \"submit\").click()"
   ]
  },
  {
   "cell_type": "code",
   "execution_count": 13,
   "id": "6bf27d50",
   "metadata": {},
   "outputs": [
    {
     "name": "stderr",
     "output_type": "stream",
     "text": [
      "C:\\Users\\Dell\\AppData\\Local\\Temp\\ipykernel_1308\\1211251490.py:3: DeprecationWarning: executable_path has been deprecated, please pass in a Service object\n",
      "  driver = webdriver.Chrome(path)\n"
     ]
    }
   ],
   "source": [
    "login('http://localhost/Attendance/.admin/', 'R180864', 'RamukLinam@123')"
   ]
  },
  {
   "cell_type": "code",
   "execution_count": 9,
   "id": "f171cef4",
   "metadata": {},
   "outputs": [],
   "source": [
    "driver??"
   ]
  },
  {
   "cell_type": "code",
   "execution_count": 1,
   "id": "c5ba76b2",
   "metadata": {},
   "outputs": [],
   "source": [
    "\n",
    "# Used to import the webdriver from selenium\n",
    "from selenium import webdriver \n",
    "import os\n",
    " \n",
    "# Get the path of chromedriver which you have install\n",
    " \n",
    "def startBot(username, password, url):\n",
    "    path = \"C:\\\\Users\\\\Dell\\\\Downloads\\\\chromedriver\"\n",
    "     \n",
    "    # giving the path of chromedriver to selenium webdriver\n",
    "    driver = webdriver.Chrome(path)\n",
    "     \n",
    "    # opening the website  in chrome.\n",
    "    driver.get(url)\n",
    "     \n",
    "    # find the id or name or class of\n",
    "    # username by inspecting on username input\n",
    "    driver.find_element_by_name(\n",
    "        \"id\").send_keys(username)\n",
    "     \n",
    "    # find the password by inspecting on password input\n",
    "    driver.find_element_by_name(\n",
    "        \"pwd\").send_keys(password)\n",
    "     \n",
    "    # click on submit\n",
    "    driver.find_element_by_name(\n",
    "        \"submit\").click()\n",
    " \n",
    " \n",
    "# Driver Code\n",
    "# Enter below your login credentials\n",
    "username = \"R180864\"\n",
    "password = \"RamukLinam@123\"\n",
    " \n",
    "# URL of the login page of site\n",
    "# which you want to automate login.\n",
    "url = \"http://localhost/Attendance/.admin/\"\n",
    " \n",
    "# Call the function\n"
   ]
  },
  {
   "cell_type": "code",
   "execution_count": 2,
   "id": "7147fcb6",
   "metadata": {},
   "outputs": [
    {
     "name": "stderr",
     "output_type": "stream",
     "text": [
      "C:\\Users\\Dell\\AppData\\Local\\Temp\\ipykernel_1308\\851016929.py:11: DeprecationWarning: executable_path has been deprecated, please pass in a Service object\n",
      "  driver = webdriver.Chrome(path)\n"
     ]
    },
    {
     "ename": "AttributeError",
     "evalue": "'WebDriver' object has no attribute 'find_element_by_name'",
     "output_type": "error",
     "traceback": [
      "\u001b[1;31m---------------------------------------------------------------------------\u001b[0m",
      "\u001b[1;31mAttributeError\u001b[0m                            Traceback (most recent call last)",
      "\u001b[1;32m~\\AppData\\Local\\Temp\\ipykernel_1308\\3522032203.py\u001b[0m in \u001b[0;36m<module>\u001b[1;34m\u001b[0m\n\u001b[1;32m----> 1\u001b[1;33m \u001b[0mstartBot\u001b[0m\u001b[1;33m(\u001b[0m\u001b[0musername\u001b[0m\u001b[1;33m,\u001b[0m \u001b[0mpassword\u001b[0m\u001b[1;33m,\u001b[0m \u001b[0murl\u001b[0m\u001b[1;33m)\u001b[0m\u001b[1;33m\u001b[0m\u001b[1;33m\u001b[0m\u001b[0m\n\u001b[0m",
      "\u001b[1;32m~\\AppData\\Local\\Temp\\ipykernel_1308\\851016929.py\u001b[0m in \u001b[0;36mstartBot\u001b[1;34m(username, password, url)\u001b[0m\n\u001b[0;32m     16\u001b[0m     \u001b[1;31m# find the id or name or class of\u001b[0m\u001b[1;33m\u001b[0m\u001b[1;33m\u001b[0m\u001b[0m\n\u001b[0;32m     17\u001b[0m     \u001b[1;31m# username by inspecting on username input\u001b[0m\u001b[1;33m\u001b[0m\u001b[1;33m\u001b[0m\u001b[0m\n\u001b[1;32m---> 18\u001b[1;33m     driver.find_element_by_name(\n\u001b[0m\u001b[0;32m     19\u001b[0m         \"id\").send_keys(username)\n\u001b[0;32m     20\u001b[0m \u001b[1;33m\u001b[0m\u001b[0m\n",
      "\u001b[1;31mAttributeError\u001b[0m: 'WebDriver' object has no attribute 'find_element_by_name'"
     ]
    }
   ],
   "source": [
    "startBot(username, password, url)"
   ]
  },
  {
   "cell_type": "code",
   "execution_count": null,
   "id": "0abb5179",
   "metadata": {},
   "outputs": [],
   "source": []
  },
  {
   "cell_type": "code",
   "execution_count": null,
   "id": "3bfac6f1",
   "metadata": {},
   "outputs": [],
   "source": []
  },
  {
   "cell_type": "code",
   "execution_count": null,
   "id": "1928f5f7",
   "metadata": {},
   "outputs": [],
   "source": [
    "web.go_to('http://localhost/Attendance/.admin/')\n",
    "web.type('R180864', into='id')\n",
    "web.type('RamukLimam@123', into='pwd')\n",
    "web.click('submit')"
   ]
  },
  {
   "cell_type": "code",
   "execution_count": null,
   "id": "f182d83a",
   "metadata": {},
   "outputs": [],
   "source": []
  },
  {
   "cell_type": "code",
   "execution_count": null,
   "id": "10b0ebca",
   "metadata": {},
   "outputs": [],
   "source": []
  },
  {
   "cell_type": "code",
   "execution_count": null,
   "id": "2b706107",
   "metadata": {},
   "outputs": [],
   "source": []
  },
  {
   "cell_type": "code",
   "execution_count": 18,
   "id": "c7230da1",
   "metadata": {},
   "outputs": [
    {
     "name": "stderr",
     "output_type": "stream",
     "text": [
      "C:\\Users\\Dell\\AppData\\Local\\Temp\\ipykernel_1308\\3582484388.py:3: DeprecationWarning: executable_path has been deprecated, please pass in a Service object\n",
      "  driver=webdriver.Chrome(\"C:\\\\Users\\\\Dell\\\\Downloads\\\\chromedriver\")\n"
     ]
    }
   ],
   "source": [
    "from selenium import webdriver\n",
    "import os\n",
    "driver=webdriver.Chrome(\"C:\\\\Users\\\\Dell\\\\Downloads\\\\chromedriver\")"
   ]
  },
  {
   "cell_type": "code",
   "execution_count": null,
   "id": "a79ea5c2",
   "metadata": {},
   "outputs": [],
   "source": [
    "\n",
    "driver.get('http://localhost/Attendance')\n",
    "driver.find_element('name', \"id\").send_keys('R180864'))\n",
    "driver.find_element('name', \"submit\").click()"
   ]
  }
 ],
 "metadata": {
  "kernelspec": {
   "display_name": "Python 3 (ipykernel)",
   "language": "python",
   "name": "python3"
  },
  "language_info": {
   "codemirror_mode": {
    "name": "ipython",
    "version": 3
   },
   "file_extension": ".py",
   "mimetype": "text/x-python",
   "name": "python",
   "nbconvert_exporter": "python",
   "pygments_lexer": "ipython3",
   "version": "3.9.13"
  }
 },
 "nbformat": 4,
 "nbformat_minor": 5
}
