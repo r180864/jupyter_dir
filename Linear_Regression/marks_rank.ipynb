{
 "cells": [
  {
   "cell_type": "markdown",
   "id": "c1f8ab27",
   "metadata": {},
   "source": [
    "# Predicting Rank based on Marks"
   ]
  },
  {
   "cell_type": "code",
   "execution_count": 207,
   "id": "7d0a648f",
   "metadata": {},
   "outputs": [],
   "source": [
    "import pandas as pd\n",
    "import numpy as np\n",
    "from sklearn.model_selection import train_test_split\n",
    "from sklearn.linear_model import LinearRegression"
   ]
  },
  {
   "cell_type": "code",
   "execution_count": 208,
   "id": "d58d051c",
   "metadata": {},
   "outputs": [],
   "source": [
    "marks=pd.read_excel('CGPA and Average Grade Point details for Branch Allocation AY2020-21.xlsx')"
   ]
  },
  {
   "cell_type": "code",
   "execution_count": 209,
   "id": "f645b06c",
   "metadata": {},
   "outputs": [
    {
     "data": {
      "text/html": [
       "<div>\n",
       "<style scoped>\n",
       "    .dataframe tbody tr th:only-of-type {\n",
       "        vertical-align: middle;\n",
       "    }\n",
       "\n",
       "    .dataframe tbody tr th {\n",
       "        vertical-align: top;\n",
       "    }\n",
       "\n",
       "    .dataframe thead th {\n",
       "        text-align: right;\n",
       "    }\n",
       "</style>\n",
       "<table border=\"1\" class=\"dataframe\">\n",
       "  <thead>\n",
       "    <tr style=\"text-align: right;\">\n",
       "      <th></th>\n",
       "      <th>S.No</th>\n",
       "      <th>Roll Number</th>\n",
       "      <th>Number of remedials</th>\n",
       "      <th>CGPA (upto P2S2)</th>\n",
       "      <th>Average GP of Maths in PUC</th>\n",
       "      <th>Average GP of Physics in PUC</th>\n",
       "      <th>Average GP of Chemistry in PUC</th>\n",
       "      <th>Eligible for Branch allocation ?</th>\n",
       "      <th>Rank</th>\n",
       "    </tr>\n",
       "  </thead>\n",
       "  <tbody>\n",
       "    <tr>\n",
       "      <th>0</th>\n",
       "      <td>1</td>\n",
       "      <td>N170822</td>\n",
       "      <td>0</td>\n",
       "      <td>7.66</td>\n",
       "      <td>7.25</td>\n",
       "      <td>7.25</td>\n",
       "      <td>7.25</td>\n",
       "      <td>YES</td>\n",
       "      <td>Rank No : 719</td>\n",
       "    </tr>\n",
       "    <tr>\n",
       "      <th>1</th>\n",
       "      <td>2</td>\n",
       "      <td>N180059</td>\n",
       "      <td>0</td>\n",
       "      <td>6.55</td>\n",
       "      <td>6.25</td>\n",
       "      <td>6.00</td>\n",
       "      <td>6.00</td>\n",
       "      <td>YES</td>\n",
       "      <td>Rank No : 1084</td>\n",
       "    </tr>\n",
       "    <tr>\n",
       "      <th>2</th>\n",
       "      <td>3</td>\n",
       "      <td>N180154</td>\n",
       "      <td>0</td>\n",
       "      <td>8.35</td>\n",
       "      <td>8.25</td>\n",
       "      <td>8.00</td>\n",
       "      <td>7.75</td>\n",
       "      <td>YES</td>\n",
       "      <td>Rank No : 432</td>\n",
       "    </tr>\n",
       "    <tr>\n",
       "      <th>3</th>\n",
       "      <td>4</td>\n",
       "      <td>N180156</td>\n",
       "      <td>0</td>\n",
       "      <td>8.59</td>\n",
       "      <td>8.50</td>\n",
       "      <td>8.25</td>\n",
       "      <td>8.00</td>\n",
       "      <td>YES</td>\n",
       "      <td>Rank No : 335</td>\n",
       "    </tr>\n",
       "    <tr>\n",
       "      <th>4</th>\n",
       "      <td>5</td>\n",
       "      <td>N180300</td>\n",
       "      <td>0</td>\n",
       "      <td>7.95</td>\n",
       "      <td>8.00</td>\n",
       "      <td>7.50</td>\n",
       "      <td>7.75</td>\n",
       "      <td>YES</td>\n",
       "      <td>Rank No : 609</td>\n",
       "    </tr>\n",
       "  </tbody>\n",
       "</table>\n",
       "</div>"
      ],
      "text/plain": [
       "   S.No Roll Number  Number of remedials  CGPA (upto P2S2)  \\\n",
       "0     1     N170822                    0              7.66   \n",
       "1     2     N180059                    0              6.55   \n",
       "2     3     N180154                    0              8.35   \n",
       "3     4     N180156                    0              8.59   \n",
       "4     5     N180300                    0              7.95   \n",
       "\n",
       "   Average GP of Maths in PUC  Average GP of Physics in PUC  \\\n",
       "0                        7.25                          7.25   \n",
       "1                        6.25                          6.00   \n",
       "2                        8.25                          8.00   \n",
       "3                        8.50                          8.25   \n",
       "4                        8.00                          7.50   \n",
       "\n",
       "   Average GP of Chemistry in PUC Eligible for Branch allocation ?  \\\n",
       "0                            7.25                              YES   \n",
       "1                            6.00                              YES   \n",
       "2                            7.75                              YES   \n",
       "3                            8.00                              YES   \n",
       "4                            7.75                              YES   \n",
       "\n",
       "             Rank  \n",
       "0   Rank No : 719  \n",
       "1  Rank No : 1084  \n",
       "2   Rank No : 432  \n",
       "3   Rank No : 335  \n",
       "4   Rank No : 609  "
      ]
     },
     "execution_count": 209,
     "metadata": {},
     "output_type": "execute_result"
    }
   ],
   "source": [
    "marks.head()"
   ]
  },
  {
   "cell_type": "code",
   "execution_count": 210,
   "id": "49ab560d",
   "metadata": {},
   "outputs": [
    {
     "name": "stdout",
     "output_type": "stream",
     "text": [
      "<class 'pandas.core.frame.DataFrame'>\n",
      "RangeIndex: 1277 entries, 0 to 1276\n",
      "Data columns (total 9 columns):\n",
      " #   Column                            Non-Null Count  Dtype  \n",
      "---  ------                            --------------  -----  \n",
      " 0   S.No                              1277 non-null   int64  \n",
      " 1   Roll Number                       1277 non-null   object \n",
      " 2   Number of remedials               1277 non-null   int64  \n",
      " 3   CGPA (upto P2S2)                  1277 non-null   float64\n",
      " 4   Average GP of Maths in PUC        1277 non-null   float64\n",
      " 5   Average GP of Physics in PUC      1277 non-null   float64\n",
      " 6   Average GP of Chemistry in PUC    1277 non-null   float64\n",
      " 7   Eligible for Branch allocation ?  1277 non-null   object \n",
      " 8   Rank                              441 non-null    object \n",
      "dtypes: float64(4), int64(2), object(3)\n",
      "memory usage: 89.9+ KB\n"
     ]
    }
   ],
   "source": [
    "marks.info()"
   ]
  },
  {
   "cell_type": "code",
   "execution_count": 211,
   "id": "7b0a1398",
   "metadata": {},
   "outputs": [
    {
     "data": {
      "text/html": [
       "<div>\n",
       "<style scoped>\n",
       "    .dataframe tbody tr th:only-of-type {\n",
       "        vertical-align: middle;\n",
       "    }\n",
       "\n",
       "    .dataframe tbody tr th {\n",
       "        vertical-align: top;\n",
       "    }\n",
       "\n",
       "    .dataframe thead th {\n",
       "        text-align: right;\n",
       "    }\n",
       "</style>\n",
       "<table border=\"1\" class=\"dataframe\">\n",
       "  <thead>\n",
       "    <tr style=\"text-align: right;\">\n",
       "      <th></th>\n",
       "      <th>count</th>\n",
       "      <th>mean</th>\n",
       "      <th>std</th>\n",
       "      <th>min</th>\n",
       "      <th>25%</th>\n",
       "      <th>50%</th>\n",
       "      <th>75%</th>\n",
       "      <th>max</th>\n",
       "    </tr>\n",
       "  </thead>\n",
       "  <tbody>\n",
       "    <tr>\n",
       "      <th>S.No</th>\n",
       "      <td>1277.0</td>\n",
       "      <td>639.000000</td>\n",
       "      <td>368.782456</td>\n",
       "      <td>1.0</td>\n",
       "      <td>320.00</td>\n",
       "      <td>639.00</td>\n",
       "      <td>958.00</td>\n",
       "      <td>1277.00</td>\n",
       "    </tr>\n",
       "    <tr>\n",
       "      <th>Number of remedials</th>\n",
       "      <td>1277.0</td>\n",
       "      <td>0.521535</td>\n",
       "      <td>2.172906</td>\n",
       "      <td>0.0</td>\n",
       "      <td>0.00</td>\n",
       "      <td>0.00</td>\n",
       "      <td>0.00</td>\n",
       "      <td>27.00</td>\n",
       "    </tr>\n",
       "    <tr>\n",
       "      <th>CGPA (upto P2S2)</th>\n",
       "      <td>1277.0</td>\n",
       "      <td>7.704002</td>\n",
       "      <td>1.409733</td>\n",
       "      <td>0.0</td>\n",
       "      <td>7.05</td>\n",
       "      <td>7.89</td>\n",
       "      <td>8.63</td>\n",
       "      <td>9.95</td>\n",
       "    </tr>\n",
       "    <tr>\n",
       "      <th>Average GP of Maths in PUC</th>\n",
       "      <td>1277.0</td>\n",
       "      <td>7.590446</td>\n",
       "      <td>1.378440</td>\n",
       "      <td>0.0</td>\n",
       "      <td>6.75</td>\n",
       "      <td>7.75</td>\n",
       "      <td>8.50</td>\n",
       "      <td>10.00</td>\n",
       "    </tr>\n",
       "    <tr>\n",
       "      <th>Average GP of Physics in PUC</th>\n",
       "      <td>1277.0</td>\n",
       "      <td>7.601997</td>\n",
       "      <td>1.434066</td>\n",
       "      <td>0.0</td>\n",
       "      <td>7.00</td>\n",
       "      <td>7.75</td>\n",
       "      <td>8.50</td>\n",
       "      <td>10.00</td>\n",
       "    </tr>\n",
       "    <tr>\n",
       "      <th>Average GP of Chemistry in PUC</th>\n",
       "      <td>1277.0</td>\n",
       "      <td>7.651527</td>\n",
       "      <td>1.283464</td>\n",
       "      <td>0.0</td>\n",
       "      <td>7.00</td>\n",
       "      <td>7.75</td>\n",
       "      <td>8.50</td>\n",
       "      <td>10.00</td>\n",
       "    </tr>\n",
       "  </tbody>\n",
       "</table>\n",
       "</div>"
      ],
      "text/plain": [
       "                                 count        mean         std  min     25%  \\\n",
       "S.No                            1277.0  639.000000  368.782456  1.0  320.00   \n",
       "Number of remedials             1277.0    0.521535    2.172906  0.0    0.00   \n",
       "CGPA (upto P2S2)                1277.0    7.704002    1.409733  0.0    7.05   \n",
       "Average GP of Maths in PUC      1277.0    7.590446    1.378440  0.0    6.75   \n",
       "Average GP of Physics in PUC    1277.0    7.601997    1.434066  0.0    7.00   \n",
       "Average GP of Chemistry in PUC  1277.0    7.651527    1.283464  0.0    7.00   \n",
       "\n",
       "                                   50%     75%      max  \n",
       "S.No                            639.00  958.00  1277.00  \n",
       "Number of remedials               0.00    0.00    27.00  \n",
       "CGPA (upto P2S2)                  7.89    8.63     9.95  \n",
       "Average GP of Maths in PUC        7.75    8.50    10.00  \n",
       "Average GP of Physics in PUC      7.75    8.50    10.00  \n",
       "Average GP of Chemistry in PUC    7.75    8.50    10.00  "
      ]
     },
     "execution_count": 211,
     "metadata": {},
     "output_type": "execute_result"
    }
   ],
   "source": [
    "marks.describe().transpose()"
   ]
  },
  {
   "cell_type": "code",
   "execution_count": 212,
   "id": "79c43930",
   "metadata": {},
   "outputs": [],
   "source": [
    "marks['Rank']=marks.Rank.str[10:]\n"
   ]
  },
  {
   "cell_type": "code",
   "execution_count": 213,
   "id": "afd61df9",
   "metadata": {},
   "outputs": [],
   "source": [
    "marks[['Rank']]=marks[['Rank']].apply(pd.to_numeric)"
   ]
  },
  {
   "cell_type": "code",
   "execution_count": 214,
   "id": "41a82884",
   "metadata": {},
   "outputs": [
    {
     "data": {
      "text/html": [
       "<div>\n",
       "<style scoped>\n",
       "    .dataframe tbody tr th:only-of-type {\n",
       "        vertical-align: middle;\n",
       "    }\n",
       "\n",
       "    .dataframe tbody tr th {\n",
       "        vertical-align: top;\n",
       "    }\n",
       "\n",
       "    .dataframe thead th {\n",
       "        text-align: right;\n",
       "    }\n",
       "</style>\n",
       "<table border=\"1\" class=\"dataframe\">\n",
       "  <thead>\n",
       "    <tr style=\"text-align: right;\">\n",
       "      <th></th>\n",
       "      <th>count</th>\n",
       "      <th>mean</th>\n",
       "      <th>std</th>\n",
       "      <th>min</th>\n",
       "      <th>25%</th>\n",
       "      <th>50%</th>\n",
       "      <th>75%</th>\n",
       "      <th>max</th>\n",
       "    </tr>\n",
       "  </thead>\n",
       "  <tbody>\n",
       "    <tr>\n",
       "      <th>S.No</th>\n",
       "      <td>1277.0</td>\n",
       "      <td>639.000000</td>\n",
       "      <td>368.782456</td>\n",
       "      <td>1.0</td>\n",
       "      <td>320.00</td>\n",
       "      <td>639.00</td>\n",
       "      <td>958.00</td>\n",
       "      <td>1277.00</td>\n",
       "    </tr>\n",
       "    <tr>\n",
       "      <th>Number of remedials</th>\n",
       "      <td>1277.0</td>\n",
       "      <td>0.521535</td>\n",
       "      <td>2.172906</td>\n",
       "      <td>0.0</td>\n",
       "      <td>0.00</td>\n",
       "      <td>0.00</td>\n",
       "      <td>0.00</td>\n",
       "      <td>27.00</td>\n",
       "    </tr>\n",
       "    <tr>\n",
       "      <th>CGPA (upto P2S2)</th>\n",
       "      <td>1277.0</td>\n",
       "      <td>7.704002</td>\n",
       "      <td>1.409733</td>\n",
       "      <td>0.0</td>\n",
       "      <td>7.05</td>\n",
       "      <td>7.89</td>\n",
       "      <td>8.63</td>\n",
       "      <td>9.95</td>\n",
       "    </tr>\n",
       "    <tr>\n",
       "      <th>Average GP of Maths in PUC</th>\n",
       "      <td>1277.0</td>\n",
       "      <td>7.590446</td>\n",
       "      <td>1.378440</td>\n",
       "      <td>0.0</td>\n",
       "      <td>6.75</td>\n",
       "      <td>7.75</td>\n",
       "      <td>8.50</td>\n",
       "      <td>10.00</td>\n",
       "    </tr>\n",
       "    <tr>\n",
       "      <th>Average GP of Physics in PUC</th>\n",
       "      <td>1277.0</td>\n",
       "      <td>7.601997</td>\n",
       "      <td>1.434066</td>\n",
       "      <td>0.0</td>\n",
       "      <td>7.00</td>\n",
       "      <td>7.75</td>\n",
       "      <td>8.50</td>\n",
       "      <td>10.00</td>\n",
       "    </tr>\n",
       "    <tr>\n",
       "      <th>Average GP of Chemistry in PUC</th>\n",
       "      <td>1277.0</td>\n",
       "      <td>7.651527</td>\n",
       "      <td>1.283464</td>\n",
       "      <td>0.0</td>\n",
       "      <td>7.00</td>\n",
       "      <td>7.75</td>\n",
       "      <td>8.50</td>\n",
       "      <td>10.00</td>\n",
       "    </tr>\n",
       "    <tr>\n",
       "      <th>Rank</th>\n",
       "      <td>441.0</td>\n",
       "      <td>768.993197</td>\n",
       "      <td>241.319747</td>\n",
       "      <td>34.0</td>\n",
       "      <td>616.00</td>\n",
       "      <td>821.00</td>\n",
       "      <td>965.00</td>\n",
       "      <td>1104.00</td>\n",
       "    </tr>\n",
       "  </tbody>\n",
       "</table>\n",
       "</div>"
      ],
      "text/plain": [
       "                                 count        mean         std   min     25%  \\\n",
       "S.No                            1277.0  639.000000  368.782456   1.0  320.00   \n",
       "Number of remedials             1277.0    0.521535    2.172906   0.0    0.00   \n",
       "CGPA (upto P2S2)                1277.0    7.704002    1.409733   0.0    7.05   \n",
       "Average GP of Maths in PUC      1277.0    7.590446    1.378440   0.0    6.75   \n",
       "Average GP of Physics in PUC    1277.0    7.601997    1.434066   0.0    7.00   \n",
       "Average GP of Chemistry in PUC  1277.0    7.651527    1.283464   0.0    7.00   \n",
       "Rank                             441.0  768.993197  241.319747  34.0  616.00   \n",
       "\n",
       "                                   50%     75%      max  \n",
       "S.No                            639.00  958.00  1277.00  \n",
       "Number of remedials               0.00    0.00    27.00  \n",
       "CGPA (upto P2S2)                  7.89    8.63     9.95  \n",
       "Average GP of Maths in PUC        7.75    8.50    10.00  \n",
       "Average GP of Physics in PUC      7.75    8.50    10.00  \n",
       "Average GP of Chemistry in PUC    7.75    8.50    10.00  \n",
       "Rank                            821.00  965.00  1104.00  "
      ]
     },
     "execution_count": 214,
     "metadata": {},
     "output_type": "execute_result"
    }
   ],
   "source": [
    "marks.describe().transpose()"
   ]
  },
  {
   "cell_type": "code",
   "execution_count": 215,
   "id": "81f53a78",
   "metadata": {},
   "outputs": [],
   "source": [
    "marks=marks.dropna()"
   ]
  },
  {
   "cell_type": "code",
   "execution_count": 216,
   "id": "eb29257a",
   "metadata": {},
   "outputs": [
    {
     "data": {
      "text/html": [
       "<div>\n",
       "<style scoped>\n",
       "    .dataframe tbody tr th:only-of-type {\n",
       "        vertical-align: middle;\n",
       "    }\n",
       "\n",
       "    .dataframe tbody tr th {\n",
       "        vertical-align: top;\n",
       "    }\n",
       "\n",
       "    .dataframe thead th {\n",
       "        text-align: right;\n",
       "    }\n",
       "</style>\n",
       "<table border=\"1\" class=\"dataframe\">\n",
       "  <thead>\n",
       "    <tr style=\"text-align: right;\">\n",
       "      <th></th>\n",
       "      <th>S.No</th>\n",
       "      <th>Roll Number</th>\n",
       "      <th>Number of remedials</th>\n",
       "      <th>CGPA (upto P2S2)</th>\n",
       "      <th>Average GP of Maths in PUC</th>\n",
       "      <th>Average GP of Physics in PUC</th>\n",
       "      <th>Average GP of Chemistry in PUC</th>\n",
       "      <th>Eligible for Branch allocation ?</th>\n",
       "      <th>Rank</th>\n",
       "    </tr>\n",
       "  </thead>\n",
       "  <tbody>\n",
       "    <tr>\n",
       "      <th>0</th>\n",
       "      <td>1</td>\n",
       "      <td>N170822</td>\n",
       "      <td>0</td>\n",
       "      <td>7.66</td>\n",
       "      <td>7.25</td>\n",
       "      <td>7.25</td>\n",
       "      <td>7.25</td>\n",
       "      <td>YES</td>\n",
       "      <td>719.0</td>\n",
       "    </tr>\n",
       "    <tr>\n",
       "      <th>1</th>\n",
       "      <td>2</td>\n",
       "      <td>N180059</td>\n",
       "      <td>0</td>\n",
       "      <td>6.55</td>\n",
       "      <td>6.25</td>\n",
       "      <td>6.00</td>\n",
       "      <td>6.00</td>\n",
       "      <td>YES</td>\n",
       "      <td>1084.0</td>\n",
       "    </tr>\n",
       "    <tr>\n",
       "      <th>2</th>\n",
       "      <td>3</td>\n",
       "      <td>N180154</td>\n",
       "      <td>0</td>\n",
       "      <td>8.35</td>\n",
       "      <td>8.25</td>\n",
       "      <td>8.00</td>\n",
       "      <td>7.75</td>\n",
       "      <td>YES</td>\n",
       "      <td>432.0</td>\n",
       "    </tr>\n",
       "    <tr>\n",
       "      <th>3</th>\n",
       "      <td>4</td>\n",
       "      <td>N180156</td>\n",
       "      <td>0</td>\n",
       "      <td>8.59</td>\n",
       "      <td>8.50</td>\n",
       "      <td>8.25</td>\n",
       "      <td>8.00</td>\n",
       "      <td>YES</td>\n",
       "      <td>335.0</td>\n",
       "    </tr>\n",
       "    <tr>\n",
       "      <th>4</th>\n",
       "      <td>5</td>\n",
       "      <td>N180300</td>\n",
       "      <td>0</td>\n",
       "      <td>7.95</td>\n",
       "      <td>8.00</td>\n",
       "      <td>7.50</td>\n",
       "      <td>7.75</td>\n",
       "      <td>YES</td>\n",
       "      <td>609.0</td>\n",
       "    </tr>\n",
       "    <tr>\n",
       "      <th>...</th>\n",
       "      <td>...</td>\n",
       "      <td>...</td>\n",
       "      <td>...</td>\n",
       "      <td>...</td>\n",
       "      <td>...</td>\n",
       "      <td>...</td>\n",
       "      <td>...</td>\n",
       "      <td>...</td>\n",
       "      <td>...</td>\n",
       "    </tr>\n",
       "    <tr>\n",
       "      <th>999</th>\n",
       "      <td>1000</td>\n",
       "      <td>R180830</td>\n",
       "      <td>0</td>\n",
       "      <td>6.53</td>\n",
       "      <td>6.25</td>\n",
       "      <td>6.25</td>\n",
       "      <td>6.75</td>\n",
       "      <td>YES</td>\n",
       "      <td>1088.0</td>\n",
       "    </tr>\n",
       "    <tr>\n",
       "      <th>1002</th>\n",
       "      <td>1003</td>\n",
       "      <td>R180833</td>\n",
       "      <td>0</td>\n",
       "      <td>6.66</td>\n",
       "      <td>6.25</td>\n",
       "      <td>6.75</td>\n",
       "      <td>6.50</td>\n",
       "      <td>YES</td>\n",
       "      <td>1064.0</td>\n",
       "    </tr>\n",
       "    <tr>\n",
       "      <th>1014</th>\n",
       "      <td>1015</td>\n",
       "      <td>R180845</td>\n",
       "      <td>0</td>\n",
       "      <td>6.79</td>\n",
       "      <td>6.50</td>\n",
       "      <td>7.00</td>\n",
       "      <td>6.75</td>\n",
       "      <td>YES</td>\n",
       "      <td>1027.0</td>\n",
       "    </tr>\n",
       "    <tr>\n",
       "      <th>1043</th>\n",
       "      <td>1044</td>\n",
       "      <td>R180874</td>\n",
       "      <td>0</td>\n",
       "      <td>6.68</td>\n",
       "      <td>6.75</td>\n",
       "      <td>6.50</td>\n",
       "      <td>6.75</td>\n",
       "      <td>YES</td>\n",
       "      <td>1057.0</td>\n",
       "    </tr>\n",
       "    <tr>\n",
       "      <th>1070</th>\n",
       "      <td>1071</td>\n",
       "      <td>R180902</td>\n",
       "      <td>0</td>\n",
       "      <td>6.63</td>\n",
       "      <td>6.50</td>\n",
       "      <td>7.00</td>\n",
       "      <td>6.25</td>\n",
       "      <td>YES</td>\n",
       "      <td>1076.0</td>\n",
       "    </tr>\n",
       "  </tbody>\n",
       "</table>\n",
       "<p>441 rows × 9 columns</p>\n",
       "</div>"
      ],
      "text/plain": [
       "      S.No Roll Number  Number of remedials  CGPA (upto P2S2)  \\\n",
       "0        1     N170822                    0              7.66   \n",
       "1        2     N180059                    0              6.55   \n",
       "2        3     N180154                    0              8.35   \n",
       "3        4     N180156                    0              8.59   \n",
       "4        5     N180300                    0              7.95   \n",
       "...    ...         ...                  ...               ...   \n",
       "999   1000     R180830                    0              6.53   \n",
       "1002  1003     R180833                    0              6.66   \n",
       "1014  1015     R180845                    0              6.79   \n",
       "1043  1044     R180874                    0              6.68   \n",
       "1070  1071     R180902                    0              6.63   \n",
       "\n",
       "      Average GP of Maths in PUC  Average GP of Physics in PUC  \\\n",
       "0                           7.25                          7.25   \n",
       "1                           6.25                          6.00   \n",
       "2                           8.25                          8.00   \n",
       "3                           8.50                          8.25   \n",
       "4                           8.00                          7.50   \n",
       "...                          ...                           ...   \n",
       "999                         6.25                          6.25   \n",
       "1002                        6.25                          6.75   \n",
       "1014                        6.50                          7.00   \n",
       "1043                        6.75                          6.50   \n",
       "1070                        6.50                          7.00   \n",
       "\n",
       "      Average GP of Chemistry in PUC Eligible for Branch allocation ?    Rank  \n",
       "0                               7.25                              YES   719.0  \n",
       "1                               6.00                              YES  1084.0  \n",
       "2                               7.75                              YES   432.0  \n",
       "3                               8.00                              YES   335.0  \n",
       "4                               7.75                              YES   609.0  \n",
       "...                              ...                              ...     ...  \n",
       "999                             6.75                              YES  1088.0  \n",
       "1002                            6.50                              YES  1064.0  \n",
       "1014                            6.75                              YES  1027.0  \n",
       "1043                            6.75                              YES  1057.0  \n",
       "1070                            6.25                              YES  1076.0  \n",
       "\n",
       "[441 rows x 9 columns]"
      ]
     },
     "execution_count": 216,
     "metadata": {},
     "output_type": "execute_result"
    }
   ],
   "source": [
    "marks"
   ]
  },
  {
   "cell_type": "code",
   "execution_count": 217,
   "id": "bb7d632a",
   "metadata": {},
   "outputs": [
    {
     "name": "stdout",
     "output_type": "stream",
     "text": [
      "<class 'pandas.core.frame.DataFrame'>\n",
      "Int64Index: 441 entries, 0 to 1070\n",
      "Data columns (total 9 columns):\n",
      " #   Column                            Non-Null Count  Dtype  \n",
      "---  ------                            --------------  -----  \n",
      " 0   S.No                              441 non-null    int64  \n",
      " 1   Roll Number                       441 non-null    object \n",
      " 2   Number of remedials               441 non-null    int64  \n",
      " 3   CGPA (upto P2S2)                  441 non-null    float64\n",
      " 4   Average GP of Maths in PUC        441 non-null    float64\n",
      " 5   Average GP of Physics in PUC      441 non-null    float64\n",
      " 6   Average GP of Chemistry in PUC    441 non-null    float64\n",
      " 7   Eligible for Branch allocation ?  441 non-null    object \n",
      " 8   Rank                              441 non-null    float64\n",
      "dtypes: float64(5), int64(2), object(2)\n",
      "memory usage: 34.5+ KB\n"
     ]
    }
   ],
   "source": [
    "marks.info()"
   ]
  },
  {
   "cell_type": "code",
   "execution_count": 218,
   "id": "81fcebff",
   "metadata": {},
   "outputs": [],
   "source": [
    "x=marks[['Average GP of Physics in PUC', 'Average GP of Maths in PUC', 'Average GP of Chemistry in PUC']]\n",
    "y=marks[['Rank']]"
   ]
  },
  {
   "cell_type": "code",
   "execution_count": 219,
   "id": "4026d97e",
   "metadata": {},
   "outputs": [],
   "source": [
    "x_train, x_test, y_train, y_test=train_test_split(x, y, train_size=0.8, random_state=0)"
   ]
  },
  {
   "cell_type": "code",
   "execution_count": 220,
   "id": "aacc4eb6",
   "metadata": {},
   "outputs": [],
   "source": [
    "lr=LinearRegression()"
   ]
  },
  {
   "cell_type": "code",
   "execution_count": 221,
   "id": "bfe16c8b",
   "metadata": {},
   "outputs": [
    {
     "data": {
      "text/plain": [
       "(     Average GP of Physics in PUC  Average GP of Maths in PUC  \\\n",
       " 98                           6.50                       6.375   \n",
       " 28                           6.50                       6.500   \n",
       " 51                           8.50                       7.750   \n",
       " 648                          7.75                       7.500   \n",
       " 245                          8.00                       7.750   \n",
       " ..                            ...                         ...   \n",
       " 528                          7.25                       8.000   \n",
       " 296                          8.25                       8.250   \n",
       " 189                          7.75                       7.750   \n",
       " 53                           6.25                       6.500   \n",
       " 272                          7.25                       7.250   \n",
       " \n",
       "      Average GP of Chemistry in PUC  \n",
       " 98                             7.00  \n",
       " 28                             6.00  \n",
       " 51                             8.50  \n",
       " 648                            7.25  \n",
       " 245                            8.00  \n",
       " ..                              ...  \n",
       " 528                            7.75  \n",
       " 296                            9.00  \n",
       " 189                            7.25  \n",
       " 53                             6.75  \n",
       " 272                            7.25  \n",
       " \n",
       " [352 rows x 3 columns],\n",
       "        Rank\n",
       " 98   1089.0\n",
       " 28   1031.0\n",
       " 51    375.0\n",
       " 648   710.0\n",
       " 245   546.0\n",
       " ..      ...\n",
       " 528   552.0\n",
       " 296   428.0\n",
       " 189   806.0\n",
       " 53    927.0\n",
       " 272   846.0\n",
       " \n",
       " [352 rows x 1 columns],\n",
       "      Average GP of Physics in PUC  Average GP of Maths in PUC  \\\n",
       " 625                          6.75                        6.00   \n",
       " 391                          7.25                        7.00   \n",
       " 432                          7.50                        8.00   \n",
       " 964                          6.25                        6.25   \n",
       " 724                          7.00                        7.00   \n",
       " ..                            ...                         ...   \n",
       " 680                          7.25                        7.00   \n",
       " 334                          7.25                        6.75   \n",
       " 219                          8.75                        9.00   \n",
       " 55                           6.25                        6.00   \n",
       " 58                           9.50                        9.25   \n",
       " \n",
       "      Average GP of Chemistry in PUC  \n",
       " 625                            6.75  \n",
       " 391                            7.00  \n",
       " 432                            8.00  \n",
       " 964                            6.50  \n",
       " 724                            6.75  \n",
       " ..                              ...  \n",
       " 680                            6.75  \n",
       " 334                            6.75  \n",
       " 219                            8.75  \n",
       " 55                             6.25  \n",
       " 58                             9.00  \n",
       " \n",
       " [89 rows x 3 columns],\n",
       "        Rank\n",
       " 625  1011.0\n",
       " 391   870.0\n",
       " 432   548.0\n",
       " 964  1004.0\n",
       " 724   970.0\n",
       " ..      ...\n",
       " 680   960.0\n",
       " 334  1003.0\n",
       " 219   231.0\n",
       " 55   1104.0\n",
       " 58    107.0\n",
       " \n",
       " [89 rows x 1 columns])"
      ]
     },
     "execution_count": 221,
     "metadata": {},
     "output_type": "execute_result"
    }
   ],
   "source": [
    "x_train, y_train, x_test, y_test"
   ]
  },
  {
   "cell_type": "code",
   "execution_count": 222,
   "id": "2d5c5027",
   "metadata": {},
   "outputs": [
    {
     "name": "stdout",
     "output_type": "stream",
     "text": [
      "<class 'pandas.core.frame.DataFrame'>\n",
      "Int64Index: 441 entries, 0 to 1070\n",
      "Data columns (total 9 columns):\n",
      " #   Column                            Non-Null Count  Dtype  \n",
      "---  ------                            --------------  -----  \n",
      " 0   S.No                              441 non-null    int64  \n",
      " 1   Roll Number                       441 non-null    object \n",
      " 2   Number of remedials               441 non-null    int64  \n",
      " 3   CGPA (upto P2S2)                  441 non-null    float64\n",
      " 4   Average GP of Maths in PUC        441 non-null    float64\n",
      " 5   Average GP of Physics in PUC      441 non-null    float64\n",
      " 6   Average GP of Chemistry in PUC    441 non-null    float64\n",
      " 7   Eligible for Branch allocation ?  441 non-null    object \n",
      " 8   Rank                              441 non-null    float64\n",
      "dtypes: float64(5), int64(2), object(2)\n",
      "memory usage: 34.5+ KB\n"
     ]
    }
   ],
   "source": [
    "marks.info()"
   ]
  },
  {
   "cell_type": "code",
   "execution_count": 223,
   "id": "12de85e8",
   "metadata": {},
   "outputs": [
    {
     "data": {
      "text/plain": [
       "LinearRegression()"
      ]
     },
     "execution_count": 223,
     "metadata": {},
     "output_type": "execute_result"
    }
   ],
   "source": [
    "lr.fit(x_train, y_train)"
   ]
  },
  {
   "cell_type": "code",
   "execution_count": 225,
   "id": "05f6894b",
   "metadata": {},
   "outputs": [],
   "source": [
    "y_pred=lr.predict(x_test)"
   ]
  },
  {
   "cell_type": "code",
   "execution_count": 228,
   "id": "5b61ad13",
   "metadata": {},
   "outputs": [
    {
     "data": {
      "text/plain": [
       "(       Rank\n",
       " 625  1011.0\n",
       " 391   870.0\n",
       " 432   548.0\n",
       " 964  1004.0\n",
       " 724   970.0,\n",
       " array([[1027.61866668],\n",
       "        [ 843.37326399],\n",
       "        [ 597.65117429],\n",
       "        [1093.0195139 ],\n",
       "        [ 903.10979546]]))"
      ]
     },
     "execution_count": 228,
     "metadata": {},
     "output_type": "execute_result"
    }
   ],
   "source": [
    "y_test.head(), y_pred[:5]"
   ]
  },
  {
   "cell_type": "code",
   "execution_count": 187,
   "id": "c7230f9c",
   "metadata": {},
   "outputs": [
    {
     "data": {
      "text/plain": [
       "1011.0"
      ]
     },
     "execution_count": 187,
     "metadata": {},
     "output_type": "execute_result"
    }
   ],
   "source": [
    "y_test['Rank'][625]"
   ]
  },
  {
   "cell_type": "code",
   "execution_count": 229,
   "id": "1e081d69",
   "metadata": {},
   "outputs": [],
   "source": [
    "import matplotlib.pyplot as plt"
   ]
  },
  {
   "cell_type": "code",
   "execution_count": 235,
   "id": "a9a46122",
   "metadata": {},
   "outputs": [
    {
     "data": {
      "text/plain": [
       "Text(0, 0.5, 'Rank')"
      ]
     },
     "execution_count": 235,
     "metadata": {},
     "output_type": "execute_result"
    },
    {
     "data": {
      "image/png": "[encoded data removed]",
      "text/plain": [
       "<Figure size 432x288 with 1 Axes>"
      ]
     },
     "metadata": {
      "needs_background": "light"
     },
     "output_type": "display_data"
    }
   ],
   "source": [
    "plt.scatter(marks['Average GP of Maths in PUC'], y)\n",
    "plt.xlabel('Maths')\n",
    "plt.ylabel('Rank')"
   ]
  },
  {
   "cell_type": "code",
   "execution_count": 236,
   "id": "e11a6f31",
   "metadata": {},
   "outputs": [
    {
     "data": {
      "text/plain": [
       "Text(0, 0.5, 'Rank')"
      ]
     },
     "execution_count": 236,
     "metadata": {},
     "output_type": "execute_result"
    },
    {
     "data": {
      "image/png": "[encoded data removed]",
      "text/plain": [
       "<Figure size 432x288 with 1 Axes>"
      ]
     },
     "metadata": {
      "needs_background": "light"
     },
     "output_type": "display_data"
    }
   ],
   "source": [
    "plt.scatter(marks['Average GP of Physics in PUC'], y)\n",
    "plt.xlabel('Physics')\n",
    "plt.ylabel('Rank')"
   ]
  },
  {
   "cell_type": "code",
   "execution_count": 237,
   "id": "823917e8",
   "metadata": {},
   "outputs": [
    {
     "data": {
      "text/plain": [
       "Text(0, 0.5, 'Rank')"
      ]
     },
     "execution_count": 237,
     "metadata": {},
     "output_type": "execute_result"
    },
    {
     "data": {
      "image/png": "[encoded data removed]",
      "text/plain": [
       "<Figure size 432x288 with 1 Axes>"
      ]
     },
     "metadata": {
      "needs_background": "light"
     },
     "output_type": "display_data"
    }
   ],
   "source": [
    "plt.scatter(marks['Average GP of Chemistry in PUC'], y)\n",
    "plt.xlabel('Chemistry')\n",
    "plt.ylabel('Rank')"
   ]
  },
  {
   "cell_type": "code",
   "execution_count": null,
   "id": "3d5b35e1",
   "metadata": {},
   "outputs": [],
   "source": []
  }
 ],
 "metadata": {
  "kernelspec": {
   "display_name": "Python 3 (ipykernel)",
   "language": "python",
   "name": "python3"
  },
  "language_info": {
   "codemirror_mode": {
    "name": "ipython",
    "version": 3
   },
   "file_extension": ".py",
   "mimetype": "text/x-python",
   "name": "python",
   "nbconvert_exporter": "python",
   "pygments_lexer": "ipython3",
   "version": "3.9.13"
  }
 },
 "nbformat": 4,
 "nbformat_minor": 5
}
