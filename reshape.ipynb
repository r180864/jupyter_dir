{
 "cells": [
  {
   "cell_type": "code",
   "execution_count": 1,
   "metadata": {},
   "outputs": [],
   "source": [
    "import numpy as np"
   ]
  },
  {
   "cell_type": "code",
   "execution_count": 2,
   "metadata": {},
   "outputs": [
    {
     "name": "stdout",
     "output_type": "stream",
     "text": [
      "Object `np.array.flatten` not found.\n"
     ]
    }
   ],
   "source": [
    "np.array.flatten?"
   ]
  },
  {
   "cell_type": "code",
   "execution_count": 3,
   "metadata": {},
   "outputs": [],
   "source": [
    "arr=np.array([[1,2,3],[7,6,5]])"
   ]
  },
  {
   "cell_type": "code",
   "execution_count": 4,
   "metadata": {},
   "outputs": [],
   "source": [
    "arr.flatten?"
   ]
  },
  {
   "cell_type": "code",
   "execution_count": 7,
   "metadata": {},
   "outputs": [
    {
     "name": "stdout",
     "output_type": "stream",
     "text": [
      "[1 7 2 6 3 5]\n"
     ]
    }
   ],
   "source": [
    "arr2=arr.flatten('F')\n",
    "print(arr2)"
   ]
  },
  {
   "cell_type": "code",
   "execution_count": 12,
   "metadata": {},
   "outputs": [],
   "source": [
    "np.reshape?"
   ]
  },
  {
   "cell_type": "code",
   "execution_count": 13,
   "metadata": {},
   "outputs": [
    {
     "name": "stdout",
     "output_type": "stream",
     "text": [
      "Original Array is:  [[1 2 3]\n",
      " [4 5 6]]\n",
      "139989026209504\n",
      "\n",
      "Array (2,3) is:  [[1 2 3]\n",
      " [4 5 6]]\n",
      "139989026749056\n",
      "\n",
      "Array (3,2) is:  [[1 2]\n",
      " [3 4]\n",
      " [5 6]]\n",
      "139989026274640\n",
      "\n",
      "[[  1   2]\n",
      " [999   4]\n",
      " [  5   6]]\n",
      "[[  1   2 999]\n",
      " [  4   5   6]]\n"
     ]
    }
   ],
   "source": [
    "import numpy as np\n",
    "arr=np.array([[1,2,3],[4,5,6]])\n",
    "print(\"Original Array is: \", arr)\n",
    "print(id(arr))\n",
    "print()\n",
    "\n",
    "arr2=arr.reshape(2,3)\n",
    "print(\"Array (2,3) is: \", arr2)\n",
    "print(id(arr2))\n",
    "print()\n",
    "\n",
    "arr3=arr.reshape(3,2)\n",
    "print(\"Array (3,2) is: \", arr3)\n",
    "print(id(arr3))\n",
    "\n",
    "print()\n",
    "arr3[1,0]=999\n",
    "print(arr3)\n",
    "print(arr)"
   ]
  },
  {
   "cell_type": "code",
   "execution_count": null,
   "metadata": {},
   "outputs": [],
   "source": []
  },
  {
   "cell_type": "code",
   "execution_count": null,
   "metadata": {},
   "outputs": [],
   "source": []
  },
  {
   "cell_type": "code",
   "execution_count": null,
   "metadata": {},
   "outputs": [],
   "source": []
  }
 ],
 "metadata": {
  "kernelspec": {
   "display_name": "Python 3",
   "language": "python",
   "name": "python3"
  },
  "language_info": {
   "codemirror_mode": {
    "name": "ipython",
    "version": 3
   },
   "file_extension": ".py",
   "mimetype": "text/x-python",
   "name": "python",
   "nbconvert_exporter": "python",
   "pygments_lexer": "ipython3",
   "version": "3.7.6"
  }
 },
 "nbformat": 4,
 "nbformat_minor": 4
}
