{
 "cells": [
  {
   "cell_type": "code",
   "execution_count": 1,
   "id": "5968f3fd",
   "metadata": {},
   "outputs": [
    {
     "name": "stdout",
     "output_type": "stream",
     "text": [
      "1 2 3 5 "
     ]
    }
   ],
   "source": [
    "a = 0\n",
    "\n",
    "b = 1\n",
    "\n",
    "i = 1\n",
    "\n",
    "while i < 5:\n",
    "\n",
    "    temp = a + b\n",
    "\n",
    "    a = b\n",
    "\n",
    "    b = temp\n",
    "\n",
    "    print(temp, end=\" \")\n",
    "\n",
    "    i = i + 1"
   ]
  },
  {
   "cell_type": "code",
   "execution_count": 3,
   "id": "3e8224f7",
   "metadata": {},
   "outputs": [],
   "source": [
    "def func(self):\n",
    "\n",
    "    if self%2==0:\n",
    "\n",
    "        return None\n",
    "\n",
    "func(10)"
   ]
  },
  {
   "cell_type": "code",
   "execution_count": 4,
   "id": "c60ab765",
   "metadata": {},
   "outputs": [
    {
     "name": "stdout",
     "output_type": "stream",
     "text": [
      "True,False\n"
     ]
    }
   ],
   "source": [
    "def func(*self):\n",
    "\n",
    "    for i in self:\n",
    "\n",
    "        if i in list(range(0,100,10)):\n",
    "\n",
    "            print(\"True\", end=\",\")\n",
    "\n",
    "        else:\n",
    "\n",
    "            print(\"False\")\n",
    "\n",
    "func(10,15)"
   ]
  },
  {
   "cell_type": "code",
   "execution_count": 5,
   "id": "16df5668",
   "metadata": {},
   "outputs": [
    {
     "name": "stdout",
     "output_type": "stream",
     "text": [
      "False False "
     ]
    }
   ],
   "source": [
    "def func(**self):\n",
    "\n",
    "    for i in self.values():\n",
    "\n",
    "        if i%2 == 0 and i%3 == 0 in list(range(0,10)):\n",
    "\n",
    "            print(\"True\", end=\" \")\n",
    "\n",
    "        else:\n",
    "\n",
    "            print(\"False\", end=\" \")\n",
    "\n",
    "func(first= 10, second= 20)"
   ]
  },
  {
   "cell_type": "code",
   "execution_count": 6,
   "id": "07eee4b7",
   "metadata": {},
   "outputs": [
    {
     "data": {
      "text/plain": [
       "8"
      ]
     },
     "execution_count": 6,
     "metadata": {},
     "output_type": "execute_result"
    }
   ],
   "source": [
    "y = lambda a,b: a//2 + b//2 - 2//a//b\n",
    "\n",
    "y(12,4)"
   ]
  },
  {
   "cell_type": "code",
   "execution_count": 7,
   "id": "c69593e9",
   "metadata": {},
   "outputs": [
    {
     "name": "stdout",
     "output_type": "stream",
     "text": [
      "[1, 2, 3, 4, 5]\n"
     ]
    }
   ],
   "source": [
    "sample = [12,22,32,42,52]\n",
    "\n",
    "x = map(lambda a: a//10, sample)\n",
    "\n",
    "print(list(x))"
   ]
  },
  {
   "cell_type": "code",
   "execution_count": 8,
   "id": "957acb63",
   "metadata": {},
   "outputs": [
    {
     "name": "stdout",
     "output_type": "stream",
     "text": [
      "[12, 24, 2]\n"
     ]
    }
   ],
   "source": [
    "def func(self):\n",
    "\n",
    "    if self % 2 == 1:\n",
    "\n",
    "        return False\n",
    "\n",
    "    else:\n",
    "\n",
    "        return True\n",
    "\n",
    "sample= [12,24,23,3,5,2]\n",
    "\n",
    "z = filter(func, sample)\n",
    "\n",
    "print(list(z))"
   ]
  },
  {
   "cell_type": "code",
   "execution_count": 14,
   "id": "45b82e8a",
   "metadata": {},
   "outputs": [
    {
     "name": "stdout",
     "output_type": "stream",
     "text": [
      "132333"
     ]
    }
   ],
   "source": [
    "def func(x, y, z):\n",
    "\n",
    "    for i in x:\n",
    "\n",
    "        for j in y:\n",
    "\n",
    "            print(i, end=\"\")\n",
    "\n",
    "        print(j, end=\"\")\n",
    "\n",
    "    return None\n",
    "\n",
    "a = [1,2,3]\n",
    "\n",
    "b = [3]\n",
    "\n",
    "c = [5,6,7]\n",
    "\n",
    "func(a,b,c)"
   ]
  },
  {
   "cell_type": "code",
   "execution_count": 15,
   "id": "817ca83d",
   "metadata": {},
   "outputs": [
    {
     "data": {
      "text/plain": [
       "4"
      ]
     },
     "execution_count": 15,
     "metadata": {},
     "output_type": "execute_result"
    }
   ],
   "source": [
    "x = lambda x,y,z: x**y + z**x + y**x//z\n",
    "\n",
    "x(1,1,3)"
   ]
  },
  {
   "cell_type": "code",
   "execution_count": 16,
   "id": "26964d6d",
   "metadata": {},
   "outputs": [
    {
     "name": "stdout",
     "output_type": "stream",
     "text": [
      "2022 Intellipaat\n"
     ]
    }
   ],
   "source": [
    "class Myclass:\n",
    "\n",
    "    def __init__(self):\n",
    "\n",
    "        self.string = \"Intellipaat\"\n",
    "\n",
    "        self.number = 2022\n",
    "\n",
    "obj = Myclass()\n",
    "\n",
    "print(obj.number, obj.string)"
   ]
  },
  {
   "cell_type": "code",
   "execution_count": 17,
   "id": "08dce1c8",
   "metadata": {},
   "outputs": [
    {
     "name": "stdout",
     "output_type": "stream",
     "text": [
      "ronoC 3\n"
     ]
    }
   ],
   "source": [
    "class Myclass:\n",
    "\n",
    "    def __init__(self):\n",
    "\n",
    "        self.string = \"Conor\"\n",
    "\n",
    "        self.number = 20\n",
    "\n",
    "    def view(self):\n",
    "\n",
    "        print(self.string[::-1], self.number//6)\n",
    "\n",
    "obj = Myclass()\n",
    "\n",
    "obj.view()"
   ]
  },
  {
   "cell_type": "code",
   "execution_count": 18,
   "id": "c3f106c3",
   "metadata": {},
   "outputs": [
    {
     "name": "stdout",
     "output_type": "stream",
     "text": [
      "['Devon', 28]\n"
     ]
    }
   ],
   "source": [
    "class myClass:\n",
    "\n",
    "    def __init__(self, name, age):\n",
    "\n",
    "        self.name = name\n",
    "\n",
    "        self.age = age\n",
    "\n",
    "    def view(self):\n",
    "\n",
    "        print([self.name, self.age])\n",
    "\n",
    "class myclass:\n",
    "\n",
    "    def __init__(self, name, age):\n",
    "\n",
    "        self.name = name\n",
    "\n",
    "        self.age = age\n",
    "\n",
    "    def view(self):\n",
    "\n",
    "        print([self.name, self.age])\n",
    "\n",
    "obj1 = myClass(\"Devon\", 29)\n",
    "\n",
    "obj2 = myclass(\"Levi\", 28)\n",
    "\n",
    "print([obj1.name, obj2.age])"
   ]
  },
  {
   "cell_type": "code",
   "execution_count": 19,
   "id": "c6ef9138",
   "metadata": {},
   "outputs": [
    {
     "name": "stdout",
     "output_type": "stream",
     "text": [
      "None None None\n"
     ]
    }
   ],
   "source": [
    "class Name:\n",
    "\n",
    "    def view(self):\n",
    "\n",
    "        self.name = \"Rajesh\"\n",
    "\n",
    "class Age:\n",
    "\n",
    "    def view(self):\n",
    "\n",
    "        self.age = 29\n",
    "\n",
    "class Profession:\n",
    "\n",
    "    def view(self):\n",
    "\n",
    "        self.profession = \"Teacher\"\n",
    "\n",
    "obj1 = Name()\n",
    "\n",
    "obj2 = Age()\n",
    "\n",
    "obj3 = Profession()\n",
    "\n",
    "print(obj1.view(), obj2.view(), obj1.view())"
   ]
  },
  {
   "cell_type": "code",
   "execution_count": 20,
   "id": "afb1698e",
   "metadata": {},
   "outputs": [
    {
     "name": "stdout",
     "output_type": "stream",
     "text": [
      "Ricky 23 Cricketer\n"
     ]
    }
   ],
   "source": [
    "class Base:\n",
    "\n",
    "    def __init__(self):\n",
    "\n",
    "        self.name = \"Ricky\"\n",
    "\n",
    "        self.age = 23\n",
    "\n",
    "class Derived(Base):\n",
    "\n",
    "    def __init__(self):\n",
    "\n",
    "        super().__init__()\n",
    "\n",
    "        self.profession = \"Cricketer\"\n",
    "\n",
    "    def view(self):\n",
    "\n",
    "        print(self.name, self.age, self.profession)\n",
    "\n",
    "obj = Derived()\n",
    "\n",
    "obj.view()"
   ]
  },
  {
   "cell_type": "code",
   "execution_count": 22,
   "id": "a3613b01",
   "metadata": {},
   "outputs": [
    {
     "data": {
      "text/plain": [
       "'Levi'"
      ]
     },
     "execution_count": 22,
     "metadata": {},
     "output_type": "execute_result"
    }
   ],
   "source": [
    "from abc import ABC, abstractmethod\n",
    "class School(ABC):\n",
    "\n",
    "    def __init__(self):\n",
    "\n",
    "        self.name = \"Levi\"\n",
    "\n",
    "        self.age = 29\n",
    "\n",
    "obj = School()\n",
    "\n",
    "obj.name"
   ]
  },
  {
   "cell_type": "code",
   "execution_count": 23,
   "id": "be17f2ed",
   "metadata": {},
   "outputs": [
    {
     "ename": "TypeError",
     "evalue": "method() missing 1 required positional argument: 'c'",
     "output_type": "error",
     "traceback": [
      "\u001b[1;31m---------------------------------------------------------------------------\u001b[0m",
      "\u001b[1;31mTypeError\u001b[0m                                 Traceback (most recent call last)",
      "\u001b[1;32m~\\AppData\\Local\\Temp\\ipykernel_848\\1866688602.py\u001b[0m in \u001b[0;36m<module>\u001b[1;34m\u001b[0m\n\u001b[0;32m     11\u001b[0m \u001b[0mobj\u001b[0m \u001b[1;33m=\u001b[0m \u001b[0mPoly\u001b[0m\u001b[1;33m(\u001b[0m\u001b[1;33m)\u001b[0m\u001b[1;33m\u001b[0m\u001b[1;33m\u001b[0m\u001b[0m\n\u001b[0;32m     12\u001b[0m \u001b[1;33m\u001b[0m\u001b[0m\n\u001b[1;32m---> 13\u001b[1;33m \u001b[0mobj\u001b[0m\u001b[1;33m.\u001b[0m\u001b[0mmethod\u001b[0m\u001b[1;33m(\u001b[0m\u001b[1;36m3\u001b[0m\u001b[1;33m,\u001b[0m\u001b[1;36m2\u001b[0m\u001b[1;33m)\u001b[0m\u001b[1;33m\u001b[0m\u001b[1;33m\u001b[0m\u001b[0m\n\u001b[0m",
      "\u001b[1;31mTypeError\u001b[0m: method() missing 1 required positional argument: 'c'"
     ]
    }
   ],
   "source": [
    "class Poly:\n",
    "\n",
    "    def method(self, a, b):\n",
    "\n",
    "        return (a**b)\n",
    "\n",
    "    def method(self, a, b,c):\n",
    "\n",
    "        return (a*b*c)\n",
    "\n",
    "obj = Poly()\n",
    "\n",
    "obj.method(3,2)"
   ]
  },
  {
   "cell_type": "code",
   "execution_count": 24,
   "id": "2d28a31f",
   "metadata": {},
   "outputs": [
    {
     "data": {
      "text/plain": [
       "'Devon'"
      ]
     },
     "execution_count": 24,
     "metadata": {},
     "output_type": "execute_result"
    }
   ],
   "source": [
    "class Parent:\n",
    "\n",
    "    def __init__(self):\n",
    "\n",
    "        self._name = \"Levi\"\n",
    "\n",
    "        self.__age = 29\n",
    "\n",
    "class Child(Parent):\n",
    "\n",
    "    def __init__(self):\n",
    "\n",
    "        Parent.__init__(self)\n",
    "\n",
    "        self._name = \"Devon\"\n",
    "\n",
    "    def view(self):\n",
    "\n",
    "        return self._name\n",
    "\n",
    "obj = Child()\n",
    "\n",
    "obj.view()"
   ]
  },
  {
   "cell_type": "code",
   "execution_count": 25,
   "id": "30d9ad7b",
   "metadata": {},
   "outputs": [
    {
     "data": {
      "text/plain": [
       "28"
      ]
     },
     "execution_count": 25,
     "metadata": {},
     "output_type": "execute_result"
    }
   ],
   "source": [
    "class Parent:\n",
    "\n",
    "    def __init__(self):\n",
    "\n",
    "        self._name = \"Levi\"\n",
    "\n",
    "        self.__age = 29\n",
    "\n",
    "class Child(Parent):\n",
    "\n",
    "    def __init__(self):\n",
    "\n",
    "        Parent.__init__(self)\n",
    "\n",
    "        self._name = \"Devon\"\n",
    "\n",
    "        self.__age = 28\n",
    "\n",
    "    def view(self):\n",
    "\n",
    "        return self.__age\n",
    "\n",
    "obj = Child()\n",
    "\n",
    "obj.view()"
   ]
  },
  {
   "cell_type": "code",
   "execution_count": 26,
   "id": "e009a787",
   "metadata": {},
   "outputs": [
    {
     "ename": "AttributeError",
     "evalue": "'Child' object has no attribute '_Child__age'",
     "output_type": "error",
     "traceback": [
      "\u001b[1;31m---------------------------------------------------------------------------\u001b[0m",
      "\u001b[1;31mAttributeError\u001b[0m                            Traceback (most recent call last)",
      "\u001b[1;32m~\\AppData\\Local\\Temp\\ipykernel_848\\3937343468.py\u001b[0m in \u001b[0;36m<module>\u001b[1;34m\u001b[0m\n\u001b[0;32m     21\u001b[0m \u001b[0mobj\u001b[0m \u001b[1;33m=\u001b[0m \u001b[0mChild\u001b[0m\u001b[1;33m(\u001b[0m\u001b[1;33m)\u001b[0m\u001b[1;33m\u001b[0m\u001b[1;33m\u001b[0m\u001b[0m\n\u001b[0;32m     22\u001b[0m \u001b[1;33m\u001b[0m\u001b[0m\n\u001b[1;32m---> 23\u001b[1;33m \u001b[0mobj\u001b[0m\u001b[1;33m.\u001b[0m\u001b[0mview\u001b[0m\u001b[1;33m(\u001b[0m\u001b[1;33m)\u001b[0m\u001b[1;33m\u001b[0m\u001b[1;33m\u001b[0m\u001b[0m\n\u001b[0m",
      "\u001b[1;32m~\\AppData\\Local\\Temp\\ipykernel_848\\3937343468.py\u001b[0m in \u001b[0;36mview\u001b[1;34m(self)\u001b[0m\n\u001b[0;32m     17\u001b[0m     \u001b[1;32mdef\u001b[0m \u001b[0mview\u001b[0m\u001b[1;33m(\u001b[0m\u001b[0mself\u001b[0m\u001b[1;33m)\u001b[0m\u001b[1;33m:\u001b[0m\u001b[1;33m\u001b[0m\u001b[1;33m\u001b[0m\u001b[0m\n\u001b[0;32m     18\u001b[0m \u001b[1;33m\u001b[0m\u001b[0m\n\u001b[1;32m---> 19\u001b[1;33m         \u001b[1;32mreturn\u001b[0m \u001b[0mself\u001b[0m\u001b[1;33m.\u001b[0m\u001b[0m__age\u001b[0m\u001b[1;33m\u001b[0m\u001b[1;33m\u001b[0m\u001b[0m\n\u001b[0m\u001b[0;32m     20\u001b[0m \u001b[1;33m\u001b[0m\u001b[0m\n\u001b[0;32m     21\u001b[0m \u001b[0mobj\u001b[0m \u001b[1;33m=\u001b[0m \u001b[0mChild\u001b[0m\u001b[1;33m(\u001b[0m\u001b[1;33m)\u001b[0m\u001b[1;33m\u001b[0m\u001b[1;33m\u001b[0m\u001b[0m\n",
      "\u001b[1;31mAttributeError\u001b[0m: 'Child' object has no attribute '_Child__age'"
     ]
    }
   ],
   "source": [
    "class Parent:\n",
    "\n",
    "    def __init__(self):\n",
    "\n",
    "        self._name = \"Rajesh\"\n",
    "\n",
    "        self.__age = 29\n",
    "\n",
    "class Child(Parent):\n",
    "\n",
    "    def __init__(self):\n",
    "\n",
    "        Parent.__init__(self)\n",
    "\n",
    "        self._name = \"Ramesh\"\n",
    "\n",
    "    def view(self):\n",
    "\n",
    "        return self.__age\n",
    "\n",
    "obj = Child()\n",
    "\n",
    "obj.view()"
   ]
  },
  {
   "cell_type": "code",
   "execution_count": 27,
   "id": "153e1f6d",
   "metadata": {},
   "outputs": [],
   "source": [
    "class Poly:\n",
    "\n",
    "    def __init__(self):\n",
    "\n",
    "        self.name = 'Rajesh'\n",
    "\n",
    "        self.age = 29\n",
    "\n",
    "    def view(self):\n",
    "\n",
    "        return None\n",
    "\n",
    "class Child(Poly):\n",
    "\n",
    "    def __init__(self):\n",
    "\n",
    "        Poly.__init__(self)\n",
    "\n",
    "    def view(self):\n",
    "\n",
    "        self.prof = \"Student\"\n",
    "\n",
    "        super().view()\n",
    "\n",
    "        return None\n",
    "\n",
    "obj = Poly()\n",
    "\n",
    "obj.view()"
   ]
  },
  {
   "cell_type": "code",
   "execution_count": 28,
   "id": "88adc518",
   "metadata": {},
   "outputs": [
    {
     "name": "stdout",
     "output_type": "stream",
     "text": [
      "Devon\n"
     ]
    }
   ],
   "source": [
    "class Poly:\n",
    "\n",
    "    def __init__(self):\n",
    "\n",
    "        self.name = 'Devon'\n",
    "\n",
    "        self.age = 29\n",
    "\n",
    "    def view(self):\n",
    "\n",
    "        print(self.name)\n",
    "\n",
    "class Child(Poly):\n",
    "\n",
    "    def __init__(self):\n",
    "\n",
    "        Poly.__init__(self)\n",
    "\n",
    "    def view(self):\n",
    "\n",
    "        self.prof = \"Levi\"\n",
    "\n",
    "        super().view()\n",
    "\n",
    "        return None\n",
    "\n",
    "obj = Child()\n",
    "\n",
    "obj.view()"
   ]
  },
  {
   "cell_type": "code",
   "execution_count": 30,
   "id": "b296824e",
   "metadata": {},
   "outputs": [
    {
     "data": {
      "text/plain": [
       "16"
      ]
     },
     "execution_count": 30,
     "metadata": {},
     "output_type": "execute_result"
    }
   ],
   "source": [
    "from multipledispatch import dispatch\n",
    "class Poly:\n",
    "\n",
    "    @dispatch(int, int)\n",
    "\n",
    "    def method(self, a, b):\n",
    "\n",
    "        return (a**b)\n",
    "\n",
    "    @dispatch(int, int, int)\n",
    "\n",
    "    def method(self, a, b,c):\n",
    "\n",
    "        return (a*b*c)\n",
    "\n",
    "obj = Poly()\n",
    "\n",
    "obj.method(4,2)"
   ]
  },
  {
   "cell_type": "code",
   "execution_count": null,
   "id": "a51e3682",
   "metadata": {},
   "outputs": [],
   "source": []
  }
 ],
 "metadata": {
  "kernelspec": {
   "display_name": "Python 3 (ipykernel)",
   "language": "python",
   "name": "python3"
  },
  "language_info": {
   "codemirror_mode": {
    "name": "ipython",
    "version": 3
   },
   "file_extension": ".py",
   "mimetype": "text/x-python",
   "name": "python",
   "nbconvert_exporter": "python",
   "pygments_lexer": "ipython3",
   "version": "3.9.13"
  }
 },
 "nbformat": 4,
 "nbformat_minor": 5
}
