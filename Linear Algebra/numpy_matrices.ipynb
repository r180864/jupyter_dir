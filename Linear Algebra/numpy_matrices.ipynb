{
 "cells": [
  {
   "cell_type": "markdown",
   "id": "4cf87047",
   "metadata": {},
   "source": [
    "# Numpy matrices"
   ]
  },
  {
   "cell_type": "code",
   "execution_count": 1,
   "id": "1c75f0a9",
   "metadata": {},
   "outputs": [],
   "source": [
    "import numpy as np"
   ]
  },
  {
   "cell_type": "code",
   "execution_count": 3,
   "id": "f65cfbc3",
   "metadata": {},
   "outputs": [
    {
     "data": {
      "text/plain": [
       "array([[[7, 1, 5],\n",
       "        [2, 2, 7],\n",
       "        [9, 9, 8],\n",
       "        [7, 4, 0]],\n",
       "\n",
       "       [[5, 0, 9],\n",
       "        [3, 3, 0],\n",
       "        [3, 3, 5],\n",
       "        [2, 9, 7]]])"
      ]
     },
     "execution_count": 3,
     "metadata": {},
     "output_type": "execute_result"
    }
   ],
   "source": [
    "np.random.randint(0, 10, (2, 4, 3))"
   ]
  },
  {
   "cell_type": "markdown",
   "id": "9bbd269f",
   "metadata": {},
   "source": [
    "# Operations on Matrix"
   ]
  },
  {
   "cell_type": "markdown",
   "id": "32533560",
   "metadata": {},
   "source": [
    "### Addition\n",
    "#### 1)Matrix & Matrix\n",
    "*  two matrices can only be added if their shape is same"
   ]
  },
  {
   "cell_type": "code",
   "execution_count": 9,
   "id": "feca3415",
   "metadata": {},
   "outputs": [],
   "source": [
    "A=np.random.randint(1, 10, (3,4))\n",
    "B=np.random.randint(1, 10, (3,4))"
   ]
  },
  {
   "cell_type": "code",
   "execution_count": 10,
   "id": "0d1dc57c",
   "metadata": {},
   "outputs": [
    {
     "data": {
      "text/plain": [
       "array([[4, 5, 2, 9],\n",
       "       [5, 8, 4, 4],\n",
       "       [4, 8, 5, 6]])"
      ]
     },
     "execution_count": 10,
     "metadata": {},
     "output_type": "execute_result"
    }
   ],
   "source": [
    "A"
   ]
  },
  {
   "cell_type": "code",
   "execution_count": 11,
   "id": "48307911",
   "metadata": {},
   "outputs": [
    {
     "data": {
      "text/plain": [
       "array([[1, 5, 2, 2],\n",
       "       [4, 4, 2, 9],\n",
       "       [8, 4, 8, 3]])"
      ]
     },
     "execution_count": 11,
     "metadata": {},
     "output_type": "execute_result"
    }
   ],
   "source": [
    "B"
   ]
  },
  {
   "cell_type": "code",
   "execution_count": 13,
   "id": "82047978",
   "metadata": {},
   "outputs": [
    {
     "data": {
      "text/plain": [
       "array([[ 5, 10,  4, 11],\n",
       "       [ 9, 12,  6, 13],\n",
       "       [12, 12, 13,  9]])"
      ]
     },
     "execution_count": 13,
     "metadata": {},
     "output_type": "execute_result"
    }
   ],
   "source": [
    "A+B"
   ]
  },
  {
   "cell_type": "code",
   "execution_count": null,
   "id": "216b662c",
   "metadata": {},
   "outputs": [],
   "source": []
  },
  {
   "cell_type": "markdown",
   "id": "748ebc5e",
   "metadata": {},
   "source": [
    "#### 2)Matrix & Scalar\n",
    "*  A scalar can be added to a matrix after creating the same shaped array filled with the scalar value"
   ]
  },
  {
   "cell_type": "code",
   "execution_count": 7,
   "id": "c1db12e2",
   "metadata": {},
   "outputs": [
    {
     "data": {
      "text/plain": [
       "array([[8, 4, 5, 3],\n",
       "       [6, 8, 6, 9],\n",
       "       [1, 8, 9, 7]])"
      ]
     },
     "execution_count": 7,
     "metadata": {},
     "output_type": "execute_result"
    }
   ],
   "source": [
    "A"
   ]
  },
  {
   "cell_type": "code",
   "execution_count": 8,
   "id": "960af886",
   "metadata": {},
   "outputs": [
    {
     "data": {
      "text/plain": [
       "array([[13,  9, 10,  8],\n",
       "       [11, 13, 11, 14],\n",
       "       [ 6, 13, 14, 12]])"
      ]
     },
     "execution_count": 8,
     "metadata": {},
     "output_type": "execute_result"
    }
   ],
   "source": [
    "A+5"
   ]
  },
  {
   "cell_type": "code",
   "execution_count": null,
   "id": "64ebb56d",
   "metadata": {},
   "outputs": [],
   "source": []
  },
  {
   "cell_type": "markdown",
   "id": "f5cfe221",
   "metadata": {},
   "source": [
    "### Subtraction"
   ]
  },
  {
   "cell_type": "code",
   "execution_count": 14,
   "id": "fa284455",
   "metadata": {},
   "outputs": [
    {
     "data": {
      "text/plain": [
       "array([[ 3,  0,  0,  7],\n",
       "       [ 1,  4,  2, -5],\n",
       "       [-4,  4, -3,  3]])"
      ]
     },
     "execution_count": 14,
     "metadata": {},
     "output_type": "execute_result"
    }
   ],
   "source": [
    "A-B"
   ]
  },
  {
   "cell_type": "code",
   "execution_count": 15,
   "id": "ecfe4b79",
   "metadata": {},
   "outputs": [
    {
     "data": {
      "text/plain": [
       "array([[-1,  0, -3,  4],\n",
       "       [ 0,  3, -1, -1],\n",
       "       [-1,  3,  0,  1]])"
      ]
     },
     "execution_count": 15,
     "metadata": {},
     "output_type": "execute_result"
    }
   ],
   "source": [
    "A-5"
   ]
  },
  {
   "cell_type": "code",
   "execution_count": null,
   "id": "f0234a67",
   "metadata": {},
   "outputs": [],
   "source": []
  },
  {
   "cell_type": "markdown",
   "id": "3c31f55a",
   "metadata": {},
   "source": [
    "### Multiplication\n",
    "#### 1)Element wise multiplicaton"
   ]
  },
  {
   "cell_type": "code",
   "execution_count": 16,
   "id": "ad71a3c1",
   "metadata": {},
   "outputs": [
    {
     "data": {
      "text/plain": [
       "array([[20, 25, 10, 45],\n",
       "       [25, 40, 20, 20],\n",
       "       [20, 40, 25, 30]])"
      ]
     },
     "execution_count": 16,
     "metadata": {},
     "output_type": "execute_result"
    }
   ],
   "source": [
    "A*5"
   ]
  },
  {
   "cell_type": "markdown",
   "id": "8c319543",
   "metadata": {},
   "source": [
    "#### 2)Matrix Multiplication"
   ]
  },
  {
   "cell_type": "code",
   "execution_count": 33,
   "id": "d4875ace",
   "metadata": {},
   "outputs": [],
   "source": [
    "A=np.random.randint(1, 10, (2,4))\n",
    "B=np.random.randint(1, 10, (4,3))\n",
    "C=np.random.randint(1, 10, (3,5))"
   ]
  },
  {
   "cell_type": "code",
   "execution_count": 34,
   "id": "e651c810",
   "metadata": {},
   "outputs": [],
   "source": [
    "A=np.matrix(A)\n",
    "B=np.matrix(B)\n",
    "C=np.matrix(C)"
   ]
  },
  {
   "cell_type": "code",
   "execution_count": 35,
   "id": "a4b06d42",
   "metadata": {},
   "outputs": [
    {
     "data": {
      "text/plain": [
       "matrix([[4, 1, 8, 6],\n",
       "        [2, 7, 8, 3]])"
      ]
     },
     "execution_count": 35,
     "metadata": {},
     "output_type": "execute_result"
    }
   ],
   "source": [
    "A"
   ]
  },
  {
   "cell_type": "code",
   "execution_count": 36,
   "id": "fe827f82",
   "metadata": {},
   "outputs": [
    {
     "data": {
      "text/plain": [
       "matrix([[9, 3, 6],\n",
       "        [4, 9, 3],\n",
       "        [6, 9, 6],\n",
       "        [6, 8, 1]])"
      ]
     },
     "execution_count": 36,
     "metadata": {},
     "output_type": "execute_result"
    }
   ],
   "source": [
    "B"
   ]
  },
  {
   "cell_type": "code",
   "execution_count": 37,
   "id": "36361053",
   "metadata": {},
   "outputs": [
    {
     "data": {
      "text/plain": [
       "matrix([[3, 7, 5, 7, 4],\n",
       "        [2, 6, 2, 2, 6],\n",
       "        [2, 5, 5, 9, 4]])"
      ]
     },
     "execution_count": 37,
     "metadata": {},
     "output_type": "execute_result"
    }
   ],
   "source": [
    "C"
   ]
  },
  {
   "cell_type": "code",
   "execution_count": 26,
   "id": "9547bfdc",
   "metadata": {},
   "outputs": [
    {
     "data": {
      "text/plain": [
       "matrix([[120,  99,  89],\n",
       "        [102,  94,  88]])"
      ]
     },
     "execution_count": 26,
     "metadata": {},
     "output_type": "execute_result"
    }
   ],
   "source": [
    "A*B"
   ]
  },
  {
   "cell_type": "code",
   "execution_count": 28,
   "id": "8e913dd8",
   "metadata": {},
   "outputs": [
    {
     "data": {
      "text/plain": [
       "matrix([[120,  99,  89],\n",
       "        [102,  94,  88]])"
      ]
     },
     "execution_count": 28,
     "metadata": {},
     "output_type": "execute_result"
    }
   ],
   "source": [
    "np.matmul(A, B)"
   ]
  },
  {
   "cell_type": "code",
   "execution_count": 38,
   "id": "e5d6c2f4",
   "metadata": {},
   "outputs": [
    {
     "data": {
      "text/plain": [
       "matrix([[ 45, 111,  81, 123,  78],\n",
       "        [ 36,  97,  53,  73,  82],\n",
       "        [ 48, 126,  78, 114, 102],\n",
       "        [ 36,  95,  51,  67,  76]])"
      ]
     },
     "execution_count": 38,
     "metadata": {},
     "output_type": "execute_result"
    }
   ],
   "source": [
    "B*C"
   ]
  },
  {
   "cell_type": "code",
   "execution_count": 39,
   "id": "e33a3836",
   "metadata": {},
   "outputs": [
    {
     "data": {
      "text/plain": [
       "matrix([[ 816, 2119, 1307, 1879, 1666],\n",
       "        [ 834, 2194, 1310, 1870, 1774]])"
      ]
     },
     "execution_count": 39,
     "metadata": {},
     "output_type": "execute_result"
    }
   ],
   "source": [
    "m1=A*B\n",
    "m2=m1*C\n",
    "m2"
   ]
  },
  {
   "cell_type": "code",
   "execution_count": 40,
   "id": "0e32d63f",
   "metadata": {},
   "outputs": [
    {
     "data": {
      "text/plain": [
       "matrix([[ 816, 2119, 1307, 1879, 1666],\n",
       "        [ 834, 2194, 1310, 1870, 1774]])"
      ]
     },
     "execution_count": 40,
     "metadata": {},
     "output_type": "execute_result"
    }
   ],
   "source": [
    "m1=B*C\n",
    "m2=A*m1\n",
    "m2"
   ]
  },
  {
   "cell_type": "code",
   "execution_count": 42,
   "id": "e4ba0fc5",
   "metadata": {},
   "outputs": [
    {
     "data": {
      "text/plain": [
       "matrix([[4, 1, 8, 6],\n",
       "        [2, 7, 8, 3]])"
      ]
     },
     "execution_count": 42,
     "metadata": {},
     "output_type": "execute_result"
    }
   ],
   "source": [
    "A"
   ]
  },
  {
   "cell_type": "code",
   "execution_count": 43,
   "id": "46c75873",
   "metadata": {},
   "outputs": [
    {
     "data": {
      "text/plain": [
       "matrix([[4, 2],\n",
       "        [1, 7],\n",
       "        [8, 8],\n",
       "        [6, 3]])"
      ]
     },
     "execution_count": 43,
     "metadata": {},
     "output_type": "execute_result"
    }
   ],
   "source": [
    "A.transpose()"
   ]
  },
  {
   "cell_type": "code",
   "execution_count": 46,
   "id": "f2ab9542",
   "metadata": {},
   "outputs": [
    {
     "data": {
      "text/plain": [
       "array([[1., 0., 0.],\n",
       "       [0., 1., 0.],\n",
       "       [0., 0., 1.]])"
      ]
     },
     "execution_count": 46,
     "metadata": {},
     "output_type": "execute_result"
    }
   ],
   "source": [
    "np.identity(3)"
   ]
  },
  {
   "cell_type": "code",
   "execution_count": 47,
   "id": "9c5f743c",
   "metadata": {},
   "outputs": [
    {
     "data": {
      "text/plain": [
       "array([[1., 0., 0.],\n",
       "       [0., 1., 0.],\n",
       "       [0., 0., 1.]])"
      ]
     },
     "execution_count": 47,
     "metadata": {},
     "output_type": "execute_result"
    }
   ],
   "source": [
    "np.eye(3)"
   ]
  },
  {
   "cell_type": "code",
   "execution_count": 54,
   "id": "29e0ad74",
   "metadata": {},
   "outputs": [],
   "source": [
    "X=np.random.randint(1, 10, (5,5))\n",
    "C=np.matrix(X)"
   ]
  },
  {
   "cell_type": "code",
   "execution_count": 57,
   "id": "7c96c69e",
   "metadata": {},
   "outputs": [],
   "source": [
    "inverse=np.linalg.inv(X)"
   ]
  },
  {
   "cell_type": "code",
   "execution_count": 66,
   "id": "c1d5d258",
   "metadata": {},
   "outputs": [
    {
     "data": {
      "text/plain": [
       "matrix([[ 1.,  0., -0.,  0.,  0.],\n",
       "        [-0.,  1.,  0.,  0., -0.],\n",
       "        [-0.,  0.,  1.,  0., -0.],\n",
       "        [-0.,  0., -0.,  1.,  0.],\n",
       "        [-0., -0.,  0., -0.,  1.]])"
      ]
     },
     "execution_count": 66,
     "metadata": {},
     "output_type": "execute_result"
    }
   ],
   "source": [
    "np.round(X*np.matrix(inverse))"
   ]
  },
  {
   "cell_type": "code",
   "execution_count": null,
   "id": "5a274e3a",
   "metadata": {},
   "outputs": [],
   "source": []
  }
 ],
 "metadata": {
  "kernelspec": {
   "display_name": "Python 3 (ipykernel)",
   "language": "python",
   "name": "python3"
  },
  "language_info": {
   "codemirror_mode": {
    "name": "ipython",
    "version": 3
   },
   "file_extension": ".py",
   "mimetype": "text/x-python",
   "name": "python",
   "nbconvert_exporter": "python",
   "pygments_lexer": "ipython3",
   "version": "3.9.7"
  }
 },
 "nbformat": 4,
 "nbformat_minor": 5
}
