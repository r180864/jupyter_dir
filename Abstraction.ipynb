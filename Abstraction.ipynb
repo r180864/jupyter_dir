{
 "cells": [
  {
   "cell_type": "markdown",
   "metadata": {},
   "source": [
    "# Abstraction"
   ]
  },
  {
   "cell_type": "markdown",
   "metadata": {},
   "source": [
    "Abstract classes are classes that contain one or more abstract method."
   ]
  },
  {
   "cell_type": "markdown",
   "metadata": {},
   "source": [
    "Abstract method is a method that is declared, but contains no implementation"
   ]
  },
  {
   "cell_type": "markdown",
   "metadata": {},
   "source": [
    "Abstract classes cannot be instantiated, and require subclass to provide implementations for the abstract methods."
   ]
  },
  {
   "cell_type": "markdown",
   "metadata": {},
   "source": [
    "#### Example-1"
   ]
  },
  {
   "cell_type": "code",
   "execution_count": 33,
   "metadata": {},
   "outputs": [],
   "source": [
    "from abc import ABC, abstractmethod\n",
    "\n",
    "class Devotee(ABC):\n",
    "    @abstractmethod\n",
    "    def worships(self):\n",
    "        pass\n",
    "    \n",
    "class KrishnaDevotee(Devotee):\n",
    "    def worships(self):\n",
    "        print(\"He worships Krishna\")"
   ]
  },
  {
   "cell_type": "code",
   "execution_count": 34,
   "metadata": {},
   "outputs": [
    {
     "name": "stdout",
     "output_type": "stream",
     "text": [
      "He worships Krishna\n"
     ]
    }
   ],
   "source": [
    "d1=KrishnaDevotee()\n",
    "d1.worships()"
   ]
  },
  {
   "cell_type": "markdown",
   "metadata": {},
   "source": [
    "#### Example-2"
   ]
  },
  {
   "cell_type": "code",
   "execution_count": 45,
   "metadata": {},
   "outputs": [],
   "source": [
    "from abc import ABC, abstractmethod\n",
    "class Avatar(ABC):\n",
    "    @abstractmethod\n",
    "    def work(self):\n",
    "        pass\n",
    "    \n",
    "class Rama(Avatar):\n",
    "    def work(self):\n",
    "        print(\"Deals with the case of 'Kidnap'\")\n",
    "        \n",
    "class Krishna(Avatar):\n",
    "    def work(self):\n",
    "        print(\"Deals with the case of Land 'Dispute'\")\n",
    "        \n",
    "class Anil(Avatar):  #This class is not overriding the abstract methoid of parent class.\n",
    "    def pray(self):\n",
    "        print(\"Anil will pray for both 'Rama' and 'Krishna'\")\n",
    "        "
   ]
  },
  {
   "cell_type": "code",
   "execution_count": 46,
   "metadata": {},
   "outputs": [
    {
     "name": "stdout",
     "output_type": "stream",
     "text": [
      "Deals with the case of 'Kidnap'\n",
      "Deals with the case of Land 'Dispute'\n"
     ]
    }
   ],
   "source": [
    "r1=Rama()\n",
    "r1.work()\n",
    "\n",
    "k1=Krishna()\n",
    "k1.work()"
   ]
  },
  {
   "cell_type": "code",
   "execution_count": 48,
   "metadata": {},
   "outputs": [
    {
     "ename": "TypeError",
     "evalue": "Can't instantiate abstract class Anil with abstract methods work",
     "output_type": "error",
     "traceback": [
      "\u001b[0;31m---------------------------------------------------------------------------\u001b[0m",
      "\u001b[0;31mTypeError\u001b[0m                                 Traceback (most recent call last)",
      "\u001b[0;32m<ipython-input-48-1f4c36c319cb>\u001b[0m in \u001b[0;36m<module>\u001b[0;34m\u001b[0m\n\u001b[0;32m----> 1\u001b[0;31m \u001b[0ma1\u001b[0m\u001b[0;34m=\u001b[0m\u001b[0mAnil\u001b[0m\u001b[0;34m(\u001b[0m\u001b[0;34m)\u001b[0m   \u001b[0;31m#We can't create object as we are not overriding the abstract method of Parent(Avatar) Class.\u001b[0m\u001b[0;34m\u001b[0m\u001b[0;34m\u001b[0m\u001b[0m\n\u001b[0m",
      "\u001b[0;31mTypeError\u001b[0m: Can't instantiate abstract class Anil with abstract methods work"
     ]
    }
   ],
   "source": [
    "a1=Anil()   #We can't create object as we are not overriding the abstract method of Parent(Avatar) Class."
   ]
  },
  {
   "cell_type": "code",
   "execution_count": null,
   "metadata": {},
   "outputs": [],
   "source": []
  }
 ],
 "metadata": {
  "kernelspec": {
   "display_name": "Python 3",
   "language": "python",
   "name": "python3"
  },
  "language_info": {
   "codemirror_mode": {
    "name": "ipython",
    "version": 3
   },
   "file_extension": ".py",
   "mimetype": "text/x-python",
   "name": "python",
   "nbconvert_exporter": "python",
   "pygments_lexer": "ipython3",
   "version": "3.7.6"
  }
 },
 "nbformat": 4,
 "nbformat_minor": 4
}
