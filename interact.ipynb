{
 "cells": [
  {
   "cell_type": "code",
   "execution_count": 1,
   "metadata": {},
   "outputs": [
    {
     "name": "stdout",
     "output_type": "stream",
     "text": [
      "Help on built-in function len in module builtins:\n",
      "\n",
      "len(obj, /)\n",
      "    Return the number of items in a container.\n",
      "\n"
     ]
    }
   ],
   "source": [
    "help(len)"
   ]
  },
  {
   "cell_type": "code",
   "execution_count": 5,
   "metadata": {},
   "outputs": [],
   "source": [
    "len?\n",
    "\n"
   ]
  },
  {
   "cell_type": "code",
   "execution_count": 7,
   "metadata": {},
   "outputs": [],
   "source": [
    "l=[2,4]\n",
    "l.insert?\n"
   ]
  },
  {
   "cell_type": "code",
   "execution_count": 27,
   "metadata": {},
   "outputs": [],
   "source": [
    "l?"
   ]
  },
  {
   "cell_type": "code",
   "execution_count": 20,
   "metadata": {},
   "outputs": [],
   "source": [
    "def square(a):\n",
    "    \"\"\"Gives the Square Value\"\"\"\n",
    "    return a**2\n"
   ]
  },
  {
   "cell_type": "code",
   "execution_count": 28,
   "metadata": {},
   "outputs": [],
   "source": [
    "square?"
   ]
  },
  {
   "cell_type": "code",
   "execution_count": 29,
   "metadata": {},
   "outputs": [],
   "source": [
    "square??"
   ]
  },
  {
   "cell_type": "code",
   "execution_count": 32,
   "metadata": {},
   "outputs": [],
   "source": [
    "len??"
   ]
  },
  {
   "cell_type": "code",
   "execution_count": 35,
   "metadata": {},
   "outputs": [],
   "source": [
    "import math\n",
    "math?"
   ]
  },
  {
   "cell_type": "code",
   "execution_count": 41,
   "metadata": {},
   "outputs": [],
   "source": [
    "import pandas as pd\n",
    "pd?"
   ]
  },
  {
   "cell_type": "code",
   "execution_count": 7,
   "metadata": {},
   "outputs": [],
   "source": [
    "import numpy as np\n",
    "np?"
   ]
  },
  {
   "cell_type": "code",
   "execution_count": 45,
   "metadata": {},
   "outputs": [],
   "source": [
    "import scipy as sp"
   ]
  },
  {
   "cell_type": "code",
   "execution_count": 44,
   "metadata": {},
   "outputs": [],
   "source": [
    "import matplotlib as mptb\n",
    "mptb?"
   ]
  },
  {
   "cell_type": "code",
   "execution_count": 50,
   "metadata": {},
   "outputs": [],
   "source": [
    "l.append(9)"
   ]
  },
  {
   "cell_type": "code",
   "execution_count": 10,
   "metadata": {},
   "outputs": [],
   "source": [
    "from math import sqrt"
   ]
  },
  {
   "cell_type": "code",
   "execution_count": 11,
   "metadata": {},
   "outputs": [
    {
     "data": {
      "text/plain": [
       "4.0"
      ]
     },
     "execution_count": 11,
     "metadata": {},
     "output_type": "execute_result"
    }
   ],
   "source": [
    "sqrt(16)"
   ]
  },
  {
   "cell_type": "code",
   "execution_count": 5,
   "metadata": {},
   "outputs": [],
   "source": [
    "*warning?\n"
   ]
  },
  {
   "cell_type": "raw",
   "metadata": {},
   "source": []
  },
  {
   "cell_type": "code",
   "execution_count": 4,
   "metadata": {},
   "outputs": [],
   "source": [
    "str.*find?"
   ]
  },
  {
   "cell_type": "code",
   "execution_count": 6,
   "metadata": {},
   "outputs": [],
   "source": [
    "def donothing(x):\n",
    "    return x"
   ]
  },
  {
   "cell_type": "code",
   "execution_count": 7,
   "metadata": {},
   "outputs": [],
   "source": [
    "donothing??"
   ]
  },
  {
   "cell_type": "code",
   "execution_count": 68,
   "metadata": {},
   "outputs": [],
   "source": [
    "%magic??"
   ]
  },
  {
   "cell_type": "code",
   "execution_count": 12,
   "metadata": {},
   "outputs": [
    {
     "name": "stdout",
     "output_type": "stream",
     "text": [
      "{11: 4.0}\n"
     ]
    }
   ],
   "source": [
    "print(Out)"
   ]
  },
  {
   "cell_type": "code",
   "execution_count": 72,
   "metadata": {},
   "outputs": [
    {
     "name": "stdout",
     "output_type": "stream",
     "text": [
      "['', 'help(len)', \"get_ipython().run_line_magic('pinfo', 'help')\", \"get_ipython().run_line_magic('pinfo', 'len')\", \"get_ipython().run_line_magic('pinfo', 'help')\", \"get_ipython().run_line_magic('pinfo', 'len')\", \"get_ipython().run_line_magic('pinfo', 'insert')\", \"l=[2,4]\\nget_ipython().run_line_magic('pinfo', 'l.insert')\", 'def square(a):\\n    return a**2', \"get_ipython().run_line_magic('pinfo', 'square')\", 'def square(a):\\n    \"Gives the Square Value\"\\n    return a**2', \"get_ipython().run_line_magic('pinfo', 'square')\", \"def square(a):\\n    '''Gives the Square Value'''\\n    return a**2\", \"get_ipython().run_line_magic('pinfo', 'square')\", 'def square(a):\\n    \"Gives the Square Value\"\\n    return a**2', \"get_ipython().run_line_magic('pinfo', 'square')\", \"get_ipython().run_line_magic('pinfo', 'square')\", 'def square(a):\\n    \"Gives the Square Value\"\\n    return a**2', \"get_ipython().run_line_magic('pinfo', 'square')\", \"get_ipython().run_line_magic('pinfo2', 'square')\", 'def square(a):\\n    \"\"\"Gives the Square Value\"\"\"\\n    return a**2', \"get_ipython().run_line_magic('pinfo2', 'square')\", \"get_ipython().run_line_magic('pinfo2', 'math.sqrt')\", \"import math\\nget_ipython().run_line_magic('pinfo2', 'math.sqrt')\", \"get_ipython().run_line_magic('pinfo2', 'square')\", \"import math\\nget_ipython().run_line_magic('pinfo2', 'math.sqrt')\", \"import math\\nget_ipython().run_line_magic('pinfo', 'math.sqrt')\", \"get_ipython().run_line_magic('pinfo', 'l')\", \"get_ipython().run_line_magic('pinfo', 'square')\", \"get_ipython().run_line_magic('pinfo2', 'square')\", \"get_ipython().run_line_magic('pinfo2', 'len')\", \"get_ipython().run_line_magic('pinfo', 'len')\", \"get_ipython().run_line_magic('pinfo2', 'len')\", \"import math\\nget_ipython().run_line_magic('pinfo', 'math')\", \"import pandas\\nget_ipython().run_line_magic('pinfo', 'pandas')\", \"import pandas\\nget_ipython().run_line_magic('pinfo', 'pandas')\", \"import pandas as pd\\nget_ipython().run_line_magic('pinfo', 'pd')\", \"import numpy as np\\nget_ipython().run_line_magic('pinfo', 'no')\", \"import numpy as np\\nget_ipython().run_line_magic('pinfo', 'np')\", \"import pandas as pd\\nget_ipython().run_line_magic('pinfo', 'pd')\", \"import pandas as pd\\nget_ipython().run_line_magic('pinfo2', 'pd')\", \"import pandas as pd\\nget_ipython().run_line_magic('pinfo', 'pd')\", \"import numpy as np\\nget_ipython().run_line_magic('pinfo', 'np')\", \"import scipy as sp\\nget_ipython().run_line_magic('pinfo', 'sp')\", \"import matplotlib as mptb\\nget_ipython().run_line_magic('pinfo', 'mptb')\", \"import scipy as sp\\nget_ipython().run_line_magic('pinfo', 'sp')\", 'l.<TAB>', 'l.__class__', 'l.__add__', 'l.append', 'l.append(9)', 'from math import sqrt', 'sqrt(16)', \"get_ipython().run_line_magic('psearch', '*ma')\", \"get_ipython().run_line_magic('psearch', '*ma')\", \"get_ipython().run_line_magic('psearch', '*warning')\", \"get_ipython().run_line_magic('psearch', '*warning')\", \"get_ipython().run_line_magic('psearch', '*warning')\", \"get_ipython().run_line_magic('psearch', 'str.*find')\", \"get_ipython().run_line_magic('psearch', '*warning')\", \"get_ipython().run_line_magic('psearch', '*warning')\", \"get_ipython().run_line_magic('psearch', 'str.*find')\", \"get_ipython().run_line_magic('psearch', 'str.*find')\", 'def donothing(x):\\n\\nreturn x', 'def donothing(x):\\n    return x', \"get_ipython().run_line_magic('pinfo2', 'donothing')\", \"get_ipython().run_line_magic('?', '')\", \"get_ipython().run_line_magic('pinfo', '%magic')\", \"get_ipython().run_line_magic('pinfo2', '%magic')\", 'print(Out)', 'sqrt(16)', 'print(Out)', 'print(In)']\n"
     ]
    }
   ],
   "source": [
    "print(In)"
   ]
  },
  {
   "cell_type": "code",
   "execution_count": 73,
   "metadata": {},
   "outputs": [
    {
     "data": {
      "text/plain": [
       "'help(len)'"
      ]
     },
     "execution_count": 73,
     "metadata": {},
     "output_type": "execute_result"
    }
   ],
   "source": [
    "In[1]"
   ]
  },
  {
   "cell_type": "code",
   "execution_count": 75,
   "metadata": {},
   "outputs": [
    {
     "name": "stdout",
     "output_type": "stream",
     "text": [
      "help(len)\n"
     ]
    }
   ],
   "source": [
    "print(_)"
   ]
  },
  {
   "cell_type": "code",
   "execution_count": 76,
   "metadata": {},
   "outputs": [
    {
     "name": "stdout",
     "output_type": "stream",
     "text": [
      "4.0\n"
     ]
    }
   ],
   "source": [
    "print(__)"
   ]
  },
  {
   "cell_type": "code",
   "execution_count": 78,
   "metadata": {},
   "outputs": [
    {
     "name": "stdout",
     "output_type": "stream",
     "text": [
      "4.0\n"
     ]
    }
   ],
   "source": [
    "print(___)"
   ]
  },
  {
   "cell_type": "markdown",
   "metadata": {},
   "source": [
    "_2"
   ]
  },
  {
   "cell_type": "code",
   "execution_count": 82,
   "metadata": {},
   "outputs": [
    {
     "ename": "KeyError",
     "evalue": "2",
     "output_type": "error",
     "traceback": [
      "\u001b[0;31m---------------------------------------------------------------------------\u001b[0m",
      "\u001b[0;31mKeyError\u001b[0m                                  Traceback (most recent call last)",
      "\u001b[0;32m<ipython-input-82-cfd64de725d4>\u001b[0m in \u001b[0;36m<module>\u001b[0;34m\u001b[0m\n\u001b[0;32m----> 1\u001b[0;31m \u001b[0mOut\u001b[0m\u001b[0;34m[\u001b[0m\u001b[0;36m2\u001b[0m\u001b[0;34m]\u001b[0m\u001b[0;34m\u001b[0m\u001b[0;34m\u001b[0m\u001b[0m\n\u001b[0m",
      "\u001b[0;31mKeyError\u001b[0m: 2"
     ]
    }
   ],
   "source": [
    "Out[2]"
   ]
  },
  {
   "cell_type": "code",
   "execution_count": 83,
   "metadata": {},
   "outputs": [
    {
     "name": "stdout",
     "output_type": "stream",
     "text": [
      "jupyter_env  krish1.ipynb  notebook.ipynb  Untitled1.ipynb\r\n"
     ]
    }
   ],
   "source": [
    "!ls"
   ]
  },
  {
   "cell_type": "code",
   "execution_count": 84,
   "metadata": {},
   "outputs": [
    {
     "name": "stdout",
     "output_type": "stream",
     "text": [
      "/home/student/jupyter_dir\r\n"
     ]
    }
   ],
   "source": [
    "!pwd"
   ]
  },
  {
   "cell_type": "code",
   "execution_count": 86,
   "metadata": {},
   "outputs": [
    {
     "name": "stdout",
     "output_type": "stream",
     "text": [
      "Printing from the cell\r\n"
     ]
    }
   ],
   "source": [
    "!echo \"Printing from the cell\""
   ]
  },
  {
   "cell_type": "code",
   "execution_count": 87,
   "metadata": {},
   "outputs": [
    {
     "name": "stdout",
     "output_type": "stream",
     "text": [
      "['interact.ipynb', 'jupyter_env', 'krish1.ipynb', 'Untitled1.ipynb']\n"
     ]
    }
   ],
   "source": [
    "contents=!ls\n",
    "print(contents)"
   ]
  },
  {
   "cell_type": "code",
   "execution_count": 88,
   "metadata": {},
   "outputs": [
    {
     "data": {
      "text/plain": [
       "IPython.utils.text.SList"
      ]
     },
     "execution_count": 88,
     "metadata": {},
     "output_type": "execute_result"
    }
   ],
   "source": [
    "type(contents)"
   ]
  },
  {
   "cell_type": "code",
   "execution_count": 6,
   "metadata": {},
   "outputs": [
    {
     "name": "stdout",
     "output_type": "stream",
     "text": [
      "Object `contents.s` not found.\n"
     ]
    }
   ],
   "source": [
    "contents.s?"
   ]
  },
  {
   "cell_type": "code",
   "execution_count": 94,
   "metadata": {},
   "outputs": [
    {
     "name": "stdout",
     "output_type": "stream",
     "text": [
      "[interact.ipynb, jupyter_env, krish1.ipynb, Untitled1.ipynb]\r\n"
     ]
    }
   ],
   "source": [
    "!echo {contents}"
   ]
  },
  {
   "cell_type": "code",
   "execution_count": 95,
   "metadata": {},
   "outputs": [
    {
     "name": "stdout",
     "output_type": "stream",
     "text": [
      "/home/student\n"
     ]
    }
   ],
   "source": [
    "cd .."
   ]
  },
  {
   "cell_type": "code",
   "execution_count": 97,
   "metadata": {},
   "outputs": [
    {
     "name": "stdout",
     "output_type": "stream",
     "text": [
      "/home/student/jupyter_dir\n"
     ]
    }
   ],
   "source": [
    "cd jupyter_dir"
   ]
  },
  {
   "cell_type": "code",
   "execution_count": 1,
   "metadata": {},
   "outputs": [
    {
     "data": {
      "text/plain": [
       "7"
      ]
     },
     "execution_count": 1,
     "metadata": {},
     "output_type": "execute_result"
    }
   ],
   "source": [
    "int.__add__(3,4)"
   ]
  },
  {
   "cell_type": "code",
   "execution_count": 11,
   "metadata": {},
   "outputs": [],
   "source": [
    "int.__add__??"
   ]
  },
  {
   "cell_type": "code",
   "execution_count": 4,
   "metadata": {},
   "outputs": [
    {
     "name": "stdout",
     "output_type": "stream",
     "text": [
      "Help on wrapper_descriptor:\n",
      "\n",
      "__add__(self, value, /)\n",
      "    Return self+value.\n",
      "\n"
     ]
    }
   ],
   "source": [
    "help(int.__add__)"
   ]
  },
  {
   "cell_type": "code",
   "execution_count": 1,
   "metadata": {},
   "outputs": [
    {
     "name": "stdout",
     "output_type": "stream",
     "text": [
      "# packages in environment at /home/student/anaconda3:\r\n",
      "#\r\n",
      "# Name                    Version                   Build  Channel\r\n",
      "_ipyw_jlab_nb_ext_conf    0.1.0            py37h06a4308_1  \r\n",
      "_libgcc_mutex             0.1                        main  \r\n",
      "alabaster                 0.7.12                   py37_0  \r\n",
      "anaconda                  2020.02                  py37_0  \r\n",
      "anaconda-client           1.7.2                    py37_0  \r\n",
      "anaconda-navigator        1.9.12                   py37_0  \r\n",
      "anaconda-project          0.8.4                      py_0  \r\n",
      "anyqt                     0.0.13             pyhd3eb1b0_0  \r\n",
      "argh                      0.26.2                   py37_0  \r\n",
      "asn1crypto                1.3.0                    py37_0  \r\n",
      "astroid                   2.3.3                    py37_0  \r\n",
      "astropy                   4.0              py37h7b6447c_0  \r\n",
      "atomicwrites              1.3.0                    py37_1  \r\n",
      "attrs                     19.3.0                     py_0  \r\n",
      "autopep8                  1.4.4                      py_0  \r\n",
      "babel                     2.8.0                      py_0  \r\n",
      "backcall                  0.1.0                    py37_0  \r\n",
      "backports                 1.0                        py_2  \r\n",
      "backports.functools_lru_cache 1.6.4              pyhd3eb1b0_0  \r\n",
      "backports.shutil_get_terminal_size 1.0.0                    py37_2  \r\n",
      "backports.tempfile        1.0                pyhd3eb1b0_1  \r\n",
      "backports.weakref         1.0.post1                  py_1  \r\n",
      "beautifulsoup4            4.8.2                    py37_0  \r\n",
      "bitarray                  1.2.1            py37h7b6447c_0  \r\n",
      "bkcharts                  0.2                      py37_0  \r\n",
      "blas                      1.0                         mkl  \r\n",
      "bleach                    3.1.0                    py37_0  \r\n",
      "blosc                     1.16.3               hd408876_0  \r\n",
      "bokeh                     1.4.0                    py37_0  \r\n",
      "boto                      2.49.0                   py37_0  \r\n",
      "bottleneck                1.3.2            py37heb32a55_0  \r\n",
      "bzip2                     1.0.8                h7b6447c_0  \r\n",
      "ca-certificates           2020.1.1                      0  \r\n",
      "cachecontrol              0.12.6             pyhd3eb1b0_0  \r\n",
      "cairo                     1.14.12              h8948797_3  \r\n",
      "certifi                   2019.11.28               py37_0  \r\n",
      "cffi                      1.14.0           py37h2e261b9_0  \r\n",
      "chardet                   3.0.4                 py37_1003  \r\n",
      "click                     7.0                      py37_0  \r\n",
      "cloudpickle               1.3.0                      py_0  \r\n",
      "clyent                    1.2.2                    py37_1  \r\n",
      "colorama                  0.4.3                      py_0  \r\n",
      "commonmark                0.9.1              pyhd3eb1b0_0  \r\n",
      "conda                     4.12.0           py37h06a4308_0  \r\n",
      "conda-build               3.21.8           py37h06a4308_2  \r\n",
      "conda-env                 2.6.0                         1  \r\n",
      "conda-package-handling    1.8.1            py37h7f8727e_0  \r\n",
      "conda-verify              3.4.2                      py_1  \r\n",
      "contextlib2               0.6.0.post1                py_0  \r\n",
      "cryptography              2.8              py37h1ba5d50_0  \r\n",
      "curl                      7.68.0               hbc83047_0  \r\n",
      "cycler                    0.10.0                   py37_0  \r\n",
      "cython                    0.29.15          py37he6710b0_0  \r\n",
      "cytoolz                   0.10.1           py37h7b6447c_0  \r\n",
      "dask                      2.11.0                     py_0  \r\n",
      "dask-core                 2.11.0                     py_0  \r\n",
      "dbus                      1.13.12              h746ee38_0  \r\n",
      "decorator                 4.4.1                      py_0  \r\n",
      "defusedxml                0.6.0                      py_0  \r\n",
      "dictdiffer                0.8.0                      py_0  \r\n",
      "diff-match-patch          20181111                   py_0  \r\n",
      "distributed               2.11.0                   py37_0  \r\n",
      "docutils                  0.16                     py37_0  \r\n",
      "entrypoints               0.3                      py37_0  \r\n",
      "et_xmlfile                1.0.1                    py37_0  \r\n",
      "expat                     2.2.6                he6710b0_0  \r\n",
      "fastcache                 1.1.0            py37h7b6447c_0  \r\n",
      "filelock                  3.0.12                     py_0  \r\n",
      "flake8                    3.7.9                    py37_0  \r\n",
      "flask                     1.1.1                      py_0  \r\n",
      "fontconfig                2.13.0               h9420a91_0  \r\n",
      "freetype                  2.9.1                h8a8886c_1  \r\n",
      "fribidi                   1.0.5                h7b6447c_0  \r\n",
      "fsspec                    0.6.2                      py_0  \r\n",
      "future                    0.18.2                   py37_0  \r\n",
      "get_terminal_size         1.0.0                haa9412d_0  \r\n",
      "gevent                    1.4.0            py37h7b6447c_0  \r\n",
      "glib                      2.63.1               h5a9c865_0  \r\n",
      "glob2                     0.7                        py_0  \r\n",
      "gmp                       6.1.2                h6c8ec71_1  \r\n",
      "gmpy2                     2.0.8            py37h10f8cd9_2  \r\n",
      "graphite2                 1.3.13               h23475e2_0  \r\n",
      "greenlet                  0.4.15           py37h7b6447c_0  \r\n",
      "gst-plugins-base          1.14.0               hbbd80ab_1  \r\n",
      "gstreamer                 1.14.0               hb453b48_1  \r\n",
      "h5py                      2.10.0           py37h7918eee_0  \r\n",
      "harfbuzz                  1.8.8                hffaf4a1_0  \r\n",
      "hdf5                      1.10.4               hb1b8bf9_0  \r\n",
      "heapdict                  1.0.1                      py_0  \r\n",
      "html5lib                  1.0.1                    py37_0  \r\n",
      "hypothesis                5.5.4                      py_0  \r\n",
      "icu                       58.2                 h9c2bf20_1  \r\n",
      "idna                      2.8                      py37_0  \r\n",
      "imageio                   2.6.1                    py37_0  \r\n",
      "imagesize                 1.2.0                      py_0  \r\n",
      "importlib_metadata        1.5.0                    py37_0  \r\n",
      "intel-openmp              2020.0                      166  \r\n",
      "intervaltree              3.0.2                      py_0  \r\n",
      "ipykernel                 5.1.4            py37h39e3cac_0  \r\n",
      "ipython                   7.12.0           py37h5ca1d4c_0  \r\n",
      "ipython_genutils          0.2.0                    py37_0  \r\n",
      "ipywidgets                7.5.1                      py_0  \r\n",
      "isort                     4.3.21                   py37_0  \r\n",
      "itsdangerous              1.1.0                    py37_0  \r\n",
      "jbig                      2.1                  hdba287a_0  \r\n",
      "jdcal                     1.4.1                      py_0  \r\n",
      "jedi                      0.14.1                   py37_0  \r\n",
      "jeepney                   0.4.2                      py_0  \r\n",
      "jinja2                    2.11.1                     py_0  \r\n",
      "joblib                    0.14.1                     py_0  \r\n",
      "jpeg                      9b                   h024ee3a_2  \r\n",
      "json5                     0.9.1                      py_0  \r\n",
      "jsonschema                3.2.0                    py37_0  \r\n",
      "jupyter                   1.0.0                    py37_7  \r\n",
      "jupyter_client            5.3.4                    py37_0  \r\n",
      "jupyter_console           6.1.0                      py_0  \r\n",
      "jupyter_core              4.6.1                    py37_0  \r\n",
      "jupyterlab                1.2.6              pyhf63ae98_0  \r\n",
      "jupyterlab_server         1.0.6                      py_0  \r\n",
      "keyring                   21.1.0                   py37_0  \r\n",
      "keyrings.alt              4.1.0            py37h06a4308_0  \r\n",
      "kiwisolver                1.1.0            py37he6710b0_0  \r\n",
      "krb5                      1.17.1               h173b8e3_0  \r\n",
      "lazy-object-proxy         1.4.3            py37h7b6447c_0  \r\n",
      "ld_impl_linux-64          2.33.1               h53a641e_7  \r\n",
      "libarchive                3.3.3                h5d8350f_5  \r\n",
      "libcurl                   7.68.0               h20c2e04_0  \r\n",
      "libedit                   3.1.20181209         hc058e9b_0  \r\n",
      "libffi                    3.2.1                hd88cf55_4  \r\n",
      "libgcc-ng                 9.1.0                hdf63c60_0  \r\n",
      "libgfortran-ng            7.3.0                hdf63c60_0  \r\n",
      "liblief                   0.9.0                h7725739_2  \r\n",
      "libpng                    1.6.37               hbc83047_0  \r\n",
      "libsodium                 1.0.16               h1bed415_0  \r\n",
      "libspatialindex           1.9.3                he6710b0_0  \r\n",
      "libssh2                   1.8.2                h1ba5d50_0  \r\n",
      "libstdcxx-ng              9.1.0                hdf63c60_0  \r\n",
      "libtiff                   4.1.0                h2733197_0  \r\n",
      "libtool                   2.4.6                h7b6447c_5  \r\n",
      "libuuid                   1.0.3                h1bed415_2  \r\n",
      "libxcb                    1.13                 h1bed415_1  \r\n",
      "libxml2                   2.9.9                hea5a465_1  \r\n",
      "libxslt                   1.1.33               h7d1a2b0_0  \r\n",
      "llvmlite                  0.31.0           py37hd408876_0  \r\n",
      "locket                    0.2.0                    py37_1  \r\n",
      "lockfile                  0.12.2           py37h06a4308_0  \r\n",
      "lxml                      4.5.0            py37hefd8a0e_0  \r\n",
      "lz4-c                     1.8.1.2              h14c3975_0  \r\n",
      "lzo                       2.10                 h49e0be7_2  \r\n",
      "markupsafe                1.1.1            py37h7b6447c_0  \r\n",
      "matplotlib                3.1.3                    py37_0  \r\n",
      "matplotlib-base           3.1.3            py37hef1b27d_0  \r\n",
      "mccabe                    0.6.1                    py37_1  \r\n",
      "mistune                   0.8.4            py37h7b6447c_0  \r\n",
      "mkl                       2020.0                      166  \r\n",
      "mkl-service               2.3.0            py37he904b0f_0  \r\n",
      "mkl_fft                   1.0.15           py37ha843d7b_0  \r\n",
      "mkl_random                1.1.0            py37hd6b4f25_0  \r\n",
      "mock                      4.0.1                      py_0  \r\n",
      "more-itertools            8.2.0                      py_0  \r\n",
      "mpc                       1.1.0                h10f8cd9_1  \r\n",
      "mpfr                      4.0.1                hdf1c602_3  \r\n",
      "mpmath                    1.1.0                    py37_0  \r\n",
      "msgpack-python            0.6.1            py37hfd86e86_1  \r\n",
      "multipledispatch          0.6.0                    py37_0  \r\n",
      "navigator-updater         0.2.1                    py37_1  \r\n",
      "nbconvert                 5.6.1                    py37_0  \r\n",
      "nbformat                  5.0.4                      py_0  \r\n",
      "ncurses                   6.2                  he6710b0_0  \r\n",
      "networkx                  2.4                        py_0  \r\n",
      "nltk                      3.4.5                    py37_0  \r\n",
      "nose                      1.3.7                    py37_2  \r\n",
      "notebook                  6.0.3                    py37_0  \r\n",
      "numba                     0.48.0           py37h0573a6f_0  \r\n",
      "numexpr                   2.7.1            py37h423224d_0  \r\n",
      "numpy                     1.18.1           py37h4f9e942_0  \r\n",
      "numpy-base                1.18.1           py37hde5b4d6_1  \r\n",
      "numpydoc                  0.9.2                      py_0  \r\n",
      "olefile                   0.46                     py37_0  \r\n",
      "openpyxl                  3.0.3                      py_0  \r\n",
      "openssl                   1.1.1d               h7b6447c_4  \r\n",
      "opentsne                  0.4.3            py37hfd86e86_1  \r\n",
      "orange-canvas-core        0.1.15             pyhd3eb1b0_0  \r\n",
      "orange-widget-base        4.0.1                      py_0  \r\n",
      "orange3                   3.23.1           py37he6710b0_0  \r\n",
      "packaging                 20.1                       py_0  \r\n",
      "pandas                    1.0.1            py37h0573a6f_0  \r\n",
      "pandoc                    2.2.3.2                       0  \r\n",
      "pandocfilters             1.4.2                    py37_1  \r\n",
      "pango                     1.42.4               h049681c_0  \r\n",
      "parso                     0.5.2                      py_0  \r\n",
      "partd                     1.1.0                      py_0  \r\n",
      "patchelf                  0.10                 he6710b0_0  \r\n",
      "path                      13.1.0                   py37_0  \r\n",
      "path.py                   12.4.0                        0  \r\n",
      "pathlib2                  2.3.5                    py37_0  \r\n",
      "pathtools                 0.1.2                      py_1  \r\n",
      "patsy                     0.5.1                    py37_0  \r\n",
      "pcre                      8.43                 he6710b0_0  \r\n",
      "pep8                      1.7.1                    py37_0  \r\n",
      "pexpect                   4.8.0                    py37_0  \r\n",
      "pickleshare               0.7.5                    py37_0  \r\n",
      "pillow                    7.0.0            py37hb39fc2d_0  \r\n",
      "pip                       20.0.2                   py37_1  \r\n",
      "pixman                    0.38.0               h7b6447c_0  \r\n",
      "pkginfo                   1.5.0.1                  py37_0  \r\n",
      "pluggy                    0.13.1                   py37_0  \r\n",
      "ply                       3.11                     py37_0  \r\n",
      "prometheus_client         0.7.1                      py_0  \r\n",
      "prompt_toolkit            3.0.3                      py_0  \r\n",
      "psutil                    5.6.7            py37h7b6447c_0  \r\n",
      "ptyprocess                0.6.0                    py37_0  \r\n",
      "py                        1.8.1                      py_0  \r\n",
      "py-lief                   0.9.0            py37h7725739_2  \r\n",
      "pycodestyle               2.5.0                    py37_0  \r\n",
      "pycosat                   0.6.3            py37h7b6447c_0  \r\n",
      "pycparser                 2.19                     py37_0  \r\n",
      "pycrypto                  2.6.1            py37h14c3975_9  \r\n",
      "pycurl                    7.43.0.5         py37h1ba5d50_0  \r\n",
      "pydocstyle                4.0.1                      py_0  \r\n",
      "pyflakes                  2.1.1                    py37_0  \r\n",
      "pygments                  2.5.2                      py_0  \r\n",
      "pylint                    2.4.4                    py37_0  \r\n",
      "pynndescent               0.4.8                      py_1  \r\n",
      "pyodbc                    4.0.30           py37he6710b0_0  \r\n",
      "pyopenssl                 19.1.0                   py37_0  \r\n",
      "pyparsing                 2.4.6                      py_0  \r\n",
      "pyqt                      5.9.2            py37h05f1152_2  \r\n",
      "pyqtgraph                 0.11.0                     py_0  \r\n",
      "pyrsistent                0.15.7           py37h7b6447c_0  \r\n",
      "pysocks                   1.7.1                    py37_0  \r\n",
      "pytables                  3.6.1            py37h71ec239_0  \r\n",
      "pytest                    5.3.5                    py37_0  \r\n",
      "pytest-arraydiff          0.3              py37h39e3cac_0  \r\n",
      "pytest-astropy            0.8.0                      py_0  \r\n",
      "pytest-astropy-header     0.1.2                      py_0  \r\n",
      "pytest-doctestplus        0.5.0                      py_0  \r\n",
      "pytest-openfiles          0.4.0                      py_0  \r\n",
      "pytest-remotedata         0.3.2                    py37_0  \r\n",
      "python                    3.7.6                h0371630_2  \r\n",
      "python-dateutil           2.8.1                      py_0  \r\n",
      "python-jsonrpc-server     0.3.4                      py_0  \r\n",
      "python-language-server    0.31.7                   py37_0  \r\n",
      "python-libarchive-c       2.8                     py37_13  \r\n",
      "python-louvain            0.15               pyhd3eb1b0_0  \r\n",
      "pytz                      2019.3                     py_0  \r\n",
      "pywavelets                1.1.1            py37h7b6447c_0  \r\n",
      "pyxdg                     0.26                       py_0  \r\n",
      "pyyaml                    5.3              py37h7b6447c_0  \r\n",
      "pyzmq                     18.1.1           py37he6710b0_0  \r\n",
      "qdarkstyle                2.8                        py_0  \r\n",
      "qt                        5.9.7                h5867ecd_1  \r\n",
      "qtawesome                 0.6.1                      py_0  \r\n",
      "qtconsole                 4.6.0                      py_1  \r\n",
      "qtpy                      1.9.0                      py_0  \r\n",
      "readline                  7.0                  h7b6447c_5  \r\n",
      "requests                  2.22.0                   py37_1  \r\n",
      "ripgrep                   11.0.2               he32d670_0  \r\n",
      "rope                      0.16.0                     py_0  \r\n",
      "rtree                     0.9.3                    py37_0  \r\n",
      "ruamel_yaml               0.15.87          py37h7b6447c_0  \r\n",
      "scikit-image              0.16.2           py37h0573a6f_0  \r\n",
      "scikit-learn              0.22.1           py37hd81dba3_0  \r\n",
      "scipy                     1.4.1            py37h0b6359f_0  \r\n",
      "seaborn                   0.10.0                     py_0  \r\n",
      "secretstorage             3.1.2                    py37_0  \r\n",
      "send2trash                1.5.0                    py37_0  \r\n",
      "serverfiles               0.3.1            py37h06a4308_0  \r\n",
      "setuptools                45.2.0                   py37_0  \r\n",
      "simplegeneric             0.8.1                    py37_2  \r\n",
      "singledispatch            3.4.0.3                  py37_0  \r\n",
      "sip                       4.19.8           py37hf484d3e_0  \r\n",
      "six                       1.14.0                   py37_0  \r\n",
      "snappy                    1.1.7                hbae5bb6_3  \r\n",
      "snowballstemmer           2.0.0                      py_0  \r\n",
      "sortedcollections         1.1.2                    py37_0  \r\n",
      "sortedcontainers          2.1.0                    py37_0  \r\n",
      "soupsieve                 1.9.5                    py37_0  \r\n",
      "sphinx                    2.4.0                      py_0  \r\n",
      "sphinxcontrib             1.0                      py37_1  \r\n",
      "sphinxcontrib-applehelp   1.0.1                      py_0  \r\n",
      "sphinxcontrib-devhelp     1.0.1                      py_0  \r\n",
      "sphinxcontrib-htmlhelp    1.0.2                      py_0  \r\n",
      "sphinxcontrib-jsmath      1.0.1                      py_0  \r\n",
      "sphinxcontrib-qthelp      1.0.2                      py_0  \r\n",
      "sphinxcontrib-serializinghtml 1.1.3                      py_0  \r\n",
      "sphinxcontrib-websupport  1.2.0                      py_0  \r\n",
      "spyder                    4.0.1                    py37_0  \r\n",
      "spyder-kernels            1.8.1                    py37_0  \r\n",
      "sqlalchemy                1.3.13           py37h7b6447c_0  \r\n",
      "sqlite                    3.31.1               h7b6447c_0  \r\n",
      "statsmodels               0.11.0           py37h7b6447c_0  \r\n",
      "sympy                     1.5.1                    py37_0  \r\n",
      "tbb                       2020.0               hfd86e86_0  \r\n",
      "tblib                     1.6.0                      py_0  \r\n",
      "terminado                 0.8.3                    py37_0  \r\n",
      "testpath                  0.4.4                      py_0  \r\n",
      "tk                        8.6.8                hbc83047_0  \r\n",
      "toolz                     0.10.0                     py_0  \r\n",
      "tornado                   6.0.3            py37h7b6447c_3  \r\n",
      "tqdm                      4.42.1                     py_0  \r\n",
      "traitlets                 4.3.3                    py37_0  \r\n",
      "ujson                     1.35             py37h14c3975_0  \r\n",
      "unicodecsv                0.14.1                   py37_0  \r\n",
      "unixodbc                  2.3.7                h14c3975_0  \r\n",
      "urllib3                   1.25.8                   py37_0  \r\n",
      "watchdog                  0.10.2                   py37_0  \r\n",
      "wcwidth                   0.1.8                      py_0  \r\n",
      "webencodings              0.5.1                    py37_1  \r\n",
      "werkzeug                  1.0.0                      py_0  \r\n",
      "wheel                     0.34.2                   py37_0  \r\n",
      "widgetsnbextension        3.5.1                    py37_0  \r\n",
      "wrapt                     1.11.2           py37h7b6447c_0  \r\n",
      "wurlitzer                 2.0.0                    py37_0  \r\n",
      "xlrd                      1.2.0                    py37_0  \r\n",
      "xlsxwriter                1.2.7                      py_0  \r\n",
      "xlwt                      1.3.0                    py37_0  \r\n",
      "xmltodict                 0.12.0             pyhd3eb1b0_0  \r\n",
      "xz                        5.2.4                h14c3975_4  \r\n",
      "yaml                      0.1.7                had09818_2  \r\n",
      "yapf                      0.28.0                     py_0  \r\n",
      "zeromq                    4.3.1                he6710b0_3  \r\n",
      "zict                      1.0.0                      py_0  \r\n",
      "zipp                      2.2.0                      py_0  \r\n",
      "zlib                      1.2.11               h7b6447c_3  \r\n",
      "zstd                      1.3.7                h0b5b093_0  \r\n"
     ]
    },
    {
     "name": "stdout",
     "output_type": "stream",
     "text": [
      "\n",
      "Note: you may need to restart the kernel to use updated packages.\n"
     ]
    }
   ],
   "source": [
    "conda list"
   ]
  },
  {
   "cell_type": "code",
   "execution_count": 2,
   "metadata": {},
   "outputs": [],
   "source": [
    "import numpy as np"
   ]
  },
  {
   "cell_type": "code",
   "execution_count": 13,
   "metadata": {},
   "outputs": [
    {
     "data": {
      "text/plain": [
       "['ALLOW_THREADS',\n",
       " 'AxisError',\n",
       " 'BUFSIZE',\n",
       " 'CLIP',\n",
       " 'ComplexWarning',\n",
       " 'DataSource',\n",
       " 'ERR_CALL',\n",
       " 'ERR_DEFAULT',\n",
       " 'ERR_IGNORE',\n",
       " 'ERR_LOG',\n",
       " 'ERR_PRINT',\n",
       " 'ERR_RAISE',\n",
       " 'ERR_WARN',\n",
       " 'FLOATING_POINT_SUPPORT',\n",
       " 'FPE_DIVIDEBYZERO',\n",
       " 'FPE_INVALID',\n",
       " 'FPE_OVERFLOW',\n",
       " 'FPE_UNDERFLOW',\n",
       " 'False_',\n",
       " 'Inf',\n",
       " 'Infinity',\n",
       " 'MAXDIMS',\n",
       " 'MAY_SHARE_BOUNDS',\n",
       " 'MAY_SHARE_EXACT',\n",
       " 'MachAr',\n",
       " 'ModuleDeprecationWarning',\n",
       " 'NAN',\n",
       " 'NINF',\n",
       " 'NZERO',\n",
       " 'NaN',\n",
       " 'PINF',\n",
       " 'PZERO',\n",
       " 'RAISE',\n",
       " 'RankWarning',\n",
       " 'SHIFT_DIVIDEBYZERO',\n",
       " 'SHIFT_INVALID',\n",
       " 'SHIFT_OVERFLOW',\n",
       " 'SHIFT_UNDERFLOW',\n",
       " 'ScalarType',\n",
       " 'Tester',\n",
       " 'TooHardError',\n",
       " 'True_',\n",
       " 'UFUNC_BUFSIZE_DEFAULT',\n",
       " 'UFUNC_PYVALS_NAME',\n",
       " 'VisibleDeprecationWarning',\n",
       " 'WRAP',\n",
       " '_NoValue',\n",
       " '_UFUNC_API',\n",
       " '__NUMPY_SETUP__',\n",
       " '__all__',\n",
       " '__builtins__',\n",
       " '__cached__',\n",
       " '__config__',\n",
       " '__dir__',\n",
       " '__doc__',\n",
       " '__file__',\n",
       " '__getattr__',\n",
       " '__git_revision__',\n",
       " '__loader__',\n",
       " '__mkl_version__',\n",
       " '__name__',\n",
       " '__package__',\n",
       " '__path__',\n",
       " '__spec__',\n",
       " '__version__',\n",
       " '_add_newdoc_ufunc',\n",
       " '_distributor_init',\n",
       " '_globals',\n",
       " '_mat',\n",
       " '_pytesttester',\n",
       " 'abs',\n",
       " 'absolute',\n",
       " 'absolute_import',\n",
       " 'add',\n",
       " 'add_docstring',\n",
       " 'add_newdoc',\n",
       " 'add_newdoc_ufunc',\n",
       " 'alen',\n",
       " 'all',\n",
       " 'allclose',\n",
       " 'alltrue',\n",
       " 'amax',\n",
       " 'amin',\n",
       " 'angle',\n",
       " 'any',\n",
       " 'append',\n",
       " 'apply_along_axis',\n",
       " 'apply_over_axes',\n",
       " 'arange',\n",
       " 'arccos',\n",
       " 'arccosh',\n",
       " 'arcsin',\n",
       " 'arcsinh',\n",
       " 'arctan',\n",
       " 'arctan2',\n",
       " 'arctanh',\n",
       " 'argmax',\n",
       " 'argmin',\n",
       " 'argpartition',\n",
       " 'argsort',\n",
       " 'argwhere',\n",
       " 'around',\n",
       " 'array',\n",
       " 'array2string',\n",
       " 'array_equal',\n",
       " 'array_equiv',\n",
       " 'array_repr',\n",
       " 'array_split',\n",
       " 'array_str',\n",
       " 'asanyarray',\n",
       " 'asarray',\n",
       " 'asarray_chkfinite',\n",
       " 'ascontiguousarray',\n",
       " 'asfarray',\n",
       " 'asfortranarray',\n",
       " 'asmatrix',\n",
       " 'asscalar',\n",
       " 'atleast_1d',\n",
       " 'atleast_2d',\n",
       " 'atleast_3d',\n",
       " 'average',\n",
       " 'bartlett',\n",
       " 'base_repr',\n",
       " 'binary_repr',\n",
       " 'bincount',\n",
       " 'bitwise_and',\n",
       " 'bitwise_not',\n",
       " 'bitwise_or',\n",
       " 'bitwise_xor',\n",
       " 'blackman',\n",
       " 'block',\n",
       " 'bmat',\n",
       " 'bool',\n",
       " 'bool8',\n",
       " 'bool_',\n",
       " 'broadcast',\n",
       " 'broadcast_arrays',\n",
       " 'broadcast_to',\n",
       " 'busday_count',\n",
       " 'busday_offset',\n",
       " 'busdaycalendar',\n",
       " 'byte',\n",
       " 'byte_bounds',\n",
       " 'bytes0',\n",
       " 'bytes_',\n",
       " 'c_',\n",
       " 'can_cast',\n",
       " 'cast',\n",
       " 'cbrt',\n",
       " 'cdouble',\n",
       " 'ceil',\n",
       " 'cfloat',\n",
       " 'char',\n",
       " 'character',\n",
       " 'chararray',\n",
       " 'choose',\n",
       " 'clip',\n",
       " 'clongdouble',\n",
       " 'clongfloat',\n",
       " 'column_stack',\n",
       " 'common_type',\n",
       " 'compare_chararrays',\n",
       " 'compat',\n",
       " 'complex',\n",
       " 'complex128',\n",
       " 'complex256',\n",
       " 'complex64',\n",
       " 'complex_',\n",
       " 'complexfloating',\n",
       " 'compress',\n",
       " 'concatenate',\n",
       " 'conj',\n",
       " 'conjugate',\n",
       " 'convolve',\n",
       " 'copy',\n",
       " 'copysign',\n",
       " 'copyto',\n",
       " 'core',\n",
       " 'corrcoef',\n",
       " 'correlate',\n",
       " 'cos',\n",
       " 'cosh',\n",
       " 'count_nonzero',\n",
       " 'cov',\n",
       " 'cross',\n",
       " 'csingle',\n",
       " 'ctypeslib',\n",
       " 'cumprod',\n",
       " 'cumproduct',\n",
       " 'cumsum',\n",
       " 'datetime64',\n",
       " 'datetime_as_string',\n",
       " 'datetime_data',\n",
       " 'deg2rad',\n",
       " 'degrees',\n",
       " 'delete',\n",
       " 'deprecate',\n",
       " 'deprecate_with_doc',\n",
       " 'diag',\n",
       " 'diag_indices',\n",
       " 'diag_indices_from',\n",
       " 'diagflat',\n",
       " 'diagonal',\n",
       " 'diff',\n",
       " 'digitize',\n",
       " 'disp',\n",
       " 'divide',\n",
       " 'division',\n",
       " 'divmod',\n",
       " 'dot',\n",
       " 'double',\n",
       " 'dsplit',\n",
       " 'dstack',\n",
       " 'dtype',\n",
       " 'e',\n",
       " 'ediff1d',\n",
       " 'einsum',\n",
       " 'einsum_path',\n",
       " 'emath',\n",
       " 'empty',\n",
       " 'empty_like',\n",
       " 'equal',\n",
       " 'errstate',\n",
       " 'euler_gamma',\n",
       " 'exp',\n",
       " 'exp2',\n",
       " 'expand_dims',\n",
       " 'expm1',\n",
       " 'extract',\n",
       " 'eye',\n",
       " 'fabs',\n",
       " 'fastCopyAndTranspose',\n",
       " 'fft',\n",
       " 'fill_diagonal',\n",
       " 'find_common_type',\n",
       " 'finfo',\n",
       " 'fix',\n",
       " 'flatiter',\n",
       " 'flatnonzero',\n",
       " 'flexible',\n",
       " 'flip',\n",
       " 'fliplr',\n",
       " 'flipud',\n",
       " 'float',\n",
       " 'float128',\n",
       " 'float16',\n",
       " 'float32',\n",
       " 'float64',\n",
       " 'float_',\n",
       " 'float_power',\n",
       " 'floating',\n",
       " 'floor',\n",
       " 'floor_divide',\n",
       " 'fmax',\n",
       " 'fmin',\n",
       " 'fmod',\n",
       " 'format_float_positional',\n",
       " 'format_float_scientific',\n",
       " 'format_parser',\n",
       " 'frexp',\n",
       " 'frombuffer',\n",
       " 'fromfile',\n",
       " 'fromfunction',\n",
       " 'fromiter',\n",
       " 'frompyfunc',\n",
       " 'fromregex',\n",
       " 'fromstring',\n",
       " 'full',\n",
       " 'full_like',\n",
       " 'fv',\n",
       " 'gcd',\n",
       " 'generic',\n",
       " 'genfromtxt',\n",
       " 'geomspace',\n",
       " 'get_array_wrap',\n",
       " 'get_include',\n",
       " 'get_printoptions',\n",
       " 'getbufsize',\n",
       " 'geterr',\n",
       " 'geterrcall',\n",
       " 'geterrobj',\n",
       " 'gradient',\n",
       " 'greater',\n",
       " 'greater_equal',\n",
       " 'half',\n",
       " 'hamming',\n",
       " 'hanning',\n",
       " 'heaviside',\n",
       " 'histogram',\n",
       " 'histogram2d',\n",
       " 'histogram_bin_edges',\n",
       " 'histogramdd',\n",
       " 'hsplit',\n",
       " 'hstack',\n",
       " 'hypot',\n",
       " 'i0',\n",
       " 'identity',\n",
       " 'iinfo',\n",
       " 'imag',\n",
       " 'in1d',\n",
       " 'index_exp',\n",
       " 'indices',\n",
       " 'inexact',\n",
       " 'inf',\n",
       " 'info',\n",
       " 'infty',\n",
       " 'inner',\n",
       " 'insert',\n",
       " 'int',\n",
       " 'int0',\n",
       " 'int16',\n",
       " 'int32',\n",
       " 'int64',\n",
       " 'int8',\n",
       " 'int_',\n",
       " 'int_asbuffer',\n",
       " 'intc',\n",
       " 'integer',\n",
       " 'interp',\n",
       " 'intersect1d',\n",
       " 'intp',\n",
       " 'invert',\n",
       " 'ipmt',\n",
       " 'irr',\n",
       " 'is_busday',\n",
       " 'isclose',\n",
       " 'iscomplex',\n",
       " 'iscomplexobj',\n",
       " 'isfinite',\n",
       " 'isfortran',\n",
       " 'isin',\n",
       " 'isinf',\n",
       " 'isnan',\n",
       " 'isnat',\n",
       " 'isneginf',\n",
       " 'isposinf',\n",
       " 'isreal',\n",
       " 'isrealobj',\n",
       " 'isscalar',\n",
       " 'issctype',\n",
       " 'issubclass_',\n",
       " 'issubdtype',\n",
       " 'issubsctype',\n",
       " 'iterable',\n",
       " 'ix_',\n",
       " 'kaiser',\n",
       " 'kron',\n",
       " 'lcm',\n",
       " 'ldexp',\n",
       " 'left_shift',\n",
       " 'less',\n",
       " 'less_equal',\n",
       " 'lexsort',\n",
       " 'lib',\n",
       " 'linalg',\n",
       " 'linspace',\n",
       " 'little_endian',\n",
       " 'load',\n",
       " 'loads',\n",
       " 'loadtxt',\n",
       " 'log',\n",
       " 'log10',\n",
       " 'log1p',\n",
       " 'log2',\n",
       " 'logaddexp',\n",
       " 'logaddexp2',\n",
       " 'logical_and',\n",
       " 'logical_not',\n",
       " 'logical_or',\n",
       " 'logical_xor',\n",
       " 'logspace',\n",
       " 'long',\n",
       " 'longcomplex',\n",
       " 'longdouble',\n",
       " 'longfloat',\n",
       " 'longlong',\n",
       " 'lookfor',\n",
       " 'ma',\n",
       " 'mafromtxt',\n",
       " 'mask_indices',\n",
       " 'mat',\n",
       " 'math',\n",
       " 'matmul',\n",
       " 'matrix',\n",
       " 'matrixlib',\n",
       " 'max',\n",
       " 'maximum',\n",
       " 'maximum_sctype',\n",
       " 'may_share_memory',\n",
       " 'mean',\n",
       " 'median',\n",
       " 'memmap',\n",
       " 'meshgrid',\n",
       " 'mgrid',\n",
       " 'min',\n",
       " 'min_scalar_type',\n",
       " 'minimum',\n",
       " 'mintypecode',\n",
       " 'mirr',\n",
       " 'mkl',\n",
       " 'mod',\n",
       " 'modf',\n",
       " 'moveaxis',\n",
       " 'msort',\n",
       " 'multiply',\n",
       " 'nan',\n",
       " 'nan_to_num',\n",
       " 'nanargmax',\n",
       " 'nanargmin',\n",
       " 'nancumprod',\n",
       " 'nancumsum',\n",
       " 'nanmax',\n",
       " 'nanmean',\n",
       " 'nanmedian',\n",
       " 'nanmin',\n",
       " 'nanpercentile',\n",
       " 'nanprod',\n",
       " 'nanquantile',\n",
       " 'nanstd',\n",
       " 'nansum',\n",
       " 'nanvar',\n",
       " 'nbytes',\n",
       " 'ndarray',\n",
       " 'ndenumerate',\n",
       " 'ndfromtxt',\n",
       " 'ndim',\n",
       " 'ndindex',\n",
       " 'nditer',\n",
       " 'negative',\n",
       " 'nested_iters',\n",
       " 'newaxis',\n",
       " 'nextafter',\n",
       " 'nonzero',\n",
       " 'not_equal',\n",
       " 'nper',\n",
       " 'npv',\n",
       " 'numarray',\n",
       " 'number',\n",
       " 'obj2sctype',\n",
       " 'object',\n",
       " 'object0',\n",
       " 'object_',\n",
       " 'ogrid',\n",
       " 'oldnumeric',\n",
       " 'ones',\n",
       " 'ones_like',\n",
       " 'outer',\n",
       " 'packbits',\n",
       " 'pad',\n",
       " 'partition',\n",
       " 'percentile',\n",
       " 'pi',\n",
       " 'piecewise',\n",
       " 'place',\n",
       " 'pmt',\n",
       " 'poly',\n",
       " 'poly1d',\n",
       " 'polyadd',\n",
       " 'polyder',\n",
       " 'polydiv',\n",
       " 'polyfit',\n",
       " 'polyint',\n",
       " 'polymul',\n",
       " 'polynomial',\n",
       " 'polysub',\n",
       " 'polyval',\n",
       " 'positive',\n",
       " 'power',\n",
       " 'ppmt',\n",
       " 'print_function',\n",
       " 'printoptions',\n",
       " 'prod',\n",
       " 'product',\n",
       " 'promote_types',\n",
       " 'ptp',\n",
       " 'put',\n",
       " 'put_along_axis',\n",
       " 'putmask',\n",
       " 'pv',\n",
       " 'quantile',\n",
       " 'r_',\n",
       " 'rad2deg',\n",
       " 'radians',\n",
       " 'random',\n",
       " 'rate',\n",
       " 'ravel',\n",
       " 'ravel_multi_index',\n",
       " 'real',\n",
       " 'real_if_close',\n",
       " 'rec',\n",
       " 'recarray',\n",
       " 'recfromcsv',\n",
       " 'recfromtxt',\n",
       " 'reciprocal',\n",
       " 'record',\n",
       " 'remainder',\n",
       " 'repeat',\n",
       " 'require',\n",
       " 'reshape',\n",
       " 'resize',\n",
       " 'result_type',\n",
       " 'right_shift',\n",
       " 'rint',\n",
       " 'roll',\n",
       " 'rollaxis',\n",
       " 'roots',\n",
       " 'rot90',\n",
       " 'round',\n",
       " 'round_',\n",
       " 'row_stack',\n",
       " 's_',\n",
       " 'safe_eval',\n",
       " 'save',\n",
       " 'savetxt',\n",
       " 'savez',\n",
       " 'savez_compressed',\n",
       " 'sctype2char',\n",
       " 'sctypeDict',\n",
       " 'sctypeNA',\n",
       " 'sctypes',\n",
       " 'searchsorted',\n",
       " 'select',\n",
       " 'set_numeric_ops',\n",
       " 'set_printoptions',\n",
       " 'set_string_function',\n",
       " 'setbufsize',\n",
       " 'setdiff1d',\n",
       " 'seterr',\n",
       " 'seterrcall',\n",
       " 'seterrobj',\n",
       " 'setxor1d',\n",
       " 'shape',\n",
       " 'shares_memory',\n",
       " 'short',\n",
       " 'show_config',\n",
       " 'sign',\n",
       " 'signbit',\n",
       " 'signedinteger',\n",
       " 'sin',\n",
       " 'sinc',\n",
       " 'single',\n",
       " 'singlecomplex',\n",
       " 'sinh',\n",
       " 'size',\n",
       " 'sometrue',\n",
       " 'sort',\n",
       " 'sort_complex',\n",
       " 'source',\n",
       " 'spacing',\n",
       " 'split',\n",
       " 'sqrt',\n",
       " 'square',\n",
       " 'squeeze',\n",
       " 'stack',\n",
       " 'std',\n",
       " 'str',\n",
       " 'str0',\n",
       " 'str_',\n",
       " 'string_',\n",
       " 'subtract',\n",
       " 'sum',\n",
       " 'swapaxes',\n",
       " 'sys',\n",
       " 'take',\n",
       " 'take_along_axis',\n",
       " 'tan',\n",
       " 'tanh',\n",
       " 'tensordot',\n",
       " 'test',\n",
       " 'testing',\n",
       " 'tile',\n",
       " 'timedelta64',\n",
       " 'trace',\n",
       " 'tracemalloc_domain',\n",
       " 'transpose',\n",
       " 'trapz',\n",
       " 'tri',\n",
       " 'tril',\n",
       " 'tril_indices',\n",
       " 'tril_indices_from',\n",
       " 'trim_zeros',\n",
       " 'triu',\n",
       " 'triu_indices',\n",
       " 'triu_indices_from',\n",
       " 'true_divide',\n",
       " 'trunc',\n",
       " 'typeDict',\n",
       " 'typeNA',\n",
       " 'typecodes',\n",
       " 'typename',\n",
       " 'ubyte',\n",
       " 'ufunc',\n",
       " 'uint',\n",
       " 'uint0',\n",
       " 'uint16',\n",
       " 'uint32',\n",
       " 'uint64',\n",
       " 'uint8',\n",
       " 'uintc',\n",
       " 'uintp',\n",
       " 'ulonglong',\n",
       " 'unicode',\n",
       " 'unicode_',\n",
       " 'union1d',\n",
       " 'unique',\n",
       " 'unpackbits',\n",
       " 'unravel_index',\n",
       " 'unsignedinteger',\n",
       " 'unwrap',\n",
       " 'ushort',\n",
       " 'vander',\n",
       " 'var',\n",
       " 'vdot',\n",
       " 'vectorize',\n",
       " 'version',\n",
       " 'void',\n",
       " 'void0',\n",
       " 'vsplit',\n",
       " 'vstack',\n",
       " 'warnings',\n",
       " 'where',\n",
       " 'who',\n",
       " 'zeros',\n",
       " 'zeros_like']"
      ]
     },
     "execution_count": 13,
     "metadata": {},
     "output_type": "execute_result"
    }
   ],
   "source": [
    "dir(np)"
   ]
  },
  {
   "cell_type": "code",
   "execution_count": null,
   "metadata": {},
   "outputs": [],
   "source": [
    "np.vstack()"
   ]
  }
 ],
 "metadata": {
  "kernelspec": {
   "display_name": "Python 3",
   "language": "python",
   "name": "python3"
  },
  "language_info": {
   "codemirror_mode": {
    "name": "ipython",
    "version": 3
   },
   "file_extension": ".py",
   "mimetype": "text/x-python",
   "name": "python",
   "nbconvert_exporter": "python",
   "pygments_lexer": "ipython3",
   "version": "3.7.6"
  }
 },
 "nbformat": 4,
 "nbformat_minor": 4
}
