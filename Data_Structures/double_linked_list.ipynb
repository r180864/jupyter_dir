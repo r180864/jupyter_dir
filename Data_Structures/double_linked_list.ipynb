{
 "cells": [
  {
   "cell_type": "markdown",
   "id": "657506c7",
   "metadata": {},
   "source": [
    "# Double Linked List"
   ]
  },
  {
   "cell_type": "code",
   "execution_count": 2,
   "id": "181c89a8",
   "metadata": {},
   "outputs": [],
   "source": [
    "class Node:\n",
    "    def __init__(self, data, next=None, prev=None):\n",
    "        self.data=data\n",
    "        self.next=next\n",
    "        self.prev=prev"
   ]
  },
  {
   "cell_type": "code",
   "execution_count": 11,
   "id": "0408d764",
   "metadata": {},
   "outputs": [],
   "source": [
    "class Add:\n",
    "    def insert_at_begining(self, node):\n",
    "        if(self.head==None):\n",
    "            self.head=node\n",
    "            return\n",
    "        \n",
    "        node.next=self.head\n",
    "        self.head.prev=node\n",
    "        self.head=node\n",
    "      \n",
    "    def insert_at_end(self, node):\n",
    "        if(self.head==None):\n",
    "            self.head=node\n",
    "            return\n",
    "        \n",
    "        ptr=self.head\n",
    "        while(ptr.next!=None):\n",
    "            ptr=ptr.next\n",
    "        ptr.next=node\n",
    "        node.prev=ptr\n",
    "    def insert_at_position(self, node, pos):\n",
    "        if(self.head==None):\n",
    "            self.head=node\n",
    "            return\n",
    "        ptr=self.head\n",
    "        "
   ]
  },
  {
   "cell_type": "code",
   "execution_count": 58,
   "id": "2c44fb2f",
   "metadata": {},
   "outputs": [],
   "source": [
    "class Delete:\n",
    "    def delete_at_end(self):\n",
    "        if(self.head==None):\n",
    "            print(\"Nothing to Delete\")\n",
    "            return\n",
    "        ptr=self.head\n",
    "        while(ptr.next!=None):\n",
    "            ptr=ptr.next\n",
    "        delete=ptr\n",
    "        ptr.prev.next=None\n",
    "        del delete\n",
    "    \n",
    "    def delete_at_beginning(self):\n",
    "        if(self.head==None):\n",
    "            print(\"Nothing to Delete\")\n",
    "            return\n",
    "        delete=self.head\n",
    "        self.head=delete.next\n",
    "        delete.next.prev=None\n",
    "        del delete\n",
    "        "
   ]
  },
  {
   "cell_type": "code",
   "execution_count": null,
   "id": "510de925",
   "metadata": {},
   "outputs": [],
   "source": []
  },
  {
   "cell_type": "code",
   "execution_count": 59,
   "id": "7b524ebd",
   "metadata": {},
   "outputs": [],
   "source": [
    "class DoubleLinkedList(Add, Delete):\n",
    "    def __init__(self):\n",
    "        self.head=None\n",
    "        \n",
    "    def show(self):\n",
    "        if(self.head==None):\n",
    "            print(\"Empty List\")\n",
    "            return\n",
    "        \n",
    "        ptr=self.head\n",
    "        while(ptr!=None):\n",
    "            print(ptr.data, end='--->')\n",
    "            ptr=ptr.next\n",
    "            \n",
    "    def show_reverse(self):\n",
    "        if(self.head==None):\n",
    "            print(\"Empty List\")\n",
    "            return\n",
    "        ptr=self.head\n",
    "        while(ptr.next!=None):\n",
    "            ptr=ptr.next\n",
    "        while(ptr!=None):\n",
    "            print(ptr.data, end='--->')\n",
    "            ptr=ptr.prev"
   ]
  },
  {
   "cell_type": "code",
   "execution_count": 67,
   "id": "635305d9",
   "metadata": {},
   "outputs": [],
   "source": [
    "dll=DoubleLinkedList()\n",
    "for i in range(3,8):\n",
    "    dll.insert_at_end(Node(i))"
   ]
  },
  {
   "cell_type": "code",
   "execution_count": 68,
   "id": "8a6f79e4",
   "metadata": {},
   "outputs": [
    {
     "name": "stdout",
     "output_type": "stream",
     "text": [
      "3--->4--->5--->6--->7--->"
     ]
    }
   ],
   "source": [
    "dll.show()"
   ]
  },
  {
   "cell_type": "code",
   "execution_count": 74,
   "id": "80f6b055",
   "metadata": {},
   "outputs": [
    {
     "name": "stdout",
     "output_type": "stream",
     "text": [
      "6--->5--->4--->"
     ]
    }
   ],
   "source": [
    "dll.show_reverse()"
   ]
  },
  {
   "cell_type": "code",
   "execution_count": 75,
   "id": "f6e695d3",
   "metadata": {},
   "outputs": [],
   "source": [
    "dll.delete_at_end()"
   ]
  },
  {
   "cell_type": "code",
   "execution_count": 76,
   "id": "0dc34875",
   "metadata": {},
   "outputs": [
    {
     "name": "stdout",
     "output_type": "stream",
     "text": [
      "4--->5--->"
     ]
    }
   ],
   "source": [
    "dll.show()"
   ]
  },
  {
   "cell_type": "code",
   "execution_count": 77,
   "id": "7245edd1",
   "metadata": {},
   "outputs": [],
   "source": [
    "dll.delete_at_beginning()"
   ]
  },
  {
   "cell_type": "code",
   "execution_count": 78,
   "id": "ae66d5d9",
   "metadata": {},
   "outputs": [
    {
     "name": "stdout",
     "output_type": "stream",
     "text": [
      "5--->"
     ]
    }
   ],
   "source": [
    "dll.show()"
   ]
  },
  {
   "cell_type": "code",
   "execution_count": null,
   "id": "72e0496a",
   "metadata": {},
   "outputs": [],
   "source": []
  },
  {
   "cell_type": "code",
   "execution_count": null,
   "id": "28c5b1da",
   "metadata": {},
   "outputs": [],
   "source": []
  }
 ],
 "metadata": {
  "kernelspec": {
   "display_name": "Python 3 (ipykernel)",
   "language": "python",
   "name": "python3"
  },
  "language_info": {
   "codemirror_mode": {
    "name": "ipython",
    "version": 3
   },
   "file_extension": ".py",
   "mimetype": "text/x-python",
   "name": "python",
   "nbconvert_exporter": "python",
   "pygments_lexer": "ipython3",
   "version": "3.9.7"
  }
 },
 "nbformat": 4,
 "nbformat_minor": 5
}
