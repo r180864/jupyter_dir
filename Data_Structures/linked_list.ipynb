{
 "cells": [
  {
   "cell_type": "markdown",
   "id": "e579938e",
   "metadata": {},
   "source": [
    "# Single Linked List"
   ]
  },
  {
   "cell_type": "code",
   "execution_count": null,
   "id": "1a0c554f",
   "metadata": {},
   "outputs": [],
   "source": []
  },
  {
   "cell_type": "code",
   "execution_count": 14,
   "id": "b3b2b38f",
   "metadata": {},
   "outputs": [
    {
     "name": "stdout",
     "output_type": "stream",
     "text": [
      "Hare Krishna 108\n"
     ]
    }
   ],
   "source": [
    "print('Hare Krishna',108)"
   ]
  },
  {
   "cell_type": "code",
   "execution_count": 15,
   "id": "3602a4ff",
   "metadata": {},
   "outputs": [],
   "source": [
    "class Node:\n",
    "    def __init__(self, data, next=None):\n",
    "        self.data=data\n",
    "        self.next=next"
   ]
  },
  {
   "cell_type": "code",
   "execution_count": 57,
   "id": "3126f0a3",
   "metadata": {},
   "outputs": [],
   "source": [
    "class Add:\n",
    "    def insert_at_end(self, node):\n",
    "        if(self.head==None):\n",
    "            self.head=node\n",
    "            return\n",
    "        ptr=self.head\n",
    "        while(ptr.next!=None):\n",
    "            ptr=ptr.next\n",
    "        ptr.next=node\n",
    "        \n",
    "    def insert_at_beginning(self, node):\n",
    "        if(self.head==None):\n",
    "            self.head=node\n",
    "            return\n",
    "        node.next=self.head\n",
    "        self.head=node\n",
    "        \n",
    "    def insert_at_position(self, node, pos):\n",
    "        if(self.head==None):\n",
    "            print('Empty List has no positions')\n",
    "            return\n",
    "        if(pos<0):\n",
    "            print('Invalid Position')\n",
    "            return\n",
    "        if(pos==0):\n",
    "            self.insert_at_beginning(node)\n",
    "            return\n",
    "        i=0\n",
    "        ptr=self.head\n",
    "        while(ptr!=None):\n",
    "            if(i+1==pos):\n",
    "                node.next=ptr.next\n",
    "                ptr.next=node\n",
    "                return\n",
    "            i+=1\n",
    "            ptr=ptr.next\n",
    "            \n",
    "        print('Position Exceeded')"
   ]
  },
  {
   "cell_type": "code",
   "execution_count": 216,
   "id": "87c9aa91",
   "metadata": {},
   "outputs": [],
   "source": [
    "class Delete:\n",
    "    def delete_at_end(self):\n",
    "        if(self.head==None):\n",
    "            print('Nothing to Delete')\n",
    "            return\n",
    "        ptr=self.head\n",
    "        delete=ptr\n",
    "        while(ptr.next!=None):\n",
    "            delete=ptr\n",
    "            ptr=ptr.next\n",
    "        if(ptr==delete):\n",
    "            self.head=None\n",
    "        else:\n",
    "            delete.next=None\n",
    "        del ptr\n",
    "        \n",
    "    def delete_at_beginning(self):\n",
    "        if(self.head==None):\n",
    "            print('Nothing to Delete')\n",
    "            return\n",
    "        delete=self.head\n",
    "        self.head=self.head.next\n",
    "        del delete\n",
    "        \n",
    "    def delete_at_position(self, pos):\n",
    "        if(self.head==None):\n",
    "            print('Empty List has no positions')\n",
    "            return\n",
    "        if(pos<0):\n",
    "            print('Invalid Position')\n",
    "            return\n",
    "        if(pos==0):\n",
    "            self.delete_at_beginning()\n",
    "            return\n",
    "        i=0\n",
    "        ptr=self.head\n",
    "        while(ptr!=None):\n",
    "            if(i+1==pos):\n",
    "                delete=ptr.next\n",
    "                ptr.next=ptr.next.next\n",
    "                del delete\n",
    "                return\n",
    "            i+=1\n",
    "            ptr=ptr.next\n",
    "            \n",
    "        print('Position Exceeded')\n",
    "        \n",
    "            "
   ]
  },
  {
   "cell_type": "code",
   "execution_count": 1,
   "id": "71944552",
   "metadata": {},
   "outputs": [
    {
     "ename": "NameError",
     "evalue": "name 'Add' is not defined",
     "output_type": "error",
     "traceback": [
      "\u001b[1;31m---------------------------------------------------------------------------\u001b[0m",
      "\u001b[1;31mNameError\u001b[0m                                 Traceback (most recent call last)",
      "\u001b[1;32m~\\AppData\\Local\\Temp/ipykernel_1244/1456375190.py\u001b[0m in \u001b[0;36m<module>\u001b[1;34m\u001b[0m\n\u001b[1;32m----> 1\u001b[1;33m \u001b[1;32mclass\u001b[0m \u001b[0mLinkedList\u001b[0m\u001b[1;33m(\u001b[0m\u001b[0mAdd\u001b[0m\u001b[1;33m,\u001b[0m \u001b[0mDelete\u001b[0m\u001b[1;33m)\u001b[0m\u001b[1;33m:\u001b[0m\u001b[1;33m\u001b[0m\u001b[1;33m\u001b[0m\u001b[0m\n\u001b[0m\u001b[0;32m      2\u001b[0m     \u001b[1;32mdef\u001b[0m \u001b[0m__init__\u001b[0m\u001b[1;33m(\u001b[0m\u001b[0mself\u001b[0m\u001b[1;33m)\u001b[0m\u001b[1;33m:\u001b[0m\u001b[1;33m\u001b[0m\u001b[1;33m\u001b[0m\u001b[0m\n\u001b[0;32m      3\u001b[0m         \u001b[0mself\u001b[0m\u001b[1;33m.\u001b[0m\u001b[0mhead\u001b[0m\u001b[1;33m=\u001b[0m\u001b[1;32mNone\u001b[0m\u001b[1;33m\u001b[0m\u001b[1;33m\u001b[0m\u001b[0m\n\u001b[0;32m      4\u001b[0m \u001b[1;33m\u001b[0m\u001b[0m\n\u001b[0;32m      5\u001b[0m     \u001b[1;32mdef\u001b[0m \u001b[0mshow\u001b[0m\u001b[1;33m(\u001b[0m\u001b[0mself\u001b[0m\u001b[1;33m)\u001b[0m\u001b[1;33m:\u001b[0m\u001b[1;33m\u001b[0m\u001b[1;33m\u001b[0m\u001b[0m\n",
      "\u001b[1;31mNameError\u001b[0m: name 'Add' is not defined"
     ]
    }
   ],
   "source": [
    "class LinkedList(Add, Delete):\n",
    "    def __init__(self):\n",
    "        self.head=None\n",
    "        \n",
    "    def show(self):\n",
    "        if(self.head==None):\n",
    "            print('Empty List')\n",
    "            return\n",
    "        ptr=self.head\n",
    "        while(ptr!=None):\n",
    "            print(ptr.data, end='--->')\n",
    "            ptr=ptr.next"
   ]
  },
  {
   "cell_type": "code",
   "execution_count": 218,
   "id": "6cb156d6",
   "metadata": {},
   "outputs": [
    {
     "name": "stdout",
     "output_type": "stream",
     "text": [
      "Enter no.of elements to be stored: 5\n"
     ]
    }
   ],
   "source": [
    "n=int(input(\"Enter no.of elements to be stored: \"))"
   ]
  },
  {
   "cell_type": "code",
   "execution_count": 219,
   "id": "8e318450",
   "metadata": {},
   "outputs": [],
   "source": [
    "head=None\n",
    "li=LinkedList()"
   ]
  },
  {
   "cell_type": "code",
   "execution_count": 220,
   "id": "5f9f9297",
   "metadata": {},
   "outputs": [
    {
     "name": "stdout",
     "output_type": "stream",
     "text": [
      "123\n",
      "234\n",
      "345\n",
      "456\n",
      "567\n"
     ]
    }
   ],
   "source": [
    "for i in range(n):\n",
    "    li.add_at_beginning(Node(int(input())))"
   ]
  },
  {
   "cell_type": "code",
   "execution_count": 221,
   "id": "6c0dcd75",
   "metadata": {},
   "outputs": [
    {
     "name": "stdout",
     "output_type": "stream",
     "text": [
      "567--->456--->345--->234--->123--->"
     ]
    }
   ],
   "source": [
    "li.show()"
   ]
  },
  {
   "cell_type": "code",
   "execution_count": 214,
   "id": "7c52d41f",
   "metadata": {},
   "outputs": [],
   "source": [
    "li.add_at_end(Node(23))"
   ]
  },
  {
   "cell_type": "code",
   "execution_count": 211,
   "id": "68c890e8",
   "metadata": {},
   "outputs": [
    {
     "name": "stdout",
     "output_type": "stream",
     "text": [
      "23--->"
     ]
    }
   ],
   "source": [
    "li.show()"
   ]
  },
  {
   "cell_type": "code",
   "execution_count": 148,
   "id": "abac734c",
   "metadata": {},
   "outputs": [],
   "source": [
    "li.add_at_position(Node(12), 0)"
   ]
  },
  {
   "cell_type": "code",
   "execution_count": 149,
   "id": "d3e4f1af",
   "metadata": {},
   "outputs": [
    {
     "name": "stdout",
     "output_type": "stream",
     "text": [
      "12--->65--->54--->43--->32--->23--->"
     ]
    }
   ],
   "source": [
    "li.show()"
   ]
  },
  {
   "cell_type": "code",
   "execution_count": 150,
   "id": "f82569f9",
   "metadata": {},
   "outputs": [],
   "source": [
    "li.add_at_position(Node(12), 3)"
   ]
  },
  {
   "cell_type": "code",
   "execution_count": 151,
   "id": "b7e9a923",
   "metadata": {},
   "outputs": [
    {
     "name": "stdout",
     "output_type": "stream",
     "text": [
      "12--->65--->54--->12--->43--->32--->23--->"
     ]
    }
   ],
   "source": [
    "li.show()"
   ]
  },
  {
   "cell_type": "code",
   "execution_count": 152,
   "id": "6d506c30",
   "metadata": {},
   "outputs": [],
   "source": [
    "li.add_at_position(Node(12), 7)"
   ]
  },
  {
   "cell_type": "code",
   "execution_count": 153,
   "id": "f7ad0356",
   "metadata": {},
   "outputs": [
    {
     "name": "stdout",
     "output_type": "stream",
     "text": [
      "12--->65--->54--->12--->43--->32--->23--->12--->"
     ]
    }
   ],
   "source": [
    "li.show()"
   ]
  },
  {
   "cell_type": "code",
   "execution_count": 236,
   "id": "feca7a79",
   "metadata": {},
   "outputs": [
    {
     "name": "stdout",
     "output_type": "stream",
     "text": [
      "Empty List has no positions\n"
     ]
    }
   ],
   "source": [
    "li.delete_at_position(0)"
   ]
  },
  {
   "cell_type": "code",
   "execution_count": 235,
   "id": "83752c2c",
   "metadata": {},
   "outputs": [
    {
     "name": "stdout",
     "output_type": "stream",
     "text": [
      "Empty List\n"
     ]
    }
   ],
   "source": [
    "li.show()"
   ]
  },
  {
   "cell_type": "code",
   "execution_count": null,
   "id": "59d4d831",
   "metadata": {},
   "outputs": [],
   "source": []
  }
 ],
 "metadata": {
  "kernelspec": {
   "display_name": "Python 3 (ipykernel)",
   "language": "python",
   "name": "python3"
  },
  "language_info": {
   "codemirror_mode": {
    "name": "ipython",
    "version": 3
   },
   "file_extension": ".py",
   "mimetype": "text/x-python",
   "name": "python",
   "nbconvert_exporter": "python",
   "pygments_lexer": "ipython3",
   "version": "3.9.7"
  }
 },
 "nbformat": 4,
 "nbformat_minor": 5
}
