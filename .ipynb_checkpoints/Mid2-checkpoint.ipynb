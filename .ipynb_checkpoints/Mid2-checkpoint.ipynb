{
 "cells": [
  {
   "cell_type": "code",
   "execution_count": null,
   "metadata": {},
   "outputs": [],
   "source": []
  },
  {
   "cell_type": "markdown",
   "metadata": {},
   "source": [
    "# MID-2"
   ]
  },
  {
   "cell_type": "code",
   "execution_count": null,
   "metadata": {},
   "outputs": [],
   "source": []
  },
  {
   "cell_type": "code",
   "execution_count": 62,
   "metadata": {},
   "outputs": [],
   "source": [
    "import re"
   ]
  },
  {
   "cell_type": "markdown",
   "metadata": {},
   "source": [
    "### 1. Write a Regular Expression for Following Problems"
   ]
  },
  {
   "cell_type": "code",
   "execution_count": 39,
   "metadata": {},
   "outputs": [],
   "source": [
    "#Assumed String \n",
    "string='''Anil and Rehamam are besties\n",
    "r180864@rguktrkv.ac.in\n",
    "anil@gmail.com\n",
    "30/08/2022, 23-12-2002'''"
   ]
  },
  {
   "cell_type": "code",
   "execution_count": 33,
   "metadata": {},
   "outputs": [
    {
     "data": {
      "text/plain": [
       "['Krish']"
      ]
     },
     "execution_count": 33,
     "metadata": {},
     "output_type": "execute_result"
    }
   ],
   "source": [
    "#1.1 To return the first word of a string\n",
    "pattern=r'^\\w+'\n",
    "re.findall(pattern, string)"
   ]
  },
  {
   "cell_type": "markdown",
   "metadata": {},
   "source": [
    "*1. 2. Return the first two characters of each word"
   ]
  },
  {
   "cell_type": "code",
   "execution_count": 34,
   "metadata": {},
   "outputs": [
    {
     "data": {
      "text/plain": [
       "['Kr',\n",
       " 'An',\n",
       " 'an',\n",
       " 'Re',\n",
       " 'ar',\n",
       " 'be',\n",
       " 'r1',\n",
       " 'rg',\n",
       " 'ac',\n",
       " 'in',\n",
       " 'an',\n",
       " 'gm',\n",
       " 'co',\n",
       " '30',\n",
       " '08',\n",
       " '20',\n",
       " '23',\n",
       " '12',\n",
       " '20']"
      ]
     },
     "execution_count": 34,
     "metadata": {},
     "output_type": "execute_result"
    }
   ],
   "source": [
    "#1.2 To return the first two characters of each word\n",
    "pattern=r'\\b\\w{2}'\n",
    "re.findall(pattern, string)"
   ]
  },
  {
   "cell_type": "code",
   "execution_count": 37,
   "metadata": {},
   "outputs": [
    {
     "data": {
      "text/plain": [
       "['@rguktrkv.ac.in', '@gmail.com']"
      ]
     },
     "execution_count": 37,
     "metadata": {},
     "output_type": "execute_result"
    }
   ],
   "source": [
    "#1.3 To return the domain type of given email-ids\n",
    "pattern=r'@[\\w\\.]+'\n",
    "re.findall(pattern, string)"
   ]
  },
  {
   "cell_type": "code",
   "execution_count": 48,
   "metadata": {},
   "outputs": [
    {
     "data": {
      "text/plain": [
       "['30/08/2022', '23-12-2002']"
      ]
     },
     "execution_count": 48,
     "metadata": {},
     "output_type": "execute_result"
    }
   ],
   "source": [
    "#1.4 To return date from a string\n",
    "pattern=r'\\d{2}[/-]\\d{2}[/-]\\d{4}'\n",
    "re.findall(pattern, string)"
   ]
  },
  {
   "cell_type": "code",
   "execution_count": 41,
   "metadata": {},
   "outputs": [
    {
     "data": {
      "text/plain": [
       "['Anil', 'and', 'are', 'ac', 'in', 'anil']"
      ]
     },
     "execution_count": 41,
     "metadata": {},
     "output_type": "execute_result"
    }
   ],
   "source": [
    "#1.5 To return all words of a string those starts with vowel\n",
    "pattern=r'\\b[AEIOUaeiou]\\w*'\n",
    "re.findall(pattern, string)"
   ]
  },
  {
   "cell_type": "code",
   "execution_count": null,
   "metadata": {},
   "outputs": [],
   "source": []
  },
  {
   "cell_type": "code",
   "execution_count": null,
   "metadata": {},
   "outputs": [],
   "source": []
  },
  {
   "cell_type": "markdown",
   "metadata": {},
   "source": [
    "### 2. Adding two numpy matrices"
   ]
  },
  {
   "cell_type": "code",
   "execution_count": 63,
   "metadata": {},
   "outputs": [],
   "source": [
    "import numpy as np"
   ]
  },
  {
   "cell_type": "code",
   "execution_count": 47,
   "metadata": {},
   "outputs": [],
   "source": [
    "m1=np.matrix([[1,2,3], [4,5,6]])\n",
    "m2=np.matrix([[1,2,3], [4,5,6]])"
   ]
  },
  {
   "cell_type": "code",
   "execution_count": 48,
   "metadata": {},
   "outputs": [
    {
     "data": {
      "text/plain": [
       "matrix([[ 2,  4,  6],\n",
       "        [ 8, 10, 12]])"
      ]
     },
     "execution_count": 48,
     "metadata": {},
     "output_type": "execute_result"
    }
   ],
   "source": [
    "m1+m2"
   ]
  },
  {
   "cell_type": "code",
   "execution_count": 49,
   "metadata": {},
   "outputs": [
    {
     "data": {
      "text/plain": [
       "matrix([[ 2,  4,  6],\n",
       "        [ 8, 10, 12]])"
      ]
     },
     "execution_count": 49,
     "metadata": {},
     "output_type": "execute_result"
    }
   ],
   "source": [
    "#Another way of doing the above\n",
    "np.add(m1, m2)"
   ]
  },
  {
   "cell_type": "markdown",
   "metadata": {},
   "source": [
    "### 3.1 Create a dataframe using list of dictionaries"
   ]
  },
  {
   "cell_type": "code",
   "execution_count": 64,
   "metadata": {},
   "outputs": [],
   "source": [
    "import pandas as pd"
   ]
  },
  {
   "cell_type": "code",
   "execution_count": 20,
   "metadata": {},
   "outputs": [],
   "source": [
    "A={0: 1, 1: 4}\n",
    "B={0: 2, 1: 5}\n",
    "C={0: 3, 1: 6}"
   ]
  },
  {
   "cell_type": "code",
   "execution_count": 21,
   "metadata": {},
   "outputs": [
    {
     "data": {
      "text/html": [
       "<div>\n",
       "<style scoped>\n",
       "    .dataframe tbody tr th:only-of-type {\n",
       "        vertical-align: middle;\n",
       "    }\n",
       "\n",
       "    .dataframe tbody tr th {\n",
       "        vertical-align: top;\n",
       "    }\n",
       "\n",
       "    .dataframe thead th {\n",
       "        text-align: right;\n",
       "    }\n",
       "</style>\n",
       "<table border=\"1\" class=\"dataframe\">\n",
       "  <thead>\n",
       "    <tr style=\"text-align: right;\">\n",
       "      <th></th>\n",
       "      <th>A</th>\n",
       "      <th>B</th>\n",
       "      <th>C</th>\n",
       "    </tr>\n",
       "  </thead>\n",
       "  <tbody>\n",
       "    <tr>\n",
       "      <th>0</th>\n",
       "      <td>1</td>\n",
       "      <td>2</td>\n",
       "      <td>3</td>\n",
       "    </tr>\n",
       "    <tr>\n",
       "      <th>1</th>\n",
       "      <td>4</td>\n",
       "      <td>5</td>\n",
       "      <td>6</td>\n",
       "    </tr>\n",
       "  </tbody>\n",
       "</table>\n",
       "</div>"
      ],
      "text/plain": [
       "   A  B  C\n",
       "0  1  2  3\n",
       "1  4  5  6"
      ]
     },
     "execution_count": 21,
     "metadata": {},
     "output_type": "execute_result"
    }
   ],
   "source": [
    "df=pd.DataFrame({'A':A, 'B':B, 'C':C})\n",
    "df"
   ]
  },
  {
   "cell_type": "markdown",
   "metadata": {},
   "source": [
    "### 3.2 Five Attributes of DataFrame"
   ]
  },
  {
   "cell_type": "code",
   "execution_count": 55,
   "metadata": {},
   "outputs": [
    {
     "data": {
      "text/plain": [
       "Index(['A', 'B', 'C'], dtype='object')"
      ]
     },
     "execution_count": 55,
     "metadata": {},
     "output_type": "execute_result"
    }
   ],
   "source": [
    "#Columns gives the list of column names\n",
    "df.columns"
   ]
  },
  {
   "cell_type": "code",
   "execution_count": 57,
   "metadata": {},
   "outputs": [
    {
     "data": {
      "text/plain": [
       "6"
      ]
     },
     "execution_count": 57,
     "metadata": {},
     "output_type": "execute_result"
    }
   ],
   "source": [
    "#Size gives the total no.of values present in the DataFrame i.e., rows*columns\n",
    "df.size"
   ]
  },
  {
   "cell_type": "code",
   "execution_count": 58,
   "metadata": {},
   "outputs": [
    {
     "data": {
      "text/plain": [
       "(2, 3)"
      ]
     },
     "execution_count": 58,
     "metadata": {},
     "output_type": "execute_result"
    }
   ],
   "source": [
    "#Shape gives the shape of DataFrame in the format of (rows, columns)\n",
    "df.shape"
   ]
  },
  {
   "cell_type": "code",
   "execution_count": 59,
   "metadata": {},
   "outputs": [
    {
     "data": {
      "text/plain": [
       "2"
      ]
     },
     "execution_count": 59,
     "metadata": {},
     "output_type": "execute_result"
    }
   ],
   "source": [
    "#ndim gives the no.of dimentions of the DataFrame (1 or 2 or 3 or.....)\n",
    "df.ndim"
   ]
  },
  {
   "cell_type": "code",
   "execution_count": 60,
   "metadata": {},
   "outputs": [
    {
     "data": {
      "text/plain": [
       "A    int64\n",
       "B    int64\n",
       "C    int64\n",
       "dtype: object"
      ]
     },
     "execution_count": 60,
     "metadata": {},
     "output_type": "execute_result"
    }
   ],
   "source": [
    "#dtypes gives the Data Type of all the columns of the DataFrame\n",
    "df.dtypes"
   ]
  },
  {
   "cell_type": "code",
   "execution_count": null,
   "metadata": {},
   "outputs": [],
   "source": []
  },
  {
   "cell_type": "code",
   "execution_count": null,
   "metadata": {},
   "outputs": [],
   "source": []
  },
  {
   "cell_type": "markdown",
   "metadata": {},
   "source": [
    "### 4.1 Question"
   ]
  },
  {
   "cell_type": "code",
   "execution_count": 62,
   "metadata": {},
   "outputs": [],
   "source": [
    "#Given nested list\n",
    "L1=[[1,\"Anil\"], [2, \"Ashok\"], [3, \"Abhi\"]]"
   ]
  },
  {
   "cell_type": "code",
   "execution_count": 64,
   "metadata": {},
   "outputs": [
    {
     "data": {
      "text/html": [
       "<div>\n",
       "<style scoped>\n",
       "    .dataframe tbody tr th:only-of-type {\n",
       "        vertical-align: middle;\n",
       "    }\n",
       "\n",
       "    .dataframe tbody tr th {\n",
       "        vertical-align: top;\n",
       "    }\n",
       "\n",
       "    .dataframe thead th {\n",
       "        text-align: right;\n",
       "    }\n",
       "</style>\n",
       "<table border=\"1\" class=\"dataframe\">\n",
       "  <thead>\n",
       "    <tr style=\"text-align: right;\">\n",
       "      <th></th>\n",
       "      <th>Emp no</th>\n",
       "      <th>Ename</th>\n",
       "    </tr>\n",
       "  </thead>\n",
       "  <tbody>\n",
       "    <tr>\n",
       "      <th>0</th>\n",
       "      <td>1</td>\n",
       "      <td>Anil</td>\n",
       "    </tr>\n",
       "    <tr>\n",
       "      <th>1</th>\n",
       "      <td>2</td>\n",
       "      <td>Ashok</td>\n",
       "    </tr>\n",
       "    <tr>\n",
       "      <th>2</th>\n",
       "      <td>3</td>\n",
       "      <td>Abhi</td>\n",
       "    </tr>\n",
       "  </tbody>\n",
       "</table>\n",
       "</div>"
      ],
      "text/plain": [
       "   Emp no  Ename\n",
       "0       1   Anil\n",
       "1       2  Ashok\n",
       "2       3   Abhi"
      ]
     },
     "execution_count": 64,
     "metadata": {},
     "output_type": "execute_result"
    }
   ],
   "source": [
    "#Creating DataFrame using the given list with column names as ['Emp no', 'Ename']\n",
    "pd.DataFrame(L1, columns=['Emp no', 'Ename'])"
   ]
  },
  {
   "cell_type": "markdown",
   "metadata": {},
   "source": [
    "### 4.2 Question"
   ]
  },
  {
   "cell_type": "code",
   "execution_count": 66,
   "metadata": {},
   "outputs": [],
   "source": [
    "l=['Udaya', 'Bhargav', 'Bhagya', 'Yuva', 'Raju', 'Sandhya'] #Given List of names\n",
    "s=pd.Series(l) #Making Series using the list"
   ]
  },
  {
   "cell_type": "code",
   "execution_count": 67,
   "metadata": {},
   "outputs": [
    {
     "data": {
      "text/plain": [
       "0      Udaya\n",
       "1    Bhargav\n",
       "2     Bhagya\n",
       "3       Yuva\n",
       "4       Raju\n",
       "5    Sandhya\n",
       "dtype: object"
      ]
     },
     "execution_count": 67,
     "metadata": {},
     "output_type": "execute_result"
    }
   ],
   "source": [
    "s #Printing Series s"
   ]
  },
  {
   "cell_type": "code",
   "execution_count": 68,
   "metadata": {},
   "outputs": [
    {
     "data": {
      "text/plain": [
       "0      Udaya\n",
       "1    Bhargav\n",
       "2     Bhagya\n",
       "dtype: object"
      ]
     },
     "execution_count": 68,
     "metadata": {},
     "output_type": "execute_result"
    }
   ],
   "source": [
    "s[:3]"
   ]
  },
  {
   "cell_type": "code",
   "execution_count": 69,
   "metadata": {},
   "outputs": [
    {
     "data": {
      "text/plain": [
       "Series([], dtype: object)"
      ]
     },
     "execution_count": 69,
     "metadata": {},
     "output_type": "execute_result"
    }
   ],
   "source": [
    "s[3:3:3]"
   ]
  },
  {
   "cell_type": "code",
   "execution_count": 70,
   "metadata": {},
   "outputs": [
    {
     "data": {
      "text/plain": [
       "3       Yuva\n",
       "4       Raju\n",
       "5    Sandhya\n",
       "dtype: object"
      ]
     },
     "execution_count": 70,
     "metadata": {},
     "output_type": "execute_result"
    }
   ],
   "source": [
    "s[-3:]"
   ]
  },
  {
   "cell_type": "code",
   "execution_count": 71,
   "metadata": {},
   "outputs": [
    {
     "data": {
      "text/plain": [
       "5    Sandhya\n",
       "4       Raju\n",
       "3       Yuva\n",
       "dtype: object"
      ]
     },
     "execution_count": 71,
     "metadata": {},
     "output_type": "execute_result"
    }
   ],
   "source": [
    "s[:-4:-1]"
   ]
  },
  {
   "cell_type": "code",
   "execution_count": null,
   "metadata": {},
   "outputs": [],
   "source": []
  },
  {
   "cell_type": "code",
   "execution_count": null,
   "metadata": {},
   "outputs": [],
   "source": []
  },
  {
   "cell_type": "markdown",
   "metadata": {},
   "source": [
    "### 5. Question"
   ]
  },
  {
   "cell_type": "code",
   "execution_count": 45,
   "metadata": {},
   "outputs": [],
   "source": [
    "#Creating randon marks for the subjects \n",
    "WT=[np.random.randint(35, 101) for i in range(6)]\n",
    "CD=[np.random.randint(35, 101) for i in range(6)]\n",
    "DSP=[np.random.randint(35, 101) for i in range(6)]\n",
    "OR=[np.random.randint(35, 101) for i in range(6)]\n",
    "COA=[np.random.randint(35, 101) for i in range(6)]\n",
    "total=[None for i in range(6)] #Making a column with all null values"
   ]
  },
  {
   "cell_type": "code",
   "execution_count": 46,
   "metadata": {},
   "outputs": [],
   "source": [
    "#Creating a list with names to set as index for our dataframe\n",
    "names=['Anil', 'Rehaman', 'Rama', 'Krishna', 'Govinda', 'Jagannath']"
   ]
  },
  {
   "cell_type": "code",
   "execution_count": 47,
   "metadata": {},
   "outputs": [],
   "source": [
    "#Creating DataFrame\n",
    "marks=pd.DataFrame({'WT': WT, 'CD': CD, 'DSP': DSP, 'OR':OR, 'COA':COA, \"Total\":total}, index=names)"
   ]
  },
  {
   "cell_type": "code",
   "execution_count": 48,
   "metadata": {},
   "outputs": [
    {
     "data": {
      "text/html": [
       "<div>\n",
       "<style scoped>\n",
       "    .dataframe tbody tr th:only-of-type {\n",
       "        vertical-align: middle;\n",
       "    }\n",
       "\n",
       "    .dataframe tbody tr th {\n",
       "        vertical-align: top;\n",
       "    }\n",
       "\n",
       "    .dataframe thead th {\n",
       "        text-align: right;\n",
       "    }\n",
       "</style>\n",
       "<table border=\"1\" class=\"dataframe\">\n",
       "  <thead>\n",
       "    <tr style=\"text-align: right;\">\n",
       "      <th></th>\n",
       "      <th>WT</th>\n",
       "      <th>CD</th>\n",
       "      <th>DSP</th>\n",
       "      <th>OR</th>\n",
       "      <th>COA</th>\n",
       "      <th>Total</th>\n",
       "    </tr>\n",
       "  </thead>\n",
       "  <tbody>\n",
       "    <tr>\n",
       "      <th>Anil</th>\n",
       "      <td>63</td>\n",
       "      <td>71</td>\n",
       "      <td>89</td>\n",
       "      <td>56</td>\n",
       "      <td>51</td>\n",
       "      <td>None</td>\n",
       "    </tr>\n",
       "    <tr>\n",
       "      <th>Rehaman</th>\n",
       "      <td>66</td>\n",
       "      <td>59</td>\n",
       "      <td>72</td>\n",
       "      <td>58</td>\n",
       "      <td>85</td>\n",
       "      <td>None</td>\n",
       "    </tr>\n",
       "    <tr>\n",
       "      <th>Rama</th>\n",
       "      <td>49</td>\n",
       "      <td>53</td>\n",
       "      <td>95</td>\n",
       "      <td>35</td>\n",
       "      <td>69</td>\n",
       "      <td>None</td>\n",
       "    </tr>\n",
       "    <tr>\n",
       "      <th>Krishna</th>\n",
       "      <td>80</td>\n",
       "      <td>73</td>\n",
       "      <td>55</td>\n",
       "      <td>91</td>\n",
       "      <td>52</td>\n",
       "      <td>None</td>\n",
       "    </tr>\n",
       "    <tr>\n",
       "      <th>Govinda</th>\n",
       "      <td>83</td>\n",
       "      <td>48</td>\n",
       "      <td>37</td>\n",
       "      <td>79</td>\n",
       "      <td>74</td>\n",
       "      <td>None</td>\n",
       "    </tr>\n",
       "    <tr>\n",
       "      <th>Jagannath</th>\n",
       "      <td>57</td>\n",
       "      <td>40</td>\n",
       "      <td>77</td>\n",
       "      <td>71</td>\n",
       "      <td>58</td>\n",
       "      <td>None</td>\n",
       "    </tr>\n",
       "  </tbody>\n",
       "</table>\n",
       "</div>"
      ],
      "text/plain": [
       "           WT  CD  DSP  OR  COA Total\n",
       "Anil       63  71   89  56   51  None\n",
       "Rehaman    66  59   72  58   85  None\n",
       "Rama       49  53   95  35   69  None\n",
       "Krishna    80  73   55  91   52  None\n",
       "Govinda    83  48   37  79   74  None\n",
       "Jagannath  57  40   77  71   58  None"
      ]
     },
     "execution_count": 48,
     "metadata": {},
     "output_type": "execute_result"
    }
   ],
   "source": [
    "marks"
   ]
  },
  {
   "cell_type": "code",
   "execution_count": 49,
   "metadata": {},
   "outputs": [],
   "source": [
    "#Making some values as null to reach our requirement\n",
    "marks.iloc[0:1, 4:5]=None\n",
    "marks.iloc[1:2, 0:1]=None\n",
    "marks.iloc[0:1, 1:2]=None\n",
    "marks.iloc[5:6, 2:3]=None"
   ]
  },
  {
   "cell_type": "code",
   "execution_count": 50,
   "metadata": {},
   "outputs": [
    {
     "data": {
      "text/html": [
       "<div>\n",
       "<style scoped>\n",
       "    .dataframe tbody tr th:only-of-type {\n",
       "        vertical-align: middle;\n",
       "    }\n",
       "\n",
       "    .dataframe tbody tr th {\n",
       "        vertical-align: top;\n",
       "    }\n",
       "\n",
       "    .dataframe thead th {\n",
       "        text-align: right;\n",
       "    }\n",
       "</style>\n",
       "<table border=\"1\" class=\"dataframe\">\n",
       "  <thead>\n",
       "    <tr style=\"text-align: right;\">\n",
       "      <th></th>\n",
       "      <th>WT</th>\n",
       "      <th>CD</th>\n",
       "      <th>DSP</th>\n",
       "      <th>OR</th>\n",
       "      <th>COA</th>\n",
       "      <th>Total</th>\n",
       "    </tr>\n",
       "  </thead>\n",
       "  <tbody>\n",
       "    <tr>\n",
       "      <th>Anil</th>\n",
       "      <td>63.0</td>\n",
       "      <td>NaN</td>\n",
       "      <td>89.0</td>\n",
       "      <td>56</td>\n",
       "      <td>NaN</td>\n",
       "      <td>None</td>\n",
       "    </tr>\n",
       "    <tr>\n",
       "      <th>Rehaman</th>\n",
       "      <td>NaN</td>\n",
       "      <td>59.0</td>\n",
       "      <td>72.0</td>\n",
       "      <td>58</td>\n",
       "      <td>85.0</td>\n",
       "      <td>None</td>\n",
       "    </tr>\n",
       "    <tr>\n",
       "      <th>Rama</th>\n",
       "      <td>49.0</td>\n",
       "      <td>53.0</td>\n",
       "      <td>95.0</td>\n",
       "      <td>35</td>\n",
       "      <td>69.0</td>\n",
       "      <td>None</td>\n",
       "    </tr>\n",
       "    <tr>\n",
       "      <th>Krishna</th>\n",
       "      <td>80.0</td>\n",
       "      <td>73.0</td>\n",
       "      <td>55.0</td>\n",
       "      <td>91</td>\n",
       "      <td>52.0</td>\n",
       "      <td>None</td>\n",
       "    </tr>\n",
       "    <tr>\n",
       "      <th>Govinda</th>\n",
       "      <td>83.0</td>\n",
       "      <td>48.0</td>\n",
       "      <td>37.0</td>\n",
       "      <td>79</td>\n",
       "      <td>74.0</td>\n",
       "      <td>None</td>\n",
       "    </tr>\n",
       "    <tr>\n",
       "      <th>Jagannath</th>\n",
       "      <td>57.0</td>\n",
       "      <td>40.0</td>\n",
       "      <td>NaN</td>\n",
       "      <td>71</td>\n",
       "      <td>58.0</td>\n",
       "      <td>None</td>\n",
       "    </tr>\n",
       "  </tbody>\n",
       "</table>\n",
       "</div>"
      ],
      "text/plain": [
       "             WT    CD   DSP  OR   COA Total\n",
       "Anil       63.0   NaN  89.0  56   NaN  None\n",
       "Rehaman     NaN  59.0  72.0  58  85.0  None\n",
       "Rama       49.0  53.0  95.0  35  69.0  None\n",
       "Krishna    80.0  73.0  55.0  91  52.0  None\n",
       "Govinda    83.0  48.0  37.0  79  74.0  None\n",
       "Jagannath  57.0  40.0   NaN  71  58.0  None"
      ]
     },
     "execution_count": 50,
     "metadata": {},
     "output_type": "execute_result"
    }
   ],
   "source": [
    "marks"
   ]
  },
  {
   "cell_type": "code",
   "execution_count": 52,
   "metadata": {},
   "outputs": [
    {
     "data": {
      "text/html": [
       "<div>\n",
       "<style scoped>\n",
       "    .dataframe tbody tr th:only-of-type {\n",
       "        vertical-align: middle;\n",
       "    }\n",
       "\n",
       "    .dataframe tbody tr th {\n",
       "        vertical-align: top;\n",
       "    }\n",
       "\n",
       "    .dataframe thead th {\n",
       "        text-align: right;\n",
       "    }\n",
       "</style>\n",
       "<table border=\"1\" class=\"dataframe\">\n",
       "  <thead>\n",
       "    <tr style=\"text-align: right;\">\n",
       "      <th></th>\n",
       "      <th>WT</th>\n",
       "      <th>CD</th>\n",
       "      <th>DSP</th>\n",
       "      <th>OR</th>\n",
       "      <th>COA</th>\n",
       "      <th>Total</th>\n",
       "    </tr>\n",
       "  </thead>\n",
       "  <tbody>\n",
       "  </tbody>\n",
       "</table>\n",
       "</div>"
      ],
      "text/plain": [
       "Empty DataFrame\n",
       "Columns: [WT, CD, DSP, OR, COA, Total]\n",
       "Index: []"
      ]
     },
     "execution_count": 52,
     "metadata": {},
     "output_type": "execute_result"
    }
   ],
   "source": [
    "#1. Drop the rows with null values\n",
    "marks.dropna(how='any', axis=0) #Here 'any' specifies that atleast 1 null, and axis=0 specifies rows\n",
    "#as every row contains null value, it removes all the rows"
   ]
  },
  {
   "cell_type": "code",
   "execution_count": 107,
   "metadata": {},
   "outputs": [
    {
     "data": {
      "text/html": [
       "<div>\n",
       "<style scoped>\n",
       "    .dataframe tbody tr th:only-of-type {\n",
       "        vertical-align: middle;\n",
       "    }\n",
       "\n",
       "    .dataframe tbody tr th {\n",
       "        vertical-align: top;\n",
       "    }\n",
       "\n",
       "    .dataframe thead th {\n",
       "        text-align: right;\n",
       "    }\n",
       "</style>\n",
       "<table border=\"1\" class=\"dataframe\">\n",
       "  <thead>\n",
       "    <tr style=\"text-align: right;\">\n",
       "      <th></th>\n",
       "      <th>WT</th>\n",
       "      <th>CD</th>\n",
       "      <th>DSP</th>\n",
       "      <th>OR</th>\n",
       "      <th>COA</th>\n",
       "      <th>Total</th>\n",
       "    </tr>\n",
       "  </thead>\n",
       "  <tbody>\n",
       "  </tbody>\n",
       "</table>\n",
       "</div>"
      ],
      "text/plain": [
       "Empty DataFrame\n",
       "Columns: [WT, CD, DSP, OR, COA, Total]\n",
       "Index: []"
      ]
     },
     "execution_count": 107,
     "metadata": {},
     "output_type": "execute_result"
    }
   ],
   "source": [
    "#The same can be achieved by this also\n",
    "marks.dropna() #Here any='how' and axis=0 are default values"
   ]
  },
  {
   "cell_type": "code",
   "execution_count": 53,
   "metadata": {},
   "outputs": [
    {
     "data": {
      "text/html": [
       "<div>\n",
       "<style scoped>\n",
       "    .dataframe tbody tr th:only-of-type {\n",
       "        vertical-align: middle;\n",
       "    }\n",
       "\n",
       "    .dataframe tbody tr th {\n",
       "        vertical-align: top;\n",
       "    }\n",
       "\n",
       "    .dataframe thead th {\n",
       "        text-align: right;\n",
       "    }\n",
       "</style>\n",
       "<table border=\"1\" class=\"dataframe\">\n",
       "  <thead>\n",
       "    <tr style=\"text-align: right;\">\n",
       "      <th></th>\n",
       "      <th>OR</th>\n",
       "    </tr>\n",
       "  </thead>\n",
       "  <tbody>\n",
       "    <tr>\n",
       "      <th>Anil</th>\n",
       "      <td>56</td>\n",
       "    </tr>\n",
       "    <tr>\n",
       "      <th>Rehaman</th>\n",
       "      <td>58</td>\n",
       "    </tr>\n",
       "    <tr>\n",
       "      <th>Rama</th>\n",
       "      <td>35</td>\n",
       "    </tr>\n",
       "    <tr>\n",
       "      <th>Krishna</th>\n",
       "      <td>91</td>\n",
       "    </tr>\n",
       "    <tr>\n",
       "      <th>Govinda</th>\n",
       "      <td>79</td>\n",
       "    </tr>\n",
       "    <tr>\n",
       "      <th>Jagannath</th>\n",
       "      <td>71</td>\n",
       "    </tr>\n",
       "  </tbody>\n",
       "</table>\n",
       "</div>"
      ],
      "text/plain": [
       "           OR\n",
       "Anil       56\n",
       "Rehaman    58\n",
       "Rama       35\n",
       "Krishna    91\n",
       "Govinda    79\n",
       "Jagannath  71"
      ]
     },
     "execution_count": 53,
     "metadata": {},
     "output_type": "execute_result"
    }
   ],
   "source": [
    "#2. Drop the columns with missing Values\n",
    "marks.dropna(how='any', axis=1) \n",
    "#will drop WT, CD, DSP, COA as all these columns contains atleast one null value"
   ]
  },
  {
   "cell_type": "code",
   "execution_count": 110,
   "metadata": {},
   "outputs": [
    {
     "data": {
      "text/html": [
       "<div>\n",
       "<style scoped>\n",
       "    .dataframe tbody tr th:only-of-type {\n",
       "        vertical-align: middle;\n",
       "    }\n",
       "\n",
       "    .dataframe tbody tr th {\n",
       "        vertical-align: top;\n",
       "    }\n",
       "\n",
       "    .dataframe thead th {\n",
       "        text-align: right;\n",
       "    }\n",
       "</style>\n",
       "<table border=\"1\" class=\"dataframe\">\n",
       "  <thead>\n",
       "    <tr style=\"text-align: right;\">\n",
       "      <th></th>\n",
       "      <th>WT</th>\n",
       "      <th>DSP</th>\n",
       "      <th>OR</th>\n",
       "    </tr>\n",
       "  </thead>\n",
       "  <tbody>\n",
       "    <tr>\n",
       "      <th>Anil</th>\n",
       "      <td>42.0</td>\n",
       "      <td>42.0</td>\n",
       "      <td>86</td>\n",
       "    </tr>\n",
       "    <tr>\n",
       "      <th>Rehaman</th>\n",
       "      <td>NaN</td>\n",
       "      <td>42.0</td>\n",
       "      <td>40</td>\n",
       "    </tr>\n",
       "    <tr>\n",
       "      <th>Rama</th>\n",
       "      <td>97.0</td>\n",
       "      <td>66.0</td>\n",
       "      <td>87</td>\n",
       "    </tr>\n",
       "    <tr>\n",
       "      <th>Krishna</th>\n",
       "      <td>53.0</td>\n",
       "      <td>92.0</td>\n",
       "      <td>40</td>\n",
       "    </tr>\n",
       "    <tr>\n",
       "      <th>Govinda</th>\n",
       "      <td>55.0</td>\n",
       "      <td>77.0</td>\n",
       "      <td>67</td>\n",
       "    </tr>\n",
       "    <tr>\n",
       "      <th>Jagannath</th>\n",
       "      <td>83.0</td>\n",
       "      <td>NaN</td>\n",
       "      <td>57</td>\n",
       "    </tr>\n",
       "  </tbody>\n",
       "</table>\n",
       "</div>"
      ],
      "text/plain": [
       "             WT   DSP  OR\n",
       "Anil       42.0  42.0  86\n",
       "Rehaman     NaN  42.0  40\n",
       "Rama       97.0  66.0  87\n",
       "Krishna    53.0  92.0  40\n",
       "Govinda    55.0  77.0  67\n",
       "Jagannath  83.0   NaN  57"
      ]
     },
     "execution_count": 110,
     "metadata": {},
     "output_type": "execute_result"
    }
   ],
   "source": [
    "#3. Only Drop specific column with missing Data\n",
    "marks.dropna(axis=1, subset=['Anil'])"
   ]
  },
  {
   "cell_type": "code",
   "execution_count": null,
   "metadata": {},
   "outputs": [],
   "source": []
  },
  {
   "cell_type": "code",
   "execution_count": null,
   "metadata": {},
   "outputs": [],
   "source": []
  },
  {
   "cell_type": "code",
   "execution_count": null,
   "metadata": {},
   "outputs": [],
   "source": []
  },
  {
   "cell_type": "markdown",
   "metadata": {},
   "source": [
    "### 6. Conditional Formatting"
   ]
  },
  {
   "cell_type": "code",
   "execution_count": 71,
   "metadata": {},
   "outputs": [],
   "source": [
    "WT=np.array([np.random.randint(35, 101) for i in range(6)])\n",
    "CD=np.array([np.random.randint(35, 101) for i in range(6)])\n",
    "DSP=np.array([np.random.randint(35, 101) for i in range(6)])\n",
    "OR=np.array([np.random.randint(35, 101) for i in range(6)])\n",
    "COA=np.array([np.random.randint(35, 101) for i in range(6)])\n",
    "total=WT+CD+DSP+OR+COA"
   ]
  },
  {
   "cell_type": "code",
   "execution_count": 72,
   "metadata": {},
   "outputs": [],
   "source": [
    "names=['Rama', 'Krishna', 'Govinda', 'Jagannath', 'Keshava', 'Madhava']"
   ]
  },
  {
   "cell_type": "code",
   "execution_count": 73,
   "metadata": {},
   "outputs": [
    {
     "data": {
      "text/plain": [
       "array([269, 319, 428, 294, 326, 432])"
      ]
     },
     "execution_count": 73,
     "metadata": {},
     "output_type": "execute_result"
    }
   ],
   "source": [
    "total"
   ]
  },
  {
   "cell_type": "code",
   "execution_count": 74,
   "metadata": {},
   "outputs": [
    {
     "data": {
      "text/html": [
       "<div>\n",
       "<style scoped>\n",
       "    .dataframe tbody tr th:only-of-type {\n",
       "        vertical-align: middle;\n",
       "    }\n",
       "\n",
       "    .dataframe tbody tr th {\n",
       "        vertical-align: top;\n",
       "    }\n",
       "\n",
       "    .dataframe thead th {\n",
       "        text-align: right;\n",
       "    }\n",
       "</style>\n",
       "<table border=\"1\" class=\"dataframe\">\n",
       "  <thead>\n",
       "    <tr style=\"text-align: right;\">\n",
       "      <th></th>\n",
       "      <th>WT</th>\n",
       "      <th>CD</th>\n",
       "      <th>DSP</th>\n",
       "      <th>OR</th>\n",
       "      <th>COA</th>\n",
       "      <th>Total</th>\n",
       "    </tr>\n",
       "  </thead>\n",
       "  <tbody>\n",
       "    <tr>\n",
       "      <th>Rama</th>\n",
       "      <td>71</td>\n",
       "      <td>41</td>\n",
       "      <td>62</td>\n",
       "      <td>53</td>\n",
       "      <td>42</td>\n",
       "      <td>269</td>\n",
       "    </tr>\n",
       "    <tr>\n",
       "      <th>Krishna</th>\n",
       "      <td>41</td>\n",
       "      <td>37</td>\n",
       "      <td>75</td>\n",
       "      <td>71</td>\n",
       "      <td>95</td>\n",
       "      <td>319</td>\n",
       "    </tr>\n",
       "    <tr>\n",
       "      <th>Govinda</th>\n",
       "      <td>91</td>\n",
       "      <td>64</td>\n",
       "      <td>86</td>\n",
       "      <td>89</td>\n",
       "      <td>98</td>\n",
       "      <td>428</td>\n",
       "    </tr>\n",
       "    <tr>\n",
       "      <th>Jagannath</th>\n",
       "      <td>81</td>\n",
       "      <td>78</td>\n",
       "      <td>37</td>\n",
       "      <td>42</td>\n",
       "      <td>56</td>\n",
       "      <td>294</td>\n",
       "    </tr>\n",
       "    <tr>\n",
       "      <th>Keshava</th>\n",
       "      <td>89</td>\n",
       "      <td>40</td>\n",
       "      <td>84</td>\n",
       "      <td>72</td>\n",
       "      <td>41</td>\n",
       "      <td>326</td>\n",
       "    </tr>\n",
       "    <tr>\n",
       "      <th>Madhava</th>\n",
       "      <td>96</td>\n",
       "      <td>79</td>\n",
       "      <td>71</td>\n",
       "      <td>86</td>\n",
       "      <td>100</td>\n",
       "      <td>432</td>\n",
       "    </tr>\n",
       "  </tbody>\n",
       "</table>\n",
       "</div>"
      ],
      "text/plain": [
       "           WT  CD  DSP  OR  COA  Total\n",
       "Rama       71  41   62  53   42    269\n",
       "Krishna    41  37   75  71   95    319\n",
       "Govinda    91  64   86  89   98    428\n",
       "Jagannath  81  78   37  42   56    294\n",
       "Keshava    89  40   84  72   41    326\n",
       "Madhava    96  79   71  86  100    432"
      ]
     },
     "execution_count": 74,
     "metadata": {},
     "output_type": "execute_result"
    }
   ],
   "source": [
    "marks=pd.DataFrame({'WT': WT, 'CD': CD, 'DSP': DSP, 'OR':OR, 'COA':COA, \"Total\":total}, index=names)\n",
    "marks"
   ]
  },
  {
   "cell_type": "code",
   "execution_count": 75,
   "metadata": {},
   "outputs": [],
   "source": [
    "def highlight(row):\n",
    "    val=row.loc['Total']\n",
    "    if val<300:\n",
    "        color='red'\n",
    "        \n",
    "    else:\n",
    "        color=''\n",
    "    return ['background-color:{}'.format(color) for r in row]\n"
   ]
  },
  {
   "cell_type": "code",
   "execution_count": 76,
   "metadata": {},
   "outputs": [
    {
     "data": {
      "text/html": [
       "<style  type=\"text/css\" >\n",
       "    #T_967c1c0a_2945_11ed_bac5_153af522267drow0_col0 {\n",
       "            background-color: red;\n",
       "        }    #T_967c1c0a_2945_11ed_bac5_153af522267drow0_col1 {\n",
       "            background-color: red;\n",
       "        }    #T_967c1c0a_2945_11ed_bac5_153af522267drow0_col2 {\n",
       "            background-color: red;\n",
       "        }    #T_967c1c0a_2945_11ed_bac5_153af522267drow0_col3 {\n",
       "            background-color: red;\n",
       "        }    #T_967c1c0a_2945_11ed_bac5_153af522267drow0_col4 {\n",
       "            background-color: red;\n",
       "        }    #T_967c1c0a_2945_11ed_bac5_153af522267drow0_col5 {\n",
       "            background-color: red;\n",
       "        }    #T_967c1c0a_2945_11ed_bac5_153af522267drow1_col0 {\n",
       "            background-color: ;\n",
       "        }    #T_967c1c0a_2945_11ed_bac5_153af522267drow1_col1 {\n",
       "            background-color: ;\n",
       "        }    #T_967c1c0a_2945_11ed_bac5_153af522267drow1_col2 {\n",
       "            background-color: ;\n",
       "        }    #T_967c1c0a_2945_11ed_bac5_153af522267drow1_col3 {\n",
       "            background-color: ;\n",
       "        }    #T_967c1c0a_2945_11ed_bac5_153af522267drow1_col4 {\n",
       "            background-color: ;\n",
       "        }    #T_967c1c0a_2945_11ed_bac5_153af522267drow1_col5 {\n",
       "            background-color: ;\n",
       "        }    #T_967c1c0a_2945_11ed_bac5_153af522267drow2_col0 {\n",
       "            background-color: ;\n",
       "        }    #T_967c1c0a_2945_11ed_bac5_153af522267drow2_col1 {\n",
       "            background-color: ;\n",
       "        }    #T_967c1c0a_2945_11ed_bac5_153af522267drow2_col2 {\n",
       "            background-color: ;\n",
       "        }    #T_967c1c0a_2945_11ed_bac5_153af522267drow2_col3 {\n",
       "            background-color: ;\n",
       "        }    #T_967c1c0a_2945_11ed_bac5_153af522267drow2_col4 {\n",
       "            background-color: ;\n",
       "        }    #T_967c1c0a_2945_11ed_bac5_153af522267drow2_col5 {\n",
       "            background-color: ;\n",
       "        }    #T_967c1c0a_2945_11ed_bac5_153af522267drow3_col0 {\n",
       "            background-color: red;\n",
       "        }    #T_967c1c0a_2945_11ed_bac5_153af522267drow3_col1 {\n",
       "            background-color: red;\n",
       "        }    #T_967c1c0a_2945_11ed_bac5_153af522267drow3_col2 {\n",
       "            background-color: red;\n",
       "        }    #T_967c1c0a_2945_11ed_bac5_153af522267drow3_col3 {\n",
       "            background-color: red;\n",
       "        }    #T_967c1c0a_2945_11ed_bac5_153af522267drow3_col4 {\n",
       "            background-color: red;\n",
       "        }    #T_967c1c0a_2945_11ed_bac5_153af522267drow3_col5 {\n",
       "            background-color: red;\n",
       "        }    #T_967c1c0a_2945_11ed_bac5_153af522267drow4_col0 {\n",
       "            background-color: ;\n",
       "        }    #T_967c1c0a_2945_11ed_bac5_153af522267drow4_col1 {\n",
       "            background-color: ;\n",
       "        }    #T_967c1c0a_2945_11ed_bac5_153af522267drow4_col2 {\n",
       "            background-color: ;\n",
       "        }    #T_967c1c0a_2945_11ed_bac5_153af522267drow4_col3 {\n",
       "            background-color: ;\n",
       "        }    #T_967c1c0a_2945_11ed_bac5_153af522267drow4_col4 {\n",
       "            background-color: ;\n",
       "        }    #T_967c1c0a_2945_11ed_bac5_153af522267drow4_col5 {\n",
       "            background-color: ;\n",
       "        }    #T_967c1c0a_2945_11ed_bac5_153af522267drow5_col0 {\n",
       "            background-color: ;\n",
       "        }    #T_967c1c0a_2945_11ed_bac5_153af522267drow5_col1 {\n",
       "            background-color: ;\n",
       "        }    #T_967c1c0a_2945_11ed_bac5_153af522267drow5_col2 {\n",
       "            background-color: ;\n",
       "        }    #T_967c1c0a_2945_11ed_bac5_153af522267drow5_col3 {\n",
       "            background-color: ;\n",
       "        }    #T_967c1c0a_2945_11ed_bac5_153af522267drow5_col4 {\n",
       "            background-color: ;\n",
       "        }    #T_967c1c0a_2945_11ed_bac5_153af522267drow5_col5 {\n",
       "            background-color: ;\n",
       "        }</style><table id=\"T_967c1c0a_2945_11ed_bac5_153af522267d\" ><thead>    <tr>        <th class=\"blank level0\" ></th>        <th class=\"col_heading level0 col0\" >WT</th>        <th class=\"col_heading level0 col1\" >CD</th>        <th class=\"col_heading level0 col2\" >DSP</th>        <th class=\"col_heading level0 col3\" >OR</th>        <th class=\"col_heading level0 col4\" >COA</th>        <th class=\"col_heading level0 col5\" >Total</th>    </tr></thead><tbody>\n",
       "                <tr>\n",
       "                        <th id=\"T_967c1c0a_2945_11ed_bac5_153af522267dlevel0_row0\" class=\"row_heading level0 row0\" >Rama</th>\n",
       "                        <td id=\"T_967c1c0a_2945_11ed_bac5_153af522267drow0_col0\" class=\"data row0 col0\" >71</td>\n",
       "                        <td id=\"T_967c1c0a_2945_11ed_bac5_153af522267drow0_col1\" class=\"data row0 col1\" >41</td>\n",
       "                        <td id=\"T_967c1c0a_2945_11ed_bac5_153af522267drow0_col2\" class=\"data row0 col2\" >62</td>\n",
       "                        <td id=\"T_967c1c0a_2945_11ed_bac5_153af522267drow0_col3\" class=\"data row0 col3\" >53</td>\n",
       "                        <td id=\"T_967c1c0a_2945_11ed_bac5_153af522267drow0_col4\" class=\"data row0 col4\" >42</td>\n",
       "                        <td id=\"T_967c1c0a_2945_11ed_bac5_153af522267drow0_col5\" class=\"data row0 col5\" >269</td>\n",
       "            </tr>\n",
       "            <tr>\n",
       "                        <th id=\"T_967c1c0a_2945_11ed_bac5_153af522267dlevel0_row1\" class=\"row_heading level0 row1\" >Krishna</th>\n",
       "                        <td id=\"T_967c1c0a_2945_11ed_bac5_153af522267drow1_col0\" class=\"data row1 col0\" >41</td>\n",
       "                        <td id=\"T_967c1c0a_2945_11ed_bac5_153af522267drow1_col1\" class=\"data row1 col1\" >37</td>\n",
       "                        <td id=\"T_967c1c0a_2945_11ed_bac5_153af522267drow1_col2\" class=\"data row1 col2\" >75</td>\n",
       "                        <td id=\"T_967c1c0a_2945_11ed_bac5_153af522267drow1_col3\" class=\"data row1 col3\" >71</td>\n",
       "                        <td id=\"T_967c1c0a_2945_11ed_bac5_153af522267drow1_col4\" class=\"data row1 col4\" >95</td>\n",
       "                        <td id=\"T_967c1c0a_2945_11ed_bac5_153af522267drow1_col5\" class=\"data row1 col5\" >319</td>\n",
       "            </tr>\n",
       "            <tr>\n",
       "                        <th id=\"T_967c1c0a_2945_11ed_bac5_153af522267dlevel0_row2\" class=\"row_heading level0 row2\" >Govinda</th>\n",
       "                        <td id=\"T_967c1c0a_2945_11ed_bac5_153af522267drow2_col0\" class=\"data row2 col0\" >91</td>\n",
       "                        <td id=\"T_967c1c0a_2945_11ed_bac5_153af522267drow2_col1\" class=\"data row2 col1\" >64</td>\n",
       "                        <td id=\"T_967c1c0a_2945_11ed_bac5_153af522267drow2_col2\" class=\"data row2 col2\" >86</td>\n",
       "                        <td id=\"T_967c1c0a_2945_11ed_bac5_153af522267drow2_col3\" class=\"data row2 col3\" >89</td>\n",
       "                        <td id=\"T_967c1c0a_2945_11ed_bac5_153af522267drow2_col4\" class=\"data row2 col4\" >98</td>\n",
       "                        <td id=\"T_967c1c0a_2945_11ed_bac5_153af522267drow2_col5\" class=\"data row2 col5\" >428</td>\n",
       "            </tr>\n",
       "            <tr>\n",
       "                        <th id=\"T_967c1c0a_2945_11ed_bac5_153af522267dlevel0_row3\" class=\"row_heading level0 row3\" >Jagannath</th>\n",
       "                        <td id=\"T_967c1c0a_2945_11ed_bac5_153af522267drow3_col0\" class=\"data row3 col0\" >81</td>\n",
       "                        <td id=\"T_967c1c0a_2945_11ed_bac5_153af522267drow3_col1\" class=\"data row3 col1\" >78</td>\n",
       "                        <td id=\"T_967c1c0a_2945_11ed_bac5_153af522267drow3_col2\" class=\"data row3 col2\" >37</td>\n",
       "                        <td id=\"T_967c1c0a_2945_11ed_bac5_153af522267drow3_col3\" class=\"data row3 col3\" >42</td>\n",
       "                        <td id=\"T_967c1c0a_2945_11ed_bac5_153af522267drow3_col4\" class=\"data row3 col4\" >56</td>\n",
       "                        <td id=\"T_967c1c0a_2945_11ed_bac5_153af522267drow3_col5\" class=\"data row3 col5\" >294</td>\n",
       "            </tr>\n",
       "            <tr>\n",
       "                        <th id=\"T_967c1c0a_2945_11ed_bac5_153af522267dlevel0_row4\" class=\"row_heading level0 row4\" >Keshava</th>\n",
       "                        <td id=\"T_967c1c0a_2945_11ed_bac5_153af522267drow4_col0\" class=\"data row4 col0\" >89</td>\n",
       "                        <td id=\"T_967c1c0a_2945_11ed_bac5_153af522267drow4_col1\" class=\"data row4 col1\" >40</td>\n",
       "                        <td id=\"T_967c1c0a_2945_11ed_bac5_153af522267drow4_col2\" class=\"data row4 col2\" >84</td>\n",
       "                        <td id=\"T_967c1c0a_2945_11ed_bac5_153af522267drow4_col3\" class=\"data row4 col3\" >72</td>\n",
       "                        <td id=\"T_967c1c0a_2945_11ed_bac5_153af522267drow4_col4\" class=\"data row4 col4\" >41</td>\n",
       "                        <td id=\"T_967c1c0a_2945_11ed_bac5_153af522267drow4_col5\" class=\"data row4 col5\" >326</td>\n",
       "            </tr>\n",
       "            <tr>\n",
       "                        <th id=\"T_967c1c0a_2945_11ed_bac5_153af522267dlevel0_row5\" class=\"row_heading level0 row5\" >Madhava</th>\n",
       "                        <td id=\"T_967c1c0a_2945_11ed_bac5_153af522267drow5_col0\" class=\"data row5 col0\" >96</td>\n",
       "                        <td id=\"T_967c1c0a_2945_11ed_bac5_153af522267drow5_col1\" class=\"data row5 col1\" >79</td>\n",
       "                        <td id=\"T_967c1c0a_2945_11ed_bac5_153af522267drow5_col2\" class=\"data row5 col2\" >71</td>\n",
       "                        <td id=\"T_967c1c0a_2945_11ed_bac5_153af522267drow5_col3\" class=\"data row5 col3\" >86</td>\n",
       "                        <td id=\"T_967c1c0a_2945_11ed_bac5_153af522267drow5_col4\" class=\"data row5 col4\" >100</td>\n",
       "                        <td id=\"T_967c1c0a_2945_11ed_bac5_153af522267drow5_col5\" class=\"data row5 col5\" >432</td>\n",
       "            </tr>\n",
       "    </tbody></table>"
      ],
      "text/plain": [
       "<pandas.io.formats.style.Styler at 0x7efd554f2390>"
      ]
     },
     "execution_count": 76,
     "metadata": {},
     "output_type": "execute_result"
    }
   ],
   "source": [
    "marks.style.apply(highlight, axis=1)"
   ]
  },
  {
   "cell_type": "code",
   "execution_count": 77,
   "metadata": {},
   "outputs": [
    {
     "data": {
      "text/html": [
       "<style  type=\"text/css\" >\n",
       "    #T_995b094a_2945_11ed_bac5_153af522267drow0_col0 {\n",
       "            background-color: red;\n",
       "        }    #T_995b094a_2945_11ed_bac5_153af522267drow0_col1 {\n",
       "            background-color: red;\n",
       "        }    #T_995b094a_2945_11ed_bac5_153af522267drow0_col2 {\n",
       "            background-color: red;\n",
       "        }    #T_995b094a_2945_11ed_bac5_153af522267drow0_col3 {\n",
       "            background-color: red;\n",
       "        }    #T_995b094a_2945_11ed_bac5_153af522267drow0_col4 {\n",
       "            background-color: red;\n",
       "        }    #T_995b094a_2945_11ed_bac5_153af522267drow0_col5 {\n",
       "            background-color: red;\n",
       "        }    #T_995b094a_2945_11ed_bac5_153af522267drow1_col0 {\n",
       "            background-color: red;\n",
       "        }    #T_995b094a_2945_11ed_bac5_153af522267drow1_col1 {\n",
       "            background-color: red;\n",
       "        }    #T_995b094a_2945_11ed_bac5_153af522267drow1_col2 {\n",
       "            background-color: red;\n",
       "        }    #T_995b094a_2945_11ed_bac5_153af522267drow1_col3 {\n",
       "            background-color: red;\n",
       "        }    #T_995b094a_2945_11ed_bac5_153af522267drow1_col4 {\n",
       "            background-color: red;\n",
       "        }    #T_995b094a_2945_11ed_bac5_153af522267drow1_col5 {\n",
       "            background-color: red;\n",
       "        }    #T_995b094a_2945_11ed_bac5_153af522267drow2_col0 {\n",
       "            background-color: red;\n",
       "        }    #T_995b094a_2945_11ed_bac5_153af522267drow2_col1 {\n",
       "            background-color: red;\n",
       "        }    #T_995b094a_2945_11ed_bac5_153af522267drow2_col2 {\n",
       "            background-color: red;\n",
       "        }    #T_995b094a_2945_11ed_bac5_153af522267drow2_col3 {\n",
       "            background-color: red;\n",
       "        }    #T_995b094a_2945_11ed_bac5_153af522267drow2_col4 {\n",
       "            background-color: red;\n",
       "        }    #T_995b094a_2945_11ed_bac5_153af522267drow2_col5 {\n",
       "            background-color: red;\n",
       "        }    #T_995b094a_2945_11ed_bac5_153af522267drow3_col0 {\n",
       "            background-color: red;\n",
       "        }    #T_995b094a_2945_11ed_bac5_153af522267drow3_col1 {\n",
       "            background-color: red;\n",
       "        }    #T_995b094a_2945_11ed_bac5_153af522267drow3_col2 {\n",
       "            background-color: red;\n",
       "        }    #T_995b094a_2945_11ed_bac5_153af522267drow3_col3 {\n",
       "            background-color: red;\n",
       "        }    #T_995b094a_2945_11ed_bac5_153af522267drow3_col4 {\n",
       "            background-color: red;\n",
       "        }    #T_995b094a_2945_11ed_bac5_153af522267drow3_col5 {\n",
       "            background-color: red;\n",
       "        }    #T_995b094a_2945_11ed_bac5_153af522267drow4_col0 {\n",
       "            background-color: red;\n",
       "        }    #T_995b094a_2945_11ed_bac5_153af522267drow4_col1 {\n",
       "            background-color: red;\n",
       "        }    #T_995b094a_2945_11ed_bac5_153af522267drow4_col2 {\n",
       "            background-color: red;\n",
       "        }    #T_995b094a_2945_11ed_bac5_153af522267drow4_col3 {\n",
       "            background-color: red;\n",
       "        }    #T_995b094a_2945_11ed_bac5_153af522267drow4_col4 {\n",
       "            background-color: red;\n",
       "        }    #T_995b094a_2945_11ed_bac5_153af522267drow4_col5 {\n",
       "            background-color: red;\n",
       "        }    #T_995b094a_2945_11ed_bac5_153af522267drow5_col0 {\n",
       "            background-color: red;\n",
       "        }    #T_995b094a_2945_11ed_bac5_153af522267drow5_col1 {\n",
       "            background-color: red;\n",
       "        }    #T_995b094a_2945_11ed_bac5_153af522267drow5_col2 {\n",
       "            background-color: red;\n",
       "        }    #T_995b094a_2945_11ed_bac5_153af522267drow5_col3 {\n",
       "            background-color: red;\n",
       "        }    #T_995b094a_2945_11ed_bac5_153af522267drow5_col4 {\n",
       "            background-color: red;\n",
       "        }    #T_995b094a_2945_11ed_bac5_153af522267drow5_col5 {\n",
       "            background-color: red;\n",
       "        }</style><table id=\"T_995b094a_2945_11ed_bac5_153af522267d\" ><thead>    <tr>        <th class=\"blank level0\" ></th>        <th class=\"col_heading level0 col0\" >WT</th>        <th class=\"col_heading level0 col1\" >CD</th>        <th class=\"col_heading level0 col2\" >DSP</th>        <th class=\"col_heading level0 col3\" >OR</th>        <th class=\"col_heading level0 col4\" >COA</th>        <th class=\"col_heading level0 col5\" >Total</th>    </tr></thead><tbody>\n",
       "                <tr>\n",
       "                        <th id=\"T_995b094a_2945_11ed_bac5_153af522267dlevel0_row0\" class=\"row_heading level0 row0\" >Rama</th>\n",
       "                        <td id=\"T_995b094a_2945_11ed_bac5_153af522267drow0_col0\" class=\"data row0 col0\" >71</td>\n",
       "                        <td id=\"T_995b094a_2945_11ed_bac5_153af522267drow0_col1\" class=\"data row0 col1\" >41</td>\n",
       "                        <td id=\"T_995b094a_2945_11ed_bac5_153af522267drow0_col2\" class=\"data row0 col2\" >62</td>\n",
       "                        <td id=\"T_995b094a_2945_11ed_bac5_153af522267drow0_col3\" class=\"data row0 col3\" >53</td>\n",
       "                        <td id=\"T_995b094a_2945_11ed_bac5_153af522267drow0_col4\" class=\"data row0 col4\" >42</td>\n",
       "                        <td id=\"T_995b094a_2945_11ed_bac5_153af522267drow0_col5\" class=\"data row0 col5\" >269</td>\n",
       "            </tr>\n",
       "            <tr>\n",
       "                        <th id=\"T_995b094a_2945_11ed_bac5_153af522267dlevel0_row1\" class=\"row_heading level0 row1\" >Krishna</th>\n",
       "                        <td id=\"T_995b094a_2945_11ed_bac5_153af522267drow1_col0\" class=\"data row1 col0\" >41</td>\n",
       "                        <td id=\"T_995b094a_2945_11ed_bac5_153af522267drow1_col1\" class=\"data row1 col1\" >37</td>\n",
       "                        <td id=\"T_995b094a_2945_11ed_bac5_153af522267drow1_col2\" class=\"data row1 col2\" >75</td>\n",
       "                        <td id=\"T_995b094a_2945_11ed_bac5_153af522267drow1_col3\" class=\"data row1 col3\" >71</td>\n",
       "                        <td id=\"T_995b094a_2945_11ed_bac5_153af522267drow1_col4\" class=\"data row1 col4\" >95</td>\n",
       "                        <td id=\"T_995b094a_2945_11ed_bac5_153af522267drow1_col5\" class=\"data row1 col5\" >319</td>\n",
       "            </tr>\n",
       "            <tr>\n",
       "                        <th id=\"T_995b094a_2945_11ed_bac5_153af522267dlevel0_row2\" class=\"row_heading level0 row2\" >Govinda</th>\n",
       "                        <td id=\"T_995b094a_2945_11ed_bac5_153af522267drow2_col0\" class=\"data row2 col0\" >91</td>\n",
       "                        <td id=\"T_995b094a_2945_11ed_bac5_153af522267drow2_col1\" class=\"data row2 col1\" >64</td>\n",
       "                        <td id=\"T_995b094a_2945_11ed_bac5_153af522267drow2_col2\" class=\"data row2 col2\" >86</td>\n",
       "                        <td id=\"T_995b094a_2945_11ed_bac5_153af522267drow2_col3\" class=\"data row2 col3\" >89</td>\n",
       "                        <td id=\"T_995b094a_2945_11ed_bac5_153af522267drow2_col4\" class=\"data row2 col4\" >98</td>\n",
       "                        <td id=\"T_995b094a_2945_11ed_bac5_153af522267drow2_col5\" class=\"data row2 col5\" >428</td>\n",
       "            </tr>\n",
       "            <tr>\n",
       "                        <th id=\"T_995b094a_2945_11ed_bac5_153af522267dlevel0_row3\" class=\"row_heading level0 row3\" >Jagannath</th>\n",
       "                        <td id=\"T_995b094a_2945_11ed_bac5_153af522267drow3_col0\" class=\"data row3 col0\" >81</td>\n",
       "                        <td id=\"T_995b094a_2945_11ed_bac5_153af522267drow3_col1\" class=\"data row3 col1\" >78</td>\n",
       "                        <td id=\"T_995b094a_2945_11ed_bac5_153af522267drow3_col2\" class=\"data row3 col2\" >37</td>\n",
       "                        <td id=\"T_995b094a_2945_11ed_bac5_153af522267drow3_col3\" class=\"data row3 col3\" >42</td>\n",
       "                        <td id=\"T_995b094a_2945_11ed_bac5_153af522267drow3_col4\" class=\"data row3 col4\" >56</td>\n",
       "                        <td id=\"T_995b094a_2945_11ed_bac5_153af522267drow3_col5\" class=\"data row3 col5\" >294</td>\n",
       "            </tr>\n",
       "            <tr>\n",
       "                        <th id=\"T_995b094a_2945_11ed_bac5_153af522267dlevel0_row4\" class=\"row_heading level0 row4\" >Keshava</th>\n",
       "                        <td id=\"T_995b094a_2945_11ed_bac5_153af522267drow4_col0\" class=\"data row4 col0\" >89</td>\n",
       "                        <td id=\"T_995b094a_2945_11ed_bac5_153af522267drow4_col1\" class=\"data row4 col1\" >40</td>\n",
       "                        <td id=\"T_995b094a_2945_11ed_bac5_153af522267drow4_col2\" class=\"data row4 col2\" >84</td>\n",
       "                        <td id=\"T_995b094a_2945_11ed_bac5_153af522267drow4_col3\" class=\"data row4 col3\" >72</td>\n",
       "                        <td id=\"T_995b094a_2945_11ed_bac5_153af522267drow4_col4\" class=\"data row4 col4\" >41</td>\n",
       "                        <td id=\"T_995b094a_2945_11ed_bac5_153af522267drow4_col5\" class=\"data row4 col5\" >326</td>\n",
       "            </tr>\n",
       "            <tr>\n",
       "                        <th id=\"T_995b094a_2945_11ed_bac5_153af522267dlevel0_row5\" class=\"row_heading level0 row5\" >Madhava</th>\n",
       "                        <td id=\"T_995b094a_2945_11ed_bac5_153af522267drow5_col0\" class=\"data row5 col0\" >96</td>\n",
       "                        <td id=\"T_995b094a_2945_11ed_bac5_153af522267drow5_col1\" class=\"data row5 col1\" >79</td>\n",
       "                        <td id=\"T_995b094a_2945_11ed_bac5_153af522267drow5_col2\" class=\"data row5 col2\" >71</td>\n",
       "                        <td id=\"T_995b094a_2945_11ed_bac5_153af522267drow5_col3\" class=\"data row5 col3\" >86</td>\n",
       "                        <td id=\"T_995b094a_2945_11ed_bac5_153af522267drow5_col4\" class=\"data row5 col4\" >100</td>\n",
       "                        <td id=\"T_995b094a_2945_11ed_bac5_153af522267drow5_col5\" class=\"data row5 col5\" >432</td>\n",
       "            </tr>\n",
       "    </tbody></table>"
      ],
      "text/plain": [
       "<pandas.io.formats.style.Styler at 0x7efd55799390>"
      ]
     },
     "execution_count": 77,
     "metadata": {},
     "output_type": "execute_result"
    }
   ],
   "source": [
    "def highlight(row):\n",
    "    return ['background-color:red' for r in row]\n",
    "\n",
    "marks.style.apply(highlight, axis=1)"
   ]
  },
  {
   "cell_type": "code",
   "execution_count": 18,
   "metadata": {},
   "outputs": [
    {
     "data": {
      "text/html": [
       "<style  type=\"text/css\" >\n",
       "    #T_adfb0372_286f_11ed_944d_37e3b5ed6232row0_col0 {\n",
       "            background-color:  #2d7dbb;\n",
       "            color:  #000000;\n",
       "        }    #T_adfb0372_286f_11ed_944d_37e3b5ed6232row0_col1 {\n",
       "            background-color:  #083a7a;\n",
       "            color:  #f1f1f1;\n",
       "        }    #T_adfb0372_286f_11ed_944d_37e3b5ed6232row0_col2 {\n",
       "            background-color:  #9dcae1;\n",
       "            color:  #000000;\n",
       "        }    #T_adfb0372_286f_11ed_944d_37e3b5ed6232row0_col3 {\n",
       "            background-color:  #cbdef1;\n",
       "            color:  #000000;\n",
       "        }    #T_adfb0372_286f_11ed_944d_37e3b5ed6232row0_col4 {\n",
       "            background-color:  #3181bd;\n",
       "            color:  #000000;\n",
       "        }    #T_adfb0372_286f_11ed_944d_37e3b5ed6232row0_col5 {\n",
       "            background-color:  #7cb7da;\n",
       "            color:  #000000;\n",
       "        }    #T_adfb0372_286f_11ed_944d_37e3b5ed6232row1_col0 {\n",
       "            background-color:  #f7fbff;\n",
       "            color:  #000000;\n",
       "        }    #T_adfb0372_286f_11ed_944d_37e3b5ed6232row1_col1 {\n",
       "            background-color:  #aed1e7;\n",
       "            color:  #000000;\n",
       "        }    #T_adfb0372_286f_11ed_944d_37e3b5ed6232row1_col2 {\n",
       "            background-color:  #2070b4;\n",
       "            color:  #f1f1f1;\n",
       "        }    #T_adfb0372_286f_11ed_944d_37e3b5ed6232row1_col3 {\n",
       "            background-color:  #d2e3f3;\n",
       "            color:  #000000;\n",
       "        }    #T_adfb0372_286f_11ed_944d_37e3b5ed6232row1_col4 {\n",
       "            background-color:  #f7fbff;\n",
       "            color:  #000000;\n",
       "        }    #T_adfb0372_286f_11ed_944d_37e3b5ed6232row1_col5 {\n",
       "            background-color:  #f7fbff;\n",
       "            color:  #000000;\n",
       "        }    #T_adfb0372_286f_11ed_944d_37e3b5ed6232row2_col0 {\n",
       "            background-color:  #08306b;\n",
       "            color:  #f1f1f1;\n",
       "        }    #T_adfb0372_286f_11ed_944d_37e3b5ed6232row2_col1 {\n",
       "            background-color:  #08306b;\n",
       "            color:  #f1f1f1;\n",
       "        }    #T_adfb0372_286f_11ed_944d_37e3b5ed6232row2_col2 {\n",
       "            background-color:  #08509b;\n",
       "            color:  #f1f1f1;\n",
       "        }    #T_adfb0372_286f_11ed_944d_37e3b5ed6232row2_col3 {\n",
       "            background-color:  #08306b;\n",
       "            color:  #f1f1f1;\n",
       "        }    #T_adfb0372_286f_11ed_944d_37e3b5ed6232row2_col4 {\n",
       "            background-color:  #d2e3f3;\n",
       "            color:  #000000;\n",
       "        }    #T_adfb0372_286f_11ed_944d_37e3b5ed6232row2_col5 {\n",
       "            background-color:  #08306b;\n",
       "            color:  #f1f1f1;\n",
       "        }    #T_adfb0372_286f_11ed_944d_37e3b5ed6232row3_col0 {\n",
       "            background-color:  #539ecd;\n",
       "            color:  #000000;\n",
       "        }    #T_adfb0372_286f_11ed_944d_37e3b5ed6232row3_col1 {\n",
       "            background-color:  #2474b7;\n",
       "            color:  #f1f1f1;\n",
       "        }    #T_adfb0372_286f_11ed_944d_37e3b5ed6232row3_col2 {\n",
       "            background-color:  #f7fbff;\n",
       "            color:  #000000;\n",
       "        }    #T_adfb0372_286f_11ed_944d_37e3b5ed6232row3_col3 {\n",
       "            background-color:  #f7fbff;\n",
       "            color:  #000000;\n",
       "        }    #T_adfb0372_286f_11ed_944d_37e3b5ed6232row3_col4 {\n",
       "            background-color:  #3181bd;\n",
       "            color:  #000000;\n",
       "        }    #T_adfb0372_286f_11ed_944d_37e3b5ed6232row3_col5 {\n",
       "            background-color:  #e0ecf8;\n",
       "            color:  #000000;\n",
       "        }    #T_adfb0372_286f_11ed_944d_37e3b5ed6232row4_col0 {\n",
       "            background-color:  #65aad4;\n",
       "            color:  #000000;\n",
       "        }    #T_adfb0372_286f_11ed_944d_37e3b5ed6232row4_col1 {\n",
       "            background-color:  #f7fbff;\n",
       "            color:  #000000;\n",
       "        }    #T_adfb0372_286f_11ed_944d_37e3b5ed6232row4_col2 {\n",
       "            background-color:  #08306b;\n",
       "            color:  #f1f1f1;\n",
       "        }    #T_adfb0372_286f_11ed_944d_37e3b5ed6232row4_col3 {\n",
       "            background-color:  #d6e5f4;\n",
       "            color:  #000000;\n",
       "        }    #T_adfb0372_286f_11ed_944d_37e3b5ed6232row4_col4 {\n",
       "            background-color:  #08306b;\n",
       "            color:  #f1f1f1;\n",
       "        }    #T_adfb0372_286f_11ed_944d_37e3b5ed6232row4_col5 {\n",
       "            background-color:  #bdd7ec;\n",
       "            color:  #000000;\n",
       "        }    #T_adfb0372_286f_11ed_944d_37e3b5ed6232row5_col0 {\n",
       "            background-color:  #083e81;\n",
       "            color:  #f1f1f1;\n",
       "        }    #T_adfb0372_286f_11ed_944d_37e3b5ed6232row5_col1 {\n",
       "            background-color:  #99c7e0;\n",
       "            color:  #000000;\n",
       "        }    #T_adfb0372_286f_11ed_944d_37e3b5ed6232row5_col2 {\n",
       "            background-color:  #2070b4;\n",
       "            color:  #f1f1f1;\n",
       "        }    #T_adfb0372_286f_11ed_944d_37e3b5ed6232row5_col3 {\n",
       "            background-color:  #206fb4;\n",
       "            color:  #f1f1f1;\n",
       "        }    #T_adfb0372_286f_11ed_944d_37e3b5ed6232row5_col4 {\n",
       "            background-color:  #084082;\n",
       "            color:  #f1f1f1;\n",
       "        }    #T_adfb0372_286f_11ed_944d_37e3b5ed6232row5_col5 {\n",
       "            background-color:  #2b7bba;\n",
       "            color:  #000000;\n",
       "        }</style><table id=\"T_adfb0372_286f_11ed_944d_37e3b5ed6232\" ><thead>    <tr>        <th class=\"blank level0\" ></th>        <th class=\"col_heading level0 col0\" >WT</th>        <th class=\"col_heading level0 col1\" >CD</th>        <th class=\"col_heading level0 col2\" >DSP</th>        <th class=\"col_heading level0 col3\" >OR</th>        <th class=\"col_heading level0 col4\" >COA</th>        <th class=\"col_heading level0 col5\" >Total</th>    </tr></thead><tbody>\n",
       "                <tr>\n",
       "                        <th id=\"T_adfb0372_286f_11ed_944d_37e3b5ed6232level0_row0\" class=\"row_heading level0 row0\" >Rama</th>\n",
       "                        <td id=\"T_adfb0372_286f_11ed_944d_37e3b5ed6232row0_col0\" class=\"data row0 col0\" >83</td>\n",
       "                        <td id=\"T_adfb0372_286f_11ed_944d_37e3b5ed6232row0_col1\" class=\"data row0 col1\" >96</td>\n",
       "                        <td id=\"T_adfb0372_286f_11ed_944d_37e3b5ed6232row0_col2\" class=\"data row0 col2\" >64</td>\n",
       "                        <td id=\"T_adfb0372_286f_11ed_944d_37e3b5ed6232row0_col3\" class=\"data row0 col3\" >50</td>\n",
       "                        <td id=\"T_adfb0372_286f_11ed_944d_37e3b5ed6232row0_col4\" class=\"data row0 col4\" >63</td>\n",
       "                        <td id=\"T_adfb0372_286f_11ed_944d_37e3b5ed6232row0_col5\" class=\"data row0 col5\" >356</td>\n",
       "            </tr>\n",
       "            <tr>\n",
       "                        <th id=\"T_adfb0372_286f_11ed_944d_37e3b5ed6232level0_row1\" class=\"row_heading level0 row1\" >Krishna</th>\n",
       "                        <td id=\"T_adfb0372_286f_11ed_944d_37e3b5ed6232row1_col0\" class=\"data row1 col0\" >45</td>\n",
       "                        <td id=\"T_adfb0372_286f_11ed_944d_37e3b5ed6232row1_col1\" class=\"data row1 col1\" >65</td>\n",
       "                        <td id=\"T_adfb0372_286f_11ed_944d_37e3b5ed6232row1_col2\" class=\"data row1 col2\" >82</td>\n",
       "                        <td id=\"T_adfb0372_286f_11ed_944d_37e3b5ed6232row1_col3\" class=\"data row1 col3\" >48</td>\n",
       "                        <td id=\"T_adfb0372_286f_11ed_944d_37e3b5ed6232row1_col4\" class=\"data row1 col4\" >52</td>\n",
       "                        <td id=\"T_adfb0372_286f_11ed_944d_37e3b5ed6232row1_col5\" class=\"data row1 col5\" >292</td>\n",
       "            </tr>\n",
       "            <tr>\n",
       "                        <th id=\"T_adfb0372_286f_11ed_944d_37e3b5ed6232level0_row2\" class=\"row_heading level0 row2\" >Govinda</th>\n",
       "                        <td id=\"T_adfb0372_286f_11ed_944d_37e3b5ed6232row2_col0\" class=\"data row2 col0\" >99</td>\n",
       "                        <td id=\"T_adfb0372_286f_11ed_944d_37e3b5ed6232row2_col1\" class=\"data row2 col1\" >98</td>\n",
       "                        <td id=\"T_adfb0372_286f_11ed_944d_37e3b5ed6232row2_col2\" class=\"data row2 col2\" >88</td>\n",
       "                        <td id=\"T_adfb0372_286f_11ed_944d_37e3b5ed6232row2_col3\" class=\"data row2 col3\" >91</td>\n",
       "                        <td id=\"T_adfb0372_286f_11ed_944d_37e3b5ed6232row2_col4\" class=\"data row2 col4\" >55</td>\n",
       "                        <td id=\"T_adfb0372_286f_11ed_944d_37e3b5ed6232row2_col5\" class=\"data row2 col5\" >431</td>\n",
       "            </tr>\n",
       "            <tr>\n",
       "                        <th id=\"T_adfb0372_286f_11ed_944d_37e3b5ed6232level0_row3\" class=\"row_heading level0 row3\" >Jagannath</th>\n",
       "                        <td id=\"T_adfb0372_286f_11ed_944d_37e3b5ed6232row3_col0\" class=\"data row3 col0\" >76</td>\n",
       "                        <td id=\"T_adfb0372_286f_11ed_944d_37e3b5ed6232row3_col1\" class=\"data row3 col1\" >85</td>\n",
       "                        <td id=\"T_adfb0372_286f_11ed_944d_37e3b5ed6232row3_col2\" class=\"data row3 col2\" >46</td>\n",
       "                        <td id=\"T_adfb0372_286f_11ed_944d_37e3b5ed6232row3_col3\" class=\"data row3 col3\" >38</td>\n",
       "                        <td id=\"T_adfb0372_286f_11ed_944d_37e3b5ed6232row3_col4\" class=\"data row3 col4\" >63</td>\n",
       "                        <td id=\"T_adfb0372_286f_11ed_944d_37e3b5ed6232row3_col5\" class=\"data row3 col5\" >308</td>\n",
       "            </tr>\n",
       "            <tr>\n",
       "                        <th id=\"T_adfb0372_286f_11ed_944d_37e3b5ed6232level0_row4\" class=\"row_heading level0 row4\" >Keshava</th>\n",
       "                        <td id=\"T_adfb0372_286f_11ed_944d_37e3b5ed6232row4_col0\" class=\"data row4 col0\" >73</td>\n",
       "                        <td id=\"T_adfb0372_286f_11ed_944d_37e3b5ed6232row4_col1\" class=\"data row4 col1\" >49</td>\n",
       "                        <td id=\"T_adfb0372_286f_11ed_944d_37e3b5ed6232row4_col2\" class=\"data row4 col2\" >94</td>\n",
       "                        <td id=\"T_adfb0372_286f_11ed_944d_37e3b5ed6232row4_col3\" class=\"data row4 col3\" >47</td>\n",
       "                        <td id=\"T_adfb0372_286f_11ed_944d_37e3b5ed6232row4_col4\" class=\"data row4 col4\" >68</td>\n",
       "                        <td id=\"T_adfb0372_286f_11ed_944d_37e3b5ed6232row4_col5\" class=\"data row4 col5\" >331</td>\n",
       "            </tr>\n",
       "            <tr>\n",
       "                        <th id=\"T_adfb0372_286f_11ed_944d_37e3b5ed6232level0_row5\" class=\"row_heading level0 row5\" >Madhava</th>\n",
       "                        <td id=\"T_adfb0372_286f_11ed_944d_37e3b5ed6232row5_col0\" class=\"data row5 col0\" >96</td>\n",
       "                        <td id=\"T_adfb0372_286f_11ed_944d_37e3b5ed6232row5_col1\" class=\"data row5 col1\" >68</td>\n",
       "                        <td id=\"T_adfb0372_286f_11ed_944d_37e3b5ed6232row5_col2\" class=\"data row5 col2\" >82</td>\n",
       "                        <td id=\"T_adfb0372_286f_11ed_944d_37e3b5ed6232row5_col3\" class=\"data row5 col3\" >78</td>\n",
       "                        <td id=\"T_adfb0372_286f_11ed_944d_37e3b5ed6232row5_col4\" class=\"data row5 col4\" >67</td>\n",
       "                        <td id=\"T_adfb0372_286f_11ed_944d_37e3b5ed6232row5_col5\" class=\"data row5 col5\" >391</td>\n",
       "            </tr>\n",
       "    </tbody></table>"
      ],
      "text/plain": [
       "<pandas.io.formats.style.Styler at 0x7f7b72625c90>"
      ]
     },
     "execution_count": 18,
     "metadata": {},
     "output_type": "execute_result"
    }
   ],
   "source": [
    "marks.style.background_gradient(cmap=\"Blues\")"
   ]
  },
  {
   "cell_type": "code",
   "execution_count": 20,
   "metadata": {},
   "outputs": [
    {
     "data": {
      "text/html": [
       "<style  type=\"text/css\" >\n",
       "    #T_d0f61718_286f_11ed_944d_37e3b5ed6232row0_col0 {\n",
       "            background-color:  #a7dba4;\n",
       "            color:  #000000;\n",
       "        }    #T_d0f61718_286f_11ed_944d_37e3b5ed6232row0_col1 {\n",
       "            background-color:  #4d65ad;\n",
       "            color:  #f1f1f1;\n",
       "        }    #T_d0f61718_286f_11ed_944d_37e3b5ed6232row0_col2 {\n",
       "            background-color:  #fed481;\n",
       "            color:  #000000;\n",
       "        }    #T_d0f61718_286f_11ed_944d_37e3b5ed6232row0_col3 {\n",
       "            background-color:  #f67c4a;\n",
       "            color:  #000000;\n",
       "        }    #T_d0f61718_286f_11ed_944d_37e3b5ed6232row0_col4 {\n",
       "            background-color:  #b1dfa3;\n",
       "            color:  #000000;\n",
       "        }    #T_d0f61718_286f_11ed_944d_37e3b5ed6232row0_col5 {\n",
       "            background-color:  #fff2aa;\n",
       "            color:  #000000;\n",
       "        }    #T_d0f61718_286f_11ed_944d_37e3b5ed6232row1_col0 {\n",
       "            background-color:  #9e0142;\n",
       "            color:  #f1f1f1;\n",
       "        }    #T_d0f61718_286f_11ed_944d_37e3b5ed6232row1_col1 {\n",
       "            background-color:  #fdbb6c;\n",
       "            color:  #000000;\n",
       "        }    #T_d0f61718_286f_11ed_944d_37e3b5ed6232row1_col2 {\n",
       "            background-color:  #86cfa5;\n",
       "            color:  #000000;\n",
       "        }    #T_d0f61718_286f_11ed_944d_37e3b5ed6232row1_col3 {\n",
       "            background-color:  #f06744;\n",
       "            color:  #000000;\n",
       "        }    #T_d0f61718_286f_11ed_944d_37e3b5ed6232row1_col4 {\n",
       "            background-color:  #9e0142;\n",
       "            color:  #f1f1f1;\n",
       "        }    #T_d0f61718_286f_11ed_944d_37e3b5ed6232row1_col5 {\n",
       "            background-color:  #9e0142;\n",
       "            color:  #f1f1f1;\n",
       "        }    #T_d0f61718_286f_11ed_944d_37e3b5ed6232row2_col0 {\n",
       "            background-color:  #5e4fa2;\n",
       "            color:  #f1f1f1;\n",
       "        }    #T_d0f61718_286f_11ed_944d_37e3b5ed6232row2_col1 {\n",
       "            background-color:  #5e4fa2;\n",
       "            color:  #f1f1f1;\n",
       "        }    #T_d0f61718_286f_11ed_944d_37e3b5ed6232row2_col2 {\n",
       "            background-color:  #3d95b8;\n",
       "            color:  #000000;\n",
       "        }    #T_d0f61718_286f_11ed_944d_37e3b5ed6232row2_col3 {\n",
       "            background-color:  #5e4fa2;\n",
       "            color:  #f1f1f1;\n",
       "        }    #T_d0f61718_286f_11ed_944d_37e3b5ed6232row2_col4 {\n",
       "            background-color:  #f06744;\n",
       "            color:  #000000;\n",
       "        }    #T_d0f61718_286f_11ed_944d_37e3b5ed6232row2_col5 {\n",
       "            background-color:  #5e4fa2;\n",
       "            color:  #f1f1f1;\n",
       "        }    #T_d0f61718_286f_11ed_944d_37e3b5ed6232row3_col0 {\n",
       "            background-color:  #edf8a3;\n",
       "            color:  #000000;\n",
       "        }    #T_d0f61718_286f_11ed_944d_37e3b5ed6232row3_col1 {\n",
       "            background-color:  #91d3a4;\n",
       "            color:  #000000;\n",
       "        }    #T_d0f61718_286f_11ed_944d_37e3b5ed6232row3_col2 {\n",
       "            background-color:  #9e0142;\n",
       "            color:  #f1f1f1;\n",
       "        }    #T_d0f61718_286f_11ed_944d_37e3b5ed6232row3_col3 {\n",
       "            background-color:  #9e0142;\n",
       "            color:  #f1f1f1;\n",
       "        }    #T_d0f61718_286f_11ed_944d_37e3b5ed6232row3_col4 {\n",
       "            background-color:  #b1dfa3;\n",
       "            color:  #000000;\n",
       "        }    #T_d0f61718_286f_11ed_944d_37e3b5ed6232row3_col5 {\n",
       "            background-color:  #d9444d;\n",
       "            color:  #f1f1f1;\n",
       "        }    #T_d0f61718_286f_11ed_944d_37e3b5ed6232row4_col0 {\n",
       "            background-color:  #fbfdb8;\n",
       "            color:  #000000;\n",
       "        }    #T_d0f61718_286f_11ed_944d_37e3b5ed6232row4_col1 {\n",
       "            background-color:  #9e0142;\n",
       "            color:  #f1f1f1;\n",
       "        }    #T_d0f61718_286f_11ed_944d_37e3b5ed6232row4_col2 {\n",
       "            background-color:  #5e4fa2;\n",
       "            color:  #f1f1f1;\n",
       "        }    #T_d0f61718_286f_11ed_944d_37e3b5ed6232row4_col3 {\n",
       "            background-color:  #ea5e47;\n",
       "            color:  #000000;\n",
       "        }    #T_d0f61718_286f_11ed_944d_37e3b5ed6232row4_col4 {\n",
       "            background-color:  #5e4fa2;\n",
       "            color:  #f1f1f1;\n",
       "        }    #T_d0f61718_286f_11ed_944d_37e3b5ed6232row4_col5 {\n",
       "            background-color:  #fba05b;\n",
       "            color:  #000000;\n",
       "        }    #T_d0f61718_286f_11ed_944d_37e3b5ed6232row5_col0 {\n",
       "            background-color:  #466eb1;\n",
       "            color:  #000000;\n",
       "        }    #T_d0f61718_286f_11ed_944d_37e3b5ed6232row5_col1 {\n",
       "            background-color:  #feda86;\n",
       "            color:  #000000;\n",
       "        }    #T_d0f61718_286f_11ed_944d_37e3b5ed6232row5_col2 {\n",
       "            background-color:  #86cfa5;\n",
       "            color:  #000000;\n",
       "        }    #T_d0f61718_286f_11ed_944d_37e3b5ed6232row5_col3 {\n",
       "            background-color:  #84cea5;\n",
       "            color:  #000000;\n",
       "        }    #T_d0f61718_286f_11ed_944d_37e3b5ed6232row5_col4 {\n",
       "            background-color:  #4471b2;\n",
       "            color:  #000000;\n",
       "        }    #T_d0f61718_286f_11ed_944d_37e3b5ed6232row5_col5 {\n",
       "            background-color:  #a2d9a4;\n",
       "            color:  #000000;\n",
       "        }</style><table id=\"T_d0f61718_286f_11ed_944d_37e3b5ed6232\" ><thead>    <tr>        <th class=\"blank level0\" ></th>        <th class=\"col_heading level0 col0\" >WT</th>        <th class=\"col_heading level0 col1\" >CD</th>        <th class=\"col_heading level0 col2\" >DSP</th>        <th class=\"col_heading level0 col3\" >OR</th>        <th class=\"col_heading level0 col4\" >COA</th>        <th class=\"col_heading level0 col5\" >Total</th>    </tr></thead><tbody>\n",
       "                <tr>\n",
       "                        <th id=\"T_d0f61718_286f_11ed_944d_37e3b5ed6232level0_row0\" class=\"row_heading level0 row0\" >Rama</th>\n",
       "                        <td id=\"T_d0f61718_286f_11ed_944d_37e3b5ed6232row0_col0\" class=\"data row0 col0\" >83</td>\n",
       "                        <td id=\"T_d0f61718_286f_11ed_944d_37e3b5ed6232row0_col1\" class=\"data row0 col1\" >96</td>\n",
       "                        <td id=\"T_d0f61718_286f_11ed_944d_37e3b5ed6232row0_col2\" class=\"data row0 col2\" >64</td>\n",
       "                        <td id=\"T_d0f61718_286f_11ed_944d_37e3b5ed6232row0_col3\" class=\"data row0 col3\" >50</td>\n",
       "                        <td id=\"T_d0f61718_286f_11ed_944d_37e3b5ed6232row0_col4\" class=\"data row0 col4\" >63</td>\n",
       "                        <td id=\"T_d0f61718_286f_11ed_944d_37e3b5ed6232row0_col5\" class=\"data row0 col5\" >356</td>\n",
       "            </tr>\n",
       "            <tr>\n",
       "                        <th id=\"T_d0f61718_286f_11ed_944d_37e3b5ed6232level0_row1\" class=\"row_heading level0 row1\" >Krishna</th>\n",
       "                        <td id=\"T_d0f61718_286f_11ed_944d_37e3b5ed6232row1_col0\" class=\"data row1 col0\" >45</td>\n",
       "                        <td id=\"T_d0f61718_286f_11ed_944d_37e3b5ed6232row1_col1\" class=\"data row1 col1\" >65</td>\n",
       "                        <td id=\"T_d0f61718_286f_11ed_944d_37e3b5ed6232row1_col2\" class=\"data row1 col2\" >82</td>\n",
       "                        <td id=\"T_d0f61718_286f_11ed_944d_37e3b5ed6232row1_col3\" class=\"data row1 col3\" >48</td>\n",
       "                        <td id=\"T_d0f61718_286f_11ed_944d_37e3b5ed6232row1_col4\" class=\"data row1 col4\" >52</td>\n",
       "                        <td id=\"T_d0f61718_286f_11ed_944d_37e3b5ed6232row1_col5\" class=\"data row1 col5\" >292</td>\n",
       "            </tr>\n",
       "            <tr>\n",
       "                        <th id=\"T_d0f61718_286f_11ed_944d_37e3b5ed6232level0_row2\" class=\"row_heading level0 row2\" >Govinda</th>\n",
       "                        <td id=\"T_d0f61718_286f_11ed_944d_37e3b5ed6232row2_col0\" class=\"data row2 col0\" >99</td>\n",
       "                        <td id=\"T_d0f61718_286f_11ed_944d_37e3b5ed6232row2_col1\" class=\"data row2 col1\" >98</td>\n",
       "                        <td id=\"T_d0f61718_286f_11ed_944d_37e3b5ed6232row2_col2\" class=\"data row2 col2\" >88</td>\n",
       "                        <td id=\"T_d0f61718_286f_11ed_944d_37e3b5ed6232row2_col3\" class=\"data row2 col3\" >91</td>\n",
       "                        <td id=\"T_d0f61718_286f_11ed_944d_37e3b5ed6232row2_col4\" class=\"data row2 col4\" >55</td>\n",
       "                        <td id=\"T_d0f61718_286f_11ed_944d_37e3b5ed6232row2_col5\" class=\"data row2 col5\" >431</td>\n",
       "            </tr>\n",
       "            <tr>\n",
       "                        <th id=\"T_d0f61718_286f_11ed_944d_37e3b5ed6232level0_row3\" class=\"row_heading level0 row3\" >Jagannath</th>\n",
       "                        <td id=\"T_d0f61718_286f_11ed_944d_37e3b5ed6232row3_col0\" class=\"data row3 col0\" >76</td>\n",
       "                        <td id=\"T_d0f61718_286f_11ed_944d_37e3b5ed6232row3_col1\" class=\"data row3 col1\" >85</td>\n",
       "                        <td id=\"T_d0f61718_286f_11ed_944d_37e3b5ed6232row3_col2\" class=\"data row3 col2\" >46</td>\n",
       "                        <td id=\"T_d0f61718_286f_11ed_944d_37e3b5ed6232row3_col3\" class=\"data row3 col3\" >38</td>\n",
       "                        <td id=\"T_d0f61718_286f_11ed_944d_37e3b5ed6232row3_col4\" class=\"data row3 col4\" >63</td>\n",
       "                        <td id=\"T_d0f61718_286f_11ed_944d_37e3b5ed6232row3_col5\" class=\"data row3 col5\" >308</td>\n",
       "            </tr>\n",
       "            <tr>\n",
       "                        <th id=\"T_d0f61718_286f_11ed_944d_37e3b5ed6232level0_row4\" class=\"row_heading level0 row4\" >Keshava</th>\n",
       "                        <td id=\"T_d0f61718_286f_11ed_944d_37e3b5ed6232row4_col0\" class=\"data row4 col0\" >73</td>\n",
       "                        <td id=\"T_d0f61718_286f_11ed_944d_37e3b5ed6232row4_col1\" class=\"data row4 col1\" >49</td>\n",
       "                        <td id=\"T_d0f61718_286f_11ed_944d_37e3b5ed6232row4_col2\" class=\"data row4 col2\" >94</td>\n",
       "                        <td id=\"T_d0f61718_286f_11ed_944d_37e3b5ed6232row4_col3\" class=\"data row4 col3\" >47</td>\n",
       "                        <td id=\"T_d0f61718_286f_11ed_944d_37e3b5ed6232row4_col4\" class=\"data row4 col4\" >68</td>\n",
       "                        <td id=\"T_d0f61718_286f_11ed_944d_37e3b5ed6232row4_col5\" class=\"data row4 col5\" >331</td>\n",
       "            </tr>\n",
       "            <tr>\n",
       "                        <th id=\"T_d0f61718_286f_11ed_944d_37e3b5ed6232level0_row5\" class=\"row_heading level0 row5\" >Madhava</th>\n",
       "                        <td id=\"T_d0f61718_286f_11ed_944d_37e3b5ed6232row5_col0\" class=\"data row5 col0\" >96</td>\n",
       "                        <td id=\"T_d0f61718_286f_11ed_944d_37e3b5ed6232row5_col1\" class=\"data row5 col1\" >68</td>\n",
       "                        <td id=\"T_d0f61718_286f_11ed_944d_37e3b5ed6232row5_col2\" class=\"data row5 col2\" >82</td>\n",
       "                        <td id=\"T_d0f61718_286f_11ed_944d_37e3b5ed6232row5_col3\" class=\"data row5 col3\" >78</td>\n",
       "                        <td id=\"T_d0f61718_286f_11ed_944d_37e3b5ed6232row5_col4\" class=\"data row5 col4\" >67</td>\n",
       "                        <td id=\"T_d0f61718_286f_11ed_944d_37e3b5ed6232row5_col5\" class=\"data row5 col5\" >391</td>\n",
       "            </tr>\n",
       "    </tbody></table>"
      ],
      "text/plain": [
       "<pandas.io.formats.style.Styler at 0x7f7b72625f90>"
      ]
     },
     "execution_count": 20,
     "metadata": {},
     "output_type": "execute_result"
    }
   ],
   "source": [
    "marks.style.background_gradient(cmap=\"Spectral\")"
   ]
  },
  {
   "cell_type": "code",
   "execution_count": 1,
   "metadata": {},
   "outputs": [],
   "source": [
    "import xlsxwriter\n",
    "import csv"
   ]
  },
  {
   "cell_type": "code",
   "execution_count": 2,
   "metadata": {},
   "outputs": [],
   "source": [
    "campus=\"RK VALLEY\"\n",
    "branch=\"CSE\"\n",
    "section=\"B\""
   ]
  },
  {
   "cell_type": "code",
   "execution_count": 6,
   "metadata": {},
   "outputs": [],
   "source": [
    "book=xlsxwriter.Workbook('marks.xlsx')"
   ]
  },
  {
   "cell_type": "code",
   "execution_count": null,
   "metadata": {},
   "outputs": [],
   "source": []
  },
  {
   "cell_type": "code",
   "execution_count": 12,
   "metadata": {},
   "outputs": [],
   "source": [
    "format1=book.add_format({'bg_color':'green', 'border':1})\n",
    "format2=book.add_format({'bg_color':'orange', 'border':1})"
   ]
  },
  {
   "cell_type": "code",
   "execution_count": 14,
   "metadata": {},
   "outputs": [
    {
     "ename": "DuplicateWorksheetName",
     "evalue": "Sheetname 'marks', with case ignored, is already in use.",
     "output_type": "error",
     "traceback": [
      "\u001b[0;31m---------------------------------------------------------------------------\u001b[0m",
      "\u001b[0;31mDuplicateWorksheetName\u001b[0m                    Traceback (most recent call last)",
      "\u001b[0;32m<ipython-input-14-f77e1f6b8330>\u001b[0m in \u001b[0;36m<module>\u001b[0;34m\u001b[0m\n\u001b[0;32m----> 1\u001b[0;31m \u001b[0ms\u001b[0m\u001b[0;34m=\u001b[0m\u001b[0mbook\u001b[0m\u001b[0;34m.\u001b[0m\u001b[0madd_worksheet\u001b[0m\u001b[0;34m(\u001b[0m\u001b[0;34m\"marks\"\u001b[0m\u001b[0;34m)\u001b[0m\u001b[0;34m\u001b[0m\u001b[0;34m\u001b[0m\u001b[0m\n\u001b[0m",
      "\u001b[0;32m~/anaconda3/lib/python3.7/site-packages/xlsxwriter/workbook.py\u001b[0m in \u001b[0;36madd_worksheet\u001b[0;34m(self, name, worksheet_class)\u001b[0m\n\u001b[1;32m    178\u001b[0m             \u001b[0mworksheet_class\u001b[0m \u001b[0;34m=\u001b[0m \u001b[0mself\u001b[0m\u001b[0;34m.\u001b[0m\u001b[0mworksheet_class\u001b[0m\u001b[0;34m\u001b[0m\u001b[0;34m\u001b[0m\u001b[0m\n\u001b[1;32m    179\u001b[0m \u001b[0;34m\u001b[0m\u001b[0m\n\u001b[0;32m--> 180\u001b[0;31m         \u001b[0;32mreturn\u001b[0m \u001b[0mself\u001b[0m\u001b[0;34m.\u001b[0m\u001b[0m_add_sheet\u001b[0m\u001b[0;34m(\u001b[0m\u001b[0mname\u001b[0m\u001b[0;34m,\u001b[0m \u001b[0mworksheet_class\u001b[0m\u001b[0;34m=\u001b[0m\u001b[0mworksheet_class\u001b[0m\u001b[0;34m)\u001b[0m\u001b[0;34m\u001b[0m\u001b[0;34m\u001b[0m\u001b[0m\n\u001b[0m\u001b[1;32m    181\u001b[0m \u001b[0;34m\u001b[0m\u001b[0m\n\u001b[1;32m    182\u001b[0m     \u001b[0;32mdef\u001b[0m \u001b[0madd_chartsheet\u001b[0m\u001b[0;34m(\u001b[0m\u001b[0mself\u001b[0m\u001b[0;34m,\u001b[0m \u001b[0mname\u001b[0m\u001b[0;34m=\u001b[0m\u001b[0;32mNone\u001b[0m\u001b[0;34m,\u001b[0m \u001b[0mchartsheet_class\u001b[0m\u001b[0;34m=\u001b[0m\u001b[0;32mNone\u001b[0m\u001b[0;34m)\u001b[0m\u001b[0;34m:\u001b[0m\u001b[0;34m\u001b[0m\u001b[0;34m\u001b[0m\u001b[0m\n",
      "\u001b[0;32m~/anaconda3/lib/python3.7/site-packages/xlsxwriter/workbook.py\u001b[0m in \u001b[0;36m_add_sheet\u001b[0;34m(self, name, worksheet_class)\u001b[0m\n\u001b[1;32m    727\u001b[0m \u001b[0;34m\u001b[0m\u001b[0m\n\u001b[1;32m    728\u001b[0m         \u001b[0msheet_index\u001b[0m \u001b[0;34m=\u001b[0m \u001b[0mlen\u001b[0m\u001b[0;34m(\u001b[0m\u001b[0mself\u001b[0m\u001b[0;34m.\u001b[0m\u001b[0mworksheets_objs\u001b[0m\u001b[0;34m)\u001b[0m\u001b[0;34m\u001b[0m\u001b[0;34m\u001b[0m\u001b[0m\n\u001b[0;32m--> 729\u001b[0;31m         \u001b[0mname\u001b[0m \u001b[0;34m=\u001b[0m \u001b[0mself\u001b[0m\u001b[0;34m.\u001b[0m\u001b[0m_check_sheetname\u001b[0m\u001b[0;34m(\u001b[0m\u001b[0mname\u001b[0m\u001b[0;34m,\u001b[0m \u001b[0misinstance\u001b[0m\u001b[0;34m(\u001b[0m\u001b[0mworksheet\u001b[0m\u001b[0;34m,\u001b[0m \u001b[0mChartsheet\u001b[0m\u001b[0;34m)\u001b[0m\u001b[0;34m)\u001b[0m\u001b[0;34m\u001b[0m\u001b[0;34m\u001b[0m\u001b[0m\n\u001b[0m\u001b[1;32m    730\u001b[0m \u001b[0;34m\u001b[0m\u001b[0m\n\u001b[1;32m    731\u001b[0m         \u001b[0;31m# Initialization data to pass to the worksheet.\u001b[0m\u001b[0;34m\u001b[0m\u001b[0;34m\u001b[0m\u001b[0;34m\u001b[0m\u001b[0m\n",
      "\u001b[0;32m~/anaconda3/lib/python3.7/site-packages/xlsxwriter/workbook.py\u001b[0m in \u001b[0;36m_check_sheetname\u001b[0;34m(self, sheetname, is_chartsheet)\u001b[0m\n\u001b[1;32m    803\u001b[0m                 raise DuplicateWorksheetName(\n\u001b[1;32m    804\u001b[0m                     \u001b[0;34m\"Sheetname '%s', with case ignored, is already in use.\"\u001b[0m \u001b[0;34m%\u001b[0m\u001b[0;34m\u001b[0m\u001b[0;34m\u001b[0m\u001b[0m\n\u001b[0;32m--> 805\u001b[0;31m                     sheetname)\n\u001b[0m\u001b[1;32m    806\u001b[0m \u001b[0;34m\u001b[0m\u001b[0m\n\u001b[1;32m    807\u001b[0m         \u001b[0;32mreturn\u001b[0m \u001b[0msheetname\u001b[0m\u001b[0;34m\u001b[0m\u001b[0;34m\u001b[0m\u001b[0m\n",
      "\u001b[0;31mDuplicateWorksheetName\u001b[0m: Sheetname 'marks', with case ignored, is already in use."
     ]
    }
   ],
   "source": [
    "s=book.add_worksheet(\"Marks\")"
   ]
  },
  {
   "cell_type": "code",
   "execution_count": 11,
   "metadata": {},
   "outputs": [],
   "source": [
    "s.write(1,0, \"Campus name\", format1)\n",
    "s.write(1,1, campus, format2)\n",
    "s.write(2,0, \"Campus name\", format1)\n",
    "s.write(2,1, branch, format2)\n",
    "s.write(3,0, \"Campus name\", format1)\n",
    "s.write(3,1, section, format2)\n",
    "\n",
    "index=5\n",
    "with open(\"stup.csv\") as csvfile:\n",
    "    csv_reader=csv.reader(csvfile)\n",
    "    for row in csv_reader:\n",
    "        if index==5:\n",
    "            format=format1\n",
    "        else:\n",
    "            format=format2\n",
    "            \n",
    "        s.write(index, 0, row[0], format)\n",
    "        s.write(index, 1, row[1], format)\n",
    "        s.write(index, 2, row[2], format)\n",
    "        s.write(index, 3, row[3], format)\n",
    "        s.write(index, 4, row[4], format)\n",
    "        s.write(index, 5, row[5], format)\n",
    "        \n",
    "        index+=1\n",
    "        \n",
    "book.close()"
   ]
  },
  {
   "cell_type": "code",
   "execution_count": null,
   "metadata": {},
   "outputs": [],
   "source": []
  }
 ],
 "metadata": {
  "kernelspec": {
   "display_name": "Python 3",
   "language": "python",
   "name": "python3"
  },
  "language_info": {
   "codemirror_mode": {
    "name": "ipython",
    "version": 3
   },
   "file_extension": ".py",
   "mimetype": "text/x-python",
   "name": "python",
   "nbconvert_exporter": "python",
   "pygments_lexer": "ipython3",
   "version": "3.7.6"
  }
 },
 "nbformat": 4,
 "nbformat_minor": 4
}
