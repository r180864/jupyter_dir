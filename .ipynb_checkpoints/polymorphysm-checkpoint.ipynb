{
 "cells": [
  {
   "cell_type": "markdown",
   "metadata": {},
   "source": [
    "# Polymorphysm"
   ]
  },
  {
   "cell_type": "markdown",
   "metadata": {},
   "source": [
    "## Operator Overloading"
   ]
  },
  {
   "cell_type": "code",
   "execution_count": 1,
   "metadata": {},
   "outputs": [
    {
     "data": {
      "text/plain": [
       "25"
      ]
     },
     "execution_count": 1,
     "metadata": {},
     "output_type": "execute_result"
    }
   ],
   "source": [
    "a=10\n",
    "b=15\n",
    "int.__add__(a,b)"
   ]
  },
  {
   "cell_type": "code",
   "execution_count": 2,
   "metadata": {},
   "outputs": [],
   "source": [
    "class Student:\n",
    "    def __init__(self, m1):\n",
    "        self.m1=m1\n",
    "        \n",
    "    def __add__(self, other):\n",
    "        s=self.m1+other.m1\n",
    "        return Student(s)"
   ]
  },
  {
   "cell_type": "code",
   "execution_count": 3,
   "metadata": {},
   "outputs": [],
   "source": [
    "s1=Student(25)\n",
    "s2=Student(68)"
   ]
  },
  {
   "cell_type": "code",
   "execution_count": 4,
   "metadata": {},
   "outputs": [
    {
     "data": {
      "text/plain": [
       "100"
      ]
     },
     "execution_count": 4,
     "metadata": {},
     "output_type": "execute_result"
    }
   ],
   "source": [
    "(s1+s1+s1+s1).m1"
   ]
  },
  {
   "cell_type": "markdown",
   "metadata": {},
   "source": [
    "## Method overloading"
   ]
  },
  {
   "cell_type": "code",
   "execution_count": 5,
   "metadata": {},
   "outputs": [],
   "source": [
    "class Calculate:\n",
    "    def add(self, a=None, b=None, c=None):\n",
    "        if(a!=None and b!=None and c!=None):\n",
    "            return a+b+c\n",
    "        if(a!=None and b!=None):\n",
    "            return a+b\n",
    "        if(a!=None):\n",
    "            return a\n",
    "        return \"No arguements are passes to add\""
   ]
  },
  {
   "cell_type": "code",
   "execution_count": 8,
   "metadata": {},
   "outputs": [
    {
     "name": "stdout",
     "output_type": "stream",
     "text": [
      "Sum of 1,2,3: 6\n",
      "Sum of 1,2: 5\n",
      "Sum of 1: 3\n",
      "Sum of Empty: No arguements are passes to add\n"
     ]
    }
   ],
   "source": [
    "x,y,z=1,2,3\n",
    "c1=Calculate()\n",
    "print(\"Sum of {},{},{}: {}\".format(x,y,z,c1.add(x, y, z)))\n",
    "print(\"Sum of {},{}: {}\".format(x,y,c1.add(y, z)))\n",
    "print(\"Sum of {}: {}\".format(x,c1.add(z)))\n",
    "print(\"Sum of Empty: {}\".format(c1.add()))"
   ]
  },
  {
   "cell_type": "markdown",
   "metadata": {},
   "source": [
    "## Method Overriding"
   ]
  },
  {
   "cell_type": "code",
   "execution_count": null,
   "metadata": {},
   "outputs": [],
   "source": [
    "class Devotee:\n",
    "    def pooja(self):\n",
    "        print(\"I will do 'abhisekham'\")\n",
    "        \n",
    "class KrishnaDevotee(Devotee):\n",
    "    def pooja(self):\n",
    "        print(\"I will do 'Abhisekham' and 'Alankarana' as well\")\n",
    "\n",
    "k1=KrishnaDevotee()\n",
    "k1.pooja()"
   ]
  }
 ],
 "metadata": {
  "kernelspec": {
   "display_name": "Python 3",
   "language": "python",
   "name": "python3"
  },
  "language_info": {
   "codemirror_mode": {
    "name": "ipython",
    "version": 3
   },
   "file_extension": ".py",
   "mimetype": "text/x-python",
   "name": "python",
   "nbconvert_exporter": "python",
   "pygments_lexer": "ipython3",
   "version": "3.7.6"
  }
 },
 "nbformat": 4,
 "nbformat_minor": 4
}
