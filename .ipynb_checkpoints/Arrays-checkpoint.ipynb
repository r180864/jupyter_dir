{
 "cells": [
  {
   "cell_type": "markdown",
   "metadata": {},
   "source": [
    "# Arrays"
   ]
  },
  {
   "cell_type": "code",
   "execution_count": 132,
   "metadata": {},
   "outputs": [],
   "source": [
    "from array import array\n",
    "array??"
   ]
  },
  {
   "cell_type": "markdown",
   "metadata": {},
   "source": [
    "## Initializing with various Tppecodes"
   ]
  },
  {
   "cell_type": "code",
   "execution_count": 131,
   "metadata": {},
   "outputs": [
    {
     "name": "stdout",
     "output_type": "stream",
     "text": [
      "array('b', [1, 3, -5, 7, 9])\n",
      "<class 'array.array'>\n",
      "Type: b\n",
      "Item Size: 1\n",
      "Array Size: 5\n"
     ]
    }
   ],
   "source": [
    "arr=array('b',[1,3,-5,7,9])\n",
    "print(arr)\n",
    "print(type(arr))\n",
    "print(\"Type:\", arr.typecode)\n",
    "print(\"Item Size:\", arr.itemsize)\n",
    "print(\"Array Size:\", len(arr))"
   ]
  },
  {
   "cell_type": "code",
   "execution_count": 109,
   "metadata": {},
   "outputs": [
    {
     "name": "stdout",
     "output_type": "stream",
     "text": [
      "array('B', [1, 9, 5, 7, 9])\n",
      "<class 'array.array'>\n",
      "Type: B\n",
      "Item Size: 1\n",
      "Array Size: 5\n"
     ]
    }
   ],
   "source": [
    "arr=array('B',[1,9,5,7,9])\n",
    "print(arr)\n",
    "print(type(arr))\n",
    "print(\"Type:\", arr.typecode)\n",
    "print(\"Item Size:\", arr.itemsize)\n",
    "print(\"Array Size:\", len(arr))"
   ]
  },
  {
   "cell_type": "code",
   "execution_count": 102,
   "metadata": {},
   "outputs": [
    {
     "name": "stdout",
     "output_type": "stream",
     "text": [
      "array('u', 'KRISH')\n",
      "<class 'array.array'>\n",
      "Type: u\n",
      "Item Size: 4\n",
      "Array Size: 5\n"
     ]
    }
   ],
   "source": [
    "arr=array('u',['K','R','I','S', 'H'])\n",
    "print(arr)\n",
    "print(type(arr))\n",
    "print(\"Type:\", arr.typecode)\n",
    "print(\"Item Size:\", arr.itemsize)\n",
    "print(\"Array Size:\", len(arr))"
   ]
  },
  {
   "cell_type": "code",
   "execution_count": 111,
   "metadata": {},
   "outputs": [
    {
     "name": "stdout",
     "output_type": "stream",
     "text": [
      "array('h', [1, 3, -566, 7, 9])\n",
      "<class 'array.array'>\n",
      "Type: h\n",
      "Item Size: 2\n",
      "Array Size: 5\n"
     ]
    }
   ],
   "source": [
    "arr=array('h',[1,3,-566,7,9])\n",
    "print(arr)\n",
    "print(type(arr))\n",
    "print(\"Type:\", arr.typecode)\n",
    "print(\"Item Size:\", arr.itemsize)\n",
    "print(\"Array Size:\", len(arr))"
   ]
  },
  {
   "cell_type": "code",
   "execution_count": 104,
   "metadata": {},
   "outputs": [
    {
     "name": "stdout",
     "output_type": "stream",
     "text": [
      "array('H', [1, 3, 5, 7, 9])\n",
      "<class 'array.array'>\n",
      "Type: H\n",
      "Item Size: 2\n",
      "Array Size: 5\n"
     ]
    }
   ],
   "source": [
    "arr=array('H',[1,3,5,7,9])\n",
    "print(arr)\n",
    "print(type(arr))\n",
    "print(\"Type:\", arr.typecode)\n",
    "print(\"Item Size:\", arr.itemsize)\n",
    "print(\"Array Size:\", len(arr))"
   ]
  },
  {
   "cell_type": "code",
   "execution_count": 113,
   "metadata": {},
   "outputs": [
    {
     "name": "stdout",
     "output_type": "stream",
     "text": [
      "array('i', [-71, 3, 5, -807, 9])\n",
      "<class 'array.array'>\n",
      "Type: i\n",
      "Item Size: 4\n",
      "Array Size: 5\n"
     ]
    }
   ],
   "source": [
    "arr=array('i',[-71,3,5,-807,9])\n",
    "print(arr)\n",
    "print(type(arr))\n",
    "print(\"Type:\", arr.typecode)\n",
    "print(\"Item Size:\", arr.itemsize)\n",
    "print(\"Array Size:\", len(arr))"
   ]
  },
  {
   "cell_type": "code",
   "execution_count": 114,
   "metadata": {},
   "outputs": [
    {
     "name": "stdout",
     "output_type": "stream",
     "text": [
      "array('I', [1, 3, 5, 7, 9])\n",
      "<class 'array.array'>\n",
      "Type: I\n",
      "Item Size: 4\n",
      "Array Size: 5\n"
     ]
    }
   ],
   "source": [
    "arr=array('I',[1,3,5,7,9])\n",
    "print(arr)\n",
    "print(type(arr))\n",
    "print(\"Type:\", arr.typecode)\n",
    "print(\"Item Size:\", arr.itemsize)\n",
    "print(\"Array Size:\", len(arr))"
   ]
  },
  {
   "cell_type": "code",
   "execution_count": 117,
   "metadata": {},
   "outputs": [
    {
     "name": "stdout",
     "output_type": "stream",
     "text": [
      "array('l', [1, -3, 587, -7492, 9])\n",
      "<class 'array.array'>\n",
      "Type: l\n",
      "Item Size: 8\n",
      "Array Size: 5\n"
     ]
    }
   ],
   "source": [
    "arr=array('l',[1,-3,587,-7492,9])\n",
    "print(arr)\n",
    "print(type(arr))\n",
    "print(\"Type:\", arr.typecode)\n",
    "print(\"Item Size:\", arr.itemsize)\n",
    "print(\"Array Size:\", len(arr))"
   ]
  },
  {
   "cell_type": "code",
   "execution_count": 120,
   "metadata": {},
   "outputs": [
    {
     "name": "stdout",
     "output_type": "stream",
     "text": [
      "array('L', [1, 3, 5, 7, 9])\n",
      "<class 'array.array'>\n",
      "Type: L\n",
      "Item Size: 8\n",
      "Array Size: 5\n"
     ]
    }
   ],
   "source": [
    "arr=array('L',[1,3,5,7,9])\n",
    "print(arr)\n",
    "print(type(arr))\n",
    "print(\"Type:\", arr.typecode)\n",
    "print(\"Item Size:\", arr.itemsize)\n",
    "print(\"Array Size:\", len(arr))"
   ]
  },
  {
   "cell_type": "code",
   "execution_count": 122,
   "metadata": {},
   "outputs": [
    {
     "name": "stdout",
     "output_type": "stream",
     "text": [
      "array('f', [1.0, 3.0, 5.0, -7.0, 9.0, 6.400000095367432])\n",
      "<class 'array.array'>\n",
      "Type: f\n",
      "Item Size: 4\n",
      "Array Size: 6\n"
     ]
    }
   ],
   "source": [
    "arr=array('f',[1,3,5,-7,9, 6.4])\n",
    "print(arr)\n",
    "print(type(arr))\n",
    "print(\"Type:\", arr.typecode)\n",
    "print(\"Item Size:\", arr.itemsize)\n",
    "print(\"Array Size:\", len(arr))"
   ]
  },
  {
   "cell_type": "code",
   "execution_count": 125,
   "metadata": {},
   "outputs": [
    {
     "name": "stdout",
     "output_type": "stream",
     "text": [
      "array('d', [1.0, 45.3, 5.0, 7.0, 9.0])\n",
      "<class 'array.array'>\n",
      "Type: d\n",
      "Item Size: 8\n",
      "Array Size: 5\n"
     ]
    }
   ],
   "source": [
    "arr=array('d',[1,45.3,5,7,9])\n",
    "print(arr)\n",
    "print(type(arr))\n",
    "print(\"Type:\", arr.typecode)\n",
    "print(\"Item Size:\", arr.itemsize)\n",
    "print(\"Array Size:\", len(arr))"
   ]
  },
  {
   "cell_type": "code",
   "execution_count": 127,
   "metadata": {},
   "outputs": [
    {
     "name": "stdout",
     "output_type": "stream",
     "text": [
      "array('q', [1, 45, 5, 7, 9])\n",
      "<class 'array.array'>\n",
      "Type: q\n",
      "Item Size: 8\n",
      "Array Size: 5\n"
     ]
    }
   ],
   "source": [
    "arr=array('q',[1,45,5,7,9])\n",
    "print(arr)\n",
    "print(type(arr))\n",
    "print(\"Type:\", arr.typecode)\n",
    "print(\"Item Size:\", arr.itemsize)\n",
    "print(\"Array Size:\", len(arr))"
   ]
  },
  {
   "cell_type": "code",
   "execution_count": 139,
   "metadata": {},
   "outputs": [
    {
     "name": "stdout",
     "output_type": "stream",
     "text": [
      "array('Q', [1, 453467, 5, 7, 9])\n",
      "<class 'array.array'>\n",
      "Type: Q\n",
      "Item Size: 8\n",
      "Array Size: 5\n"
     ]
    }
   ],
   "source": [
    "arr=array('Q',[1,453467,5,7,9])\n",
    "print(arr)\n",
    "print(type(arr))\n",
    "print(\"Type:\", arr.typecode)\n",
    "print(\"Item Size:\", arr.itemsize)\n",
    "print(\"Array Size:\", len(arr))"
   ]
  },
  {
   "cell_type": "markdown",
   "metadata": {},
   "source": [
    "## Array Methods"
   ]
  },
  {
   "cell_type": "markdown",
   "metadata": {},
   "source": [
    "### append()"
   ]
  },
  {
   "cell_type": "code",
   "execution_count": 145,
   "metadata": {},
   "outputs": [
    {
     "name": "stdout",
     "output_type": "stream",
     "text": [
      "array('Q', [1, 453467, 5, 7, 9, 7, 7])\n"
     ]
    }
   ],
   "source": [
    "arr.append(7)\n",
    "print(arr)"
   ]
  },
  {
   "cell_type": "markdown",
   "metadata": {},
   "source": [
    "### buffer_info()"
   ]
  },
  {
   "cell_type": "code",
   "execution_count": 144,
   "metadata": {},
   "outputs": [
    {
     "name": "stdout",
     "output_type": "stream",
     "text": [
      "(140651527195504, 6)\n"
     ]
    }
   ],
   "source": [
    "print(arr.buffer_info())"
   ]
  },
  {
   "cell_type": "markdown",
   "metadata": {},
   "source": [
    "### byteswap()"
   ]
  },
  {
   "cell_type": "code",
   "execution_count": 146,
   "metadata": {},
   "outputs": [],
   "source": [
    "arr.byteswap()"
   ]
  },
  {
   "cell_type": "code",
   "execution_count": 148,
   "metadata": {},
   "outputs": [],
   "source": [
    "arr.byteswap??"
   ]
  },
  {
   "cell_type": "code",
   "execution_count": 154,
   "metadata": {},
   "outputs": [],
   "source": [
    "array??"
   ]
  },
  {
   "cell_type": "code",
   "execution_count": 157,
   "metadata": {},
   "outputs": [
    {
     "data": {
      "text/plain": [
       "0"
      ]
     },
     "execution_count": 157,
     "metadata": {},
     "output_type": "execute_result"
    }
   ],
   "source": [
    "arr.count(7)"
   ]
  },
  {
   "cell_type": "code",
   "execution_count": 153,
   "metadata": {},
   "outputs": [
    {
     "data": {
      "text/plain": [
       "19"
      ]
     },
     "execution_count": 153,
     "metadata": {},
     "output_type": "execute_result"
    }
   ],
   "source": [
    "a"
   ]
  },
  {
   "cell_type": "code",
   "execution_count": null,
   "metadata": {},
   "outputs": [],
   "source": []
  }
 ],
 "metadata": {
  "kernelspec": {
   "display_name": "Python 3",
   "language": "python",
   "name": "python3"
  },
  "language_info": {
   "codemirror_mode": {
    "name": "ipython",
    "version": 3
   },
   "file_extension": ".py",
   "mimetype": "text/x-python",
   "name": "python",
   "nbconvert_exporter": "python",
   "pygments_lexer": "ipython3",
   "version": "3.7.6"
  }
 },
 "nbformat": 4,
 "nbformat_minor": 4
}
