{
 "cells": [
  {
   "cell_type": "markdown",
   "metadata": {},
   "source": [
    "# Regular Expressions"
   ]
  },
  {
   "cell_type": "code",
   "execution_count": 1,
   "metadata": {},
   "outputs": [],
   "source": [
    "import re\n",
    "re??"
   ]
  },
  {
   "cell_type": "code",
   "execution_count": 70,
   "metadata": {},
   "outputs": [
    {
     "data": {
      "text/plain": [
       "'abcde fghij klmno pqrst uvwxyz\\nABCDE FGHIJ KLMNO PQRST UVWXYZ\\n01234 56789\\n\\nwww.google.com\\n\\nHa HaHa'"
      ]
     },
     "execution_count": 70,
     "metadata": {},
     "output_type": "execute_result"
    }
   ],
   "source": [
    "string='''abcde fghij klmno pqrst uvwxyz\n",
    "ABCDE FGHIJ KLMNO PQRST UVWXYZ\n",
    "01234 56789\n",
    "\n",
    "www.google.com\n",
    "\n",
    "Ha HaHa'''\n",
    "string"
   ]
  },
  {
   "cell_type": "raw",
   "metadata": {},
   "source": []
  },
  {
   "cell_type": "markdown",
   "metadata": {},
   "source": [
    "### Search()"
   ]
  },
  {
   "cell_type": "code",
   "execution_count": 12,
   "metadata": {},
   "outputs": [],
   "source": [
    "re.search?\n",
    "string='''Hare Krishna hare krishna\n",
    "Krishna Krishna hare hare\n",
    "Hare Rama hare rama\n",
    "Rama Rama hare hare'''"
   ]
  },
  {
   "cell_type": "code",
   "execution_count": 6,
   "metadata": {},
   "outputs": [
    {
     "name": "stdout",
     "output_type": "stream",
     "text": [
      "<re.Match object; span=(87, 91), match='hare'>\n"
     ]
    }
   ],
   "source": [
    "pattern=\"hare$\"\n",
    "search=re.search(pattern, string)\n",
    "print(search)"
   ]
  },
  {
   "cell_type": "code",
   "execution_count": 9,
   "metadata": {},
   "outputs": [
    {
     "name": "stdout",
     "output_type": "stream",
     "text": [
      "<re.Match object; span=(87, 91), match='hare'>\n"
     ]
    }
   ],
   "source": [
    "pattern='[HRK]'\n",
    "re.search(pattern, string)\n",
    "print(search)"
   ]
  },
  {
   "cell_type": "code",
   "execution_count": 13,
   "metadata": {},
   "outputs": [
    {
     "name": "stdout",
     "output_type": "stream",
     "text": [
      "<re.Match object; span=(9, 13), match='hnhn'>\n"
     ]
    }
   ],
   "source": [
    "search=re.search(\"(K.)+\", string)\n",
    "print(search)"
   ]
  },
  {
   "cell_type": "markdown",
   "metadata": {},
   "source": [
    "### Match()"
   ]
  },
  {
   "cell_type": "code",
   "execution_count": 16,
   "metadata": {},
   "outputs": [
    {
     "name": "stdout",
     "output_type": "stream",
     "text": [
      "<re.Match object; span=(0, 4), match='Hare'>\n"
     ]
    }
   ],
   "source": [
    "match=re.match(\"Hare\", string)\n",
    "print(match)"
   ]
  },
  {
   "cell_type": "code",
   "execution_count": 21,
   "metadata": {},
   "outputs": [
    {
     "name": "stdout",
     "output_type": "stream",
     "text": [
      "<re.Match object; span=(0, 1), match='H'>\n"
     ]
    }
   ],
   "source": [
    "match=re.match(\"H...\", string)\n",
    "print(match)"
   ]
  },
  {
   "cell_type": "code",
   "execution_count": 17,
   "metadata": {},
   "outputs": [
    {
     "name": "stdout",
     "output_type": "stream",
     "text": [
      "None\n"
     ]
    }
   ],
   "source": [
    "match=re.match(\"pad\", string)\n",
    "print(match)"
   ]
  },
  {
   "cell_type": "markdown",
   "metadata": {},
   "source": [
    "### findall()"
   ]
  },
  {
   "cell_type": "code",
   "execution_count": 63,
   "metadata": {},
   "outputs": [],
   "source": [
    "re.findall?\n",
    "string='''2u1My Lord is Krishna inform Anil\n",
    "and his age is 10 less than 1024 information me'''"
   ]
  },
  {
   "cell_type": "code",
   "execution_count": 38,
   "metadata": {},
   "outputs": [
    {
     "name": "stdout",
     "output_type": "stream",
     "text": [
      "['2', '1', '1', '0', '1', '0', '2', '4']\n"
     ]
    }
   ],
   "source": [
    "pattern='\\d'\n",
    "find=re.findall(pattern, string)\n",
    "print(find)"
   ]
  },
  {
   "cell_type": "code",
   "execution_count": 37,
   "metadata": {},
   "outputs": [
    {
     "name": "stdout",
     "output_type": "stream",
     "text": [
      "['2', '1', '10', '1024']\n"
     ]
    }
   ],
   "source": [
    "pattern='\\d+'\n",
    "find=re.findall(pattern, string)\n",
    "print(find)"
   ]
  },
  {
   "cell_type": "code",
   "execution_count": 39,
   "metadata": {},
   "outputs": [
    {
     "name": "stdout",
     "output_type": "stream",
     "text": [
      "['Krishna']\n"
     ]
    }
   ],
   "source": [
    "pattern=r'Kri....'\n",
    "find=re.findall(pattern, string)\n",
    "print(find)"
   ]
  },
  {
   "cell_type": "code",
   "execution_count": 43,
   "metadata": {},
   "outputs": [
    {
     "name": "stdout",
     "output_type": "stream",
     "text": [
      "[]\n"
     ]
    }
   ],
   "source": [
    "pattern='[K].....+'\n",
    "find=re.findall(pattern, string)\n",
    "print(find)"
   ]
  },
  {
   "cell_type": "code",
   "execution_count": 48,
   "metadata": {},
   "outputs": [
    {
     "name": "stdout",
     "output_type": "stream",
     "text": [
      "['Krish', 'and h', 'ss th']\n"
     ]
    }
   ],
   "source": [
    "pattern='....[h]'\n",
    "find=re.findall(pattern, string)\n",
    "print(find)"
   ]
  },
  {
   "cell_type": "code",
   "execution_count": 56,
   "metadata": {},
   "outputs": [
    {
     "name": "stdout",
     "output_type": "stream",
     "text": [
      "['www.google.com']\n"
     ]
    }
   ],
   "source": [
    "pattern='www\\.google\\.com'\n",
    "find=re.findall(pattern, string)\n",
    "print(find)"
   ]
  },
  {
   "cell_type": "markdown",
   "metadata": {},
   "source": [
    "### finditer()"
   ]
  },
  {
   "cell_type": "code",
   "execution_count": 67,
   "metadata": {},
   "outputs": [],
   "source": [
    "re.finditer??"
   ]
  },
  {
   "cell_type": "code",
   "execution_count": 57,
   "metadata": {},
   "outputs": [
    {
     "data": {
      "text/plain": [
       "[]"
      ]
     },
     "execution_count": 57,
     "metadata": {},
     "output_type": "execute_result"
    }
   ],
   "source": [
    "var=re.finditer(\"at\", string)\n",
    "list(var)"
   ]
  },
  {
   "cell_type": "code",
   "execution_count": 71,
   "metadata": {},
   "outputs": [
    {
     "name": "stdout",
     "output_type": "stream",
     "text": [
      "<re.Match object; span=(78, 79), match='.'>\n",
      "<re.Match object; span=(85, 86), match='.'>\n"
     ]
    }
   ],
   "source": [
    "pattern=r'\\.'\n",
    "find=re.finditer(pattern, string)\n",
    "for match in find:\n",
    "    print(match)"
   ]
  },
  {
   "cell_type": "code",
   "execution_count": 84,
   "metadata": {},
   "outputs": [
    {
     "data": {
      "text/plain": [
       "'abcde fghij klmno pqrst uvwxyz\\nABCDE FGHIJ KLMNO PQRST UVWXYZ\\n01234 56789\\n\\nwww.google.com\\n\\nHa HaHa'"
      ]
     },
     "execution_count": 84,
     "metadata": {},
     "output_type": "execute_result"
    }
   ],
   "source": [
    "string='''abcde fghij klmno pqrst uvwxyz\n",
    "ABCDE FGHIJ KLMNO PQRST UVWXYZ\n",
    "01234 56789\n",
    "\n",
    "www.google.com\n",
    "\n",
    "Ha HaHa'''\n",
    "string"
   ]
  },
  {
   "cell_type": "code",
   "execution_count": 75,
   "metadata": {},
   "outputs": [
    {
     "name": "stdout",
     "output_type": "stream",
     "text": [
      "<re.Match object; span=(62, 63), match='0'>\n",
      "<re.Match object; span=(63, 64), match='1'>\n",
      "<re.Match object; span=(64, 65), match='2'>\n",
      "<re.Match object; span=(65, 66), match='3'>\n",
      "<re.Match object; span=(66, 67), match='4'>\n",
      "<re.Match object; span=(68, 69), match='5'>\n",
      "<re.Match object; span=(69, 70), match='6'>\n",
      "<re.Match object; span=(70, 71), match='7'>\n",
      "<re.Match object; span=(71, 72), match='8'>\n",
      "<re.Match object; span=(72, 73), match='9'>\n"
     ]
    }
   ],
   "source": [
    "pattern=r'\\d'\n",
    "find=re.finditer(pattern, string)\n",
    "for match in find:\n",
    "    print(match)"
   ]
  },
  {
   "cell_type": "code",
   "execution_count": null,
   "metadata": {},
   "outputs": [],
   "source": [
    "pattern=r'\\D'\n",
    "find=re.finditer(pattern, string)\n",
    "for match in find:\n",
    "    print(match)"
   ]
  },
  {
   "cell_type": "code",
   "execution_count": null,
   "metadata": {},
   "outputs": [],
   "source": [
    "pattern=r'\\w'\n",
    "find=re.finditer(pattern, string)\n",
    "for match in find:\n",
    "    print(match)"
   ]
  },
  {
   "cell_type": "code",
   "execution_count": null,
   "metadata": {},
   "outputs": [],
   "source": [
    "pattern=r'\\s'\n",
    "find=re.finditer(pattern, string)\n",
    "for match in find:\n",
    "    print(match)"
   ]
  },
  {
   "cell_type": "code",
   "execution_count": null,
   "metadata": {},
   "outputs": [],
   "source": [
    "pattern='\\S'\n",
    "find=re.finditer(pattern, string)\n",
    "for match in find:\n",
    "    print(match)"
   ]
  },
  {
   "cell_type": "code",
   "execution_count": 88,
   "metadata": {},
   "outputs": [
    {
     "data": {
      "text/plain": [
       "'abcde fghij klmno pqrst uvwxyz\\nABCDE FGHIJ KLMNO PQRST UVWXYZ\\n01234 56789\\n\\nwww.google.com\\n\\nHa HaHa'"
      ]
     },
     "execution_count": 88,
     "metadata": {},
     "output_type": "execute_result"
    }
   ],
   "source": [
    "string='''abcde fghij klmno pqrst uvwxyz\n",
    "ABCDE FGHIJ KLMNO PQRST UVWXYZ\n",
    "01234 56789\n",
    "\n",
    "www.google.com\n",
    "\n",
    "Ha HaHa'''\n",
    "string"
   ]
  },
  {
   "cell_type": "code",
   "execution_count": 93,
   "metadata": {},
   "outputs": [
    {
     "name": "stdout",
     "output_type": "stream",
     "text": [
      "<re.Match object; span=(96, 98), match='Ha'>\n"
     ]
    }
   ],
   "source": [
    "pattern=r'\\Ha'\n",
    "find=re.finditer(pattern, string)\n",
    "for match in find:\n",
    "    print(match)"
   ]
  },
  {
   "cell_type": "code",
   "execution_count": 161,
   "metadata": {},
   "outputs": [
    {
     "name": "stdout",
     "output_type": "stream",
     "text": [
      "<re.Match object; span=(0, 2), match='ab'>\n"
     ]
    }
   ],
   "source": [
    "pattern=r'^ab'\n",
    "find=re.finditer(pattern, string)\n",
    "for match in find:\n",
    "    print(match)"
   ]
  },
  {
   "cell_type": "code",
   "execution_count": 160,
   "metadata": {},
   "outputs": [],
   "source": [
    "pattern=r'^AB'\n",
    "find=re.finditer(pattern, string)\n",
    "for match in find:\n",
    "    print(match)"
   ]
  },
  {
   "cell_type": "code",
   "execution_count": 182,
   "metadata": {},
   "outputs": [
    {
     "name": "stdout",
     "output_type": "stream",
     "text": [
      "<re.Match object; span=(12, 24), match='123.456.7890'>\n",
      "<re.Match object; span=(25, 37), match='098-765-4321'>\n"
     ]
    }
   ],
   "source": [
    "string='''\n",
    "1234567890\n",
    "123.456.7890\n",
    "098-765-4321'''\n",
    "pattern=r'\\d\\d\\d.\\d\\d\\d.\\d\\d\\d\\d'\n",
    "find=re.finditer(pattern, string)\n",
    "for match in find:\n",
    "    print(match)"
   ]
  },
  {
   "cell_type": "code",
   "execution_count": 180,
   "metadata": {},
   "outputs": [],
   "source": [
    "re??"
   ]
  },
  {
   "cell_type": "code",
   "execution_count": 183,
   "metadata": {},
   "outputs": [
    {
     "name": "stdout",
     "output_type": "stream",
     "text": [
      "<re.Match object; span=(12, 24), match='123.456.7890'>\n"
     ]
    }
   ],
   "source": [
    "pattern=r'\\d{3}\\.\\d{3}.\\d{,20}'\n",
    "find=re.finditer(pattern, string)\n",
    "for match in find:\n",
    "    print(match)"
   ]
  },
  {
   "cell_type": "markdown",
   "metadata": {},
   "source": [
    "### sub()"
   ]
  },
  {
   "cell_type": "code",
   "execution_count": 37,
   "metadata": {},
   "outputs": [],
   "source": [
    "re.sub?"
   ]
  },
  {
   "cell_type": "code",
   "execution_count": 198,
   "metadata": {},
   "outputs": [],
   "source": [
    "string='''\n",
    "1234567890\n",
    "116.496.7260\n",
    "098-765-4321\n",
    "'''"
   ]
  },
  {
   "cell_type": "code",
   "execution_count": 205,
   "metadata": {},
   "outputs": [
    {
     "name": "stdout",
     "output_type": "stream",
     "text": [
      "\n",
      "1234567890\n",
      "000\n",
      "098-765-4321\n",
      "\n"
     ]
    }
   ],
   "source": [
    "pattern=re.compile(r'(\\d{3})\\.(\\d{3})\\.(\\d{4})')\n",
    "sub=pattern.sub(\"000\", string)\n",
    "\n",
    "print(sub)"
   ]
  },
  {
   "cell_type": "markdown",
   "metadata": {},
   "source": [
    "### compile()"
   ]
  },
  {
   "cell_type": "code",
   "execution_count": 96,
   "metadata": {},
   "outputs": [],
   "source": [
    "re.compile??"
   ]
  },
  {
   "cell_type": "code",
   "execution_count": 94,
   "metadata": {},
   "outputs": [
    {
     "name": "stdout",
     "output_type": "stream",
     "text": [
      "<class 're.Pattern'>\n",
      "Anil\\nKumar\n"
     ]
    }
   ],
   "source": [
    "replace=re.compile('Krish')\n",
    "print(type(replace))\n",
    "new=replace.sub(\"Anil\", string)\n",
    "print(r\"Anil\\nKumar\")"
   ]
  },
  {
   "cell_type": "code",
   "execution_count": 90,
   "metadata": {},
   "outputs": [
    {
     "name": "stdout",
     "output_type": "stream",
     "text": [
      "['Krish', 'Krish', 'Krish']\n",
      "['Krish', 'Krish', 'Krish']\n"
     ]
    }
   ],
   "source": [
    "print(re.findall(replace, string))\n",
    "print(replace.findall(string))"
   ]
  },
  {
   "cell_type": "markdown",
   "metadata": {},
   "source": [
    "### split()"
   ]
  },
  {
   "cell_type": "code",
   "execution_count": null,
   "metadata": {},
   "outputs": [],
   "source": []
  }
 ],
 "metadata": {
  "kernelspec": {
   "display_name": "Python 3",
   "language": "python",
   "name": "python3"
  },
  "language_info": {
   "codemirror_mode": {
    "name": "ipython",
    "version": 3
   },
   "file_extension": ".py",
   "mimetype": "text/x-python",
   "name": "python",
   "nbconvert_exporter": "python",
   "pygments_lexer": "ipython3",
   "version": "3.7.6"
  }
 },
 "nbformat": 4,
 "nbformat_minor": 4
}
