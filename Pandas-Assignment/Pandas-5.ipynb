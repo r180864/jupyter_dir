{
 "cells": [
  {
   "cell_type": "markdown",
   "id": "59daab50",
   "metadata": {},
   "source": [
    "# Pandas-5 Assignment"
   ]
  },
  {
   "cell_type": "code",
   "execution_count": 1,
   "id": "59804c22",
   "metadata": {},
   "outputs": [],
   "source": [
    "import pandas as pd"
   ]
  },
  {
   "cell_type": "code",
   "execution_count": 2,
   "id": "15f8ab6e",
   "metadata": {},
   "outputs": [],
   "source": [
    "file=pd.read_csv(\"customer_churn-1.csv\")\n",
    "churn=pd.DataFrame(file)"
   ]
  },
  {
   "cell_type": "code",
   "execution_count": 3,
   "id": "ba330903",
   "metadata": {},
   "outputs": [
    {
     "name": "stdout",
     "output_type": "stream",
     "text": [
      "No.of ustomers that are getting Tech Support and are male senior citizen: 119\n"
     ]
    }
   ],
   "source": [
    "#1. Calculaitng the no.of customers that are getting the tech support and are male senior citizen suing for loop\n",
    "count=0\n",
    "for i in churn.index:\n",
    "    if((churn['TechSupport'][i]=='Yes') & (churn['gender'][i]=='Male') & (churn['SeniorCitizen'][i]==1)):\n",
    "        count+=1\n",
    "print(\"No.of ustomers that are getting Tech Support and are male senior citizen:\", count) "
   ]
  },
  {
   "cell_type": "code",
   "execution_count": null,
   "id": "4fddb612",
   "metadata": {},
   "outputs": [],
   "source": []
  }
 ],
 "metadata": {
  "kernelspec": {
   "display_name": "Python 3 (ipykernel)",
   "language": "python",
   "name": "python3"
  },
  "language_info": {
   "codemirror_mode": {
    "name": "ipython",
    "version": 3
   },
   "file_extension": ".py",
   "mimetype": "text/x-python",
   "name": "python",
   "nbconvert_exporter": "python",
   "pygments_lexer": "ipython3",
   "version": "3.9.7"
  }
 },
 "nbformat": 4,
 "nbformat_minor": 5
}
