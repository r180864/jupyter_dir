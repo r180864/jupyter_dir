{
 "cells": [
  {
   "cell_type": "markdown",
   "id": "48df36ff",
   "metadata": {},
   "source": [
    "# DataBase Connection"
   ]
  },
  {
   "cell_type": "code",
   "execution_count": 1,
   "id": "1ca8df42",
   "metadata": {},
   "outputs": [],
   "source": [
    "import pymysql"
   ]
  },
  {
   "cell_type": "code",
   "execution_count": 9,
   "id": "4e2d142d",
   "metadata": {},
   "outputs": [],
   "source": [
    "server=pymysql.connect(host='127.0.0.1', user='root', passwd='Getin@2001')"
   ]
  },
  {
   "cell_type": "code",
   "execution_count": 10,
   "id": "f5284bfc",
   "metadata": {},
   "outputs": [],
   "source": [
    "cursor=server.cursor()"
   ]
  },
  {
   "cell_type": "code",
   "execution_count": 11,
   "id": "0dc384b4",
   "metadata": {},
   "outputs": [
    {
     "data": {
      "text/plain": [
       "0"
      ]
     },
     "execution_count": 11,
     "metadata": {},
     "output_type": "execute_result"
    }
   ],
   "source": [
    "sql='CREATE DATABASE IF NOT EXISTS PYTHON_DB;'\n",
    "cursor.execute(sql)"
   ]
  },
  {
   "cell_type": "code",
   "execution_count": 12,
   "id": "ee135fd5",
   "metadata": {},
   "outputs": [
    {
     "data": {
      "text/plain": [
       "0"
      ]
     },
     "execution_count": 12,
     "metadata": {},
     "output_type": "execute_result"
    }
   ],
   "source": [
    "sql='USE PYTHON_DB;'\n",
    "cursor.execute(sql)"
   ]
  },
  {
   "cell_type": "code",
   "execution_count": 13,
   "id": "e677fb23",
   "metadata": {},
   "outputs": [
    {
     "data": {
      "text/plain": [
       "0"
      ]
     },
     "execution_count": 13,
     "metadata": {},
     "output_type": "execute_result"
    }
   ],
   "source": [
    "sql='CREATE TABLE IF NOT EXISTS STUDENT(id INT, name VARCHAR(20));'\n",
    "cursor.execute(sql)"
   ]
  },
  {
   "cell_type": "code",
   "execution_count": 14,
   "id": "6098c8ba",
   "metadata": {},
   "outputs": [
    {
     "data": {
      "text/plain": [
       "1"
      ]
     },
     "execution_count": 14,
     "metadata": {},
     "output_type": "execute_result"
    }
   ],
   "source": [
    "sql='INSERT INTO STUDENT VALUES(1, \"Anil\");'\n",
    "cursor.execute(sql)\n",
    "sql='INSERT INTO STUDENT VALUES(2, \"Krishna\");'\n",
    "cursor.execute(sql)\n",
    "sql='INSERT INTO STUDENT VALUES(4, \"Govinda\");'\n",
    "cursor.execute(sql)\n",
    "sql='INSERT INTO STUDENT VALUES(3, \"Krishna\");'\n",
    "cursor.execute(sql)"
   ]
  },
  {
   "cell_type": "code",
   "execution_count": 15,
   "id": "73955b56",
   "metadata": {},
   "outputs": [
    {
     "data": {
      "text/plain": [
       "4"
      ]
     },
     "execution_count": 15,
     "metadata": {},
     "output_type": "execute_result"
    }
   ],
   "source": [
    "sql='SELECT * FROM STUDENT;'\n",
    "cursor.execute(sql)"
   ]
  },
  {
   "cell_type": "code",
   "execution_count": 16,
   "id": "eb5c2cd6",
   "metadata": {},
   "outputs": [
    {
     "name": "stdout",
     "output_type": "stream",
     "text": [
      "((1, 'Anil'), (2, 'Krishna'), (4, 'Govinda'), (3, 'Krishna'))\n"
     ]
    }
   ],
   "source": [
    "print(cursor.fetchall())"
   ]
  },
  {
   "cell_type": "code",
   "execution_count": null,
   "id": "98cbea75",
   "metadata": {},
   "outputs": [],
   "source": []
  },
  {
   "cell_type": "code",
   "execution_count": null,
   "id": "bf9bfe6a",
   "metadata": {},
   "outputs": [],
   "source": []
  },
  {
   "cell_type": "code",
   "execution_count": 17,
   "id": "2fd4d4f0",
   "metadata": {},
   "outputs": [
    {
     "data": {
      "text/plain": [
       "0"
      ]
     },
     "execution_count": 17,
     "metadata": {},
     "output_type": "execute_result"
    }
   ],
   "source": [
    "sql='USE PLACE;'\n",
    "cursor.execute(sql)"
   ]
  },
  {
   "cell_type": "code",
   "execution_count": 22,
   "id": "f1c9b070",
   "metadata": {},
   "outputs": [
    {
     "data": {
      "text/plain": [
       "6"
      ]
     },
     "execution_count": 22,
     "metadata": {},
     "output_type": "execute_result"
    }
   ],
   "source": [
    "sql='SELECT id, name, email, password FROM USER;'\n",
    "cursor.execute(sql)"
   ]
  },
  {
   "cell_type": "code",
   "execution_count": 19,
   "id": "9db15310",
   "metadata": {},
   "outputs": [],
   "source": [
    "import pandas as pd"
   ]
  },
  {
   "cell_type": "code",
   "execution_count": 23,
   "id": "150f5db5",
   "metadata": {},
   "outputs": [
    {
     "data": {
      "text/html": [
       "<div>\n",
       "<style scoped>\n",
       "    .dataframe tbody tr th:only-of-type {\n",
       "        vertical-align: middle;\n",
       "    }\n",
       "\n",
       "    .dataframe tbody tr th {\n",
       "        vertical-align: top;\n",
       "    }\n",
       "\n",
       "    .dataframe thead th {\n",
       "        text-align: right;\n",
       "    }\n",
       "</style>\n",
       "<table border=\"1\" class=\"dataframe\">\n",
       "  <thead>\n",
       "    <tr style=\"text-align: right;\">\n",
       "      <th></th>\n",
       "      <th>0</th>\n",
       "      <th>1</th>\n",
       "      <th>2</th>\n",
       "      <th>3</th>\n",
       "    </tr>\n",
       "  </thead>\n",
       "  <tbody>\n",
       "    <tr>\n",
       "      <th>0</th>\n",
       "      <td>7</td>\n",
       "      <td>hima</td>\n",
       "      <td>hima@gmail.com</td>\n",
       "      <td>H!ma@123</td>\n",
       "    </tr>\n",
       "    <tr>\n",
       "      <th>1</th>\n",
       "      <td>8</td>\n",
       "      <td>Anil Krish</td>\n",
       "      <td>anil@gmail.com</td>\n",
       "      <td>Anil@123</td>\n",
       "    </tr>\n",
       "    <tr>\n",
       "      <th>2</th>\n",
       "      <td>9</td>\n",
       "      <td>Vamsi</td>\n",
       "      <td>vamsi@gmail.com</td>\n",
       "      <td>Vamsi@123</td>\n",
       "    </tr>\n",
       "    <tr>\n",
       "      <th>3</th>\n",
       "      <td>10</td>\n",
       "      <td>Rehaman</td>\n",
       "      <td>rehaman@gmail.com</td>\n",
       "      <td>Anil@123456789</td>\n",
       "    </tr>\n",
       "    <tr>\n",
       "      <th>4</th>\n",
       "      <td>11</td>\n",
       "      <td>Pavan</td>\n",
       "      <td>pavan@gmail.com</td>\n",
       "      <td>Pavani@123</td>\n",
       "    </tr>\n",
       "    <tr>\n",
       "      <th>5</th>\n",
       "      <td>12</td>\n",
       "      <td>Bharath</td>\n",
       "      <td>bharath@gmail.com</td>\n",
       "      <td>Bharath@123</td>\n",
       "    </tr>\n",
       "  </tbody>\n",
       "</table>\n",
       "</div>"
      ],
      "text/plain": [
       "    0           1                  2               3\n",
       "0   7        hima     hima@gmail.com        H!ma@123\n",
       "1   8  Anil Krish     anil@gmail.com        Anil@123\n",
       "2   9       Vamsi    vamsi@gmail.com       Vamsi@123\n",
       "3  10     Rehaman  rehaman@gmail.com  Anil@123456789\n",
       "4  11       Pavan    pavan@gmail.com      Pavani@123\n",
       "5  12     Bharath  bharath@gmail.com     Bharath@123"
      ]
     },
     "execution_count": 23,
     "metadata": {},
     "output_type": "execute_result"
    }
   ],
   "source": [
    "pd.DataFrame(cursor.fetchall())"
   ]
  },
  {
   "cell_type": "code",
   "execution_count": null,
   "id": "b144225d",
   "metadata": {},
   "outputs": [],
   "source": []
  },
  {
   "cell_type": "code",
   "execution_count": 33,
   "id": "8f40ac6c",
   "metadata": {},
   "outputs": [
    {
     "name": "stdout",
     "output_type": "stream",
     "text": [
      "((7, 'hima', 'hima@gmail.com', 'H!ma@123'), (8, 'Anil Krish', 'anil@gmail.com', 'Anil@123'), (9, 'Vamsi', 'vamsi@gmail.com', 'Vamsi@123'), (10, 'Rehaman', 'rehaman@gmail.com', 'Anil@123456789'), (11, 'Pavan', 'pavan@gmail.com', 'Pavani@123'))\n"
     ]
    }
   ],
   "source": [
    "print(cursor.fetchall())"
   ]
  },
  {
   "cell_type": "code",
   "execution_count": null,
   "id": "cca0cbfc",
   "metadata": {},
   "outputs": [],
   "source": []
  }
 ],
 "metadata": {
  "kernelspec": {
   "display_name": "Python 3 (ipykernel)",
   "language": "python",
   "name": "python3"
  },
  "language_info": {
   "codemirror_mode": {
    "name": "ipython",
    "version": 3
   },
   "file_extension": ".py",
   "mimetype": "text/x-python",
   "name": "python",
   "nbconvert_exporter": "python",
   "pygments_lexer": "ipython3",
   "version": "3.9.13"
  }
 },
 "nbformat": 4,
 "nbformat_minor": 5
}
